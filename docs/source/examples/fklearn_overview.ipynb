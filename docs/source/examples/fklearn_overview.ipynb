{
 "cells": [
  {
   "cell_type": "markdown",
   "metadata": {
    "slideshow": {
     "slide_type": "slide"
    }
   },
   "source": [
    "# FKLearn Tutorial: \n",
    "\n",
    "* <font size=\"4\"> FKlearn is the nubank functional library for Machine Learning </font>\n",
    "\n",
    "\n",
    "* <font size=\"4\"> It was created with the idea of scaling machine learning through the company by standardizing model development and implementing an easy interface to allow all users to develop the best practices on Machine Learning </font>"
   ]
  },
  {
   "cell_type": "markdown",
   "metadata": {
    "slideshow": {
     "slide_type": "slide"
    }
   },
   "source": [
    "# Input Analysis"
   ]
  },
  {
   "cell_type": "markdown",
   "metadata": {
    "slideshow": {
     "slide_type": "skip"
    }
   },
   "source": [
    "## Imports"
   ]
  },
  {
   "cell_type": "code",
   "execution_count": 1,
   "metadata": {
    "ExecuteTime": {
     "end_time": "2019-04-30T13:05:43.109305Z",
     "start_time": "2019-04-30T13:05:42.033333Z"
    },
    "slideshow": {
     "slide_type": "skip"
    }
   },
   "outputs": [],
   "source": [
    "import pandas as pd\n",
    "import numpy as np\n",
    "from matplotlib import pyplot as plt\n",
    "import seaborn as sns\n",
    "import matplotlib\n",
    "sns.set_style(\"whitegrid\")\n",
    "sns.set_palette(\"husl\")\n",
    "\n",
    "import warnings\n",
    "warnings.filterwarnings('ignore')"
   ]
  },
  {
   "cell_type": "markdown",
   "metadata": {
    "slideshow": {
     "slide_type": "slide"
    }
   },
   "source": [
    "##  Input Dataset\n",
    "\n",
    "* <font size=\"4\"> This dataset was created with simulated data about users spend behavior on Credit Card </font>\n",
    "* <font size=\"4\"> The model target is the average spend of the next 2 months and we created some features that can be related to that target </font>\n"
   ]
  },
  {
   "cell_type": "code",
   "execution_count": 2,
   "metadata": {
    "ExecuteTime": {
     "end_time": "2019-05-15T20:45:43.628110Z",
     "start_time": "2019-05-15T20:45:43.625783Z"
    },
    "slideshow": {
     "slide_type": "fragment"
    }
   },
   "outputs": [],
   "source": [
    "# Generate this dataset using the FKLearn Tutorial Dataset.ipynb notebook\n",
    "df = pd.read_csv(\"fklearn-tutorial-input-dataset.csv\")"
   ]
  },
  {
   "cell_type": "code",
   "execution_count": 4,
   "metadata": {
    "ExecuteTime": {
     "end_time": "2019-04-30T13:05:43.517276Z",
     "start_time": "2019-04-30T13:05:43.486467Z"
    },
    "slideshow": {
     "slide_type": "skip"
    }
   },
   "outputs": [],
   "source": [
    "df['month_date'] = pd.to_datetime(df.month_date)"
   ]
  },
  {
   "cell_type": "code",
   "execution_count": 5,
   "metadata": {
    "ExecuteTime": {
     "end_time": "2019-04-30T13:05:43.537944Z",
     "start_time": "2019-04-30T13:05:43.519128Z"
    },
    "slideshow": {
     "slide_type": "fragment"
    }
   },
   "outputs": [
    {
     "data": {
      "text/html": [
       "<div>\n",
       "<style scoped>\n",
       "    .dataframe tbody tr th:only-of-type {\n",
       "        vertical-align: middle;\n",
       "    }\n",
       "\n",
       "    .dataframe tbody tr th {\n",
       "        vertical-align: top;\n",
       "    }\n",
       "\n",
       "    .dataframe thead th {\n",
       "        text-align: right;\n",
       "    }\n",
       "</style>\n",
       "<table border=\"1\" class=\"dataframe\">\n",
       "  <thead>\n",
       "    <tr style=\"text-align: right;\">\n",
       "      <th></th>\n",
       "      <th>id</th>\n",
       "      <th>month</th>\n",
       "      <th>income</th>\n",
       "      <th>created_at</th>\n",
       "      <th>phone_type</th>\n",
       "      <th>bureau_score</th>\n",
       "      <th>spend_desire</th>\n",
       "      <th>random_noise</th>\n",
       "      <th>monthly_spend</th>\n",
       "      <th>month_date</th>\n",
       "      <th>avg_last_2_months_spend</th>\n",
       "      <th>target</th>\n",
       "    </tr>\n",
       "  </thead>\n",
       "  <tbody>\n",
       "    <tr>\n",
       "      <th>0</th>\n",
       "      <td>0</td>\n",
       "      <td>19</td>\n",
       "      <td>4522.164394</td>\n",
       "      <td>2018-07-20</td>\n",
       "      <td>iphone</td>\n",
       "      <td>267.004052</td>\n",
       "      <td>475.642082</td>\n",
       "      <td>1075.560506</td>\n",
       "      <td>5295.632425</td>\n",
       "      <td>2018-08-13</td>\n",
       "      <td>NaN</td>\n",
       "      <td>4756.148989</td>\n",
       "    </tr>\n",
       "    <tr>\n",
       "      <th>1</th>\n",
       "      <td>0</td>\n",
       "      <td>20</td>\n",
       "      <td>4522.164394</td>\n",
       "      <td>2018-07-20</td>\n",
       "      <td>iphone</td>\n",
       "      <td>347.215587</td>\n",
       "      <td>475.642082</td>\n",
       "      <td>961.373740</td>\n",
       "      <td>4844.845213</td>\n",
       "      <td>2018-09-13</td>\n",
       "      <td>5070.238819</td>\n",
       "      <td>4588.231550</td>\n",
       "    </tr>\n",
       "    <tr>\n",
       "      <th>2</th>\n",
       "      <td>0</td>\n",
       "      <td>21</td>\n",
       "      <td>4522.164394</td>\n",
       "      <td>2018-07-20</td>\n",
       "      <td>iphone</td>\n",
       "      <td>360.962387</td>\n",
       "      <td>475.642082</td>\n",
       "      <td>875.161326</td>\n",
       "      <td>4667.452766</td>\n",
       "      <td>2018-10-14</td>\n",
       "      <td>4756.148989</td>\n",
       "      <td>4427.850902</td>\n",
       "    </tr>\n",
       "    <tr>\n",
       "      <th>3</th>\n",
       "      <td>0</td>\n",
       "      <td>22</td>\n",
       "      <td>4522.164394</td>\n",
       "      <td>2018-07-20</td>\n",
       "      <td>iphone</td>\n",
       "      <td>175.148355</td>\n",
       "      <td>475.642082</td>\n",
       "      <td>845.662587</td>\n",
       "      <td>4509.010335</td>\n",
       "      <td>2018-11-14</td>\n",
       "      <td>4588.231550</td>\n",
       "      <td>NaN</td>\n",
       "    </tr>\n",
       "    <tr>\n",
       "      <th>4</th>\n",
       "      <td>0</td>\n",
       "      <td>23</td>\n",
       "      <td>4522.164394</td>\n",
       "      <td>2018-07-20</td>\n",
       "      <td>iphone</td>\n",
       "      <td>196.706717</td>\n",
       "      <td>475.642082</td>\n",
       "      <td>919.350552</td>\n",
       "      <td>4346.691470</td>\n",
       "      <td>2018-12-15</td>\n",
       "      <td>4427.850902</td>\n",
       "      <td>NaN</td>\n",
       "    </tr>\n",
       "  </tbody>\n",
       "</table>\n",
       "</div>"
      ],
      "text/plain": [
       "   id  month       income  created_at phone_type  bureau_score  spend_desire  \\\n",
       "0   0     19  4522.164394  2018-07-20     iphone    267.004052    475.642082   \n",
       "1   0     20  4522.164394  2018-07-20     iphone    347.215587    475.642082   \n",
       "2   0     21  4522.164394  2018-07-20     iphone    360.962387    475.642082   \n",
       "3   0     22  4522.164394  2018-07-20     iphone    175.148355    475.642082   \n",
       "4   0     23  4522.164394  2018-07-20     iphone    196.706717    475.642082   \n",
       "\n",
       "   random_noise  monthly_spend month_date  avg_last_2_months_spend  \\\n",
       "0   1075.560506    5295.632425 2018-08-13                      NaN   \n",
       "1    961.373740    4844.845213 2018-09-13              5070.238819   \n",
       "2    875.161326    4667.452766 2018-10-14              4756.148989   \n",
       "3    845.662587    4509.010335 2018-11-14              4588.231550   \n",
       "4    919.350552    4346.691470 2018-12-15              4427.850902   \n",
       "\n",
       "        target  \n",
       "0  4756.148989  \n",
       "1  4588.231550  \n",
       "2  4427.850902  \n",
       "3          NaN  \n",
       "4          NaN  "
      ]
     },
     "execution_count": 5,
     "metadata": {},
     "output_type": "execute_result"
    }
   ],
   "source": [
    "df.head()"
   ]
  },
  {
   "cell_type": "code",
   "execution_count": 6,
   "metadata": {
    "ExecuteTime": {
     "end_time": "2019-04-30T13:05:43.634148Z",
     "start_time": "2019-04-30T13:05:43.539302Z"
    },
    "slideshow": {
     "slide_type": "slide"
    }
   },
   "outputs": [
    {
     "data": {
      "text/html": [
       "<div>\n",
       "<style scoped>\n",
       "    .dataframe tbody tr th:only-of-type {\n",
       "        vertical-align: middle;\n",
       "    }\n",
       "\n",
       "    .dataframe tbody tr th {\n",
       "        vertical-align: top;\n",
       "    }\n",
       "\n",
       "    .dataframe thead th {\n",
       "        text-align: right;\n",
       "    }\n",
       "</style>\n",
       "<table border=\"1\" class=\"dataframe\">\n",
       "  <thead>\n",
       "    <tr style=\"text-align: right;\">\n",
       "      <th></th>\n",
       "      <th>count</th>\n",
       "      <th>mean</th>\n",
       "      <th>std</th>\n",
       "      <th>min</th>\n",
       "      <th>25%</th>\n",
       "      <th>50%</th>\n",
       "      <th>75%</th>\n",
       "      <th>max</th>\n",
       "    </tr>\n",
       "  </thead>\n",
       "  <tbody>\n",
       "    <tr>\n",
       "      <th>id</th>\n",
       "      <td>120270.0</td>\n",
       "      <td>5009.393124</td>\n",
       "      <td>2.889906e+03</td>\n",
       "      <td>0.000000</td>\n",
       "      <td>2500.000000</td>\n",
       "      <td>5012.000000</td>\n",
       "      <td>7520.000000</td>\n",
       "      <td>9.999000e+03</td>\n",
       "    </tr>\n",
       "    <tr>\n",
       "      <th>month</th>\n",
       "      <td>120270.0</td>\n",
       "      <td>15.661819</td>\n",
       "      <td>5.526998e+00</td>\n",
       "      <td>1.000000</td>\n",
       "      <td>12.000000</td>\n",
       "      <td>17.000000</td>\n",
       "      <td>20.000000</td>\n",
       "      <td>2.300000e+01</td>\n",
       "    </tr>\n",
       "    <tr>\n",
       "      <th>income</th>\n",
       "      <td>120270.0</td>\n",
       "      <td>514833.434746</td>\n",
       "      <td>2.198910e+06</td>\n",
       "      <td>306.167688</td>\n",
       "      <td>3812.693902</td>\n",
       "      <td>5172.259271</td>\n",
       "      <td>6646.734907</td>\n",
       "      <td>9.999999e+06</td>\n",
       "    </tr>\n",
       "    <tr>\n",
       "      <th>bureau_score</th>\n",
       "      <td>108195.0</td>\n",
       "      <td>295.777300</td>\n",
       "      <td>1.347009e+02</td>\n",
       "      <td>0.004165</td>\n",
       "      <td>198.746660</td>\n",
       "      <td>292.422167</td>\n",
       "      <td>388.629698</td>\n",
       "      <td>9.919134e+02</td>\n",
       "    </tr>\n",
       "    <tr>\n",
       "      <th>spend_desire</th>\n",
       "      <td>120270.0</td>\n",
       "      <td>497.015332</td>\n",
       "      <td>1.998970e+02</td>\n",
       "      <td>-393.794672</td>\n",
       "      <td>362.457799</td>\n",
       "      <td>497.631450</td>\n",
       "      <td>632.484403</td>\n",
       "      <td>1.330080e+03</td>\n",
       "    </tr>\n",
       "    <tr>\n",
       "      <th>random_noise</th>\n",
       "      <td>120270.0</td>\n",
       "      <td>999.668522</td>\n",
       "      <td>9.995241e+01</td>\n",
       "      <td>593.475394</td>\n",
       "      <td>932.018665</td>\n",
       "      <td>999.448936</td>\n",
       "      <td>1066.753283</td>\n",
       "      <td>1.421348e+03</td>\n",
       "    </tr>\n",
       "    <tr>\n",
       "      <th>monthly_spend</th>\n",
       "      <td>120270.0</td>\n",
       "      <td>4447.670019</td>\n",
       "      <td>1.133402e+03</td>\n",
       "      <td>789.620288</td>\n",
       "      <td>3658.294416</td>\n",
       "      <td>4347.169429</td>\n",
       "      <td>5117.664037</td>\n",
       "      <td>1.161001e+04</td>\n",
       "    </tr>\n",
       "    <tr>\n",
       "      <th>avg_last_2_months_spend</th>\n",
       "      <td>110270.0</td>\n",
       "      <td>4446.642021</td>\n",
       "      <td>8.618590e+02</td>\n",
       "      <td>1508.402673</td>\n",
       "      <td>3844.270634</td>\n",
       "      <td>4385.282492</td>\n",
       "      <td>4976.734223</td>\n",
       "      <td>9.683371e+03</td>\n",
       "    </tr>\n",
       "    <tr>\n",
       "      <th>target</th>\n",
       "      <td>100703.0</td>\n",
       "      <td>4440.979413</td>\n",
       "      <td>8.602938e+02</td>\n",
       "      <td>1508.402673</td>\n",
       "      <td>3839.993212</td>\n",
       "      <td>4379.359931</td>\n",
       "      <td>4971.037317</td>\n",
       "      <td>9.683371e+03</td>\n",
       "    </tr>\n",
       "  </tbody>\n",
       "</table>\n",
       "</div>"
      ],
      "text/plain": [
       "                            count           mean           std          min  \\\n",
       "id                       120270.0    5009.393124  2.889906e+03     0.000000   \n",
       "month                    120270.0      15.661819  5.526998e+00     1.000000   \n",
       "income                   120270.0  514833.434746  2.198910e+06   306.167688   \n",
       "bureau_score             108195.0     295.777300  1.347009e+02     0.004165   \n",
       "spend_desire             120270.0     497.015332  1.998970e+02  -393.794672   \n",
       "random_noise             120270.0     999.668522  9.995241e+01   593.475394   \n",
       "monthly_spend            120270.0    4447.670019  1.133402e+03   789.620288   \n",
       "avg_last_2_months_spend  110270.0    4446.642021  8.618590e+02  1508.402673   \n",
       "target                   100703.0    4440.979413  8.602938e+02  1508.402673   \n",
       "\n",
       "                                 25%          50%          75%           max  \n",
       "id                       2500.000000  5012.000000  7520.000000  9.999000e+03  \n",
       "month                      12.000000    17.000000    20.000000  2.300000e+01  \n",
       "income                   3812.693902  5172.259271  6646.734907  9.999999e+06  \n",
       "bureau_score              198.746660   292.422167   388.629698  9.919134e+02  \n",
       "spend_desire              362.457799   497.631450   632.484403  1.330080e+03  \n",
       "random_noise              932.018665   999.448936  1066.753283  1.421348e+03  \n",
       "monthly_spend            3658.294416  4347.169429  5117.664037  1.161001e+04  \n",
       "avg_last_2_months_spend  3844.270634  4385.282492  4976.734223  9.683371e+03  \n",
       "target                   3839.993212  4379.359931  4971.037317  9.683371e+03  "
      ]
     },
     "execution_count": 6,
     "metadata": {},
     "output_type": "execute_result"
    }
   ],
   "source": [
    "df.describe().T"
   ]
  },
  {
   "cell_type": "code",
   "execution_count": 7,
   "metadata": {
    "ExecuteTime": {
     "end_time": "2019-04-30T13:05:43.638753Z",
     "start_time": "2019-04-30T13:05:43.635831Z"
    },
    "slideshow": {
     "slide_type": "skip"
    }
   },
   "outputs": [],
   "source": [
    "features = [\"income\", \"bureau_score\", \"spend_desire\", \"random_noise\", \"monthly_spend\", \"avg_last_2_months_spend\"]"
   ]
  },
  {
   "cell_type": "code",
   "execution_count": 8,
   "metadata": {
    "ExecuteTime": {
     "end_time": "2019-04-30T13:05:43.681155Z",
     "start_time": "2019-04-30T13:05:43.642891Z"
    },
    "slideshow": {
     "slide_type": "slide"
    }
   },
   "outputs": [
    {
     "data": {
      "text/plain": [
       "id                             0\n",
       "month                          0\n",
       "income                         0\n",
       "created_at                     0\n",
       "phone_type                     0\n",
       "bureau_score               12075\n",
       "spend_desire                   0\n",
       "random_noise                   0\n",
       "monthly_spend                  0\n",
       "month_date                     0\n",
       "avg_last_2_months_spend    10000\n",
       "target                     19567\n",
       "dtype: int64"
      ]
     },
     "execution_count": 8,
     "metadata": {},
     "output_type": "execute_result"
    }
   ],
   "source": [
    "df.isna().sum()"
   ]
  },
  {
   "cell_type": "markdown",
   "metadata": {
    "slideshow": {
     "slide_type": "slide"
    }
   },
   "source": [
    "## Features and Target:\n",
    "* <font size=\"4\"> Month (M): Number of months since \"2017-01-01\" </font>\n",
    "* <font size=\"4\"> Income (I): N(5000, 2000) E [300, 20000] </font>\n",
    "* <font size=\"4\"> Phone Type (P): 4 categories </font>\n",
    "* <font size=\"4\"> Bureau Score (B): N(500 / (Month ** 0.1), 200) E [0, 1000] </font>\n",
    "* <font size=\"4\"> Spend Desire (W): N(500, 200) </font>\n",
    "* <font size=\"4\"> Random Noise (R): N(1000, 100) </font>\n",
    "* <font size=\"4\"> Monthly Spend: Max(0, (S * I + I ** 2 + P * W ** 2 + P * B + N(1, 0.3)) * N(2000, 1000)) </font>\n",
    "* <font size=\"4\"> Avg Last 2 Months Spend: (Spend(m) + Spend(m-1)) / 2 </font>\n",
    "* <font size=\"4\"> Target: (Spend(m + 1) + Spend(m + 2)) / 2 </font>"
   ]
  },
  {
   "cell_type": "code",
   "execution_count": 9,
   "metadata": {
    "ExecuteTime": {
     "end_time": "2019-04-30T13:05:43.872942Z",
     "start_time": "2019-04-30T13:05:43.684018Z"
    },
    "slideshow": {
     "slide_type": "slide"
    }
   },
   "outputs": [
    {
     "data": {
      "text/plain": [
       "Text(0.5, 1.0, 'Amount of customers by month')"
      ]
     },
     "execution_count": 9,
     "metadata": {},
     "output_type": "execute_result"
    },
    {
     "data": {
      "image/png": "[encoded data removed]",
      "text/plain": [
       "<Figure size 432x288 with 1 Axes>"
      ]
     },
     "metadata": {
      "needs_background": "light"
     },
     "output_type": "display_data"
    }
   ],
   "source": [
    "plt.plot(sorted(df.month.unique()), df.groupby(\"month\").agg({\"id\": \"count\"}))\n",
    "plt.title(\"Amount of customers by month\")"
   ]
  },
  {
   "cell_type": "code",
   "execution_count": 47,
   "metadata": {
    "ExecuteTime": {
     "end_time": "2019-04-30T13:16:05.938787Z",
     "start_time": "2019-04-30T13:16:05.308678Z"
    },
    "slideshow": {
     "slide_type": "slide"
    }
   },
   "outputs": [
    {
     "data": {
      "image/png": "[encoded data removed]",
      "text/plain": [
       "<Figure size 576x576 with 4 Axes>"
      ]
     },
     "metadata": {
      "needs_background": "light"
     },
     "output_type": "display_data"
    }
   ],
   "source": [
    "fig, axes = plt.subplots(2, 2, figsize=(8,8))\n",
    "axes[0, 0].hist(df.bureau_score, range(0, 1000, 50))\n",
    "axes[1, 0].hist(df.income, range(300, 20000, 500))\n",
    "axes[0, 1].hist(df.spend_desire)\n",
    "axes[1, 1].hist(df.monthly_spend, range(0, 10000, 500))\n",
    "\n",
    "titles = [\"bureau_histogram\", \"income_histogram\", \"spend_desire_histogram\", \"monthly_spend_histogram\"]\n",
    "axes[0, 0].set_title(titles[0])\n",
    "axes[1, 0].set_title(titles[1])\n",
    "axes[0, 1].set_title(titles[2])\n",
    "axes[1, 1].set_title(titles[3])\n",
    "plt.show()"
   ]
  },
  {
   "cell_type": "code",
   "execution_count": 48,
   "metadata": {
    "ExecuteTime": {
     "end_time": "2019-04-30T13:16:15.652225Z",
     "start_time": "2019-04-30T13:16:05.940840Z"
    },
    "slideshow": {
     "slide_type": "slide"
    }
   },
   "outputs": [
    {
     "data": {
      "image/png": "[encoded data removed]",
      "text/plain": [
       "<Figure size 720x720 with 4 Axes>"
      ]
     },
     "metadata": {
      "needs_background": "light"
     },
     "output_type": "display_data"
    }
   ],
   "source": [
    "fig, axes = plt.subplots(2, 2, figsize=(10,10))\n",
    "sns.pointplot(x=\"month\", y=\"bureau_score\", data=df, ax=axes[0, 0])\n",
    "sns.pointplot(x=\"month\", y=\"income\", data=df, ax=axes[1, 0])\n",
    "sns.pointplot(x=\"month\", y=\"spend_desire\", data=df, ax=axes[0, 1])\n",
    "sns.pointplot(x=\"month\", y=\"monthly_spend\", data=df, ax=axes[1, 1])\n",
    "plt.show()"
   ]
  },
  {
   "cell_type": "markdown",
   "metadata": {
    "slideshow": {
     "slide_type": "slide"
    }
   },
   "source": [
    "## Target Analysis"
   ]
  },
  {
   "cell_type": "code",
   "execution_count": 12,
   "metadata": {
    "ExecuteTime": {
     "end_time": "2019-04-30T13:05:58.455901Z",
     "start_time": "2019-04-30T13:05:58.413174Z"
    },
    "slideshow": {
     "slide_type": "fragment"
    }
   },
   "outputs": [
    {
     "data": {
      "text/html": [
       "<div>\n",
       "<style scoped>\n",
       "    .dataframe tbody tr th:only-of-type {\n",
       "        vertical-align: middle;\n",
       "    }\n",
       "\n",
       "    .dataframe tbody tr th {\n",
       "        vertical-align: top;\n",
       "    }\n",
       "\n",
       "    .dataframe thead th {\n",
       "        text-align: right;\n",
       "    }\n",
       "</style>\n",
       "<table border=\"1\" class=\"dataframe\">\n",
       "  <thead>\n",
       "    <tr style=\"text-align: right;\">\n",
       "      <th></th>\n",
       "      <th>null_count_by_month</th>\n",
       "    </tr>\n",
       "    <tr>\n",
       "      <th>month_date</th>\n",
       "      <th></th>\n",
       "    </tr>\n",
       "  </thead>\n",
       "  <tbody>\n",
       "    <tr>\n",
       "      <th>2017-02-01</th>\n",
       "      <td>0</td>\n",
       "    </tr>\n",
       "    <tr>\n",
       "      <th>2017-03-04</th>\n",
       "      <td>0</td>\n",
       "    </tr>\n",
       "    <tr>\n",
       "      <th>2017-04-04</th>\n",
       "      <td>0</td>\n",
       "    </tr>\n",
       "    <tr>\n",
       "      <th>2017-05-05</th>\n",
       "      <td>0</td>\n",
       "    </tr>\n",
       "    <tr>\n",
       "      <th>2017-06-05</th>\n",
       "      <td>0</td>\n",
       "    </tr>\n",
       "    <tr>\n",
       "      <th>2017-07-06</th>\n",
       "      <td>0</td>\n",
       "    </tr>\n",
       "    <tr>\n",
       "      <th>2017-08-06</th>\n",
       "      <td>0</td>\n",
       "    </tr>\n",
       "    <tr>\n",
       "      <th>2017-09-06</th>\n",
       "      <td>0</td>\n",
       "    </tr>\n",
       "    <tr>\n",
       "      <th>2017-10-07</th>\n",
       "      <td>0</td>\n",
       "    </tr>\n",
       "    <tr>\n",
       "      <th>2017-11-07</th>\n",
       "      <td>0</td>\n",
       "    </tr>\n",
       "    <tr>\n",
       "      <th>2017-12-08</th>\n",
       "      <td>0</td>\n",
       "    </tr>\n",
       "    <tr>\n",
       "      <th>2018-01-08</th>\n",
       "      <td>0</td>\n",
       "    </tr>\n",
       "    <tr>\n",
       "      <th>2018-02-08</th>\n",
       "      <td>0</td>\n",
       "    </tr>\n",
       "    <tr>\n",
       "      <th>2018-03-11</th>\n",
       "      <td>0</td>\n",
       "    </tr>\n",
       "    <tr>\n",
       "      <th>2018-04-11</th>\n",
       "      <td>0</td>\n",
       "    </tr>\n",
       "    <tr>\n",
       "      <th>2018-05-12</th>\n",
       "      <td>0</td>\n",
       "    </tr>\n",
       "    <tr>\n",
       "      <th>2018-06-12</th>\n",
       "      <td>0</td>\n",
       "    </tr>\n",
       "    <tr>\n",
       "      <th>2018-07-13</th>\n",
       "      <td>0</td>\n",
       "    </tr>\n",
       "    <tr>\n",
       "      <th>2018-08-13</th>\n",
       "      <td>0</td>\n",
       "    </tr>\n",
       "    <tr>\n",
       "      <th>2018-09-13</th>\n",
       "      <td>0</td>\n",
       "    </tr>\n",
       "    <tr>\n",
       "      <th>2018-10-14</th>\n",
       "      <td>0</td>\n",
       "    </tr>\n",
       "    <tr>\n",
       "      <th>2018-11-14</th>\n",
       "      <td>9567</td>\n",
       "    </tr>\n",
       "    <tr>\n",
       "      <th>2018-12-15</th>\n",
       "      <td>10000</td>\n",
       "    </tr>\n",
       "  </tbody>\n",
       "</table>\n",
       "</div>"
      ],
      "text/plain": [
       "            null_count_by_month\n",
       "month_date                     \n",
       "2017-02-01                    0\n",
       "2017-03-04                    0\n",
       "2017-04-04                    0\n",
       "2017-05-05                    0\n",
       "2017-06-05                    0\n",
       "2017-07-06                    0\n",
       "2017-08-06                    0\n",
       "2017-09-06                    0\n",
       "2017-10-07                    0\n",
       "2017-11-07                    0\n",
       "2017-12-08                    0\n",
       "2018-01-08                    0\n",
       "2018-02-08                    0\n",
       "2018-03-11                    0\n",
       "2018-04-11                    0\n",
       "2018-05-12                    0\n",
       "2018-06-12                    0\n",
       "2018-07-13                    0\n",
       "2018-08-13                    0\n",
       "2018-09-13                    0\n",
       "2018-10-14                    0\n",
       "2018-11-14                 9567\n",
       "2018-12-15                10000"
      ]
     },
     "execution_count": 12,
     "metadata": {},
     "output_type": "execute_result"
    }
   ],
   "source": [
    "pd.DataFrame(df.groupby(\"month_date\").apply(lambda x: x.target.isna().sum()), columns=[\"null_count_by_month\"])"
   ]
  },
  {
   "cell_type": "code",
   "execution_count": 13,
   "metadata": {
    "ExecuteTime": {
     "end_time": "2019-04-30T13:06:00.832746Z",
     "start_time": "2019-04-30T13:05:58.458491Z"
    },
    "slideshow": {
     "slide_type": "slide"
    }
   },
   "outputs": [
    {
     "data": {
      "text/plain": [
       "<matplotlib.axes._subplots.AxesSubplot at 0x1a288540f0>"
      ]
     },
     "execution_count": 13,
     "metadata": {},
     "output_type": "execute_result"
    },
    {
     "data": {
      "image/png": "[encoded data removed]",
      "text/plain": [
       "<Figure size 432x288 with 1 Axes>"
      ]
     },
     "metadata": {
      "needs_background": "light"
     },
     "output_type": "display_data"
    }
   ],
   "source": [
    "sns.pointplot(x=\"month\", y=\"target\", data=df)"
   ]
  },
  {
   "cell_type": "markdown",
   "metadata": {
    "slideshow": {
     "slide_type": "slide"
    }
   },
   "source": [
    "# Getting started with fklearn: Creating a simple model\n",
    "\n",
    "* <font size=\"4\"> Fklearn allows you to get production ready models with ease </font>\n",
    "\n",
    "* <font size=\"4\"> Tradional steps of training a model like: Train-Test Splitting, Training and Validating are all implemented on fklearn </font>"
   ]
  },
  {
   "cell_type": "markdown",
   "metadata": {
    "slideshow": {
     "slide_type": "slide"
    }
   },
   "source": [
    "## Spliting the dataset into train and holdout\n",
    "\n",
    "* <font size=\"4\"> On real problems we want to validate our model both in the same period and also on a different period to guarantee our model is a good predictor for the future </font>\n",
    "<img src=\"imgs/Splitting_Data.png\">"
   ]
  },
  {
   "cell_type": "code",
   "execution_count": 54,
   "metadata": {
    "ExecuteTime": {
     "end_time": "2019-04-30T20:48:04.848846Z",
     "start_time": "2019-04-30T20:48:04.771153Z"
    },
    "slideshow": {
     "slide_type": "slide"
    }
   },
   "outputs": [],
   "source": [
    "from fklearn.preprocessing.splitting import space_time_split_dataset\n",
    "\n",
    "train_set, intime_outspace_hdout, outime_inspace_hdout, outime_outspace_hdout = \\\n",
    "                                        space_time_split_dataset(df,\n",
    "                                                 train_start_date=\"2017-02-01\",\n",
    "                                                 train_end_date=\"2018-07-01\",\n",
    "                                                 holdout_end_date=\"2018-10-01\",\n",
    "                                                 split_seed=42,\n",
    "                                                 space_holdout_percentage=0.2,\n",
    "                                                 space_column=\"id\",\n",
    "                                                 time_column=\"month_date\")"
   ]
  },
  {
   "cell_type": "code",
   "execution_count": 56,
   "metadata": {
    "ExecuteTime": {
     "end_time": "2019-04-30T20:48:40.895482Z",
     "start_time": "2019-04-30T20:48:40.891188Z"
    },
    "slideshow": {
     "slide_type": "fragment"
    }
   },
   "outputs": [
    {
     "data": {
      "text/plain": [
       "((53305, 12), (13419, 12), (24850, 12), (4449, 12))"
      ]
     },
     "execution_count": 56,
     "metadata": {},
     "output_type": "execute_result"
    }
   ],
   "source": [
    "(train_set.shape, \n",
    " intime_outspace_hdout.shape, \n",
    " outime_inspace_hdout.shape,\n",
    " outime_outspace_hdout.shape)"
   ]
  },
  {
   "cell_type": "markdown",
   "metadata": {
    "slideshow": {
     "slide_type": "slide"
    }
   },
   "source": [
    "## Training:\n",
    "\n",
    "* <font size=\"4\"> On the training process we want to cap features that have unexpected values </font>\n",
    "* <font size=\"4\"> We want to encode categorical features </font>\n",
    "* <font size=\"4\">  We might want to fill missing values </font>\n",
    "* <font size=\"4\">  We want to train our model </font>\n",
    "* <font size=\"4\"> We want this transformations to be applied when scoring </font>\n",
    "* <font size=\"4\"> We want to apply this same transformations when scoring our model, similarly to the fit and transform concept from sklearn </font>\n"
   ]
  },
  {
   "cell_type": "markdown",
   "metadata": {
    "ExecuteTime": {
     "end_time": "2019-04-24T16:17:39.071198Z",
     "start_time": "2019-04-24T16:17:39.067285Z"
    },
    "slideshow": {
     "slide_type": "slide"
    }
   },
   "source": [
    "\n",
    "<img src=\"imgs/Pipeline.png\">"
   ]
  },
  {
   "cell_type": "code",
   "execution_count": 16,
   "metadata": {
    "ExecuteTime": {
     "end_time": "2019-04-30T13:06:01.528969Z",
     "start_time": "2019-04-30T13:06:00.917871Z"
    },
    "slideshow": {
     "slide_type": "slide"
    }
   },
   "outputs": [],
   "source": [
    "from fklearn.training.transformation import capper, prediction_ranger, label_categorizer\n",
    "from fklearn.training.imputation import imputer\n",
    "from fklearn.training.regression import lgbm_regression_learner\n",
    "capper_fn = capper(columns_to_cap=[\"income\"], precomputed_caps={\"income\": 20000.0})\n",
    "ranger_fn = prediction_ranger(prediction_min=0.0, prediction_max=100000.0, prediction_column=\"prediction\")\n",
    "label_fn = label_categorizer(columns_to_categorize=[\"phone_type\"])\n",
    "imputer_fn = imputer(columns_to_impute=[\"bureau_score\"], impute_strategy=\"median\")\n",
    "regression_fn = lgbm_regression_learner(features=features, target=\"target\", learning_rate=0.1, num_estimators=200)"
   ]
  },
  {
   "cell_type": "code",
   "execution_count": 17,
   "metadata": {
    "ExecuteTime": {
     "end_time": "2019-04-30T13:06:01.534953Z",
     "start_time": "2019-04-30T13:06:01.530876Z"
    },
    "slideshow": {
     "slide_type": "fragment"
    }
   },
   "outputs": [],
   "source": [
    "from fklearn.training.pipeline import build_pipeline\n",
    "train_fn = build_pipeline(label_fn, capper_fn, imputer_fn, regression_fn, ranger_fn)"
   ]
  },
  {
   "cell_type": "code",
   "execution_count": 18,
   "metadata": {
    "ExecuteTime": {
     "end_time": "2019-04-30T13:06:02.311883Z",
     "start_time": "2019-04-30T13:06:01.537000Z"
    },
    "slideshow": {
     "slide_type": "fragment"
    }
   },
   "outputs": [
    {
     "name": "stderr",
     "output_type": "stream",
     "text": [
      "/Users/henriquelopes/miniconda3/lib/python3.6/site-packages/sklearn/utils/deprecation.py:58: DeprecationWarning: Class Imputer is deprecated; Imputer was deprecated in version 0.20 and will be removed in 0.22. Import impute.SimpleImputer from sklearn instead.\n",
      "  warnings.warn(msg, category=DeprecationWarning)\n"
     ]
    }
   ],
   "source": [
    "predict_fn, scored_train_set, train_logs = train_fn(train_set)"
   ]
  },
  {
   "cell_type": "code",
   "execution_count": 19,
   "metadata": {
    "ExecuteTime": {
     "end_time": "2019-04-30T13:06:02.335171Z",
     "start_time": "2019-04-30T13:06:02.314225Z"
    },
    "slideshow": {
     "slide_type": "slide"
    }
   },
   "outputs": [
    {
     "data": {
      "text/html": [
       "<div>\n",
       "<style scoped>\n",
       "    .dataframe tbody tr th:only-of-type {\n",
       "        vertical-align: middle;\n",
       "    }\n",
       "\n",
       "    .dataframe tbody tr th {\n",
       "        vertical-align: top;\n",
       "    }\n",
       "\n",
       "    .dataframe thead th {\n",
       "        text-align: right;\n",
       "    }\n",
       "</style>\n",
       "<table border=\"1\" class=\"dataframe\">\n",
       "  <thead>\n",
       "    <tr style=\"text-align: right;\">\n",
       "      <th></th>\n",
       "      <th>id</th>\n",
       "      <th>month</th>\n",
       "      <th>income</th>\n",
       "      <th>created_at</th>\n",
       "      <th>phone_type</th>\n",
       "      <th>bureau_score</th>\n",
       "      <th>spend_desire</th>\n",
       "      <th>random_noise</th>\n",
       "      <th>monthly_spend</th>\n",
       "      <th>month_date</th>\n",
       "      <th>avg_last_2_months_spend</th>\n",
       "      <th>target</th>\n",
       "      <th>prediction</th>\n",
       "    </tr>\n",
       "  </thead>\n",
       "  <tbody>\n",
       "    <tr>\n",
       "      <th>18</th>\n",
       "      <td>3</td>\n",
       "      <td>9</td>\n",
       "      <td>4159.498061</td>\n",
       "      <td>2017-09-26</td>\n",
       "      <td>0</td>\n",
       "      <td>192.392763</td>\n",
       "      <td>181.942558</td>\n",
       "      <td>1273.613785</td>\n",
       "      <td>4412.640581</td>\n",
       "      <td>2017-10-07</td>\n",
       "      <td>NaN</td>\n",
       "      <td>4170.070925</td>\n",
       "      <td>3864.627748</td>\n",
       "    </tr>\n",
       "    <tr>\n",
       "      <th>19</th>\n",
       "      <td>3</td>\n",
       "      <td>10</td>\n",
       "      <td>4159.498061</td>\n",
       "      <td>2017-09-26</td>\n",
       "      <td>0</td>\n",
       "      <td>238.973531</td>\n",
       "      <td>181.942558</td>\n",
       "      <td>1025.798515</td>\n",
       "      <td>4535.340752</td>\n",
       "      <td>2017-11-07</td>\n",
       "      <td>4473.990666</td>\n",
       "      <td>3161.149203</td>\n",
       "      <td>3902.731789</td>\n",
       "    </tr>\n",
       "    <tr>\n",
       "      <th>20</th>\n",
       "      <td>3</td>\n",
       "      <td>11</td>\n",
       "      <td>4159.498061</td>\n",
       "      <td>2017-09-26</td>\n",
       "      <td>0</td>\n",
       "      <td>305.450024</td>\n",
       "      <td>181.942558</td>\n",
       "      <td>1023.245425</td>\n",
       "      <td>3804.801099</td>\n",
       "      <td>2017-12-08</td>\n",
       "      <td>4170.070925</td>\n",
       "      <td>3158.383160</td>\n",
       "      <td>3840.322509</td>\n",
       "    </tr>\n",
       "    <tr>\n",
       "      <th>21</th>\n",
       "      <td>3</td>\n",
       "      <td>12</td>\n",
       "      <td>4159.498061</td>\n",
       "      <td>2017-09-26</td>\n",
       "      <td>0</td>\n",
       "      <td>474.381722</td>\n",
       "      <td>181.942558</td>\n",
       "      <td>972.002071</td>\n",
       "      <td>2517.497308</td>\n",
       "      <td>2018-01-08</td>\n",
       "      <td>3161.149203</td>\n",
       "      <td>3733.840173</td>\n",
       "      <td>3874.139880</td>\n",
       "    </tr>\n",
       "    <tr>\n",
       "      <th>22</th>\n",
       "      <td>3</td>\n",
       "      <td>13</td>\n",
       "      <td>4159.498061</td>\n",
       "      <td>2017-09-26</td>\n",
       "      <td>0</td>\n",
       "      <td>491.569252</td>\n",
       "      <td>181.942558</td>\n",
       "      <td>1001.202505</td>\n",
       "      <td>3799.269011</td>\n",
       "      <td>2018-02-08</td>\n",
       "      <td>3158.383160</td>\n",
       "      <td>3429.540635</td>\n",
       "      <td>3786.501556</td>\n",
       "    </tr>\n",
       "  </tbody>\n",
       "</table>\n",
       "</div>"
      ],
      "text/plain": [
       "    id  month       income  created_at  phone_type  bureau_score  \\\n",
       "18   3      9  4159.498061  2017-09-26           0    192.392763   \n",
       "19   3     10  4159.498061  2017-09-26           0    238.973531   \n",
       "20   3     11  4159.498061  2017-09-26           0    305.450024   \n",
       "21   3     12  4159.498061  2017-09-26           0    474.381722   \n",
       "22   3     13  4159.498061  2017-09-26           0    491.569252   \n",
       "\n",
       "    spend_desire  random_noise  monthly_spend month_date  \\\n",
       "18    181.942558   1273.613785    4412.640581 2017-10-07   \n",
       "19    181.942558   1025.798515    4535.340752 2017-11-07   \n",
       "20    181.942558   1023.245425    3804.801099 2017-12-08   \n",
       "21    181.942558    972.002071    2517.497308 2018-01-08   \n",
       "22    181.942558   1001.202505    3799.269011 2018-02-08   \n",
       "\n",
       "    avg_last_2_months_spend       target   prediction  \n",
       "18                      NaN  4170.070925  3864.627748  \n",
       "19              4473.990666  3161.149203  3902.731789  \n",
       "20              4170.070925  3158.383160  3840.322509  \n",
       "21              3161.149203  3733.840173  3874.139880  \n",
       "22              3158.383160  3429.540635  3786.501556  "
      ]
     },
     "execution_count": 19,
     "metadata": {},
     "output_type": "execute_result"
    }
   ],
   "source": [
    "scored_train_set.head()"
   ]
  },
  {
   "cell_type": "code",
   "execution_count": 58,
   "metadata": {
    "ExecuteTime": {
     "end_time": "2019-04-30T20:56:13.585230Z",
     "start_time": "2019-04-30T20:56:13.571677Z"
    },
    "slideshow": {
     "slide_type": "slide"
    }
   },
   "outputs": [
    {
     "data": {
      "text/html": [
       "<div>\n",
       "<style scoped>\n",
       "    .dataframe tbody tr th:only-of-type {\n",
       "        vertical-align: middle;\n",
       "    }\n",
       "\n",
       "    .dataframe tbody tr th {\n",
       "        vertical-align: top;\n",
       "    }\n",
       "\n",
       "    .dataframe thead th {\n",
       "        text-align: right;\n",
       "    }\n",
       "</style>\n",
       "<table border=\"1\" class=\"dataframe\">\n",
       "  <thead>\n",
       "    <tr style=\"text-align: right;\">\n",
       "      <th></th>\n",
       "      <th>importance</th>\n",
       "    </tr>\n",
       "  </thead>\n",
       "  <tbody>\n",
       "    <tr>\n",
       "      <th>avg_last_2_months_spend</th>\n",
       "      <td>1155</td>\n",
       "    </tr>\n",
       "    <tr>\n",
       "      <th>spend_desire</th>\n",
       "      <td>1128</td>\n",
       "    </tr>\n",
       "    <tr>\n",
       "      <th>income</th>\n",
       "      <td>1089</td>\n",
       "    </tr>\n",
       "    <tr>\n",
       "      <th>bureau_score</th>\n",
       "      <td>937</td>\n",
       "    </tr>\n",
       "    <tr>\n",
       "      <th>random_noise</th>\n",
       "      <td>879</td>\n",
       "    </tr>\n",
       "    <tr>\n",
       "      <th>monthly_spend</th>\n",
       "      <td>812</td>\n",
       "    </tr>\n",
       "  </tbody>\n",
       "</table>\n",
       "</div>"
      ],
      "text/plain": [
       "                         importance\n",
       "avg_last_2_months_spend        1155\n",
       "spend_desire                   1128\n",
       "income                         1089\n",
       "bureau_score                    937\n",
       "random_noise                    879\n",
       "monthly_spend                   812"
      ]
     },
     "execution_count": 58,
     "metadata": {},
     "output_type": "execute_result"
    }
   ],
   "source": [
    "pd.options.display.max_rows = 120\n",
    "pd.DataFrame(train_logs['lgbm_regression_learner']['feature_importance'], \n",
    "             index=[\"importance\"]).T.sort_values(\"importance\", ascending=False)"
   ]
  },
  {
   "cell_type": "code",
   "execution_count": 20,
   "metadata": {
    "ExecuteTime": {
     "end_time": "2019-04-30T13:06:02.556547Z",
     "start_time": "2019-04-30T13:06:02.337708Z"
    },
    "slideshow": {
     "slide_type": "slide"
    }
   },
   "outputs": [],
   "source": [
    "scored_outime_outspace_hdout = predict_fn(outime_outspace_hdout)\n",
    "scored_intime_outspace_hdout = predict_fn(intime_outspace_hdout)\n",
    "scored_outime_inspace_hdout = predict_fn(outime_inspace_hdout)"
   ]
  },
  {
   "cell_type": "code",
   "execution_count": 21,
   "metadata": {
    "ExecuteTime": {
     "end_time": "2019-04-30T13:06:02.575756Z",
     "start_time": "2019-04-30T13:06:02.559043Z"
    },
    "slideshow": {
     "slide_type": "fragment"
    }
   },
   "outputs": [
    {
     "data": {
      "text/html": [
       "<div>\n",
       "<style scoped>\n",
       "    .dataframe tbody tr th:only-of-type {\n",
       "        vertical-align: middle;\n",
       "    }\n",
       "\n",
       "    .dataframe tbody tr th {\n",
       "        vertical-align: top;\n",
       "    }\n",
       "\n",
       "    .dataframe thead th {\n",
       "        text-align: right;\n",
       "    }\n",
       "</style>\n",
       "<table border=\"1\" class=\"dataframe\">\n",
       "  <thead>\n",
       "    <tr style=\"text-align: right;\">\n",
       "      <th></th>\n",
       "      <th>id</th>\n",
       "      <th>month_date</th>\n",
       "      <th>income</th>\n",
       "      <th>bureau_score</th>\n",
       "      <th>target</th>\n",
       "      <th>prediction</th>\n",
       "    </tr>\n",
       "  </thead>\n",
       "  <tbody>\n",
       "    <tr>\n",
       "      <th>9</th>\n",
       "      <td>1</td>\n",
       "      <td>2018-07-13</td>\n",
       "      <td>4932.132535</td>\n",
       "      <td>288.619854</td>\n",
       "      <td>5116.067742</td>\n",
       "      <td>5337.765225</td>\n",
       "    </tr>\n",
       "    <tr>\n",
       "      <th>10</th>\n",
       "      <td>1</td>\n",
       "      <td>2018-08-13</td>\n",
       "      <td>4932.132535</td>\n",
       "      <td>376.036959</td>\n",
       "      <td>4872.569666</td>\n",
       "      <td>5376.376486</td>\n",
       "    </tr>\n",
       "    <tr>\n",
       "      <th>11</th>\n",
       "      <td>1</td>\n",
       "      <td>2018-09-13</td>\n",
       "      <td>4932.132535</td>\n",
       "      <td>277.461815</td>\n",
       "      <td>5973.371718</td>\n",
       "      <td>5263.127132</td>\n",
       "    </tr>\n",
       "    <tr>\n",
       "      <th>180</th>\n",
       "      <td>16</td>\n",
       "      <td>2018-07-13</td>\n",
       "      <td>3825.722225</td>\n",
       "      <td>227.229072</td>\n",
       "      <td>4814.508043</td>\n",
       "      <td>4421.280720</td>\n",
       "    </tr>\n",
       "    <tr>\n",
       "      <th>181</th>\n",
       "      <td>16</td>\n",
       "      <td>2018-08-13</td>\n",
       "      <td>3825.722225</td>\n",
       "      <td>427.216025</td>\n",
       "      <td>3683.895089</td>\n",
       "      <td>4469.370258</td>\n",
       "    </tr>\n",
       "  </tbody>\n",
       "</table>\n",
       "</div>"
      ],
      "text/plain": [
       "     id month_date       income  bureau_score       target   prediction\n",
       "9     1 2018-07-13  4932.132535    288.619854  5116.067742  5337.765225\n",
       "10    1 2018-08-13  4932.132535    376.036959  4872.569666  5376.376486\n",
       "11    1 2018-09-13  4932.132535    277.461815  5973.371718  5263.127132\n",
       "180  16 2018-07-13  3825.722225    227.229072  4814.508043  4421.280720\n",
       "181  16 2018-08-13  3825.722225    427.216025  3683.895089  4469.370258"
      ]
     },
     "execution_count": 21,
     "metadata": {},
     "output_type": "execute_result"
    }
   ],
   "source": [
    "scored_outime_outspace_hdout[[\"id\", \"month_date\", \"income\", \"bureau_score\", \"target\", \"prediction\"]].head()"
   ]
  },
  {
   "cell_type": "markdown",
   "metadata": {
    "slideshow": {
     "slide_type": "slide"
    }
   },
   "source": [
    "## Evaluation:\n",
    "* <font size=\"4\"> We want to evaluate the performance of our model using multiple metrics for each dataframe (out_of_time, out_of_space, out_of_time_and_space) </font>\n",
    "\n",
    "\n",
    "<img src=\"imgs/EvalFn.png\">"
   ]
  },
  {
   "cell_type": "code",
   "execution_count": 22,
   "metadata": {
    "ExecuteTime": {
     "end_time": "2019-04-30T13:06:02.584371Z",
     "start_time": "2019-04-30T13:06:02.578171Z"
    },
    "slideshow": {
     "slide_type": "slide"
    }
   },
   "outputs": [],
   "source": [
    "from fklearn.validation.evaluators import r2_evaluator, spearman_evaluator, combined_evaluators"
   ]
  },
  {
   "cell_type": "code",
   "execution_count": 23,
   "metadata": {
    "ExecuteTime": {
     "end_time": "2019-04-30T13:06:02.593933Z",
     "start_time": "2019-04-30T13:06:02.589405Z"
    },
    "slideshow": {
     "slide_type": "fragment"
    }
   },
   "outputs": [],
   "source": [
    "r2_eval_fn = r2_evaluator(prediction_column=\"prediction\", target_column=\"target\")\n",
    "spearman_eval_fn = spearman_evaluator(prediction_column=\"prediction\", target_column=\"target\")\n",
    "eval_fn = combined_evaluators(evaluators=[r2_eval_fn, spearman_eval_fn])"
   ]
  },
  {
   "cell_type": "code",
   "execution_count": 24,
   "metadata": {
    "ExecuteTime": {
     "end_time": "2019-04-30T13:06:02.650379Z",
     "start_time": "2019-04-30T13:06:02.597064Z"
    },
    "slideshow": {
     "slide_type": "slide"
    }
   },
   "outputs": [],
   "source": [
    "outime_outspace_hdout_logs = eval_fn(scored_outime_outspace_hdout)\n",
    "intime_outspace_hdout_logs = eval_fn(scored_intime_outspace_hdout)\n",
    "outime_inspace_hdout_logs = eval_fn(scored_outime_inspace_hdout)"
   ]
  },
  {
   "cell_type": "code",
   "execution_count": 25,
   "metadata": {
    "ExecuteTime": {
     "end_time": "2019-04-30T13:06:02.657780Z",
     "start_time": "2019-04-30T13:06:02.652791Z"
    },
    "slideshow": {
     "slide_type": "fragment"
    }
   },
   "outputs": [
    {
     "data": {
      "text/plain": [
       "{'out_of_time': {'r2_evaluator__target': 0.2121781111382176,\n",
       "  'spearman_evaluator__target': 0.4472821975927104},\n",
       " 'in_time': {'r2_evaluator__target': 0.2090246267333823,\n",
       "  'spearman_evaluator__target': 0.4482512955556436},\n",
       " 'out_of_time_and_space': {'r2_evaluator__target': 0.2239345445712667,\n",
       "  'spearman_evaluator__target': 0.4659935688172329}}"
      ]
     },
     "execution_count": 25,
     "metadata": {},
     "output_type": "execute_result"
    }
   ],
   "source": [
    "{\"out_of_time\": outime_outspace_hdout_logs, \n",
    " \"in_time\": intime_outspace_hdout_logs,\n",
    "  \"out_of_time_and_space\": outime_inspace_hdout_logs}"
   ]
  },
  {
   "cell_type": "markdown",
   "metadata": {
    "slideshow": {
     "slide_type": "slide"
    }
   },
   "source": [
    "## Extractors\n",
    "* <font size=\"4\"> We want to transform this logs into dataframes that we can visualize better </font>\n",
    "\n",
    "<img src=\"imgs/Extractor.png\" style=\"width: 500px;\">"
   ]
  },
  {
   "cell_type": "code",
   "execution_count": 26,
   "metadata": {
    "ExecuteTime": {
     "end_time": "2019-04-30T13:06:02.666374Z",
     "start_time": "2019-04-30T13:06:02.660242Z"
    },
    "slideshow": {
     "slide_type": "slide"
    }
   },
   "outputs": [],
   "source": [
    "from fklearn.metrics.pd_extractors import evaluator_extractor, combined_evaluator_extractor, extract\n",
    "r2_extractor = evaluator_extractor(evaluator_name=\"r2_evaluator__target\")\n",
    "spearman_extractor = evaluator_extractor(evaluator_name=\"spearman_evaluator__target\")\n",
    "full_extractor = combined_evaluator_extractor(base_extractors=[r2_extractor, spearman_extractor])"
   ]
  },
  {
   "cell_type": "code",
   "execution_count": 27,
   "metadata": {
    "ExecuteTime": {
     "end_time": "2019-04-30T13:06:02.691176Z",
     "start_time": "2019-04-30T13:06:02.668933Z"
    },
    "slideshow": {
     "slide_type": "fragment"
    }
   },
   "outputs": [
    {
     "data": {
      "text/html": [
       "<div>\n",
       "<style scoped>\n",
       "    .dataframe tbody tr th:only-of-type {\n",
       "        vertical-align: middle;\n",
       "    }\n",
       "\n",
       "    .dataframe tbody tr th {\n",
       "        vertical-align: top;\n",
       "    }\n",
       "\n",
       "    .dataframe thead th {\n",
       "        text-align: right;\n",
       "    }\n",
       "</style>\n",
       "<table border=\"1\" class=\"dataframe\">\n",
       "  <thead>\n",
       "    <tr style=\"text-align: right;\">\n",
       "      <th></th>\n",
       "      <th>r2_evaluator__target</th>\n",
       "      <th>spearman_evaluator__target</th>\n",
       "      <th>part</th>\n",
       "    </tr>\n",
       "  </thead>\n",
       "  <tbody>\n",
       "    <tr>\n",
       "      <th>0</th>\n",
       "      <td>0.212178</td>\n",
       "      <td>0.447282</td>\n",
       "      <td>out_of_time</td>\n",
       "    </tr>\n",
       "    <tr>\n",
       "      <th>0</th>\n",
       "      <td>0.209025</td>\n",
       "      <td>0.448251</td>\n",
       "      <td>in_time_out_of_space</td>\n",
       "    </tr>\n",
       "    <tr>\n",
       "      <th>0</th>\n",
       "      <td>0.223935</td>\n",
       "      <td>0.465994</td>\n",
       "      <td>out_of_time_and_space</td>\n",
       "    </tr>\n",
       "  </tbody>\n",
       "</table>\n",
       "</div>"
      ],
      "text/plain": [
       "   r2_evaluator__target  spearman_evaluator__target                   part\n",
       "0              0.212178                    0.447282            out_of_time\n",
       "0              0.209025                    0.448251   in_time_out_of_space\n",
       "0              0.223935                    0.465994  out_of_time_and_space"
      ]
     },
     "execution_count": 27,
     "metadata": {},
     "output_type": "execute_result"
    }
   ],
   "source": [
    "pd.concat(\n",
    "    [full_extractor(outime_outspace_hdout_logs).assign(part=\"out_of_time\"),\n",
    "    full_extractor(intime_outspace_hdout_logs).assign(part=\"in_time_out_of_space\"),\n",
    "    full_extractor(outime_inspace_hdout_logs).assign(part=\"out_of_time_and_space\")])"
   ]
  },
  {
   "cell_type": "markdown",
   "metadata": {
    "slideshow": {
     "slide_type": "slide"
    }
   },
   "source": [
    "# Learning Curves:\n",
    "\n",
    "<img src=\"imgs/LearningCurves.png\">\n",
    "\n",
    "<font size=\"5\"> We can reuse our previously defined training function and evaluators! </font>\n"
   ]
  },
  {
   "cell_type": "markdown",
   "metadata": {
    "slideshow": {
     "slide_type": "slide"
    }
   },
   "source": [
    "## Could we improve if we had more data, AKA Spatial Learning Curve\n",
    "\n",
    "* <font size=\"4\"> If we had more data we could use that for training and see how much the model improves </font>\n",
    "* <font size=\"4\"> To estimate that we can train with subsamples of the full training set and check how performance changes </font>\n"
   ]
  },
  {
   "cell_type": "markdown",
   "metadata": {
    "slideshow": {
     "slide_type": "slide"
    }
   },
   "source": [
    "<img src=\"imgs/SpatialLearningCurves.png\">"
   ]
  },
  {
   "cell_type": "code",
   "execution_count": 28,
   "metadata": {
    "ExecuteTime": {
     "end_time": "2019-04-30T13:06:02.701332Z",
     "start_time": "2019-04-30T13:06:02.693450Z"
    },
    "slideshow": {
     "slide_type": "slide"
    }
   },
   "outputs": [],
   "source": [
    "from fklearn.validation.splitters import spatial_learning_curve_splitter\n",
    "\n",
    "split_fn = spatial_learning_curve_splitter(space_column=\"id\", \n",
    "                                           time_column=\"month_date\",\n",
    "                                           training_limit=\"2018-04-01\", \n",
    "                                           train_percentages=[0.1, 0.2, 0.4, 0.6, 0.8, 1.0])"
   ]
  },
  {
   "cell_type": "code",
   "execution_count": 29,
   "metadata": {
    "ExecuteTime": {
     "end_time": "2019-04-30T13:06:12.342566Z",
     "start_time": "2019-04-30T13:06:02.703523Z"
    },
    "slideshow": {
     "slide_type": "fragment"
    }
   },
   "outputs": [
    {
     "name": "stderr",
     "output_type": "stream",
     "text": [
      "/Users/henriquelopes/miniconda3/lib/python3.6/site-packages/sklearn/utils/deprecation.py:58: DeprecationWarning: Class Imputer is deprecated; Imputer was deprecated in version 0.20 and will be removed in 0.22. Import impute.SimpleImputer from sklearn instead.\n",
      "  warnings.warn(msg, category=DeprecationWarning)\n",
      "/Users/henriquelopes/miniconda3/lib/python3.6/site-packages/sklearn/utils/deprecation.py:58: DeprecationWarning: Class Imputer is deprecated; Imputer was deprecated in version 0.20 and will be removed in 0.22. Import impute.SimpleImputer from sklearn instead.\n",
      "  warnings.warn(msg, category=DeprecationWarning)\n",
      "/Users/henriquelopes/miniconda3/lib/python3.6/site-packages/sklearn/utils/deprecation.py:58: DeprecationWarning: Class Imputer is deprecated; Imputer was deprecated in version 0.20 and will be removed in 0.22. Import impute.SimpleImputer from sklearn instead.\n",
      "  warnings.warn(msg, category=DeprecationWarning)\n",
      "/Users/henriquelopes/miniconda3/lib/python3.6/site-packages/sklearn/utils/deprecation.py:58: DeprecationWarning: Class Imputer is deprecated; Imputer was deprecated in version 0.20 and will be removed in 0.22. Import impute.SimpleImputer from sklearn instead.\n",
      "  warnings.warn(msg, category=DeprecationWarning)\n",
      "/Users/henriquelopes/miniconda3/lib/python3.6/site-packages/sklearn/utils/deprecation.py:58: DeprecationWarning: Class Imputer is deprecated; Imputer was deprecated in version 0.20 and will be removed in 0.22. Import impute.SimpleImputer from sklearn instead.\n",
      "  warnings.warn(msg, category=DeprecationWarning)\n",
      "/Users/henriquelopes/miniconda3/lib/python3.6/site-packages/sklearn/utils/deprecation.py:58: DeprecationWarning: Class Imputer is deprecated; Imputer was deprecated in version 0.20 and will be removed in 0.22. Import impute.SimpleImputer from sklearn instead.\n",
      "  warnings.warn(msg, category=DeprecationWarning)\n"
     ]
    }
   ],
   "source": [
    "from fklearn.validation.validator import parallel_validator\n",
    "\n",
    "spatial_learning_curve_logs = parallel_validator(train_set, split_fn, train_fn, eval_fn, n_jobs=8)"
   ]
  },
  {
   "cell_type": "code",
   "execution_count": 30,
   "metadata": {
    "ExecuteTime": {
     "end_time": "2019-04-30T13:06:12.377485Z",
     "start_time": "2019-04-30T13:06:12.344806Z"
    },
    "slideshow": {
     "slide_type": "skip"
    }
   },
   "outputs": [
    {
     "data": {
      "text/plain": [
       "{'train_log': [{'label_categorizer': {'transformed_column': ['phone_type'],\n",
       "    'replace_unseen': nan,\n",
       "    'running_time': '0.017 s'},\n",
       "   'capper': {'caps': {'income': 20000.0},\n",
       "    'transformed_column': ['income'],\n",
       "    'precomputed_caps': {'income': 20000.0},\n",
       "    'running_time': '0.035 s'},\n",
       "   'imputer': {'impute_strategy': 'median',\n",
       "    'columns_to_impute': ['bureau_score'],\n",
       "    'training_proportion_of_nulls': {'bureau_score': 0.10269749518304432},\n",
       "    'statistics': array([325.77291813]),\n",
       "    'running_time': '0.078 s'},\n",
       "   'lgbm_regression_learner': {'features': ['income',\n",
       "     'bureau_score',\n",
       "     'spend_desire',\n",
       "     'random_noise',\n",
       "     'monthly_spend',\n",
       "     'avg_last_2_months_spend'],\n",
       "    'target': 'target',\n",
       "    'prediction_column': 'prediction',\n",
       "    'package': 'lightgbm',\n",
       "    'package_version': '2.2.3',\n",
       "    'parameters': {'eta': 0.1,\n",
       "     'objective': 'regression',\n",
       "     'num_estimators': 200},\n",
       "    'feature_importance': {'income': 964,\n",
       "     'bureau_score': 868,\n",
       "     'spend_desire': 1067,\n",
       "     'random_noise': 1001,\n",
       "     'monthly_spend': 909,\n",
       "     'avg_last_2_months_spend': 1191},\n",
       "    'training_samples': 5190,\n",
       "    'running_time': '7.954 s'},\n",
       "   'object': <lightgbm.basic.Booster at 0x1a27fd90f0>,\n",
       "   'prediction_ranger': {'prediction_min': 0.0,\n",
       "    'prediction_max': 100000.0,\n",
       "    'transformed_column': ['prediction']},\n",
       "   '__fkml__': {'pipeline': ['label_categorizer',\n",
       "     'capper',\n",
       "     'imputer',\n",
       "     'lgbm_regression_learner',\n",
       "     'prediction_ranger'],\n",
       "    'output_columns': ['id',\n",
       "     'month',\n",
       "     'income',\n",
       "     'created_at',\n",
       "     'phone_type',\n",
       "     'bureau_score',\n",
       "     'spend_desire',\n",
       "     'random_noise',\n",
       "     'monthly_spend',\n",
       "     'month_date',\n",
       "     'avg_last_2_months_spend',\n",
       "     'target',\n",
       "     'prediction'],\n",
       "    'features': ['id',\n",
       "     'month',\n",
       "     'income',\n",
       "     'created_at',\n",
       "     'phone_type',\n",
       "     'bureau_score',\n",
       "     'spend_desire',\n",
       "     'random_noise',\n",
       "     'monthly_spend',\n",
       "     'month_date',\n",
       "     'avg_last_2_months_spend',\n",
       "     'target'],\n",
       "    'learners': {'label_categorizer': {'fn': <function fklearn.training.transformation.label_categorizer.<locals>.p(new_df:pandas.core.frame.DataFrame) -> pandas.core.frame.DataFrame>,\n",
       "      'log': {'label_categorizer': {'transformed_column': ['phone_type'],\n",
       "        'replace_unseen': nan,\n",
       "        'running_time': '0.017 s'}}},\n",
       "     'capper': {'fn': <function fklearn.training.transformation.capper.<locals>.p(new_data_set:pandas.core.frame.DataFrame) -> pandas.core.frame.DataFrame>,\n",
       "      'log': {'capper': {'caps': {'income': 20000.0},\n",
       "        'transformed_column': ['income'],\n",
       "        'precomputed_caps': {'income': 20000.0},\n",
       "        'running_time': '0.035 s'}}},\n",
       "     'imputer': {'fn': <function fklearn.training.imputation.imputer.<locals>.p(new_data_set:pandas.core.frame.DataFrame) -> pandas.core.frame.DataFrame>,\n",
       "      'log': {'imputer': {'impute_strategy': 'median',\n",
       "        'columns_to_impute': ['bureau_score'],\n",
       "        'training_proportion_of_nulls': {'bureau_score': 0.10269749518304432},\n",
       "        'statistics': array([325.77291813]),\n",
       "        'running_time': '0.078 s'}}},\n",
       "     'lgbm_regression_learner': {'fn': <function fklearn.training.regression.lgbm_regression_learner.<locals>.p(new_df:pandas.core.frame.DataFrame, apply_shap:bool=False) -> pandas.core.frame.DataFrame>,\n",
       "      'log': {'lgbm_regression_learner': {'features': ['income',\n",
       "         'bureau_score',\n",
       "         'spend_desire',\n",
       "         'random_noise',\n",
       "         'monthly_spend',\n",
       "         'avg_last_2_months_spend'],\n",
       "        'target': 'target',\n",
       "        'prediction_column': 'prediction',\n",
       "        'package': 'lightgbm',\n",
       "        'package_version': '2.2.3',\n",
       "        'parameters': {'eta': 0.1,\n",
       "         'objective': 'regression',\n",
       "         'num_estimators': 200},\n",
       "        'feature_importance': {'income': 964,\n",
       "         'bureau_score': 868,\n",
       "         'spend_desire': 1067,\n",
       "         'random_noise': 1001,\n",
       "         'monthly_spend': 909,\n",
       "         'avg_last_2_months_spend': 1191},\n",
       "        'training_samples': 5190,\n",
       "        'running_time': '7.954 s'},\n",
       "       'object': <lightgbm.basic.Booster at 0x1a27fd90f0>}},\n",
       "     'prediction_ranger': {'fn': <function fklearn.training.transformation.prediction_ranger.<locals>.p(new_df:pandas.core.frame.DataFrame) -> pandas.core.frame.DataFrame>,\n",
       "      'log': {'prediction_ranger': {'prediction_min': 0.0,\n",
       "        'prediction_max': 100000.0,\n",
       "        'transformed_column': ['prediction']}}}}}},\n",
       "  {'label_categorizer': {'transformed_column': ['phone_type'],\n",
       "    'replace_unseen': nan,\n",
       "    'running_time': '0.038 s'},\n",
       "   'capper': {'caps': {'income': 20000.0},\n",
       "    'transformed_column': ['income'],\n",
       "    'precomputed_caps': {'income': 20000.0},\n",
       "    'running_time': '0.069 s'},\n",
       "   'imputer': {'impute_strategy': 'median',\n",
       "    'columns_to_impute': ['bureau_score'],\n",
       "    'training_proportion_of_nulls': {'bureau_score': 0.10109370381318357},\n",
       "    'statistics': array([325.78182148]),\n",
       "    'running_time': '0.033 s'},\n",
       "   'lgbm_regression_learner': {'features': ['income',\n",
       "     'bureau_score',\n",
       "     'spend_desire',\n",
       "     'random_noise',\n",
       "     'monthly_spend',\n",
       "     'avg_last_2_months_spend'],\n",
       "    'target': 'target',\n",
       "    'prediction_column': 'prediction',\n",
       "    'package': 'lightgbm',\n",
       "    'package_version': '2.2.3',\n",
       "    'parameters': {'eta': 0.1,\n",
       "     'objective': 'regression',\n",
       "     'num_estimators': 200},\n",
       "    'feature_importance': {'income': 1013,\n",
       "     'bureau_score': 842,\n",
       "     'spend_desire': 1100,\n",
       "     'random_noise': 1004,\n",
       "     'monthly_spend': 909,\n",
       "     'avg_last_2_months_spend': 1132},\n",
       "    'training_samples': 10149,\n",
       "    'running_time': '8.387 s'},\n",
       "   'object': <lightgbm.basic.Booster at 0x1a27fd92e8>,\n",
       "   'prediction_ranger': {'prediction_min': 0.0,\n",
       "    'prediction_max': 100000.0,\n",
       "    'transformed_column': ['prediction']},\n",
       "   '__fkml__': {'pipeline': ['label_categorizer',\n",
       "     'capper',\n",
       "     'imputer',\n",
       "     'lgbm_regression_learner',\n",
       "     'prediction_ranger'],\n",
       "    'output_columns': ['id',\n",
       "     'month',\n",
       "     'income',\n",
       "     'created_at',\n",
       "     'phone_type',\n",
       "     'bureau_score',\n",
       "     'spend_desire',\n",
       "     'random_noise',\n",
       "     'monthly_spend',\n",
       "     'month_date',\n",
       "     'avg_last_2_months_spend',\n",
       "     'target',\n",
       "     'prediction'],\n",
       "    'features': ['id',\n",
       "     'month',\n",
       "     'income',\n",
       "     'created_at',\n",
       "     'phone_type',\n",
       "     'bureau_score',\n",
       "     'spend_desire',\n",
       "     'random_noise',\n",
       "     'monthly_spend',\n",
       "     'month_date',\n",
       "     'avg_last_2_months_spend',\n",
       "     'target'],\n",
       "    'learners': {'label_categorizer': {'fn': <function fklearn.training.transformation.label_categorizer.<locals>.p(new_df:pandas.core.frame.DataFrame) -> pandas.core.frame.DataFrame>,\n",
       "      'log': {'label_categorizer': {'transformed_column': ['phone_type'],\n",
       "        'replace_unseen': nan,\n",
       "        'running_time': '0.038 s'}}},\n",
       "     'capper': {'fn': <function fklearn.training.transformation.capper.<locals>.p(new_data_set:pandas.core.frame.DataFrame) -> pandas.core.frame.DataFrame>,\n",
       "      'log': {'capper': {'caps': {'income': 20000.0},\n",
       "        'transformed_column': ['income'],\n",
       "        'precomputed_caps': {'income': 20000.0},\n",
       "        'running_time': '0.069 s'}}},\n",
       "     'imputer': {'fn': <function fklearn.training.imputation.imputer.<locals>.p(new_data_set:pandas.core.frame.DataFrame) -> pandas.core.frame.DataFrame>,\n",
       "      'log': {'imputer': {'impute_strategy': 'median',\n",
       "        'columns_to_impute': ['bureau_score'],\n",
       "        'training_proportion_of_nulls': {'bureau_score': 0.10109370381318357},\n",
       "        'statistics': array([325.78182148]),\n",
       "        'running_time': '0.033 s'}}},\n",
       "     'lgbm_regression_learner': {'fn': <function fklearn.training.regression.lgbm_regression_learner.<locals>.p(new_df:pandas.core.frame.DataFrame, apply_shap:bool=False) -> pandas.core.frame.DataFrame>,\n",
       "      'log': {'lgbm_regression_learner': {'features': ['income',\n",
       "         'bureau_score',\n",
       "         'spend_desire',\n",
       "         'random_noise',\n",
       "         'monthly_spend',\n",
       "         'avg_last_2_months_spend'],\n",
       "        'target': 'target',\n",
       "        'prediction_column': 'prediction',\n",
       "        'package': 'lightgbm',\n",
       "        'package_version': '2.2.3',\n",
       "        'parameters': {'eta': 0.1,\n",
       "         'objective': 'regression',\n",
       "         'num_estimators': 200},\n",
       "        'feature_importance': {'income': 1013,\n",
       "         'bureau_score': 842,\n",
       "         'spend_desire': 1100,\n",
       "         'random_noise': 1004,\n",
       "         'monthly_spend': 909,\n",
       "         'avg_last_2_months_spend': 1132},\n",
       "        'training_samples': 10149,\n",
       "        'running_time': '8.387 s'},\n",
       "       'object': <lightgbm.basic.Booster at 0x1a27fd92e8>}},\n",
       "     'prediction_ranger': {'fn': <function fklearn.training.transformation.prediction_ranger.<locals>.p(new_df:pandas.core.frame.DataFrame) -> pandas.core.frame.DataFrame>,\n",
       "      'log': {'prediction_ranger': {'prediction_min': 0.0,\n",
       "        'prediction_max': 100000.0,\n",
       "        'transformed_column': ['prediction']}}}}}},\n",
       "  {'label_categorizer': {'transformed_column': ['phone_type'],\n",
       "    'replace_unseen': nan,\n",
       "    'running_time': '0.053 s'},\n",
       "   'capper': {'caps': {'income': 20000.0},\n",
       "    'transformed_column': ['income'],\n",
       "    'precomputed_caps': {'income': 20000.0},\n",
       "    'running_time': '0.020 s'},\n",
       "   'imputer': {'impute_strategy': 'median',\n",
       "    'columns_to_impute': ['bureau_score'],\n",
       "    'training_proportion_of_nulls': {'bureau_score': 0.10050071530758226},\n",
       "    'statistics': array([328.37156257]),\n",
       "    'running_time': '0.046 s'},\n",
       "   'lgbm_regression_learner': {'features': ['income',\n",
       "     'bureau_score',\n",
       "     'spend_desire',\n",
       "     'random_noise',\n",
       "     'monthly_spend',\n",
       "     'avg_last_2_months_spend'],\n",
       "    'target': 'target',\n",
       "    'prediction_column': 'prediction',\n",
       "    'package': 'lightgbm',\n",
       "    'package_version': '2.2.3',\n",
       "    'parameters': {'eta': 0.1,\n",
       "     'objective': 'regression',\n",
       "     'num_estimators': 200},\n",
       "    'feature_importance': {'income': 1137,\n",
       "     'bureau_score': 892,\n",
       "     'spend_desire': 1076,\n",
       "     'random_noise': 932,\n",
       "     'monthly_spend': 824,\n",
       "     'avg_last_2_months_spend': 1139},\n",
       "    'training_samples': 19572,\n",
       "    'running_time': '8.588 s'},\n",
       "   'object': <lightgbm.basic.Booster at 0x1a27fd9fd0>,\n",
       "   'prediction_ranger': {'prediction_min': 0.0,\n",
       "    'prediction_max': 100000.0,\n",
       "    'transformed_column': ['prediction']},\n",
       "   '__fkml__': {'pipeline': ['label_categorizer',\n",
       "     'capper',\n",
       "     'imputer',\n",
       "     'lgbm_regression_learner',\n",
       "     'prediction_ranger'],\n",
       "    'output_columns': ['id',\n",
       "     'month',\n",
       "     'income',\n",
       "     'created_at',\n",
       "     'phone_type',\n",
       "     'bureau_score',\n",
       "     'spend_desire',\n",
       "     'random_noise',\n",
       "     'monthly_spend',\n",
       "     'month_date',\n",
       "     'avg_last_2_months_spend',\n",
       "     'target',\n",
       "     'prediction'],\n",
       "    'features': ['id',\n",
       "     'month',\n",
       "     'income',\n",
       "     'created_at',\n",
       "     'phone_type',\n",
       "     'bureau_score',\n",
       "     'spend_desire',\n",
       "     'random_noise',\n",
       "     'monthly_spend',\n",
       "     'month_date',\n",
       "     'avg_last_2_months_spend',\n",
       "     'target'],\n",
       "    'learners': {'label_categorizer': {'fn': <function fklearn.training.transformation.label_categorizer.<locals>.p(new_df:pandas.core.frame.DataFrame) -> pandas.core.frame.DataFrame>,\n",
       "      'log': {'label_categorizer': {'transformed_column': ['phone_type'],\n",
       "        'replace_unseen': nan,\n",
       "        'running_time': '0.053 s'}}},\n",
       "     'capper': {'fn': <function fklearn.training.transformation.capper.<locals>.p(new_data_set:pandas.core.frame.DataFrame) -> pandas.core.frame.DataFrame>,\n",
       "      'log': {'capper': {'caps': {'income': 20000.0},\n",
       "        'transformed_column': ['income'],\n",
       "        'precomputed_caps': {'income': 20000.0},\n",
       "        'running_time': '0.020 s'}}},\n",
       "     'imputer': {'fn': <function fklearn.training.imputation.imputer.<locals>.p(new_data_set:pandas.core.frame.DataFrame) -> pandas.core.frame.DataFrame>,\n",
       "      'log': {'imputer': {'impute_strategy': 'median',\n",
       "        'columns_to_impute': ['bureau_score'],\n",
       "        'training_proportion_of_nulls': {'bureau_score': 0.10050071530758226},\n",
       "        'statistics': array([328.37156257]),\n",
       "        'running_time': '0.046 s'}}},\n",
       "     'lgbm_regression_learner': {'fn': <function fklearn.training.regression.lgbm_regression_learner.<locals>.p(new_df:pandas.core.frame.DataFrame, apply_shap:bool=False) -> pandas.core.frame.DataFrame>,\n",
       "      'log': {'lgbm_regression_learner': {'features': ['income',\n",
       "         'bureau_score',\n",
       "         'spend_desire',\n",
       "         'random_noise',\n",
       "         'monthly_spend',\n",
       "         'avg_last_2_months_spend'],\n",
       "        'target': 'target',\n",
       "        'prediction_column': 'prediction',\n",
       "        'package': 'lightgbm',\n",
       "        'package_version': '2.2.3',\n",
       "        'parameters': {'eta': 0.1,\n",
       "         'objective': 'regression',\n",
       "         'num_estimators': 200},\n",
       "        'feature_importance': {'income': 1137,\n",
       "         'bureau_score': 892,\n",
       "         'spend_desire': 1076,\n",
       "         'random_noise': 932,\n",
       "         'monthly_spend': 824,\n",
       "         'avg_last_2_months_spend': 1139},\n",
       "        'training_samples': 19572,\n",
       "        'running_time': '8.588 s'},\n",
       "       'object': <lightgbm.basic.Booster at 0x1a27fd9fd0>}},\n",
       "     'prediction_ranger': {'fn': <function fklearn.training.transformation.prediction_ranger.<locals>.p(new_df:pandas.core.frame.DataFrame) -> pandas.core.frame.DataFrame>,\n",
       "      'log': {'prediction_ranger': {'prediction_min': 0.0,\n",
       "        'prediction_max': 100000.0,\n",
       "        'transformed_column': ['prediction']}}}}}},\n",
       "  {'label_categorizer': {'transformed_column': ['phone_type'],\n",
       "    'replace_unseen': nan,\n",
       "    'running_time': '0.059 s'},\n",
       "   'capper': {'caps': {'income': 20000.0},\n",
       "    'transformed_column': ['income'],\n",
       "    'precomputed_caps': {'income': 20000.0},\n",
       "    'running_time': '0.028 s'},\n",
       "   'imputer': {'impute_strategy': 'median',\n",
       "    'columns_to_impute': ['bureau_score'],\n",
       "    'training_proportion_of_nulls': {'bureau_score': 0.09953488372093024},\n",
       "    'statistics': array([325.85789589]),\n",
       "    'running_time': '0.063 s'},\n",
       "   'lgbm_regression_learner': {'features': ['income',\n",
       "     'bureau_score',\n",
       "     'spend_desire',\n",
       "     'random_noise',\n",
       "     'monthly_spend',\n",
       "     'avg_last_2_months_spend'],\n",
       "    'target': 'target',\n",
       "    'prediction_column': 'prediction',\n",
       "    'package': 'lightgbm',\n",
       "    'package_version': '2.2.3',\n",
       "    'parameters': {'eta': 0.1,\n",
       "     'objective': 'regression',\n",
       "     'num_estimators': 200},\n",
       "    'feature_importance': {'income': 1188,\n",
       "     'bureau_score': 904,\n",
       "     'spend_desire': 1140,\n",
       "     'random_noise': 890,\n",
       "     'monthly_spend': 746,\n",
       "     'avg_last_2_months_spend': 1132},\n",
       "    'training_samples': 27950,\n",
       "    'running_time': '8.701 s'},\n",
       "   'object': <lightgbm.basic.Booster at 0x1a27fd1e80>,\n",
       "   'prediction_ranger': {'prediction_min': 0.0,\n",
       "    'prediction_max': 100000.0,\n",
       "    'transformed_column': ['prediction']},\n",
       "   '__fkml__': {'pipeline': ['label_categorizer',\n",
       "     'capper',\n",
       "     'imputer',\n",
       "     'lgbm_regression_learner',\n",
       "     'prediction_ranger'],\n",
       "    'output_columns': ['id',\n",
       "     'month',\n",
       "     'income',\n",
       "     'created_at',\n",
       "     'phone_type',\n",
       "     'bureau_score',\n",
       "     'spend_desire',\n",
       "     'random_noise',\n",
       "     'monthly_spend',\n",
       "     'month_date',\n",
       "     'avg_last_2_months_spend',\n",
       "     'target',\n",
       "     'prediction'],\n",
       "    'features': ['id',\n",
       "     'month',\n",
       "     'income',\n",
       "     'created_at',\n",
       "     'phone_type',\n",
       "     'bureau_score',\n",
       "     'spend_desire',\n",
       "     'random_noise',\n",
       "     'monthly_spend',\n",
       "     'month_date',\n",
       "     'avg_last_2_months_spend',\n",
       "     'target'],\n",
       "    'learners': {'label_categorizer': {'fn': <function fklearn.training.transformation.label_categorizer.<locals>.p(new_df:pandas.core.frame.DataFrame) -> pandas.core.frame.DataFrame>,\n",
       "      'log': {'label_categorizer': {'transformed_column': ['phone_type'],\n",
       "        'replace_unseen': nan,\n",
       "        'running_time': '0.059 s'}}},\n",
       "     'capper': {'fn': <function fklearn.training.transformation.capper.<locals>.p(new_data_set:pandas.core.frame.DataFrame) -> pandas.core.frame.DataFrame>,\n",
       "      'log': {'capper': {'caps': {'income': 20000.0},\n",
       "        'transformed_column': ['income'],\n",
       "        'precomputed_caps': {'income': 20000.0},\n",
       "        'running_time': '0.028 s'}}},\n",
       "     'imputer': {'fn': <function fklearn.training.imputation.imputer.<locals>.p(new_data_set:pandas.core.frame.DataFrame) -> pandas.core.frame.DataFrame>,\n",
       "      'log': {'imputer': {'impute_strategy': 'median',\n",
       "        'columns_to_impute': ['bureau_score'],\n",
       "        'training_proportion_of_nulls': {'bureau_score': 0.09953488372093024},\n",
       "        'statistics': array([325.85789589]),\n",
       "        'running_time': '0.063 s'}}},\n",
       "     'lgbm_regression_learner': {'fn': <function fklearn.training.regression.lgbm_regression_learner.<locals>.p(new_df:pandas.core.frame.DataFrame, apply_shap:bool=False) -> pandas.core.frame.DataFrame>,\n",
       "      'log': {'lgbm_regression_learner': {'features': ['income',\n",
       "         'bureau_score',\n",
       "         'spend_desire',\n",
       "         'random_noise',\n",
       "         'monthly_spend',\n",
       "         'avg_last_2_months_spend'],\n",
       "        'target': 'target',\n",
       "        'prediction_column': 'prediction',\n",
       "        'package': 'lightgbm',\n",
       "        'package_version': '2.2.3',\n",
       "        'parameters': {'eta': 0.1,\n",
       "         'objective': 'regression',\n",
       "         'num_estimators': 200},\n",
       "        'feature_importance': {'income': 1188,\n",
       "         'bureau_score': 904,\n",
       "         'spend_desire': 1140,\n",
       "         'random_noise': 890,\n",
       "         'monthly_spend': 746,\n",
       "         'avg_last_2_months_spend': 1132},\n",
       "        'training_samples': 27950,\n",
       "        'running_time': '8.701 s'},\n",
       "       'object': <lightgbm.basic.Booster at 0x1a27fd1e80>}},\n",
       "     'prediction_ranger': {'fn': <function fklearn.training.transformation.prediction_ranger.<locals>.p(new_df:pandas.core.frame.DataFrame) -> pandas.core.frame.DataFrame>,\n",
       "      'log': {'prediction_ranger': {'prediction_min': 0.0,\n",
       "        'prediction_max': 100000.0,\n",
       "        'transformed_column': ['prediction']}}}}}},\n",
       "  {'label_categorizer': {'transformed_column': ['phone_type'],\n",
       "    'replace_unseen': nan,\n",
       "    'running_time': '0.075 s'},\n",
       "   'capper': {'caps': {'income': 20000.0},\n",
       "    'transformed_column': ['income'],\n",
       "    'precomputed_caps': {'income': 20000.0},\n",
       "    'running_time': '0.023 s'},\n",
       "   'imputer': {'impute_strategy': 'median',\n",
       "    'columns_to_impute': ['bureau_score'],\n",
       "    'training_proportion_of_nulls': {'bureau_score': 0.09937041227841123},\n",
       "    'statistics': array([323.82578921]),\n",
       "    'running_time': '0.076 s'},\n",
       "   'lgbm_regression_learner': {'features': ['income',\n",
       "     'bureau_score',\n",
       "     'spend_desire',\n",
       "     'random_noise',\n",
       "     'monthly_spend',\n",
       "     'avg_last_2_months_spend'],\n",
       "    'target': 'target',\n",
       "    'prediction_column': 'prediction',\n",
       "    'package': 'lightgbm',\n",
       "    'package_version': '2.2.3',\n",
       "    'parameters': {'eta': 0.1,\n",
       "     'objective': 'regression',\n",
       "     'num_estimators': 200},\n",
       "    'feature_importance': {'income': 1143,\n",
       "     'bureau_score': 882,\n",
       "     'spend_desire': 1106,\n",
       "     'random_noise': 860,\n",
       "     'monthly_spend': 905,\n",
       "     'avg_last_2_months_spend': 1104},\n",
       "    'training_samples': 34467,\n",
       "    'running_time': '8.932 s'},\n",
       "   'object': <lightgbm.basic.Booster at 0x1a27fd19b0>,\n",
       "   'prediction_ranger': {'prediction_min': 0.0,\n",
       "    'prediction_max': 100000.0,\n",
       "    'transformed_column': ['prediction']},\n",
       "   '__fkml__': {'pipeline': ['label_categorizer',\n",
       "     'capper',\n",
       "     'imputer',\n",
       "     'lgbm_regression_learner',\n",
       "     'prediction_ranger'],\n",
       "    'output_columns': ['id',\n",
       "     'month',\n",
       "     'income',\n",
       "     'created_at',\n",
       "     'phone_type',\n",
       "     'bureau_score',\n",
       "     'spend_desire',\n",
       "     'random_noise',\n",
       "     'monthly_spend',\n",
       "     'month_date',\n",
       "     'avg_last_2_months_spend',\n",
       "     'target',\n",
       "     'prediction'],\n",
       "    'features': ['id',\n",
       "     'month',\n",
       "     'income',\n",
       "     'created_at',\n",
       "     'phone_type',\n",
       "     'bureau_score',\n",
       "     'spend_desire',\n",
       "     'random_noise',\n",
       "     'monthly_spend',\n",
       "     'month_date',\n",
       "     'avg_last_2_months_spend',\n",
       "     'target'],\n",
       "    'learners': {'label_categorizer': {'fn': <function fklearn.training.transformation.label_categorizer.<locals>.p(new_df:pandas.core.frame.DataFrame) -> pandas.core.frame.DataFrame>,\n",
       "      'log': {'label_categorizer': {'transformed_column': ['phone_type'],\n",
       "        'replace_unseen': nan,\n",
       "        'running_time': '0.075 s'}}},\n",
       "     'capper': {'fn': <function fklearn.training.transformation.capper.<locals>.p(new_data_set:pandas.core.frame.DataFrame) -> pandas.core.frame.DataFrame>,\n",
       "      'log': {'capper': {'caps': {'income': 20000.0},\n",
       "        'transformed_column': ['income'],\n",
       "        'precomputed_caps': {'income': 20000.0},\n",
       "        'running_time': '0.023 s'}}},\n",
       "     'imputer': {'fn': <function fklearn.training.imputation.imputer.<locals>.p(new_data_set:pandas.core.frame.DataFrame) -> pandas.core.frame.DataFrame>,\n",
       "      'log': {'imputer': {'impute_strategy': 'median',\n",
       "        'columns_to_impute': ['bureau_score'],\n",
       "        'training_proportion_of_nulls': {'bureau_score': 0.09937041227841123},\n",
       "        'statistics': array([323.82578921]),\n",
       "        'running_time': '0.076 s'}}},\n",
       "     'lgbm_regression_learner': {'fn': <function fklearn.training.regression.lgbm_regression_learner.<locals>.p(new_df:pandas.core.frame.DataFrame, apply_shap:bool=False) -> pandas.core.frame.DataFrame>,\n",
       "      'log': {'lgbm_regression_learner': {'features': ['income',\n",
       "         'bureau_score',\n",
       "         'spend_desire',\n",
       "         'random_noise',\n",
       "         'monthly_spend',\n",
       "         'avg_last_2_months_spend'],\n",
       "        'target': 'target',\n",
       "        'prediction_column': 'prediction',\n",
       "        'package': 'lightgbm',\n",
       "        'package_version': '2.2.3',\n",
       "        'parameters': {'eta': 0.1,\n",
       "         'objective': 'regression',\n",
       "         'num_estimators': 200},\n",
       "        'feature_importance': {'income': 1143,\n",
       "         'bureau_score': 882,\n",
       "         'spend_desire': 1106,\n",
       "         'random_noise': 860,\n",
       "         'monthly_spend': 905,\n",
       "         'avg_last_2_months_spend': 1104},\n",
       "        'training_samples': 34467,\n",
       "        'running_time': '8.932 s'},\n",
       "       'object': <lightgbm.basic.Booster at 0x1a27fd19b0>}},\n",
       "     'prediction_ranger': {'fn': <function fklearn.training.transformation.prediction_ranger.<locals>.p(new_df:pandas.core.frame.DataFrame) -> pandas.core.frame.DataFrame>,\n",
       "      'log': {'prediction_ranger': {'prediction_min': 0.0,\n",
       "        'prediction_max': 100000.0,\n",
       "        'transformed_column': ['prediction']}}}}}},\n",
       "  {'label_categorizer': {'transformed_column': ['phone_type'],\n",
       "    'replace_unseen': nan,\n",
       "    'running_time': '0.103 s'},\n",
       "   'capper': {'caps': {'income': 20000.0},\n",
       "    'transformed_column': ['income'],\n",
       "    'precomputed_caps': {'income': 20000.0},\n",
       "    'running_time': '0.029 s'},\n",
       "   'imputer': {'impute_strategy': 'median',\n",
       "    'columns_to_impute': ['bureau_score'],\n",
       "    'training_proportion_of_nulls': {'bureau_score': 0.09937684486716956},\n",
       "    'statistics': array([323.36552227]),\n",
       "    'running_time': '0.058 s'},\n",
       "   'lgbm_regression_learner': {'features': ['income',\n",
       "     'bureau_score',\n",
       "     'spend_desire',\n",
       "     'random_noise',\n",
       "     'monthly_spend',\n",
       "     'avg_last_2_months_spend'],\n",
       "    'target': 'target',\n",
       "    'prediction_column': 'prediction',\n",
       "    'package': 'lightgbm',\n",
       "    'package_version': '2.2.3',\n",
       "    'parameters': {'eta': 0.1,\n",
       "     'objective': 'regression',\n",
       "     'num_estimators': 200},\n",
       "    'feature_importance': {'income': 1059,\n",
       "     'bureau_score': 897,\n",
       "     'spend_desire': 1161,\n",
       "     'random_noise': 903,\n",
       "     'monthly_spend': 867,\n",
       "     'avg_last_2_months_spend': 1113},\n",
       "    'training_samples': 36588,\n",
       "    'running_time': '8.955 s'},\n",
       "   'object': <lightgbm.basic.Booster at 0x1a27fd9c50>,\n",
       "   'prediction_ranger': {'prediction_min': 0.0,\n",
       "    'prediction_max': 100000.0,\n",
       "    'transformed_column': ['prediction']},\n",
       "   '__fkml__': {'pipeline': ['label_categorizer',\n",
       "     'capper',\n",
       "     'imputer',\n",
       "     'lgbm_regression_learner',\n",
       "     'prediction_ranger'],\n",
       "    'output_columns': ['id',\n",
       "     'month',\n",
       "     'income',\n",
       "     'created_at',\n",
       "     'phone_type',\n",
       "     'bureau_score',\n",
       "     'spend_desire',\n",
       "     'random_noise',\n",
       "     'monthly_spend',\n",
       "     'month_date',\n",
       "     'avg_last_2_months_spend',\n",
       "     'target',\n",
       "     'prediction'],\n",
       "    'features': ['id',\n",
       "     'month',\n",
       "     'income',\n",
       "     'created_at',\n",
       "     'phone_type',\n",
       "     'bureau_score',\n",
       "     'spend_desire',\n",
       "     'random_noise',\n",
       "     'monthly_spend',\n",
       "     'month_date',\n",
       "     'avg_last_2_months_spend',\n",
       "     'target'],\n",
       "    'learners': {'label_categorizer': {'fn': <function fklearn.training.transformation.label_categorizer.<locals>.p(new_df:pandas.core.frame.DataFrame) -> pandas.core.frame.DataFrame>,\n",
       "      'log': {'label_categorizer': {'transformed_column': ['phone_type'],\n",
       "        'replace_unseen': nan,\n",
       "        'running_time': '0.103 s'}}},\n",
       "     'capper': {'fn': <function fklearn.training.transformation.capper.<locals>.p(new_data_set:pandas.core.frame.DataFrame) -> pandas.core.frame.DataFrame>,\n",
       "      'log': {'capper': {'caps': {'income': 20000.0},\n",
       "        'transformed_column': ['income'],\n",
       "        'precomputed_caps': {'income': 20000.0},\n",
       "        'running_time': '0.029 s'}}},\n",
       "     'imputer': {'fn': <function fklearn.training.imputation.imputer.<locals>.p(new_data_set:pandas.core.frame.DataFrame) -> pandas.core.frame.DataFrame>,\n",
       "      'log': {'imputer': {'impute_strategy': 'median',\n",
       "        'columns_to_impute': ['bureau_score'],\n",
       "        'training_proportion_of_nulls': {'bureau_score': 0.09937684486716956},\n",
       "        'statistics': array([323.36552227]),\n",
       "        'running_time': '0.058 s'}}},\n",
       "     'lgbm_regression_learner': {'fn': <function fklearn.training.regression.lgbm_regression_learner.<locals>.p(new_df:pandas.core.frame.DataFrame, apply_shap:bool=False) -> pandas.core.frame.DataFrame>,\n",
       "      'log': {'lgbm_regression_learner': {'features': ['income',\n",
       "         'bureau_score',\n",
       "         'spend_desire',\n",
       "         'random_noise',\n",
       "         'monthly_spend',\n",
       "         'avg_last_2_months_spend'],\n",
       "        'target': 'target',\n",
       "        'prediction_column': 'prediction',\n",
       "        'package': 'lightgbm',\n",
       "        'package_version': '2.2.3',\n",
       "        'parameters': {'eta': 0.1,\n",
       "         'objective': 'regression',\n",
       "         'num_estimators': 200},\n",
       "        'feature_importance': {'income': 1059,\n",
       "         'bureau_score': 897,\n",
       "         'spend_desire': 1161,\n",
       "         'random_noise': 903,\n",
       "         'monthly_spend': 867,\n",
       "         'avg_last_2_months_spend': 1113},\n",
       "        'training_samples': 36588,\n",
       "        'running_time': '8.955 s'},\n",
       "       'object': <lightgbm.basic.Booster at 0x1a27fd9c50>}},\n",
       "     'prediction_ranger': {'fn': <function fklearn.training.transformation.prediction_ranger.<locals>.p(new_df:pandas.core.frame.DataFrame) -> pandas.core.frame.DataFrame>,\n",
       "      'log': {'prediction_ranger': {'prediction_min': 0.0,\n",
       "        'prediction_max': 100000.0,\n",
       "        'transformed_column': ['prediction']}}}}}}],\n",
       " 'validator_log': [{'fold_num': 0,\n",
       "   'eval_results': [{'r2_evaluator__target': 0.12155139389429781,\n",
       "     'spearman_evaluator__target': 0.3763809759696408}],\n",
       "   'split_log': {'train_start': Timestamp('2017-02-01 00:00:00'),\n",
       "    'train_end': Timestamp('2018-03-11 00:00:00'),\n",
       "    'train_size': 5190,\n",
       "    'test_start': Timestamp('2018-04-11 00:00:00'),\n",
       "    'test_end': Timestamp('2018-06-12 00:00:00'),\n",
       "    'test_size': 16717,\n",
       "    'percentage': 0.1}},\n",
       "  {'fold_num': 1,\n",
       "   'eval_results': [{'r2_evaluator__target': 0.16661649338432083,\n",
       "     'spearman_evaluator__target': 0.4102656885532355}],\n",
       "   'split_log': {'train_start': Timestamp('2017-02-01 00:00:00'),\n",
       "    'train_end': Timestamp('2018-03-11 00:00:00'),\n",
       "    'train_size': 10149,\n",
       "    'test_start': Timestamp('2018-04-11 00:00:00'),\n",
       "    'test_end': Timestamp('2018-06-12 00:00:00'),\n",
       "    'test_size': 16717,\n",
       "    'percentage': 0.2}},\n",
       "  {'fold_num': 2,\n",
       "   'eval_results': [{'r2_evaluator__target': 0.19235477366451204,\n",
       "     'spearman_evaluator__target': 0.435897703718786}],\n",
       "   'split_log': {'train_start': Timestamp('2017-02-01 00:00:00'),\n",
       "    'train_end': Timestamp('2018-03-11 00:00:00'),\n",
       "    'train_size': 19572,\n",
       "    'test_start': Timestamp('2018-04-11 00:00:00'),\n",
       "    'test_end': Timestamp('2018-06-12 00:00:00'),\n",
       "    'test_size': 16717,\n",
       "    'percentage': 0.4}},\n",
       "  {'fold_num': 3,\n",
       "   'eval_results': [{'r2_evaluator__target': 0.19958426712769162,\n",
       "     'spearman_evaluator__target': 0.44344758290319186}],\n",
       "   'split_log': {'train_start': Timestamp('2017-02-01 00:00:00'),\n",
       "    'train_end': Timestamp('2018-03-11 00:00:00'),\n",
       "    'train_size': 27950,\n",
       "    'test_start': Timestamp('2018-04-11 00:00:00'),\n",
       "    'test_end': Timestamp('2018-06-12 00:00:00'),\n",
       "    'test_size': 16717,\n",
       "    'percentage': 0.6}},\n",
       "  {'fold_num': 4,\n",
       "   'eval_results': [{'r2_evaluator__target': 0.2061070304784689,\n",
       "     'spearman_evaluator__target': 0.4469619671005015}],\n",
       "   'split_log': {'train_start': Timestamp('2017-02-01 00:00:00'),\n",
       "    'train_end': Timestamp('2018-03-11 00:00:00'),\n",
       "    'train_size': 34467,\n",
       "    'test_start': Timestamp('2018-04-11 00:00:00'),\n",
       "    'test_end': Timestamp('2018-06-12 00:00:00'),\n",
       "    'test_size': 16717,\n",
       "    'percentage': 0.8}},\n",
       "  {'fold_num': 5,\n",
       "   'eval_results': [{'r2_evaluator__target': 0.20530618561004577,\n",
       "     'spearman_evaluator__target': 0.44620326046260683}],\n",
       "   'split_log': {'train_start': Timestamp('2017-02-01 00:00:00'),\n",
       "    'train_end': Timestamp('2018-03-11 00:00:00'),\n",
       "    'train_size': 36588,\n",
       "    'test_start': Timestamp('2018-04-11 00:00:00'),\n",
       "    'test_end': Timestamp('2018-06-12 00:00:00'),\n",
       "    'test_size': 16717,\n",
       "    'percentage': 1.0}}]}"
      ]
     },
     "execution_count": 30,
     "metadata": {},
     "output_type": "execute_result"
    }
   ],
   "source": [
    "spatial_learning_curve_logs"
   ]
  },
  {
   "cell_type": "code",
   "execution_count": 31,
   "metadata": {
    "ExecuteTime": {
     "end_time": "2019-04-30T13:06:12.443085Z",
     "start_time": "2019-04-30T13:06:12.380265Z"
    },
    "slideshow": {
     "slide_type": "slide"
    }
   },
   "outputs": [],
   "source": [
    "data = extract(spatial_learning_curve_logs['validator_log'], full_extractor)"
   ]
  },
  {
   "cell_type": "code",
   "execution_count": 32,
   "metadata": {
    "ExecuteTime": {
     "end_time": "2019-04-30T13:06:12.460755Z",
     "start_time": "2019-04-30T13:06:12.446101Z"
    },
    "slideshow": {
     "slide_type": "fragment"
    }
   },
   "outputs": [
    {
     "data": {
      "text/html": [
       "<div>\n",
       "<style scoped>\n",
       "    .dataframe tbody tr th:only-of-type {\n",
       "        vertical-align: middle;\n",
       "    }\n",
       "\n",
       "    .dataframe tbody tr th {\n",
       "        vertical-align: top;\n",
       "    }\n",
       "\n",
       "    .dataframe thead th {\n",
       "        text-align: right;\n",
       "    }\n",
       "</style>\n",
       "<table border=\"1\" class=\"dataframe\">\n",
       "  <thead>\n",
       "    <tr style=\"text-align: right;\">\n",
       "      <th></th>\n",
       "      <th>r2_evaluator__target</th>\n",
       "      <th>spearman_evaluator__target</th>\n",
       "      <th>fold_num</th>\n",
       "      <th>train_start</th>\n",
       "      <th>train_end</th>\n",
       "      <th>train_size</th>\n",
       "      <th>test_start</th>\n",
       "      <th>test_end</th>\n",
       "      <th>test_size</th>\n",
       "      <th>percentage</th>\n",
       "    </tr>\n",
       "  </thead>\n",
       "  <tbody>\n",
       "    <tr>\n",
       "      <th>0</th>\n",
       "      <td>0.121551</td>\n",
       "      <td>0.376381</td>\n",
       "      <td>0</td>\n",
       "      <td>2017-02-01</td>\n",
       "      <td>2018-03-11</td>\n",
       "      <td>5190</td>\n",
       "      <td>2018-04-11</td>\n",
       "      <td>2018-06-12</td>\n",
       "      <td>16717</td>\n",
       "      <td>0.1</td>\n",
       "    </tr>\n",
       "    <tr>\n",
       "      <th>0</th>\n",
       "      <td>0.166616</td>\n",
       "      <td>0.410266</td>\n",
       "      <td>1</td>\n",
       "      <td>2017-02-01</td>\n",
       "      <td>2018-03-11</td>\n",
       "      <td>10149</td>\n",
       "      <td>2018-04-11</td>\n",
       "      <td>2018-06-12</td>\n",
       "      <td>16717</td>\n",
       "      <td>0.2</td>\n",
       "    </tr>\n",
       "    <tr>\n",
       "      <th>0</th>\n",
       "      <td>0.192355</td>\n",
       "      <td>0.435898</td>\n",
       "      <td>2</td>\n",
       "      <td>2017-02-01</td>\n",
       "      <td>2018-03-11</td>\n",
       "      <td>19572</td>\n",
       "      <td>2018-04-11</td>\n",
       "      <td>2018-06-12</td>\n",
       "      <td>16717</td>\n",
       "      <td>0.4</td>\n",
       "    </tr>\n",
       "    <tr>\n",
       "      <th>0</th>\n",
       "      <td>0.199584</td>\n",
       "      <td>0.443448</td>\n",
       "      <td>3</td>\n",
       "      <td>2017-02-01</td>\n",
       "      <td>2018-03-11</td>\n",
       "      <td>27950</td>\n",
       "      <td>2018-04-11</td>\n",
       "      <td>2018-06-12</td>\n",
       "      <td>16717</td>\n",
       "      <td>0.6</td>\n",
       "    </tr>\n",
       "    <tr>\n",
       "      <th>0</th>\n",
       "      <td>0.206107</td>\n",
       "      <td>0.446962</td>\n",
       "      <td>4</td>\n",
       "      <td>2017-02-01</td>\n",
       "      <td>2018-03-11</td>\n",
       "      <td>34467</td>\n",
       "      <td>2018-04-11</td>\n",
       "      <td>2018-06-12</td>\n",
       "      <td>16717</td>\n",
       "      <td>0.8</td>\n",
       "    </tr>\n",
       "    <tr>\n",
       "      <th>0</th>\n",
       "      <td>0.205306</td>\n",
       "      <td>0.446203</td>\n",
       "      <td>5</td>\n",
       "      <td>2017-02-01</td>\n",
       "      <td>2018-03-11</td>\n",
       "      <td>36588</td>\n",
       "      <td>2018-04-11</td>\n",
       "      <td>2018-06-12</td>\n",
       "      <td>16717</td>\n",
       "      <td>1.0</td>\n",
       "    </tr>\n",
       "  </tbody>\n",
       "</table>\n",
       "</div>"
      ],
      "text/plain": [
       "   r2_evaluator__target  spearman_evaluator__target  fold_num train_start  \\\n",
       "0              0.121551                    0.376381         0  2017-02-01   \n",
       "0              0.166616                    0.410266         1  2017-02-01   \n",
       "0              0.192355                    0.435898         2  2017-02-01   \n",
       "0              0.199584                    0.443448         3  2017-02-01   \n",
       "0              0.206107                    0.446962         4  2017-02-01   \n",
       "0              0.205306                    0.446203         5  2017-02-01   \n",
       "\n",
       "   train_end  train_size test_start   test_end  test_size  percentage  \n",
       "0 2018-03-11        5190 2018-04-11 2018-06-12      16717         0.1  \n",
       "0 2018-03-11       10149 2018-04-11 2018-06-12      16717         0.2  \n",
       "0 2018-03-11       19572 2018-04-11 2018-06-12      16717         0.4  \n",
       "0 2018-03-11       27950 2018-04-11 2018-06-12      16717         0.6  \n",
       "0 2018-03-11       34467 2018-04-11 2018-06-12      16717         0.8  \n",
       "0 2018-03-11       36588 2018-04-11 2018-06-12      16717         1.0  "
      ]
     },
     "execution_count": 32,
     "metadata": {},
     "output_type": "execute_result"
    }
   ],
   "source": [
    "data"
   ]
  },
  {
   "cell_type": "code",
   "execution_count": 51,
   "metadata": {
    "ExecuteTime": {
     "end_time": "2019-04-30T13:21:18.012580Z",
     "start_time": "2019-04-30T13:21:17.820103Z"
    },
    "slideshow": {
     "slide_type": "slide"
    }
   },
   "outputs": [
    {
     "data": {
      "image/png": "[encoded data removed]",
      "text/plain": [
       "<Figure size 720x576 with 1 Axes>"
      ]
     },
     "metadata": {
      "needs_background": "light"
     },
     "output_type": "display_data"
    }
   ],
   "source": [
    "fig, ax = plt.subplots(figsize=(10, 8))\n",
    "sns.pointplot(data=data, ax=ax, x=\"percentage\", y=\"r2_evaluator__target\")\n",
    "plt.title(\"Spatial learning curve (trained from %s to %s)\" % (data.train_start.dt.date.min(), data.train_end.dt.date.max()));"
   ]
  },
  {
   "cell_type": "markdown",
   "metadata": {
    "ExecuteTime": {
     "end_time": "2019-04-24T13:49:52.277446Z",
     "start_time": "2019-04-24T13:49:52.272394Z"
    },
    "slideshow": {
     "slide_type": "slide"
    }
   },
   "source": [
    "## Performance over time\n",
    "\n",
    "* <font size=\"4\"> That metric can be thought as split your dataset month by month and computing the desired metrics </font>\n",
    "\n",
    "* <font size=\"4\"> We can do that with ease using our split evaluators </font>"
   ]
  },
  {
   "cell_type": "code",
   "execution_count": 34,
   "metadata": {
    "ExecuteTime": {
     "end_time": "2019-04-30T13:06:12.704529Z",
     "start_time": "2019-04-30T13:06:12.694888Z"
    },
    "slideshow": {
     "slide_type": "slide"
    }
   },
   "outputs": [],
   "source": [
    "from fklearn.validation.evaluators import split_evaluator\n",
    "from fklearn.metrics.pd_extractors import split_evaluator_extractor\n",
    "out_of_space_holdout = pd.concat([scored_intime_outspace_hdout, scored_outime_outspace_hdout])\n",
    "\n",
    "monthly_eval_fn = split_evaluator(eval_fn=eval_fn,\n",
    "                                  split_col=\"month\",\n",
    "                                  split_values=list(range(0, 25)))\n",
    "\n",
    "monthly_extractor = split_evaluator_extractor(base_extractor=full_extractor, \n",
    "                                              split_col=\"month\", \n",
    "                                              split_values=list(range(0, 25)))"
   ]
  },
  {
   "cell_type": "code",
   "execution_count": 35,
   "metadata": {
    "ExecuteTime": {
     "end_time": "2019-04-30T13:06:12.794083Z",
     "start_time": "2019-04-30T13:06:12.706345Z"
    },
    "slideshow": {
     "slide_type": "fragment"
    }
   },
   "outputs": [],
   "source": [
    "out_of_space_logs = monthly_eval_fn(out_of_space_holdout)"
   ]
  },
  {
   "cell_type": "code",
   "execution_count": 36,
   "metadata": {
    "ExecuteTime": {
     "end_time": "2019-04-30T13:06:12.852503Z",
     "start_time": "2019-04-30T13:06:12.795653Z"
    },
    "slideshow": {
     "slide_type": "fragment"
    }
   },
   "outputs": [],
   "source": [
    "monthly_performance = monthly_extractor(out_of_space_logs)"
   ]
  },
  {
   "cell_type": "code",
   "execution_count": 37,
   "metadata": {
    "ExecuteTime": {
     "end_time": "2019-04-30T13:06:12.867938Z",
     "start_time": "2019-04-30T13:06:12.854685Z"
    },
    "slideshow": {
     "slide_type": "slide"
    }
   },
   "outputs": [
    {
     "data": {
      "text/html": [
       "<div>\n",
       "<style scoped>\n",
       "    .dataframe tbody tr th:only-of-type {\n",
       "        vertical-align: middle;\n",
       "    }\n",
       "\n",
       "    .dataframe tbody tr th {\n",
       "        vertical-align: top;\n",
       "    }\n",
       "\n",
       "    .dataframe thead th {\n",
       "        text-align: right;\n",
       "    }\n",
       "</style>\n",
       "<table border=\"1\" class=\"dataframe\">\n",
       "  <thead>\n",
       "    <tr style=\"text-align: right;\">\n",
       "      <th></th>\n",
       "      <th>r2_evaluator__target</th>\n",
       "      <th>spearman_evaluator__target</th>\n",
       "      <th>split_evaluator__month</th>\n",
       "    </tr>\n",
       "  </thead>\n",
       "  <tbody>\n",
       "    <tr>\n",
       "      <th>0</th>\n",
       "      <td>NaN</td>\n",
       "      <td>NaN</td>\n",
       "      <td>0</td>\n",
       "    </tr>\n",
       "    <tr>\n",
       "      <th>0</th>\n",
       "      <td>0.148627</td>\n",
       "      <td>0.361664</td>\n",
       "      <td>1</td>\n",
       "    </tr>\n",
       "    <tr>\n",
       "      <th>0</th>\n",
       "      <td>0.192676</td>\n",
       "      <td>0.435343</td>\n",
       "      <td>2</td>\n",
       "    </tr>\n",
       "    <tr>\n",
       "      <th>0</th>\n",
       "      <td>0.263333</td>\n",
       "      <td>0.480248</td>\n",
       "      <td>3</td>\n",
       "    </tr>\n",
       "    <tr>\n",
       "      <th>0</th>\n",
       "      <td>0.163954</td>\n",
       "      <td>0.428928</td>\n",
       "      <td>4</td>\n",
       "    </tr>\n",
       "    <tr>\n",
       "      <th>0</th>\n",
       "      <td>0.212259</td>\n",
       "      <td>0.488213</td>\n",
       "      <td>5</td>\n",
       "    </tr>\n",
       "    <tr>\n",
       "      <th>0</th>\n",
       "      <td>0.246749</td>\n",
       "      <td>0.479712</td>\n",
       "      <td>6</td>\n",
       "    </tr>\n",
       "    <tr>\n",
       "      <th>0</th>\n",
       "      <td>0.195455</td>\n",
       "      <td>0.428545</td>\n",
       "      <td>7</td>\n",
       "    </tr>\n",
       "    <tr>\n",
       "      <th>0</th>\n",
       "      <td>0.211063</td>\n",
       "      <td>0.460734</td>\n",
       "      <td>8</td>\n",
       "    </tr>\n",
       "    <tr>\n",
       "      <th>0</th>\n",
       "      <td>0.197037</td>\n",
       "      <td>0.452042</td>\n",
       "      <td>9</td>\n",
       "    </tr>\n",
       "    <tr>\n",
       "      <th>0</th>\n",
       "      <td>0.174954</td>\n",
       "      <td>0.420931</td>\n",
       "      <td>10</td>\n",
       "    </tr>\n",
       "    <tr>\n",
       "      <th>0</th>\n",
       "      <td>0.192190</td>\n",
       "      <td>0.421714</td>\n",
       "      <td>11</td>\n",
       "    </tr>\n",
       "    <tr>\n",
       "      <th>0</th>\n",
       "      <td>0.220409</td>\n",
       "      <td>0.458571</td>\n",
       "      <td>12</td>\n",
       "    </tr>\n",
       "    <tr>\n",
       "      <th>0</th>\n",
       "      <td>0.220967</td>\n",
       "      <td>0.469297</td>\n",
       "      <td>13</td>\n",
       "    </tr>\n",
       "    <tr>\n",
       "      <th>0</th>\n",
       "      <td>0.195690</td>\n",
       "      <td>0.429750</td>\n",
       "      <td>14</td>\n",
       "    </tr>\n",
       "    <tr>\n",
       "      <th>0</th>\n",
       "      <td>0.218104</td>\n",
       "      <td>0.444452</td>\n",
       "      <td>15</td>\n",
       "    </tr>\n",
       "    <tr>\n",
       "      <th>0</th>\n",
       "      <td>0.203557</td>\n",
       "      <td>0.448890</td>\n",
       "      <td>16</td>\n",
       "    </tr>\n",
       "    <tr>\n",
       "      <th>0</th>\n",
       "      <td>0.216860</td>\n",
       "      <td>0.453642</td>\n",
       "      <td>17</td>\n",
       "    </tr>\n",
       "    <tr>\n",
       "      <th>0</th>\n",
       "      <td>0.221932</td>\n",
       "      <td>0.455444</td>\n",
       "      <td>18</td>\n",
       "    </tr>\n",
       "    <tr>\n",
       "      <th>0</th>\n",
       "      <td>0.211358</td>\n",
       "      <td>0.443345</td>\n",
       "      <td>19</td>\n",
       "    </tr>\n",
       "    <tr>\n",
       "      <th>0</th>\n",
       "      <td>0.202418</td>\n",
       "      <td>0.442282</td>\n",
       "      <td>20</td>\n",
       "    </tr>\n",
       "    <tr>\n",
       "      <th>0</th>\n",
       "      <td>NaN</td>\n",
       "      <td>NaN</td>\n",
       "      <td>21</td>\n",
       "    </tr>\n",
       "    <tr>\n",
       "      <th>0</th>\n",
       "      <td>NaN</td>\n",
       "      <td>NaN</td>\n",
       "      <td>22</td>\n",
       "    </tr>\n",
       "    <tr>\n",
       "      <th>0</th>\n",
       "      <td>NaN</td>\n",
       "      <td>NaN</td>\n",
       "      <td>23</td>\n",
       "    </tr>\n",
       "    <tr>\n",
       "      <th>0</th>\n",
       "      <td>NaN</td>\n",
       "      <td>NaN</td>\n",
       "      <td>24</td>\n",
       "    </tr>\n",
       "  </tbody>\n",
       "</table>\n",
       "</div>"
      ],
      "text/plain": [
       "   r2_evaluator__target  spearman_evaluator__target  split_evaluator__month\n",
       "0                   NaN                         NaN                       0\n",
       "0              0.148627                    0.361664                       1\n",
       "0              0.192676                    0.435343                       2\n",
       "0              0.263333                    0.480248                       3\n",
       "0              0.163954                    0.428928                       4\n",
       "0              0.212259                    0.488213                       5\n",
       "0              0.246749                    0.479712                       6\n",
       "0              0.195455                    0.428545                       7\n",
       "0              0.211063                    0.460734                       8\n",
       "0              0.197037                    0.452042                       9\n",
       "0              0.174954                    0.420931                      10\n",
       "0              0.192190                    0.421714                      11\n",
       "0              0.220409                    0.458571                      12\n",
       "0              0.220967                    0.469297                      13\n",
       "0              0.195690                    0.429750                      14\n",
       "0              0.218104                    0.444452                      15\n",
       "0              0.203557                    0.448890                      16\n",
       "0              0.216860                    0.453642                      17\n",
       "0              0.221932                    0.455444                      18\n",
       "0              0.211358                    0.443345                      19\n",
       "0              0.202418                    0.442282                      20\n",
       "0                   NaN                         NaN                      21\n",
       "0                   NaN                         NaN                      22\n",
       "0                   NaN                         NaN                      23\n",
       "0                   NaN                         NaN                      24"
      ]
     },
     "execution_count": 37,
     "metadata": {},
     "output_type": "execute_result"
    }
   ],
   "source": [
    "monthly_performance"
   ]
  },
  {
   "cell_type": "code",
   "execution_count": 52,
   "metadata": {
    "ExecuteTime": {
     "end_time": "2019-04-30T13:21:27.047456Z",
     "start_time": "2019-04-30T13:21:26.739327Z"
    },
    "slideshow": {
     "slide_type": "slide"
    }
   },
   "outputs": [
    {
     "data": {
      "text/plain": [
       "<matplotlib.axes._subplots.AxesSubplot at 0x1a22f81208>"
      ]
     },
     "execution_count": 52,
     "metadata": {},
     "output_type": "execute_result"
    },
    {
     "data": {
      "image/png": "[encoded data removed]",
      "text/plain": [
       "<Figure size 720x576 with 1 Axes>"
      ]
     },
     "metadata": {
      "needs_background": "light"
     },
     "output_type": "display_data"
    }
   ],
   "source": [
    "fig, ax = plt.subplots(figsize=(10, 8))\n",
    "sns.pointplot(data=monthly_performance, ax=ax, x=\"split_evaluator__month\", y=\"r2_evaluator__target\")"
   ]
  },
  {
   "cell_type": "markdown",
   "metadata": {
    "slideshow": {
     "slide_type": "slide"
    }
   },
   "source": [
    "##  Impact of More Data on Monthly Performance?\n",
    "\n",
    "* <font size=\"4\"> We want both our previous way of spliting our dataset and the evaluator we created </font>\n",
    "\n",
    "* <font size=\"4\"> We can use both to create a new spatial learning curve! </font>"
   ]
  },
  {
   "cell_type": "code",
   "execution_count": 39,
   "metadata": {
    "ExecuteTime": {
     "end_time": "2019-04-30T13:06:23.853814Z",
     "start_time": "2019-04-30T13:06:13.245188Z"
    },
    "slideshow": {
     "slide_type": "slide"
    }
   },
   "outputs": [
    {
     "name": "stderr",
     "output_type": "stream",
     "text": [
      "/Users/henriquelopes/miniconda3/lib/python3.6/site-packages/sklearn/utils/deprecation.py:58: DeprecationWarning: Class Imputer is deprecated; Imputer was deprecated in version 0.20 and will be removed in 0.22. Import impute.SimpleImputer from sklearn instead.\n",
      "  warnings.warn(msg, category=DeprecationWarning)\n",
      "/Users/henriquelopes/miniconda3/lib/python3.6/site-packages/sklearn/utils/deprecation.py:58: DeprecationWarning: Class Imputer is deprecated; Imputer was deprecated in version 0.20 and will be removed in 0.22. Import impute.SimpleImputer from sklearn instead.\n",
      "  warnings.warn(msg, category=DeprecationWarning)\n",
      "/Users/henriquelopes/miniconda3/lib/python3.6/site-packages/sklearn/utils/deprecation.py:58: DeprecationWarning: Class Imputer is deprecated; Imputer was deprecated in version 0.20 and will be removed in 0.22. Import impute.SimpleImputer from sklearn instead.\n",
      "  warnings.warn(msg, category=DeprecationWarning)\n",
      "/Users/henriquelopes/miniconda3/lib/python3.6/site-packages/sklearn/utils/deprecation.py:58: DeprecationWarning: Class Imputer is deprecated; Imputer was deprecated in version 0.20 and will be removed in 0.22. Import impute.SimpleImputer from sklearn instead.\n",
      "  warnings.warn(msg, category=DeprecationWarning)\n",
      "/Users/henriquelopes/miniconda3/lib/python3.6/site-packages/sklearn/utils/deprecation.py:58: DeprecationWarning: Class Imputer is deprecated; Imputer was deprecated in version 0.20 and will be removed in 0.22. Import impute.SimpleImputer from sklearn instead.\n",
      "  warnings.warn(msg, category=DeprecationWarning)\n",
      "/Users/henriquelopes/miniconda3/lib/python3.6/site-packages/sklearn/utils/deprecation.py:58: DeprecationWarning: Class Imputer is deprecated; Imputer was deprecated in version 0.20 and will be removed in 0.22. Import impute.SimpleImputer from sklearn instead.\n",
      "  warnings.warn(msg, category=DeprecationWarning)\n"
     ]
    }
   ],
   "source": [
    "monthly_spatial_learning_curve_logs = parallel_validator(train_set,\n",
    "                                                         split_fn,\n",
    "                                                         train_fn,\n",
    "                                                         monthly_eval_fn,\n",
    "                                                         n_jobs=8)"
   ]
  },
  {
   "cell_type": "code",
   "execution_count": 40,
   "metadata": {
    "ExecuteTime": {
     "end_time": "2019-04-30T13:06:24.279143Z",
     "start_time": "2019-04-30T13:06:23.855539Z"
    },
    "slideshow": {
     "slide_type": "slide"
    }
   },
   "outputs": [],
   "source": [
    "monthly_data = extract(monthly_spatial_learning_curve_logs['validator_log'], monthly_extractor).loc[lambda df: df.r2_evaluator__target.notna()]"
   ]
  },
  {
   "cell_type": "code",
   "execution_count": 41,
   "metadata": {
    "ExecuteTime": {
     "end_time": "2019-04-30T13:06:24.299897Z",
     "start_time": "2019-04-30T13:06:24.280895Z"
    },
    "slideshow": {
     "slide_type": "fragment"
    }
   },
   "outputs": [
    {
     "data": {
      "text/html": [
       "<div>\n",
       "<style scoped>\n",
       "    .dataframe tbody tr th:only-of-type {\n",
       "        vertical-align: middle;\n",
       "    }\n",
       "\n",
       "    .dataframe tbody tr th {\n",
       "        vertical-align: top;\n",
       "    }\n",
       "\n",
       "    .dataframe thead th {\n",
       "        text-align: right;\n",
       "    }\n",
       "</style>\n",
       "<table border=\"1\" class=\"dataframe\">\n",
       "  <thead>\n",
       "    <tr style=\"text-align: right;\">\n",
       "      <th></th>\n",
       "      <th>r2_evaluator__target</th>\n",
       "      <th>spearman_evaluator__target</th>\n",
       "      <th>split_evaluator__month</th>\n",
       "      <th>fold_num</th>\n",
       "      <th>train_start</th>\n",
       "      <th>train_end</th>\n",
       "      <th>train_size</th>\n",
       "      <th>test_start</th>\n",
       "      <th>test_end</th>\n",
       "      <th>test_size</th>\n",
       "      <th>percentage</th>\n",
       "    </tr>\n",
       "  </thead>\n",
       "  <tbody>\n",
       "    <tr>\n",
       "      <th>0</th>\n",
       "      <td>0.107379</td>\n",
       "      <td>0.364467</td>\n",
       "      <td>15</td>\n",
       "      <td>0</td>\n",
       "      <td>2017-02-01</td>\n",
       "      <td>2018-03-11</td>\n",
       "      <td>5240</td>\n",
       "      <td>2018-04-11</td>\n",
       "      <td>2018-06-12</td>\n",
       "      <td>16717</td>\n",
       "      <td>0.1</td>\n",
       "    </tr>\n",
       "    <tr>\n",
       "      <th>0</th>\n",
       "      <td>0.131670</td>\n",
       "      <td>0.393196</td>\n",
       "      <td>16</td>\n",
       "      <td>0</td>\n",
       "      <td>2017-02-01</td>\n",
       "      <td>2018-03-11</td>\n",
       "      <td>5240</td>\n",
       "      <td>2018-04-11</td>\n",
       "      <td>2018-06-12</td>\n",
       "      <td>16717</td>\n",
       "      <td>0.1</td>\n",
       "    </tr>\n",
       "    <tr>\n",
       "      <th>0</th>\n",
       "      <td>0.144000</td>\n",
       "      <td>0.399221</td>\n",
       "      <td>17</td>\n",
       "      <td>0</td>\n",
       "      <td>2017-02-01</td>\n",
       "      <td>2018-03-11</td>\n",
       "      <td>5240</td>\n",
       "      <td>2018-04-11</td>\n",
       "      <td>2018-06-12</td>\n",
       "      <td>16717</td>\n",
       "      <td>0.1</td>\n",
       "    </tr>\n",
       "    <tr>\n",
       "      <th>0</th>\n",
       "      <td>0.150120</td>\n",
       "      <td>0.397450</td>\n",
       "      <td>15</td>\n",
       "      <td>1</td>\n",
       "      <td>2017-02-01</td>\n",
       "      <td>2018-03-11</td>\n",
       "      <td>10195</td>\n",
       "      <td>2018-04-11</td>\n",
       "      <td>2018-06-12</td>\n",
       "      <td>16717</td>\n",
       "      <td>0.2</td>\n",
       "    </tr>\n",
       "    <tr>\n",
       "      <th>0</th>\n",
       "      <td>0.178749</td>\n",
       "      <td>0.425420</td>\n",
       "      <td>16</td>\n",
       "      <td>1</td>\n",
       "      <td>2017-02-01</td>\n",
       "      <td>2018-03-11</td>\n",
       "      <td>10195</td>\n",
       "      <td>2018-04-11</td>\n",
       "      <td>2018-06-12</td>\n",
       "      <td>16717</td>\n",
       "      <td>0.2</td>\n",
       "    </tr>\n",
       "    <tr>\n",
       "      <th>0</th>\n",
       "      <td>0.184508</td>\n",
       "      <td>0.431947</td>\n",
       "      <td>17</td>\n",
       "      <td>1</td>\n",
       "      <td>2017-02-01</td>\n",
       "      <td>2018-03-11</td>\n",
       "      <td>10195</td>\n",
       "      <td>2018-04-11</td>\n",
       "      <td>2018-06-12</td>\n",
       "      <td>16717</td>\n",
       "      <td>0.2</td>\n",
       "    </tr>\n",
       "    <tr>\n",
       "      <th>0</th>\n",
       "      <td>0.183690</td>\n",
       "      <td>0.421595</td>\n",
       "      <td>15</td>\n",
       "      <td>2</td>\n",
       "      <td>2017-02-01</td>\n",
       "      <td>2018-03-11</td>\n",
       "      <td>19397</td>\n",
       "      <td>2018-04-11</td>\n",
       "      <td>2018-06-12</td>\n",
       "      <td>16717</td>\n",
       "      <td>0.4</td>\n",
       "    </tr>\n",
       "    <tr>\n",
       "      <th>0</th>\n",
       "      <td>0.193567</td>\n",
       "      <td>0.436818</td>\n",
       "      <td>16</td>\n",
       "      <td>2</td>\n",
       "      <td>2017-02-01</td>\n",
       "      <td>2018-03-11</td>\n",
       "      <td>19397</td>\n",
       "      <td>2018-04-11</td>\n",
       "      <td>2018-06-12</td>\n",
       "      <td>16717</td>\n",
       "      <td>0.4</td>\n",
       "    </tr>\n",
       "    <tr>\n",
       "      <th>0</th>\n",
       "      <td>0.200179</td>\n",
       "      <td>0.447567</td>\n",
       "      <td>17</td>\n",
       "      <td>2</td>\n",
       "      <td>2017-02-01</td>\n",
       "      <td>2018-03-11</td>\n",
       "      <td>19397</td>\n",
       "      <td>2018-04-11</td>\n",
       "      <td>2018-06-12</td>\n",
       "      <td>16717</td>\n",
       "      <td>0.4</td>\n",
       "    </tr>\n",
       "    <tr>\n",
       "      <th>0</th>\n",
       "      <td>0.189484</td>\n",
       "      <td>0.427309</td>\n",
       "      <td>15</td>\n",
       "      <td>3</td>\n",
       "      <td>2017-02-01</td>\n",
       "      <td>2018-03-11</td>\n",
       "      <td>27955</td>\n",
       "      <td>2018-04-11</td>\n",
       "      <td>2018-06-12</td>\n",
       "      <td>16717</td>\n",
       "      <td>0.6</td>\n",
       "    </tr>\n",
       "    <tr>\n",
       "      <th>0</th>\n",
       "      <td>0.196619</td>\n",
       "      <td>0.440790</td>\n",
       "      <td>16</td>\n",
       "      <td>3</td>\n",
       "      <td>2017-02-01</td>\n",
       "      <td>2018-03-11</td>\n",
       "      <td>27955</td>\n",
       "      <td>2018-04-11</td>\n",
       "      <td>2018-06-12</td>\n",
       "      <td>16717</td>\n",
       "      <td>0.6</td>\n",
       "    </tr>\n",
       "    <tr>\n",
       "      <th>0</th>\n",
       "      <td>0.212512</td>\n",
       "      <td>0.457837</td>\n",
       "      <td>17</td>\n",
       "      <td>3</td>\n",
       "      <td>2017-02-01</td>\n",
       "      <td>2018-03-11</td>\n",
       "      <td>27955</td>\n",
       "      <td>2018-04-11</td>\n",
       "      <td>2018-06-12</td>\n",
       "      <td>16717</td>\n",
       "      <td>0.6</td>\n",
       "    </tr>\n",
       "    <tr>\n",
       "      <th>0</th>\n",
       "      <td>0.193080</td>\n",
       "      <td>0.431311</td>\n",
       "      <td>15</td>\n",
       "      <td>4</td>\n",
       "      <td>2017-02-01</td>\n",
       "      <td>2018-03-11</td>\n",
       "      <td>34380</td>\n",
       "      <td>2018-04-11</td>\n",
       "      <td>2018-06-12</td>\n",
       "      <td>16717</td>\n",
       "      <td>0.8</td>\n",
       "    </tr>\n",
       "    <tr>\n",
       "      <th>0</th>\n",
       "      <td>0.204822</td>\n",
       "      <td>0.445896</td>\n",
       "      <td>16</td>\n",
       "      <td>4</td>\n",
       "      <td>2017-02-01</td>\n",
       "      <td>2018-03-11</td>\n",
       "      <td>34380</td>\n",
       "      <td>2018-04-11</td>\n",
       "      <td>2018-06-12</td>\n",
       "      <td>16717</td>\n",
       "      <td>0.8</td>\n",
       "    </tr>\n",
       "    <tr>\n",
       "      <th>0</th>\n",
       "      <td>0.216967</td>\n",
       "      <td>0.460900</td>\n",
       "      <td>17</td>\n",
       "      <td>4</td>\n",
       "      <td>2017-02-01</td>\n",
       "      <td>2018-03-11</td>\n",
       "      <td>34380</td>\n",
       "      <td>2018-04-11</td>\n",
       "      <td>2018-06-12</td>\n",
       "      <td>16717</td>\n",
       "      <td>0.8</td>\n",
       "    </tr>\n",
       "    <tr>\n",
       "      <th>0</th>\n",
       "      <td>0.195305</td>\n",
       "      <td>0.433293</td>\n",
       "      <td>15</td>\n",
       "      <td>5</td>\n",
       "      <td>2017-02-01</td>\n",
       "      <td>2018-03-11</td>\n",
       "      <td>36588</td>\n",
       "      <td>2018-04-11</td>\n",
       "      <td>2018-06-12</td>\n",
       "      <td>16717</td>\n",
       "      <td>1.0</td>\n",
       "    </tr>\n",
       "    <tr>\n",
       "      <th>0</th>\n",
       "      <td>0.201635</td>\n",
       "      <td>0.443446</td>\n",
       "      <td>16</td>\n",
       "      <td>5</td>\n",
       "      <td>2017-02-01</td>\n",
       "      <td>2018-03-11</td>\n",
       "      <td>36588</td>\n",
       "      <td>2018-04-11</td>\n",
       "      <td>2018-06-12</td>\n",
       "      <td>16717</td>\n",
       "      <td>1.0</td>\n",
       "    </tr>\n",
       "    <tr>\n",
       "      <th>0</th>\n",
       "      <td>0.216498</td>\n",
       "      <td>0.460245</td>\n",
       "      <td>17</td>\n",
       "      <td>5</td>\n",
       "      <td>2017-02-01</td>\n",
       "      <td>2018-03-11</td>\n",
       "      <td>36588</td>\n",
       "      <td>2018-04-11</td>\n",
       "      <td>2018-06-12</td>\n",
       "      <td>16717</td>\n",
       "      <td>1.0</td>\n",
       "    </tr>\n",
       "  </tbody>\n",
       "</table>\n",
       "</div>"
      ],
      "text/plain": [
       "   r2_evaluator__target  spearman_evaluator__target  split_evaluator__month  \\\n",
       "0              0.107379                    0.364467                      15   \n",
       "0              0.131670                    0.393196                      16   \n",
       "0              0.144000                    0.399221                      17   \n",
       "0              0.150120                    0.397450                      15   \n",
       "0              0.178749                    0.425420                      16   \n",
       "0              0.184508                    0.431947                      17   \n",
       "0              0.183690                    0.421595                      15   \n",
       "0              0.193567                    0.436818                      16   \n",
       "0              0.200179                    0.447567                      17   \n",
       "0              0.189484                    0.427309                      15   \n",
       "0              0.196619                    0.440790                      16   \n",
       "0              0.212512                    0.457837                      17   \n",
       "0              0.193080                    0.431311                      15   \n",
       "0              0.204822                    0.445896                      16   \n",
       "0              0.216967                    0.460900                      17   \n",
       "0              0.195305                    0.433293                      15   \n",
       "0              0.201635                    0.443446                      16   \n",
       "0              0.216498                    0.460245                      17   \n",
       "\n",
       "   fold_num train_start  train_end  train_size test_start   test_end  \\\n",
       "0         0  2017-02-01 2018-03-11        5240 2018-04-11 2018-06-12   \n",
       "0         0  2017-02-01 2018-03-11        5240 2018-04-11 2018-06-12   \n",
       "0         0  2017-02-01 2018-03-11        5240 2018-04-11 2018-06-12   \n",
       "0         1  2017-02-01 2018-03-11       10195 2018-04-11 2018-06-12   \n",
       "0         1  2017-02-01 2018-03-11       10195 2018-04-11 2018-06-12   \n",
       "0         1  2017-02-01 2018-03-11       10195 2018-04-11 2018-06-12   \n",
       "0         2  2017-02-01 2018-03-11       19397 2018-04-11 2018-06-12   \n",
       "0         2  2017-02-01 2018-03-11       19397 2018-04-11 2018-06-12   \n",
       "0         2  2017-02-01 2018-03-11       19397 2018-04-11 2018-06-12   \n",
       "0         3  2017-02-01 2018-03-11       27955 2018-04-11 2018-06-12   \n",
       "0         3  2017-02-01 2018-03-11       27955 2018-04-11 2018-06-12   \n",
       "0         3  2017-02-01 2018-03-11       27955 2018-04-11 2018-06-12   \n",
       "0         4  2017-02-01 2018-03-11       34380 2018-04-11 2018-06-12   \n",
       "0         4  2017-02-01 2018-03-11       34380 2018-04-11 2018-06-12   \n",
       "0         4  2017-02-01 2018-03-11       34380 2018-04-11 2018-06-12   \n",
       "0         5  2017-02-01 2018-03-11       36588 2018-04-11 2018-06-12   \n",
       "0         5  2017-02-01 2018-03-11       36588 2018-04-11 2018-06-12   \n",
       "0         5  2017-02-01 2018-03-11       36588 2018-04-11 2018-06-12   \n",
       "\n",
       "   test_size  percentage  \n",
       "0      16717         0.1  \n",
       "0      16717         0.1  \n",
       "0      16717         0.1  \n",
       "0      16717         0.2  \n",
       "0      16717         0.2  \n",
       "0      16717         0.2  \n",
       "0      16717         0.4  \n",
       "0      16717         0.4  \n",
       "0      16717         0.4  \n",
       "0      16717         0.6  \n",
       "0      16717         0.6  \n",
       "0      16717         0.6  \n",
       "0      16717         0.8  \n",
       "0      16717         0.8  \n",
       "0      16717         0.8  \n",
       "0      16717         1.0  \n",
       "0      16717         1.0  \n",
       "0      16717         1.0  "
      ]
     },
     "execution_count": 41,
     "metadata": {},
     "output_type": "execute_result"
    }
   ],
   "source": [
    "monthly_data"
   ]
  },
  {
   "cell_type": "code",
   "execution_count": 53,
   "metadata": {
    "ExecuteTime": {
     "end_time": "2019-04-30T13:21:40.264353Z",
     "start_time": "2019-04-30T13:21:39.993670Z"
    },
    "slideshow": {
     "slide_type": "slide"
    }
   },
   "outputs": [
    {
     "data": {
      "image/png": "[encoded data removed]",
      "text/plain": [
       "<Figure size 720x576 with 1 Axes>"
      ]
     },
     "metadata": {
      "needs_background": "light"
     },
     "output_type": "display_data"
    }
   ],
   "source": [
    "fig, ax = plt.subplots(figsize=(10, 8))\n",
    "sns.pointplot(data=monthly_data, ax=ax, x=\"percentage\", y=\"r2_evaluator__target\", hue=\"split_evaluator__month\")\n",
    "plt.title(\"Spatial Learning Curve By Month\")\n",
    "plt.xticks(rotation=45);"
   ]
  },
  {
   "cell_type": "markdown",
   "metadata": {
    "slideshow": {
     "slide_type": "slide"
    }
   },
   "source": [
    "# What else does fklearn provide me?\n",
    "\n",
    "* <font size=\"4\"> Several other learning curves that can be used depending on what you want to evaluate </font>\n",
    "\n",
    "* <font size=\"4\"> Several other algorithms for models </font>\n",
    "\n",
    "* <font size=\"4\"> Other tools with similar interface for feature selection, parameter tuning </font>\n",
    "\n",
    "* <font size=\"4\"> All this methods are integrated with similar signatures in a way that is easy to reuse training, spliting and evaluation functions </font>\n",
    "\n"
   ]
  }
 ],
 "metadata": {
  "celltoolbar": "Slideshow",
  "kernelspec": {
   "display_name": "Python 3",
   "language": "python",
   "name": "python3"
  },
  "language_info": {
   "codemirror_mode": {
    "name": "ipython",
    "version": 3
   },
   "file_extension": ".py",
   "mimetype": "text/x-python",
   "name": "python",
   "nbconvert_exporter": "python",
   "pygments_lexer": "ipython3",
   "version": "3.6.8"
  },
  "toc": {
   "base_numbering": 1,
   "nav_menu": {},
   "number_sections": true,
   "sideBar": true,
   "skip_h1_title": false,
   "title_cell": "Table of Contents",
   "title_sidebar": "Contents",
   "toc_cell": false,
   "toc_position": {},
   "toc_section_display": true,
   "toc_window_display": false
  }
 },
 "nbformat": 4,
 "nbformat_minor": 2
}
