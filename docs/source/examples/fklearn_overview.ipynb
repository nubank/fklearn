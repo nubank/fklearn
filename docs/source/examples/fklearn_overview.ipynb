{
 "cells": [
  {
   "cell_type": "markdown",
   "metadata": {
    "slideshow": {
     "slide_type": "slide"
    }
   },
   "source": [
    "# FKLearn Tutorial: \n",
    "\n",
    "* <font size=\"4\"> FKlearn is nubank's functional library for Machine Learning (https://github.com/nubank/fklearn) </font>\n",
    "\n",
    "<img src=\"imgs/fklearn-github.png\">\n",
    "\n",
    "* <font size=\"4\"> It was created with the idea of **scaling machine learning** through the company by standardizing model development and implementing an easy interface to allow all users to develop the best practices on Machine Learning </font>\n",
    "\n",
    "\n",
    "* <font size=\"4\"> Currently powering more than **30 models in production** </font>\n",
    "\n",
    "\n",
    "* <font size=\"4\"> FKLearn was created having **4 principles** that guided it's development: </font>\n",
    "\n",
    "<img src=\"imgs/fklearn-principles.png\">\n"
   ]
  },
  {
   "cell_type": "markdown",
   "metadata": {
    "slideshow": {
     "slide_type": "slide"
    }
   },
   "source": [
    "# Input Analysis"
   ]
  },
  {
   "cell_type": "markdown",
   "metadata": {
    "slideshow": {
     "slide_type": "skip"
    }
   },
   "source": [
    "## Imports"
   ]
  },
  {
   "cell_type": "code",
   "execution_count": 1,
   "metadata": {
    "ExecuteTime": {
     "end_time": "2019-09-26T20:16:43.982589Z",
     "start_time": "2019-09-26T20:16:43.019533Z"
    },
    "slideshow": {
     "slide_type": "skip"
    }
   },
   "outputs": [],
   "source": [
    "import pandas as pd\n",
    "import numpy as np\n",
    "from matplotlib import pyplot as plt\n",
    "import seaborn as sns\n",
    "import matplotlib\n",
    "sns.set_style(\"whitegrid\")\n",
    "sns.set_palette(\"husl\")\n",
    "\n",
    "import warnings\n",
    "warnings.filterwarnings('ignore')"
   ]
  },
  {
   "cell_type": "markdown",
   "metadata": {
    "slideshow": {
     "slide_type": "slide"
    }
   },
   "source": [
    "##  Input Dataset\n",
    "\n",
    "* <font size=\"4\"> This dataset was created with simulated data about users **spend behavior on Credit Card** </font>\n",
    "\n",
    "* <font size=\"4\"> The model target is the average spend of the next 2 months and we created several features that are related to the target </font>\n"
   ]
  },
  {
   "cell_type": "code",
   "execution_count": 3,
   "metadata": {
    "ExecuteTime": {
     "end_time": "2019-09-26T20:18:09.030706Z",
     "start_time": "2019-09-26T20:18:08.720385Z"
    },
    "slideshow": {
     "slide_type": "fragment"
    }
   },
   "outputs": [],
   "source": [
    "# Generate this dataset using the FKLearn Tutorial Dataset.ipynb notebook\n",
    "df = pd.read_csv(\"fklearn-tutorial-input-dataset.csv\")"
   ]
  },
  {
   "cell_type": "code",
   "execution_count": 4,
   "metadata": {
    "ExecuteTime": {
     "end_time": "2019-09-26T20:18:10.725214Z",
     "start_time": "2019-09-26T20:18:10.692078Z"
    },
    "slideshow": {
     "slide_type": "skip"
    }
   },
   "outputs": [],
   "source": [
    "df['month_date'] = pd.to_datetime(df.month_date)"
   ]
  },
  {
   "cell_type": "code",
   "execution_count": 5,
   "metadata": {
    "ExecuteTime": {
     "end_time": "2019-09-26T20:18:11.795039Z",
     "start_time": "2019-09-26T20:18:11.774834Z"
    },
    "slideshow": {
     "slide_type": "fragment"
    }
   },
   "outputs": [
    {
     "data": {
      "text/html": [
       "<div>\n",
       "<style scoped>\n",
       "    .dataframe tbody tr th:only-of-type {\n",
       "        vertical-align: middle;\n",
       "    }\n",
       "\n",
       "    .dataframe tbody tr th {\n",
       "        vertical-align: top;\n",
       "    }\n",
       "\n",
       "    .dataframe thead th {\n",
       "        text-align: right;\n",
       "    }\n",
       "</style>\n",
       "<table border=\"1\" class=\"dataframe\">\n",
       "  <thead>\n",
       "    <tr style=\"text-align: right;\">\n",
       "      <th></th>\n",
       "      <th>id</th>\n",
       "      <th>month</th>\n",
       "      <th>income</th>\n",
       "      <th>created_at</th>\n",
       "      <th>phone_type</th>\n",
       "      <th>bureau_score</th>\n",
       "      <th>spend_desire</th>\n",
       "      <th>random_noise</th>\n",
       "      <th>monthly_spend</th>\n",
       "      <th>month_date</th>\n",
       "      <th>avg_last_2_months_spend</th>\n",
       "      <th>target</th>\n",
       "    </tr>\n",
       "  </thead>\n",
       "  <tbody>\n",
       "    <tr>\n",
       "      <th>0</th>\n",
       "      <td>0</td>\n",
       "      <td>17</td>\n",
       "      <td>5015.685403</td>\n",
       "      <td>2018-05-14</td>\n",
       "      <td>samsung</td>\n",
       "      <td>NaN</td>\n",
       "      <td>759.448286</td>\n",
       "      <td>929.006227</td>\n",
       "      <td>3452.226271</td>\n",
       "      <td>2018-06-12</td>\n",
       "      <td>NaN</td>\n",
       "      <td>3516.757404</td>\n",
       "    </tr>\n",
       "    <tr>\n",
       "      <th>1</th>\n",
       "      <td>0</td>\n",
       "      <td>18</td>\n",
       "      <td>5015.685403</td>\n",
       "      <td>2018-05-14</td>\n",
       "      <td>samsung</td>\n",
       "      <td>522.001029</td>\n",
       "      <td>759.448286</td>\n",
       "      <td>1103.297890</td>\n",
       "      <td>3880.094787</td>\n",
       "      <td>2018-07-13</td>\n",
       "      <td>3666.160529</td>\n",
       "      <td>3228.706602</td>\n",
       "    </tr>\n",
       "    <tr>\n",
       "      <th>2</th>\n",
       "      <td>0</td>\n",
       "      <td>19</td>\n",
       "      <td>5015.685403</td>\n",
       "      <td>2018-05-14</td>\n",
       "      <td>samsung</td>\n",
       "      <td>381.931691</td>\n",
       "      <td>759.448286</td>\n",
       "      <td>970.967715</td>\n",
       "      <td>3153.420020</td>\n",
       "      <td>2018-08-13</td>\n",
       "      <td>3516.757404</td>\n",
       "      <td>3357.249359</td>\n",
       "    </tr>\n",
       "    <tr>\n",
       "      <th>3</th>\n",
       "      <td>0</td>\n",
       "      <td>20</td>\n",
       "      <td>5015.685403</td>\n",
       "      <td>2018-05-14</td>\n",
       "      <td>samsung</td>\n",
       "      <td>316.660045</td>\n",
       "      <td>759.448286</td>\n",
       "      <td>960.317678</td>\n",
       "      <td>3303.993183</td>\n",
       "      <td>2018-09-13</td>\n",
       "      <td>3228.706602</td>\n",
       "      <td>3358.220025</td>\n",
       "    </tr>\n",
       "    <tr>\n",
       "      <th>4</th>\n",
       "      <td>0</td>\n",
       "      <td>21</td>\n",
       "      <td>5015.685403</td>\n",
       "      <td>2018-05-14</td>\n",
       "      <td>samsung</td>\n",
       "      <td>319.226632</td>\n",
       "      <td>759.448286</td>\n",
       "      <td>940.807237</td>\n",
       "      <td>3410.505535</td>\n",
       "      <td>2018-10-14</td>\n",
       "      <td>3357.249359</td>\n",
       "      <td>3235.362465</td>\n",
       "    </tr>\n",
       "  </tbody>\n",
       "</table>\n",
       "</div>"
      ],
      "text/plain": [
       "   id  month       income  created_at phone_type  bureau_score  spend_desire  \\\n",
       "0   0     17  5015.685403  2018-05-14    samsung           NaN    759.448286   \n",
       "1   0     18  5015.685403  2018-05-14    samsung    522.001029    759.448286   \n",
       "2   0     19  5015.685403  2018-05-14    samsung    381.931691    759.448286   \n",
       "3   0     20  5015.685403  2018-05-14    samsung    316.660045    759.448286   \n",
       "4   0     21  5015.685403  2018-05-14    samsung    319.226632    759.448286   \n",
       "\n",
       "   random_noise  monthly_spend month_date  avg_last_2_months_spend  \\\n",
       "0    929.006227    3452.226271 2018-06-12                      NaN   \n",
       "1   1103.297890    3880.094787 2018-07-13              3666.160529   \n",
       "2    970.967715    3153.420020 2018-08-13              3516.757404   \n",
       "3    960.317678    3303.993183 2018-09-13              3228.706602   \n",
       "4    940.807237    3410.505535 2018-10-14              3357.249359   \n",
       "\n",
       "        target  \n",
       "0  3516.757404  \n",
       "1  3228.706602  \n",
       "2  3357.249359  \n",
       "3  3358.220025  \n",
       "4  3235.362465  "
      ]
     },
     "execution_count": 5,
     "metadata": {},
     "output_type": "execute_result"
    }
   ],
   "source": [
    "df.head()"
   ]
  },
  {
   "cell_type": "code",
   "execution_count": 6,
   "metadata": {
    "ExecuteTime": {
     "end_time": "2019-09-26T20:18:14.525863Z",
     "start_time": "2019-09-26T20:18:14.438602Z"
    },
    "slideshow": {
     "slide_type": "slide"
    }
   },
   "outputs": [
    {
     "data": {
      "text/html": [
       "<div>\n",
       "<style scoped>\n",
       "    .dataframe tbody tr th:only-of-type {\n",
       "        vertical-align: middle;\n",
       "    }\n",
       "\n",
       "    .dataframe tbody tr th {\n",
       "        vertical-align: top;\n",
       "    }\n",
       "\n",
       "    .dataframe thead th {\n",
       "        text-align: right;\n",
       "    }\n",
       "</style>\n",
       "<table border=\"1\" class=\"dataframe\">\n",
       "  <thead>\n",
       "    <tr style=\"text-align: right;\">\n",
       "      <th></th>\n",
       "      <th>count</th>\n",
       "      <th>mean</th>\n",
       "      <th>std</th>\n",
       "      <th>min</th>\n",
       "      <th>25%</th>\n",
       "      <th>50%</th>\n",
       "      <th>75%</th>\n",
       "      <th>max</th>\n",
       "    </tr>\n",
       "  </thead>\n",
       "  <tbody>\n",
       "    <tr>\n",
       "      <th>id</th>\n",
       "      <td>121471.0</td>\n",
       "      <td>5020.204798</td>\n",
       "      <td>2.882829e+03</td>\n",
       "      <td>0.000000</td>\n",
       "      <td>2532.000000</td>\n",
       "      <td>5012.000000</td>\n",
       "      <td>7531.000000</td>\n",
       "      <td>9.999000e+03</td>\n",
       "    </tr>\n",
       "    <tr>\n",
       "      <th>month</th>\n",
       "      <td>121471.0</td>\n",
       "      <td>15.629920</td>\n",
       "      <td>5.541509e+00</td>\n",
       "      <td>1.000000</td>\n",
       "      <td>12.000000</td>\n",
       "      <td>17.000000</td>\n",
       "      <td>20.000000</td>\n",
       "      <td>2.300000e+01</td>\n",
       "    </tr>\n",
       "    <tr>\n",
       "      <th>income</th>\n",
       "      <td>121471.0</td>\n",
       "      <td>505248.655911</td>\n",
       "      <td>2.179283e+06</td>\n",
       "      <td>302.532705</td>\n",
       "      <td>3758.661316</td>\n",
       "      <td>5179.311664</td>\n",
       "      <td>6627.112964</td>\n",
       "      <td>9.999999e+06</td>\n",
       "    </tr>\n",
       "    <tr>\n",
       "      <th>bureau_score</th>\n",
       "      <td>109433.0</td>\n",
       "      <td>295.955427</td>\n",
       "      <td>1.346843e+02</td>\n",
       "      <td>0.005788</td>\n",
       "      <td>198.558112</td>\n",
       "      <td>293.211936</td>\n",
       "      <td>388.348340</td>\n",
       "      <td>9.665136e+02</td>\n",
       "    </tr>\n",
       "    <tr>\n",
       "      <th>spend_desire</th>\n",
       "      <td>121471.0</td>\n",
       "      <td>497.221982</td>\n",
       "      <td>2.024356e+02</td>\n",
       "      <td>-356.866864</td>\n",
       "      <td>360.737656</td>\n",
       "      <td>497.799260</td>\n",
       "      <td>635.393654</td>\n",
       "      <td>1.260928e+03</td>\n",
       "    </tr>\n",
       "    <tr>\n",
       "      <th>random_noise</th>\n",
       "      <td>121471.0</td>\n",
       "      <td>999.910829</td>\n",
       "      <td>1.000080e+02</td>\n",
       "      <td>514.929020</td>\n",
       "      <td>932.140569</td>\n",
       "      <td>999.841128</td>\n",
       "      <td>1067.019196</td>\n",
       "      <td>1.428127e+03</td>\n",
       "    </tr>\n",
       "    <tr>\n",
       "      <th>monthly_spend</th>\n",
       "      <td>121471.0</td>\n",
       "      <td>2643.700884</td>\n",
       "      <td>6.920308e+02</td>\n",
       "      <td>170.815303</td>\n",
       "      <td>2192.303084</td>\n",
       "      <td>2554.895551</td>\n",
       "      <td>2961.684065</td>\n",
       "      <td>6.537560e+03</td>\n",
       "    </tr>\n",
       "    <tr>\n",
       "      <th>avg_last_2_months_spend</th>\n",
       "      <td>111471.0</td>\n",
       "      <td>2643.832147</td>\n",
       "      <td>5.860818e+02</td>\n",
       "      <td>188.307429</td>\n",
       "      <td>2238.787433</td>\n",
       "      <td>2585.316456</td>\n",
       "      <td>2984.386894</td>\n",
       "      <td>5.782090e+03</td>\n",
       "    </tr>\n",
       "    <tr>\n",
       "      <th>target</th>\n",
       "      <td>101871.0</td>\n",
       "      <td>2639.039170</td>\n",
       "      <td>5.853034e+02</td>\n",
       "      <td>412.076860</td>\n",
       "      <td>2235.043343</td>\n",
       "      <td>2580.730663</td>\n",
       "      <td>2978.910581</td>\n",
       "      <td>5.782090e+03</td>\n",
       "    </tr>\n",
       "  </tbody>\n",
       "</table>\n",
       "</div>"
      ],
      "text/plain": [
       "                            count           mean           std         min  \\\n",
       "id                       121471.0    5020.204798  2.882829e+03    0.000000   \n",
       "month                    121471.0      15.629920  5.541509e+00    1.000000   \n",
       "income                   121471.0  505248.655911  2.179283e+06  302.532705   \n",
       "bureau_score             109433.0     295.955427  1.346843e+02    0.005788   \n",
       "spend_desire             121471.0     497.221982  2.024356e+02 -356.866864   \n",
       "random_noise             121471.0     999.910829  1.000080e+02  514.929020   \n",
       "monthly_spend            121471.0    2643.700884  6.920308e+02  170.815303   \n",
       "avg_last_2_months_spend  111471.0    2643.832147  5.860818e+02  188.307429   \n",
       "target                   101871.0    2639.039170  5.853034e+02  412.076860   \n",
       "\n",
       "                                 25%          50%          75%           max  \n",
       "id                       2532.000000  5012.000000  7531.000000  9.999000e+03  \n",
       "month                      12.000000    17.000000    20.000000  2.300000e+01  \n",
       "income                   3758.661316  5179.311664  6627.112964  9.999999e+06  \n",
       "bureau_score              198.558112   293.211936   388.348340  9.665136e+02  \n",
       "spend_desire              360.737656   497.799260   635.393654  1.260928e+03  \n",
       "random_noise              932.140569   999.841128  1067.019196  1.428127e+03  \n",
       "monthly_spend            2192.303084  2554.895551  2961.684065  6.537560e+03  \n",
       "avg_last_2_months_spend  2238.787433  2585.316456  2984.386894  5.782090e+03  \n",
       "target                   2235.043343  2580.730663  2978.910581  5.782090e+03  "
      ]
     },
     "execution_count": 6,
     "metadata": {},
     "output_type": "execute_result"
    }
   ],
   "source": [
    "df.describe().T"
   ]
  },
  {
   "cell_type": "code",
   "execution_count": 7,
   "metadata": {
    "ExecuteTime": {
     "end_time": "2019-09-26T20:18:17.033191Z",
     "start_time": "2019-09-26T20:18:17.030190Z"
    },
    "slideshow": {
     "slide_type": "skip"
    }
   },
   "outputs": [],
   "source": [
    "features = [\"income\", \"bureau_score\", \"spend_desire\", \"random_noise\", \"monthly_spend\", \"avg_last_2_months_spend\"]"
   ]
  },
  {
   "cell_type": "code",
   "execution_count": 8,
   "metadata": {
    "ExecuteTime": {
     "end_time": "2019-09-26T20:18:21.117236Z",
     "start_time": "2019-09-26T20:18:21.078410Z"
    },
    "slideshow": {
     "slide_type": "slide"
    }
   },
   "outputs": [
    {
     "data": {
      "text/plain": [
       "id                             0\n",
       "month                          0\n",
       "income                         0\n",
       "created_at                     0\n",
       "phone_type                     0\n",
       "bureau_score               12038\n",
       "spend_desire                   0\n",
       "random_noise                   0\n",
       "monthly_spend                  0\n",
       "month_date                     0\n",
       "avg_last_2_months_spend    10000\n",
       "target                     19600\n",
       "dtype: int64"
      ]
     },
     "execution_count": 8,
     "metadata": {},
     "output_type": "execute_result"
    }
   ],
   "source": [
    "df.isna().sum()"
   ]
  },
  {
   "cell_type": "markdown",
   "metadata": {
    "slideshow": {
     "slide_type": "slide"
    }
   },
   "source": [
    "## Features and Target:\n",
    "$ Month (M) \\sim [1, 24]  $\n",
    "\n",
    "$ Income (I) \\sim \\mathcal{N}(5000, 2000) E [300, 20000] $\n",
    "\n",
    "$ Phone Type (P) \\sim [\"samsung\", \"motorola\", \"iphone\", \"lg\"] $\n",
    "\n",
    "$ Bureau Score (B) \\sim \\mathcal{N}(\\frac{500}{(Month ^{0.1}}, 200) E [0, 1000] $\n",
    "\n",
    "$ Spend Desire (W) \\sim \\mathcal{N}(500, 200) $\n",
    "\n",
    "$ Random Noise (R) \\sim \\mathcal{N}(1000, 100) $\n",
    "\n",
    "$ Monthly Spend \\sim {max}(0, (S * I + I ^ 2 + P * W ^ 2 + P * B + \\mathcal{N}(1, 0.3)) * \\mathcal{N}(2000, 1000)) $\n",
    "\n",
    "$ Avg Last 2 Months Spend \\sim (Spend(m) + Spend(m-1)) / 2 $\n",
    "\n",
    "$ Target \\sim (Spend(m + 1) + Spend(m + 2)) / 2 $\n"
   ]
  },
  {
   "cell_type": "code",
   "execution_count": 9,
   "metadata": {
    "ExecuteTime": {
     "end_time": "2019-09-26T20:33:19.160207Z",
     "start_time": "2019-09-26T20:33:18.964129Z"
    },
    "slideshow": {
     "slide_type": "slide"
    }
   },
   "outputs": [
    {
     "data": {
      "text/plain": [
       "Text(0.5, 1.0, 'Amount of customers by month')"
      ]
     },
     "execution_count": 9,
     "metadata": {},
     "output_type": "execute_result"
    },
    {
     "data": {
      "image/png": "[encoded data removed]",
      "text/plain": [
       "<Figure size 432x288 with 1 Axes>"
      ]
     },
     "metadata": {
      "needs_background": "light"
     },
     "output_type": "display_data"
    }
   ],
   "source": [
    "plt.plot(sorted(df.month.unique()), df.groupby(\"month\").agg({\"id\": \"count\"}))\n",
    "plt.title(\"Amount of customers by month\")"
   ]
  },
  {
   "cell_type": "code",
   "execution_count": 10,
   "metadata": {
    "ExecuteTime": {
     "end_time": "2019-09-26T20:33:22.408901Z",
     "start_time": "2019-09-26T20:33:21.774585Z"
    },
    "slideshow": {
     "slide_type": "slide"
    }
   },
   "outputs": [
    {
     "data": {
      "image/png": "[encoded data removed]",
      "text/plain": [
       "<Figure size 576x576 with 4 Axes>"
      ]
     },
     "metadata": {
      "needs_background": "light"
     },
     "output_type": "display_data"
    }
   ],
   "source": [
    "fig, axes = plt.subplots(2, 2, figsize=(8,8))\n",
    "axes[0, 0].hist(df.bureau_score, range(0, 1000, 50))\n",
    "axes[1, 0].hist(df.income, range(300, 20000, 500))\n",
    "axes[0, 1].hist(df.spend_desire)\n",
    "axes[1, 1].hist(df.monthly_spend, range(0, 10000, 500))\n",
    "\n",
    "titles = [\"bureau_histogram\", \"income_histogram\", \"spend_desire_histogram\", \"monthly_spend_histogram\"]\n",
    "axes[0, 0].set_title(titles[0])\n",
    "axes[1, 0].set_title(titles[1])\n",
    "axes[0, 1].set_title(titles[2])\n",
    "axes[1, 1].set_title(titles[3])\n",
    "plt.show()"
   ]
  },
  {
   "cell_type": "code",
   "execution_count": 11,
   "metadata": {
    "ExecuteTime": {
     "end_time": "2019-09-26T20:33:34.377343Z",
     "start_time": "2019-09-26T20:33:24.855505Z"
    },
    "slideshow": {
     "slide_type": "slide"
    }
   },
   "outputs": [
    {
     "data": {
      "image/png": "[encoded data removed]",
      "text/plain": [
       "<Figure size 720x720 with 4 Axes>"
      ]
     },
     "metadata": {
      "needs_background": "light"
     },
     "output_type": "display_data"
    }
   ],
   "source": [
    "fig, axes = plt.subplots(2, 2, figsize=(10,10))\n",
    "sns.pointplot(x=\"month\", y=\"bureau_score\", data=df, ax=axes[0, 0])\n",
    "sns.pointplot(x=\"month\", y=\"income\", data=df, ax=axes[1, 0])\n",
    "sns.pointplot(x=\"month\", y=\"spend_desire\", data=df, ax=axes[0, 1])\n",
    "sns.pointplot(x=\"month\", y=\"monthly_spend\", data=df, ax=axes[1, 1])\n",
    "plt.show()"
   ]
  },
  {
   "cell_type": "markdown",
   "metadata": {
    "slideshow": {
     "slide_type": "slide"
    }
   },
   "source": [
    "## Target Analysis"
   ]
  },
  {
   "cell_type": "code",
   "execution_count": 12,
   "metadata": {
    "ExecuteTime": {
     "end_time": "2019-09-26T20:33:34.414327Z",
     "start_time": "2019-09-26T20:33:34.379476Z"
    },
    "slideshow": {
     "slide_type": "fragment"
    }
   },
   "outputs": [
    {
     "data": {
      "text/html": [
       "<div>\n",
       "<style scoped>\n",
       "    .dataframe tbody tr th:only-of-type {\n",
       "        vertical-align: middle;\n",
       "    }\n",
       "\n",
       "    .dataframe tbody tr th {\n",
       "        vertical-align: top;\n",
       "    }\n",
       "\n",
       "    .dataframe thead th {\n",
       "        text-align: right;\n",
       "    }\n",
       "</style>\n",
       "<table border=\"1\" class=\"dataframe\">\n",
       "  <thead>\n",
       "    <tr style=\"text-align: right;\">\n",
       "      <th></th>\n",
       "      <th>null_count_by_month</th>\n",
       "    </tr>\n",
       "    <tr>\n",
       "      <th>month_date</th>\n",
       "      <th></th>\n",
       "    </tr>\n",
       "  </thead>\n",
       "  <tbody>\n",
       "    <tr>\n",
       "      <th>2017-02-01</th>\n",
       "      <td>0</td>\n",
       "    </tr>\n",
       "    <tr>\n",
       "      <th>2017-03-04</th>\n",
       "      <td>0</td>\n",
       "    </tr>\n",
       "    <tr>\n",
       "      <th>2017-04-04</th>\n",
       "      <td>0</td>\n",
       "    </tr>\n",
       "    <tr>\n",
       "      <th>2017-05-05</th>\n",
       "      <td>0</td>\n",
       "    </tr>\n",
       "    <tr>\n",
       "      <th>2017-06-05</th>\n",
       "      <td>0</td>\n",
       "    </tr>\n",
       "    <tr>\n",
       "      <th>2017-07-06</th>\n",
       "      <td>0</td>\n",
       "    </tr>\n",
       "    <tr>\n",
       "      <th>2017-08-06</th>\n",
       "      <td>0</td>\n",
       "    </tr>\n",
       "    <tr>\n",
       "      <th>2017-09-06</th>\n",
       "      <td>0</td>\n",
       "    </tr>\n",
       "    <tr>\n",
       "      <th>2017-10-07</th>\n",
       "      <td>0</td>\n",
       "    </tr>\n",
       "    <tr>\n",
       "      <th>2017-11-07</th>\n",
       "      <td>0</td>\n",
       "    </tr>\n",
       "    <tr>\n",
       "      <th>2017-12-08</th>\n",
       "      <td>0</td>\n",
       "    </tr>\n",
       "    <tr>\n",
       "      <th>2018-01-08</th>\n",
       "      <td>0</td>\n",
       "    </tr>\n",
       "    <tr>\n",
       "      <th>2018-02-08</th>\n",
       "      <td>0</td>\n",
       "    </tr>\n",
       "    <tr>\n",
       "      <th>2018-03-11</th>\n",
       "      <td>0</td>\n",
       "    </tr>\n",
       "    <tr>\n",
       "      <th>2018-04-11</th>\n",
       "      <td>0</td>\n",
       "    </tr>\n",
       "    <tr>\n",
       "      <th>2018-05-12</th>\n",
       "      <td>0</td>\n",
       "    </tr>\n",
       "    <tr>\n",
       "      <th>2018-06-12</th>\n",
       "      <td>0</td>\n",
       "    </tr>\n",
       "    <tr>\n",
       "      <th>2018-07-13</th>\n",
       "      <td>0</td>\n",
       "    </tr>\n",
       "    <tr>\n",
       "      <th>2018-08-13</th>\n",
       "      <td>0</td>\n",
       "    </tr>\n",
       "    <tr>\n",
       "      <th>2018-09-13</th>\n",
       "      <td>0</td>\n",
       "    </tr>\n",
       "    <tr>\n",
       "      <th>2018-10-14</th>\n",
       "      <td>0</td>\n",
       "    </tr>\n",
       "    <tr>\n",
       "      <th>2018-11-14</th>\n",
       "      <td>9600</td>\n",
       "    </tr>\n",
       "    <tr>\n",
       "      <th>2018-12-15</th>\n",
       "      <td>10000</td>\n",
       "    </tr>\n",
       "  </tbody>\n",
       "</table>\n",
       "</div>"
      ],
      "text/plain": [
       "            null_count_by_month\n",
       "month_date                     \n",
       "2017-02-01                    0\n",
       "2017-03-04                    0\n",
       "2017-04-04                    0\n",
       "2017-05-05                    0\n",
       "2017-06-05                    0\n",
       "2017-07-06                    0\n",
       "2017-08-06                    0\n",
       "2017-09-06                    0\n",
       "2017-10-07                    0\n",
       "2017-11-07                    0\n",
       "2017-12-08                    0\n",
       "2018-01-08                    0\n",
       "2018-02-08                    0\n",
       "2018-03-11                    0\n",
       "2018-04-11                    0\n",
       "2018-05-12                    0\n",
       "2018-06-12                    0\n",
       "2018-07-13                    0\n",
       "2018-08-13                    0\n",
       "2018-09-13                    0\n",
       "2018-10-14                    0\n",
       "2018-11-14                 9600\n",
       "2018-12-15                10000"
      ]
     },
     "execution_count": 12,
     "metadata": {},
     "output_type": "execute_result"
    }
   ],
   "source": [
    "pd.DataFrame(df.groupby(\"month_date\").apply(lambda x: x.target.isna().sum()), columns=[\"null_count_by_month\"])"
   ]
  },
  {
   "cell_type": "code",
   "execution_count": 13,
   "metadata": {
    "ExecuteTime": {
     "end_time": "2019-09-26T20:33:36.514225Z",
     "start_time": "2019-09-26T20:33:34.417090Z"
    },
    "slideshow": {
     "slide_type": "slide"
    }
   },
   "outputs": [
    {
     "data": {
      "text/plain": [
       "<matplotlib.axes._subplots.AxesSubplot at 0x10bce9748>"
      ]
     },
     "execution_count": 13,
     "metadata": {},
     "output_type": "execute_result"
    },
    {
     "data": {
      "image/png": "[encoded data removed]",
      "text/plain": [
       "<Figure size 432x288 with 1 Axes>"
      ]
     },
     "metadata": {
      "needs_background": "light"
     },
     "output_type": "display_data"
    }
   ],
   "source": [
    "sns.pointplot(x=\"month\", y=\"target\", data=df)"
   ]
  },
  {
   "cell_type": "markdown",
   "metadata": {
    "slideshow": {
     "slide_type": "slide"
    }
   },
   "source": [
    "# Getting started with fklearn: Creating a simple model\n",
    "\n",
    "* <font size=\"4\"> FKlearn is focused on creating production ready models but is flexible to be used at research and learning tasks</font>\n",
    "\n",
    "\n",
    "* <font size=\"4\"> Tradional steps of training a model like: Train-Test Splitting, Training and Validating are all implemented on fklearn </font>"
   ]
  },
  {
   "cell_type": "markdown",
   "metadata": {
    "slideshow": {
     "slide_type": "slide"
    }
   },
   "source": [
    "## Spliting the dataset into train and holdout\n",
    "\n",
    "* <font size=\"4\"> On real problems we want to validate our model both in the same period and also on a different period to guarantee our model is a good predictor for the future </font>\n",
    "\n",
    "\n",
    "* <font size=\"4\"> On this case of customers spend we also would like to validate the performance of the model on a different set of customers to check for overfitting in the population </font>\n",
    "<img src=\"imgs/Splitting_Data.png\">"
   ]
  },
  {
   "cell_type": "code",
   "execution_count": 14,
   "metadata": {
    "ExecuteTime": {
     "end_time": "2019-09-26T20:49:37.576431Z",
     "start_time": "2019-09-26T20:49:37.529755Z"
    },
    "slideshow": {
     "slide_type": "slide"
    }
   },
   "outputs": [],
   "source": [
    "from fklearn.preprocessing.splitting import space_time_split_dataset\n",
    "\n",
    "train_set, intime_outspace_hdout, outime_inspace_hdout, outime_outspace_hdout = \\\n",
    "                                        space_time_split_dataset(df,\n",
    "                                                 train_start_date=\"2017-02-01\",\n",
    "                                                 train_end_date=\"2018-07-01\",\n",
    "                                                 holdout_end_date=\"2018-10-01\",\n",
    "                                                 split_seed=42,\n",
    "                                                 space_holdout_percentage=0.2,\n",
    "                                                 space_column=\"id\",\n",
    "                                                 time_column=\"month_date\")"
   ]
  },
  {
   "cell_type": "code",
   "execution_count": 15,
   "metadata": {
    "ExecuteTime": {
     "end_time": "2019-09-26T20:49:38.861828Z",
     "start_time": "2019-09-26T20:49:38.857455Z"
    },
    "slideshow": {
     "slide_type": "fragment"
    }
   },
   "outputs": [
    {
     "data": {
      "text/plain": [
       "((54206, 12), (13421, 12), (25055, 12), (4488, 12))"
      ]
     },
     "execution_count": 15,
     "metadata": {},
     "output_type": "execute_result"
    }
   ],
   "source": [
    "(train_set.shape, \n",
    " intime_outspace_hdout.shape, \n",
    " outime_inspace_hdout.shape,\n",
    " outime_outspace_hdout.shape)"
   ]
  },
  {
   "cell_type": "markdown",
   "metadata": {
    "slideshow": {
     "slide_type": "slide"
    }
   },
   "source": [
    "## Training:\n",
    "<font size=\"4\"> *On the training process we want:* </font>\n",
    "\n",
    "* <font size=\"4\">  **Cap features** that have unexpected values </font>\n",
    "\n",
    "\n",
    "* <font size=\"4\"> **Encode categorical features** </font>\n",
    "\n",
    "\n",
    "* <font size=\"4\">  **Fill missing values** </font>\n",
    "\n",
    "\n",
    "* <font size=\"4\">  **Train our model** </font>\n",
    "\n",
    "\n",
    "* <font size=\"4\"> We want to apply this **same transformations when scoring our model**, similarly to the fit and transform concept from sklearn </font>\n"
   ]
  },
  {
   "cell_type": "markdown",
   "metadata": {
    "ExecuteTime": {
     "end_time": "2019-04-24T16:17:39.071198Z",
     "start_time": "2019-04-24T16:17:39.067285Z"
    },
    "slideshow": {
     "slide_type": "slide"
    }
   },
   "source": [
    "\n",
    "<img src=\"imgs/Pipeline.png\">"
   ]
  },
  {
   "cell_type": "markdown",
   "metadata": {},
   "source": [
    "\n",
    "<img src=\"imgs/partial-functions.png\">"
   ]
  },
  {
   "cell_type": "code",
   "execution_count": 16,
   "metadata": {
    "ExecuteTime": {
     "end_time": "2019-09-26T20:49:44.466374Z",
     "start_time": "2019-09-26T20:49:43.895409Z"
    },
    "slideshow": {
     "slide_type": "slide"
    }
   },
   "outputs": [],
   "source": [
    "from fklearn.training.transformation import capper, prediction_ranger, label_categorizer\n",
    "from fklearn.training.imputation import imputer\n",
    "from fklearn.training.regression import lgbm_regression_learner\n",
    "capper_fn = capper(columns_to_cap=[\"income\"], precomputed_caps={\"income\": 20000.0})\n",
    "ranger_fn = prediction_ranger(prediction_min=0.0, prediction_max=100000.0, prediction_column=\"prediction\")\n",
    "label_fn = label_categorizer(columns_to_categorize=[\"phone_type\"])\n",
    "imputer_fn = imputer(columns_to_impute=[\"bureau_score\"], impute_strategy=\"median\")\n",
    "regression_fn = lgbm_regression_learner(features=features, target=\"target\", learning_rate=0.1, num_estimators=200)"
   ]
  },
  {
   "cell_type": "code",
   "execution_count": 17,
   "metadata": {
    "ExecuteTime": {
     "end_time": "2019-09-26T20:49:44.749046Z",
     "start_time": "2019-09-26T20:49:44.742850Z"
    },
    "slideshow": {
     "slide_type": "fragment"
    }
   },
   "outputs": [],
   "source": [
    "from fklearn.training.pipeline import build_pipeline\n",
    "train_fn = build_pipeline(label_fn, capper_fn, imputer_fn, regression_fn, ranger_fn)"
   ]
  },
  {
   "cell_type": "code",
   "execution_count": 18,
   "metadata": {
    "ExecuteTime": {
     "end_time": "2019-09-26T20:49:46.059635Z",
     "start_time": "2019-09-26T20:49:45.463989Z"
    },
    "slideshow": {
     "slide_type": "fragment"
    }
   },
   "outputs": [
    {
     "name": "stderr",
     "output_type": "stream",
     "text": [
      "/Users/henriquelopes/miniconda3/lib/python3.6/site-packages/sklearn/utils/deprecation.py:66: DeprecationWarning: Class Imputer is deprecated; Imputer was deprecated in version 0.20 and will be removed in 0.22. Import impute.SimpleImputer from sklearn instead.\n",
      "  warnings.warn(msg, category=DeprecationWarning)\n"
     ]
    }
   ],
   "source": [
    "predict_fn, scored_train_set, train_logs = train_fn(train_set)"
   ]
  },
  {
   "cell_type": "code",
   "execution_count": 19,
   "metadata": {
    "ExecuteTime": {
     "end_time": "2019-09-26T20:49:46.084073Z",
     "start_time": "2019-09-26T20:49:46.062419Z"
    },
    "slideshow": {
     "slide_type": "slide"
    }
   },
   "outputs": [
    {
     "data": {
      "text/html": [
       "<div>\n",
       "<style scoped>\n",
       "    .dataframe tbody tr th:only-of-type {\n",
       "        vertical-align: middle;\n",
       "    }\n",
       "\n",
       "    .dataframe tbody tr th {\n",
       "        vertical-align: top;\n",
       "    }\n",
       "\n",
       "    .dataframe thead th {\n",
       "        text-align: right;\n",
       "    }\n",
       "</style>\n",
       "<table border=\"1\" class=\"dataframe\">\n",
       "  <thead>\n",
       "    <tr style=\"text-align: right;\">\n",
       "      <th></th>\n",
       "      <th>id</th>\n",
       "      <th>month</th>\n",
       "      <th>income</th>\n",
       "      <th>created_at</th>\n",
       "      <th>phone_type</th>\n",
       "      <th>bureau_score</th>\n",
       "      <th>spend_desire</th>\n",
       "      <th>random_noise</th>\n",
       "      <th>monthly_spend</th>\n",
       "      <th>month_date</th>\n",
       "      <th>avg_last_2_months_spend</th>\n",
       "      <th>target</th>\n",
       "      <th>prediction</th>\n",
       "    </tr>\n",
       "  </thead>\n",
       "  <tbody>\n",
       "    <tr>\n",
       "      <th>9</th>\n",
       "      <td>2</td>\n",
       "      <td>3</td>\n",
       "      <td>2424.105189</td>\n",
       "      <td>2017-03-28</td>\n",
       "      <td>0</td>\n",
       "      <td>611.650913</td>\n",
       "      <td>641.98234</td>\n",
       "      <td>858.263250</td>\n",
       "      <td>3059.915274</td>\n",
       "      <td>2017-04-04</td>\n",
       "      <td>NaN</td>\n",
       "      <td>3492.075105</td>\n",
       "      <td>2886.165513</td>\n",
       "    </tr>\n",
       "    <tr>\n",
       "      <th>10</th>\n",
       "      <td>2</td>\n",
       "      <td>4</td>\n",
       "      <td>20000.000000</td>\n",
       "      <td>2017-03-28</td>\n",
       "      <td>0</td>\n",
       "      <td>310.829209</td>\n",
       "      <td>641.98234</td>\n",
       "      <td>984.614824</td>\n",
       "      <td>4447.520879</td>\n",
       "      <td>2017-05-05</td>\n",
       "      <td>3753.718077</td>\n",
       "      <td>2425.698944</td>\n",
       "      <td>2788.816923</td>\n",
       "    </tr>\n",
       "    <tr>\n",
       "      <th>11</th>\n",
       "      <td>2</td>\n",
       "      <td>5</td>\n",
       "      <td>2424.105189</td>\n",
       "      <td>2017-03-28</td>\n",
       "      <td>0</td>\n",
       "      <td>310.829209</td>\n",
       "      <td>641.98234</td>\n",
       "      <td>1004.881140</td>\n",
       "      <td>2536.629332</td>\n",
       "      <td>2017-06-05</td>\n",
       "      <td>3492.075105</td>\n",
       "      <td>2256.332465</td>\n",
       "      <td>2783.500567</td>\n",
       "    </tr>\n",
       "    <tr>\n",
       "      <th>12</th>\n",
       "      <td>2</td>\n",
       "      <td>6</td>\n",
       "      <td>2424.105189</td>\n",
       "      <td>2017-03-28</td>\n",
       "      <td>0</td>\n",
       "      <td>156.248181</td>\n",
       "      <td>641.98234</td>\n",
       "      <td>960.071795</td>\n",
       "      <td>2314.768557</td>\n",
       "      <td>2017-07-06</td>\n",
       "      <td>2425.698944</td>\n",
       "      <td>3476.051462</td>\n",
       "      <td>2758.309663</td>\n",
       "    </tr>\n",
       "    <tr>\n",
       "      <th>13</th>\n",
       "      <td>2</td>\n",
       "      <td>7</td>\n",
       "      <td>2424.105189</td>\n",
       "      <td>2017-03-28</td>\n",
       "      <td>0</td>\n",
       "      <td>167.091261</td>\n",
       "      <td>641.98234</td>\n",
       "      <td>991.301503</td>\n",
       "      <td>2197.896373</td>\n",
       "      <td>2017-08-06</td>\n",
       "      <td>2256.332465</td>\n",
       "      <td>3648.279899</td>\n",
       "      <td>2789.522977</td>\n",
       "    </tr>\n",
       "  </tbody>\n",
       "</table>\n",
       "</div>"
      ],
      "text/plain": [
       "    id  month        income  created_at  phone_type  bureau_score  \\\n",
       "9    2      3   2424.105189  2017-03-28           0    611.650913   \n",
       "10   2      4  20000.000000  2017-03-28           0    310.829209   \n",
       "11   2      5   2424.105189  2017-03-28           0    310.829209   \n",
       "12   2      6   2424.105189  2017-03-28           0    156.248181   \n",
       "13   2      7   2424.105189  2017-03-28           0    167.091261   \n",
       "\n",
       "    spend_desire  random_noise  monthly_spend month_date  \\\n",
       "9      641.98234    858.263250    3059.915274 2017-04-04   \n",
       "10     641.98234    984.614824    4447.520879 2017-05-05   \n",
       "11     641.98234   1004.881140    2536.629332 2017-06-05   \n",
       "12     641.98234    960.071795    2314.768557 2017-07-06   \n",
       "13     641.98234    991.301503    2197.896373 2017-08-06   \n",
       "\n",
       "    avg_last_2_months_spend       target   prediction  \n",
       "9                       NaN  3492.075105  2886.165513  \n",
       "10              3753.718077  2425.698944  2788.816923  \n",
       "11              3492.075105  2256.332465  2783.500567  \n",
       "12              2425.698944  3476.051462  2758.309663  \n",
       "13              2256.332465  3648.279899  2789.522977  "
      ]
     },
     "execution_count": 19,
     "metadata": {},
     "output_type": "execute_result"
    }
   ],
   "source": [
    "scored_train_set.head()"
   ]
  },
  {
   "cell_type": "code",
   "execution_count": 20,
   "metadata": {
    "ExecuteTime": {
     "end_time": "2019-09-26T20:49:48.433435Z",
     "start_time": "2019-09-26T20:49:48.424113Z"
    },
    "slideshow": {
     "slide_type": "slide"
    }
   },
   "outputs": [
    {
     "data": {
      "text/html": [
       "<div>\n",
       "<style scoped>\n",
       "    .dataframe tbody tr th:only-of-type {\n",
       "        vertical-align: middle;\n",
       "    }\n",
       "\n",
       "    .dataframe tbody tr th {\n",
       "        vertical-align: top;\n",
       "    }\n",
       "\n",
       "    .dataframe thead th {\n",
       "        text-align: right;\n",
       "    }\n",
       "</style>\n",
       "<table border=\"1\" class=\"dataframe\">\n",
       "  <thead>\n",
       "    <tr style=\"text-align: right;\">\n",
       "      <th></th>\n",
       "      <th>importance</th>\n",
       "    </tr>\n",
       "  </thead>\n",
       "  <tbody>\n",
       "    <tr>\n",
       "      <th>avg_last_2_months_spend</th>\n",
       "      <td>1149</td>\n",
       "    </tr>\n",
       "    <tr>\n",
       "      <th>spend_desire</th>\n",
       "      <td>1129</td>\n",
       "    </tr>\n",
       "    <tr>\n",
       "      <th>bureau_score</th>\n",
       "      <td>987</td>\n",
       "    </tr>\n",
       "    <tr>\n",
       "      <th>income</th>\n",
       "      <td>967</td>\n",
       "    </tr>\n",
       "    <tr>\n",
       "      <th>monthly_spend</th>\n",
       "      <td>960</td>\n",
       "    </tr>\n",
       "    <tr>\n",
       "      <th>random_noise</th>\n",
       "      <td>808</td>\n",
       "    </tr>\n",
       "  </tbody>\n",
       "</table>\n",
       "</div>"
      ],
      "text/plain": [
       "                         importance\n",
       "avg_last_2_months_spend        1149\n",
       "spend_desire                   1129\n",
       "bureau_score                    987\n",
       "income                          967\n",
       "monthly_spend                   960\n",
       "random_noise                    808"
      ]
     },
     "execution_count": 20,
     "metadata": {},
     "output_type": "execute_result"
    }
   ],
   "source": [
    "pd.options.display.max_rows = 120\n",
    "pd.DataFrame(train_logs['lgbm_regression_learner']['feature_importance'], \n",
    "             index=[\"importance\"]).T.sort_values(\"importance\", ascending=False)"
   ]
  },
  {
   "cell_type": "code",
   "execution_count": 21,
   "metadata": {
    "ExecuteTime": {
     "end_time": "2019-09-26T20:49:53.299682Z",
     "start_time": "2019-09-26T20:49:53.115017Z"
    },
    "slideshow": {
     "slide_type": "slide"
    }
   },
   "outputs": [],
   "source": [
    "scored_outime_outspace_hdout = predict_fn(outime_outspace_hdout)\n",
    "scored_intime_outspace_hdout = predict_fn(intime_outspace_hdout)\n",
    "scored_outime_inspace_hdout = predict_fn(outime_inspace_hdout)"
   ]
  },
  {
   "cell_type": "code",
   "execution_count": 22,
   "metadata": {
    "ExecuteTime": {
     "end_time": "2019-09-26T20:49:54.013179Z",
     "start_time": "2019-09-26T20:49:53.938932Z"
    },
    "slideshow": {
     "slide_type": "fragment"
    }
   },
   "outputs": [
    {
     "data": {
      "text/html": [
       "<div>\n",
       "<style scoped>\n",
       "    .dataframe tbody tr th:only-of-type {\n",
       "        vertical-align: middle;\n",
       "    }\n",
       "\n",
       "    .dataframe tbody tr th {\n",
       "        vertical-align: top;\n",
       "    }\n",
       "\n",
       "    .dataframe thead th {\n",
       "        text-align: right;\n",
       "    }\n",
       "</style>\n",
       "<table border=\"1\" class=\"dataframe\">\n",
       "  <thead>\n",
       "    <tr style=\"text-align: right;\">\n",
       "      <th></th>\n",
       "      <th>id</th>\n",
       "      <th>month_date</th>\n",
       "      <th>income</th>\n",
       "      <th>bureau_score</th>\n",
       "      <th>target</th>\n",
       "      <th>prediction</th>\n",
       "    </tr>\n",
       "  </thead>\n",
       "  <tbody>\n",
       "    <tr>\n",
       "      <th>1</th>\n",
       "      <td>0</td>\n",
       "      <td>2018-07-13</td>\n",
       "      <td>5015.685403</td>\n",
       "      <td>522.001029</td>\n",
       "      <td>3228.706602</td>\n",
       "      <td>3451.870684</td>\n",
       "    </tr>\n",
       "    <tr>\n",
       "      <th>2</th>\n",
       "      <td>0</td>\n",
       "      <td>2018-08-13</td>\n",
       "      <td>5015.685403</td>\n",
       "      <td>381.931691</td>\n",
       "      <td>3357.249359</td>\n",
       "      <td>3210.763017</td>\n",
       "    </tr>\n",
       "    <tr>\n",
       "      <th>3</th>\n",
       "      <td>0</td>\n",
       "      <td>2018-09-13</td>\n",
       "      <td>5015.685403</td>\n",
       "      <td>316.660045</td>\n",
       "      <td>3358.220025</td>\n",
       "      <td>3385.630512</td>\n",
       "    </tr>\n",
       "    <tr>\n",
       "      <th>148</th>\n",
       "      <td>13</td>\n",
       "      <td>2018-07-13</td>\n",
       "      <td>20000.000000</td>\n",
       "      <td>330.107289</td>\n",
       "      <td>2107.578901</td>\n",
       "      <td>2398.327320</td>\n",
       "    </tr>\n",
       "    <tr>\n",
       "      <th>149</th>\n",
       "      <td>13</td>\n",
       "      <td>2018-08-13</td>\n",
       "      <td>1731.884844</td>\n",
       "      <td>260.790931</td>\n",
       "      <td>2091.307307</td>\n",
       "      <td>2328.283377</td>\n",
       "    </tr>\n",
       "  </tbody>\n",
       "</table>\n",
       "</div>"
      ],
      "text/plain": [
       "     id month_date        income  bureau_score       target   prediction\n",
       "1     0 2018-07-13   5015.685403    522.001029  3228.706602  3451.870684\n",
       "2     0 2018-08-13   5015.685403    381.931691  3357.249359  3210.763017\n",
       "3     0 2018-09-13   5015.685403    316.660045  3358.220025  3385.630512\n",
       "148  13 2018-07-13  20000.000000    330.107289  2107.578901  2398.327320\n",
       "149  13 2018-08-13   1731.884844    260.790931  2091.307307  2328.283377"
      ]
     },
     "execution_count": 22,
     "metadata": {},
     "output_type": "execute_result"
    }
   ],
   "source": [
    "scored_outime_outspace_hdout[[\"id\", \"month_date\", \"income\", \"bureau_score\", \"target\", \"prediction\"]].head()"
   ]
  },
  {
   "cell_type": "markdown",
   "metadata": {
    "slideshow": {
     "slide_type": "slide"
    }
   },
   "source": [
    "## Evaluation:\n",
    "* <font size=\"4\"> We want to evaluate the performance of our model using multiple metrics for each dataframe (out_of_time, out_of_space, out_of_time_and_space) </font>\n",
    "\n",
    "\n",
    "<img src=\"imgs/EvalFn.png\">"
   ]
  },
  {
   "cell_type": "code",
   "execution_count": 23,
   "metadata": {
    "ExecuteTime": {
     "end_time": "2019-09-26T20:49:55.409119Z",
     "start_time": "2019-09-26T20:49:55.402097Z"
    },
    "slideshow": {
     "slide_type": "slide"
    }
   },
   "outputs": [],
   "source": [
    "from fklearn.validation.evaluators import r2_evaluator, spearman_evaluator, combined_evaluators"
   ]
  },
  {
   "cell_type": "code",
   "execution_count": 24,
   "metadata": {
    "ExecuteTime": {
     "end_time": "2019-09-26T20:49:55.836022Z",
     "start_time": "2019-09-26T20:49:55.832101Z"
    },
    "slideshow": {
     "slide_type": "fragment"
    }
   },
   "outputs": [],
   "source": [
    "r2_eval_fn = r2_evaluator(prediction_column=\"prediction\", target_column=\"target\")\n",
    "spearman_eval_fn = spearman_evaluator(prediction_column=\"prediction\", target_column=\"target\")\n",
    "eval_fn = combined_evaluators(evaluators=[r2_eval_fn, spearman_eval_fn])"
   ]
  },
  {
   "cell_type": "code",
   "execution_count": 25,
   "metadata": {
    "ExecuteTime": {
     "end_time": "2019-09-26T20:49:56.333094Z",
     "start_time": "2019-09-26T20:49:56.292794Z"
    },
    "slideshow": {
     "slide_type": "slide"
    }
   },
   "outputs": [],
   "source": [
    "outime_outspace_hdout_logs = eval_fn(scored_outime_outspace_hdout)\n",
    "intime_outspace_hdout_logs = eval_fn(scored_intime_outspace_hdout)\n",
    "outime_inspace_hdout_logs = eval_fn(scored_outime_inspace_hdout)"
   ]
  },
  {
   "cell_type": "code",
   "execution_count": 26,
   "metadata": {
    "ExecuteTime": {
     "end_time": "2019-09-26T20:49:56.773191Z",
     "start_time": "2019-09-26T20:49:56.768896Z"
    },
    "slideshow": {
     "slide_type": "fragment"
    }
   },
   "outputs": [
    {
     "data": {
      "text/plain": [
       "{'out_of_time': {'r2_evaluator__target': 0.5956009555286967,\n",
       "  'spearman_evaluator__target': 0.7892796752342339},\n",
       " 'in_time': {'r2_evaluator__target': 0.588576925917941,\n",
       "  'spearman_evaluator__target': 0.787194941139121},\n",
       " 'out_of_time_and_space': {'r2_evaluator__target': 0.5749628505861282,\n",
       "  'spearman_evaluator__target': 0.7790056568693072}}"
      ]
     },
     "execution_count": 26,
     "metadata": {},
     "output_type": "execute_result"
    }
   ],
   "source": [
    "{\"out_of_time\": outime_outspace_hdout_logs, \n",
    " \"in_time\": intime_outspace_hdout_logs,\n",
    "  \"out_of_time_and_space\": outime_inspace_hdout_logs}"
   ]
  },
  {
   "cell_type": "markdown",
   "metadata": {
    "slideshow": {
     "slide_type": "slide"
    }
   },
   "source": [
    "## Extractors\n",
    "* <font size=\"4\"> We want to transform this logs into dataframes that we can visualize better </font>\n",
    "\n",
    "<img src=\"imgs/Extractor.png\" style=\"width: 500px;\">"
   ]
  },
  {
   "cell_type": "code",
   "execution_count": 27,
   "metadata": {
    "ExecuteTime": {
     "end_time": "2019-09-26T20:49:58.042135Z",
     "start_time": "2019-09-26T20:49:58.033949Z"
    },
    "slideshow": {
     "slide_type": "slide"
    }
   },
   "outputs": [],
   "source": [
    "from fklearn.metrics.pd_extractors import evaluator_extractor, combined_evaluator_extractor, extract\n",
    "r2_extractor = evaluator_extractor(evaluator_name=\"r2_evaluator__target\")\n",
    "spearman_extractor = evaluator_extractor(evaluator_name=\"spearman_evaluator__target\")\n",
    "full_extractor = combined_evaluator_extractor(base_extractors=[r2_extractor, spearman_extractor])"
   ]
  },
  {
   "cell_type": "code",
   "execution_count": 28,
   "metadata": {
    "ExecuteTime": {
     "end_time": "2019-09-26T20:49:58.519777Z",
     "start_time": "2019-09-26T20:49:58.504037Z"
    },
    "slideshow": {
     "slide_type": "fragment"
    }
   },
   "outputs": [
    {
     "data": {
      "text/html": [
       "<div>\n",
       "<style scoped>\n",
       "    .dataframe tbody tr th:only-of-type {\n",
       "        vertical-align: middle;\n",
       "    }\n",
       "\n",
       "    .dataframe tbody tr th {\n",
       "        vertical-align: top;\n",
       "    }\n",
       "\n",
       "    .dataframe thead th {\n",
       "        text-align: right;\n",
       "    }\n",
       "</style>\n",
       "<table border=\"1\" class=\"dataframe\">\n",
       "  <thead>\n",
       "    <tr style=\"text-align: right;\">\n",
       "      <th></th>\n",
       "      <th>r2_evaluator__target</th>\n",
       "      <th>spearman_evaluator__target</th>\n",
       "      <th>part</th>\n",
       "    </tr>\n",
       "  </thead>\n",
       "  <tbody>\n",
       "    <tr>\n",
       "      <th>0</th>\n",
       "      <td>0.595601</td>\n",
       "      <td>0.789280</td>\n",
       "      <td>out_of_time</td>\n",
       "    </tr>\n",
       "    <tr>\n",
       "      <th>0</th>\n",
       "      <td>0.588577</td>\n",
       "      <td>0.787195</td>\n",
       "      <td>in_time_out_of_space</td>\n",
       "    </tr>\n",
       "    <tr>\n",
       "      <th>0</th>\n",
       "      <td>0.574963</td>\n",
       "      <td>0.779006</td>\n",
       "      <td>out_of_time_and_space</td>\n",
       "    </tr>\n",
       "  </tbody>\n",
       "</table>\n",
       "</div>"
      ],
      "text/plain": [
       "   r2_evaluator__target  spearman_evaluator__target                   part\n",
       "0              0.595601                    0.789280            out_of_time\n",
       "0              0.588577                    0.787195   in_time_out_of_space\n",
       "0              0.574963                    0.779006  out_of_time_and_space"
      ]
     },
     "execution_count": 28,
     "metadata": {},
     "output_type": "execute_result"
    }
   ],
   "source": [
    "pd.concat(\n",
    "    [full_extractor(outime_outspace_hdout_logs).assign(part=\"out_of_time\"),\n",
    "    full_extractor(intime_outspace_hdout_logs).assign(part=\"in_time_out_of_space\"),\n",
    "    full_extractor(outime_inspace_hdout_logs).assign(part=\"out_of_time_and_space\")])"
   ]
  },
  {
   "cell_type": "markdown",
   "metadata": {
    "slideshow": {
     "slide_type": "slide"
    }
   },
   "source": [
    "# Learning Curves:\n",
    "\n",
    "<img src=\"imgs/LearningCurves.png\">\n",
    "\n",
    "<font size=\"5\"> We can reuse our previously defined training function and evaluators! </font>\n"
   ]
  },
  {
   "cell_type": "markdown",
   "metadata": {
    "slideshow": {
     "slide_type": "slide"
    }
   },
   "source": [
    "## Could we improve if we had more data?? AKA Spatial Learning Curve\n",
    "\n",
    "* <font size=\"4\"> If we had more data we could use that for training and see how much the model improves </font>\n",
    "\n",
    "\n",
    "* <font size=\"4\"> To estimate that we can train with subsamples of the full training set and check how performance changes </font>\n"
   ]
  },
  {
   "cell_type": "markdown",
   "metadata": {
    "slideshow": {
     "slide_type": "slide"
    }
   },
   "source": [
    "<img src=\"imgs/SpatialLearningCurves.png\">"
   ]
  },
  {
   "cell_type": "markdown",
   "metadata": {
    "ExecuteTime": {
     "end_time": "2019-06-26T11:16:10.506298Z",
     "start_time": "2019-06-26T11:16:10.468783Z"
    }
   },
   "source": [
    "<img src=\"imgs/validation-explanation.png\">"
   ]
  },
  {
   "cell_type": "code",
   "execution_count": 29,
   "metadata": {
    "ExecuteTime": {
     "end_time": "2019-09-26T20:50:03.265747Z",
     "start_time": "2019-09-26T20:50:03.257797Z"
    },
    "slideshow": {
     "slide_type": "slide"
    }
   },
   "outputs": [],
   "source": [
    "from fklearn.validation.splitters import spatial_learning_curve_splitter\n",
    "\n",
    "split_fn = spatial_learning_curve_splitter(space_column=\"id\", \n",
    "                                           time_column=\"month_date\",\n",
    "                                           training_limit=\"2018-04-01\", \n",
    "                                           train_percentages=[0.1, 0.2, 0.4, 0.6, 0.8, 1.0])"
   ]
  },
  {
   "cell_type": "code",
   "execution_count": 30,
   "metadata": {
    "ExecuteTime": {
     "end_time": "2019-09-26T20:50:12.703263Z",
     "start_time": "2019-09-26T20:50:03.719655Z"
    },
    "slideshow": {
     "slide_type": "fragment"
    }
   },
   "outputs": [
    {
     "name": "stderr",
     "output_type": "stream",
     "text": [
      "/Users/henriquelopes/miniconda3/lib/python3.6/site-packages/sklearn/utils/deprecation.py:66: DeprecationWarning: Class Imputer is deprecated; Imputer was deprecated in version 0.20 and will be removed in 0.22. Import impute.SimpleImputer from sklearn instead.\n",
      "  warnings.warn(msg, category=DeprecationWarning)\n",
      "/Users/henriquelopes/miniconda3/lib/python3.6/site-packages/sklearn/utils/deprecation.py:66: DeprecationWarning: Class Imputer is deprecated; Imputer was deprecated in version 0.20 and will be removed in 0.22. Import impute.SimpleImputer from sklearn instead.\n",
      "  warnings.warn(msg, category=DeprecationWarning)\n",
      "/Users/henriquelopes/miniconda3/lib/python3.6/site-packages/sklearn/utils/deprecation.py:66: DeprecationWarning: Class Imputer is deprecated; Imputer was deprecated in version 0.20 and will be removed in 0.22. Import impute.SimpleImputer from sklearn instead.\n",
      "  warnings.warn(msg, category=DeprecationWarning)\n",
      "/Users/henriquelopes/miniconda3/lib/python3.6/site-packages/sklearn/utils/deprecation.py:66: DeprecationWarning: Class Imputer is deprecated; Imputer was deprecated in version 0.20 and will be removed in 0.22. Import impute.SimpleImputer from sklearn instead.\n",
      "  warnings.warn(msg, category=DeprecationWarning)\n",
      "/Users/henriquelopes/miniconda3/lib/python3.6/site-packages/sklearn/utils/deprecation.py:66: DeprecationWarning: Class Imputer is deprecated; Imputer was deprecated in version 0.20 and will be removed in 0.22. Import impute.SimpleImputer from sklearn instead.\n",
      "  warnings.warn(msg, category=DeprecationWarning)\n",
      "/Users/henriquelopes/miniconda3/lib/python3.6/site-packages/sklearn/utils/deprecation.py:66: DeprecationWarning: Class Imputer is deprecated; Imputer was deprecated in version 0.20 and will be removed in 0.22. Import impute.SimpleImputer from sklearn instead.\n",
      "  warnings.warn(msg, category=DeprecationWarning)\n"
     ]
    }
   ],
   "source": [
    "from fklearn.validation.validator import parallel_validator\n",
    "\n",
    "spatial_learning_curve_logs = parallel_validator(train_set, split_fn, train_fn, eval_fn, n_jobs=8)"
   ]
  },
  {
   "cell_type": "code",
   "execution_count": 31,
   "metadata": {
    "ExecuteTime": {
     "end_time": "2019-09-26T20:50:12.742892Z",
     "start_time": "2019-09-26T20:50:12.705829Z"
    },
    "scrolled": true,
    "slideshow": {
     "slide_type": "skip"
    }
   },
   "outputs": [
    {
     "data": {
      "text/plain": [
       "{'train_log': [{'label_categorizer': {'transformed_column': ['phone_type'],\n",
       "    'replace_unseen': nan,\n",
       "    'running_time': '0.022 s'},\n",
       "   'capper': {'caps': {'income': 20000.0},\n",
       "    'transformed_column': ['income'],\n",
       "    'precomputed_caps': {'income': 20000.0},\n",
       "    'running_time': '0.076 s'},\n",
       "   'imputer': {'impute_strategy': 'median',\n",
       "    'columns_to_impute': ['bureau_score'],\n",
       "    'training_proportion_of_nulls': {'bureau_score': 0.09924550203134068},\n",
       "    'statistics': array([325.16258753]),\n",
       "    'running_time': '0.038 s'},\n",
       "   'lgbm_regression_learner': {'features': ['income',\n",
       "     'bureau_score',\n",
       "     'spend_desire',\n",
       "     'random_noise',\n",
       "     'monthly_spend',\n",
       "     'avg_last_2_months_spend'],\n",
       "    'target': 'target',\n",
       "    'prediction_column': 'prediction',\n",
       "    'package': 'lightgbm',\n",
       "    'package_version': '2.2.3',\n",
       "    'parameters': {'eta': 0.1,\n",
       "     'objective': 'regression',\n",
       "     'num_estimators': 200},\n",
       "    'feature_importance': {'income': 979,\n",
       "     'bureau_score': 1008,\n",
       "     'spend_desire': 1048,\n",
       "     'random_noise': 958,\n",
       "     'monthly_spend': 844,\n",
       "     'avg_last_2_months_spend': 1163},\n",
       "    'training_samples': 5169,\n",
       "    'running_time': '7.715 s'},\n",
       "   'object': <lightgbm.basic.Booster at 0x1a2263c5f8>,\n",
       "   'prediction_ranger': {'prediction_min': 0.0,\n",
       "    'prediction_max': 100000.0,\n",
       "    'transformed_column': ['prediction']},\n",
       "   '__fkml__': {'pipeline': ['label_categorizer',\n",
       "     'capper',\n",
       "     'imputer',\n",
       "     'lgbm_regression_learner',\n",
       "     'prediction_ranger'],\n",
       "    'output_columns': ['id',\n",
       "     'month',\n",
       "     'income',\n",
       "     'created_at',\n",
       "     'phone_type',\n",
       "     'bureau_score',\n",
       "     'spend_desire',\n",
       "     'random_noise',\n",
       "     'monthly_spend',\n",
       "     'month_date',\n",
       "     'avg_last_2_months_spend',\n",
       "     'target',\n",
       "     'prediction'],\n",
       "    'features': ['id',\n",
       "     'month',\n",
       "     'income',\n",
       "     'created_at',\n",
       "     'phone_type',\n",
       "     'bureau_score',\n",
       "     'spend_desire',\n",
       "     'random_noise',\n",
       "     'monthly_spend',\n",
       "     'month_date',\n",
       "     'avg_last_2_months_spend',\n",
       "     'target'],\n",
       "    'learners': {'label_categorizer': {'fn': <function fklearn.training.transformation.label_categorizer.<locals>.p(new_df:pandas.core.frame.DataFrame) -> pandas.core.frame.DataFrame>,\n",
       "      'log': {'label_categorizer': {'transformed_column': ['phone_type'],\n",
       "        'replace_unseen': nan,\n",
       "        'running_time': '0.022 s'}}},\n",
       "     'capper': {'fn': <function fklearn.training.transformation.capper.<locals>.p(new_data_set:pandas.core.frame.DataFrame) -> pandas.core.frame.DataFrame>,\n",
       "      'log': {'capper': {'caps': {'income': 20000.0},\n",
       "        'transformed_column': ['income'],\n",
       "        'precomputed_caps': {'income': 20000.0},\n",
       "        'running_time': '0.076 s'}}},\n",
       "     'imputer': {'fn': <function fklearn.training.imputation.imputer.<locals>.p(new_data_set:pandas.core.frame.DataFrame) -> pandas.core.frame.DataFrame>,\n",
       "      'log': {'imputer': {'impute_strategy': 'median',\n",
       "        'columns_to_impute': ['bureau_score'],\n",
       "        'training_proportion_of_nulls': {'bureau_score': 0.09924550203134068},\n",
       "        'statistics': array([325.16258753]),\n",
       "        'running_time': '0.038 s'}}},\n",
       "     'lgbm_regression_learner': {'fn': <function fklearn.training.regression.lgbm_regression_learner.<locals>.p(new_df:pandas.core.frame.DataFrame, apply_shap:bool=False) -> pandas.core.frame.DataFrame>,\n",
       "      'log': {'lgbm_regression_learner': {'features': ['income',\n",
       "         'bureau_score',\n",
       "         'spend_desire',\n",
       "         'random_noise',\n",
       "         'monthly_spend',\n",
       "         'avg_last_2_months_spend'],\n",
       "        'target': 'target',\n",
       "        'prediction_column': 'prediction',\n",
       "        'package': 'lightgbm',\n",
       "        'package_version': '2.2.3',\n",
       "        'parameters': {'eta': 0.1,\n",
       "         'objective': 'regression',\n",
       "         'num_estimators': 200},\n",
       "        'feature_importance': {'income': 979,\n",
       "         'bureau_score': 1008,\n",
       "         'spend_desire': 1048,\n",
       "         'random_noise': 958,\n",
       "         'monthly_spend': 844,\n",
       "         'avg_last_2_months_spend': 1163},\n",
       "        'training_samples': 5169,\n",
       "        'running_time': '7.715 s'},\n",
       "       'object': <lightgbm.basic.Booster at 0x1a2263c5f8>}},\n",
       "     'prediction_ranger': {'fn': <function fklearn.training.transformation.prediction_ranger.<locals>.p(new_df:pandas.core.frame.DataFrame) -> pandas.core.frame.DataFrame>,\n",
       "      'log': {'prediction_ranger': {'prediction_min': 0.0,\n",
       "        'prediction_max': 100000.0,\n",
       "        'transformed_column': ['prediction']}}}}}},\n",
       "  {'label_categorizer': {'transformed_column': ['phone_type'],\n",
       "    'replace_unseen': nan,\n",
       "    'running_time': '0.052 s'},\n",
       "   'capper': {'caps': {'income': 20000.0},\n",
       "    'transformed_column': ['income'],\n",
       "    'precomputed_caps': {'income': 20000.0},\n",
       "    'running_time': '0.049 s'},\n",
       "   'imputer': {'impute_strategy': 'median',\n",
       "    'columns_to_impute': ['bureau_score'],\n",
       "    'training_proportion_of_nulls': {'bureau_score': 0.10143635463100545},\n",
       "    'statistics': array([326.11326198]),\n",
       "    'running_time': '0.032 s'},\n",
       "   'lgbm_regression_learner': {'features': ['income',\n",
       "     'bureau_score',\n",
       "     'spend_desire',\n",
       "     'random_noise',\n",
       "     'monthly_spend',\n",
       "     'avg_last_2_months_spend'],\n",
       "    'target': 'target',\n",
       "    'prediction_column': 'prediction',\n",
       "    'package': 'lightgbm',\n",
       "    'package_version': '2.2.3',\n",
       "    'parameters': {'eta': 0.1,\n",
       "     'objective': 'regression',\n",
       "     'num_estimators': 200},\n",
       "    'feature_importance': {'income': 997,\n",
       "     'bureau_score': 965,\n",
       "     'spend_desire': 1028,\n",
       "     'random_noise': 907,\n",
       "     'monthly_spend': 895,\n",
       "     'avg_last_2_months_spend': 1208},\n",
       "    'training_samples': 10095,\n",
       "    'running_time': '7.943 s'},\n",
       "   'object': <lightgbm.basic.Booster at 0x1a2263c828>,\n",
       "   'prediction_ranger': {'prediction_min': 0.0,\n",
       "    'prediction_max': 100000.0,\n",
       "    'transformed_column': ['prediction']},\n",
       "   '__fkml__': {'pipeline': ['label_categorizer',\n",
       "     'capper',\n",
       "     'imputer',\n",
       "     'lgbm_regression_learner',\n",
       "     'prediction_ranger'],\n",
       "    'output_columns': ['id',\n",
       "     'month',\n",
       "     'income',\n",
       "     'created_at',\n",
       "     'phone_type',\n",
       "     'bureau_score',\n",
       "     'spend_desire',\n",
       "     'random_noise',\n",
       "     'monthly_spend',\n",
       "     'month_date',\n",
       "     'avg_last_2_months_spend',\n",
       "     'target',\n",
       "     'prediction'],\n",
       "    'features': ['id',\n",
       "     'month',\n",
       "     'income',\n",
       "     'created_at',\n",
       "     'phone_type',\n",
       "     'bureau_score',\n",
       "     'spend_desire',\n",
       "     'random_noise',\n",
       "     'monthly_spend',\n",
       "     'month_date',\n",
       "     'avg_last_2_months_spend',\n",
       "     'target'],\n",
       "    'learners': {'label_categorizer': {'fn': <function fklearn.training.transformation.label_categorizer.<locals>.p(new_df:pandas.core.frame.DataFrame) -> pandas.core.frame.DataFrame>,\n",
       "      'log': {'label_categorizer': {'transformed_column': ['phone_type'],\n",
       "        'replace_unseen': nan,\n",
       "        'running_time': '0.052 s'}}},\n",
       "     'capper': {'fn': <function fklearn.training.transformation.capper.<locals>.p(new_data_set:pandas.core.frame.DataFrame) -> pandas.core.frame.DataFrame>,\n",
       "      'log': {'capper': {'caps': {'income': 20000.0},\n",
       "        'transformed_column': ['income'],\n",
       "        'precomputed_caps': {'income': 20000.0},\n",
       "        'running_time': '0.049 s'}}},\n",
       "     'imputer': {'fn': <function fklearn.training.imputation.imputer.<locals>.p(new_data_set:pandas.core.frame.DataFrame) -> pandas.core.frame.DataFrame>,\n",
       "      'log': {'imputer': {'impute_strategy': 'median',\n",
       "        'columns_to_impute': ['bureau_score'],\n",
       "        'training_proportion_of_nulls': {'bureau_score': 0.10143635463100545},\n",
       "        'statistics': array([326.11326198]),\n",
       "        'running_time': '0.032 s'}}},\n",
       "     'lgbm_regression_learner': {'fn': <function fklearn.training.regression.lgbm_regression_learner.<locals>.p(new_df:pandas.core.frame.DataFrame, apply_shap:bool=False) -> pandas.core.frame.DataFrame>,\n",
       "      'log': {'lgbm_regression_learner': {'features': ['income',\n",
       "         'bureau_score',\n",
       "         'spend_desire',\n",
       "         'random_noise',\n",
       "         'monthly_spend',\n",
       "         'avg_last_2_months_spend'],\n",
       "        'target': 'target',\n",
       "        'prediction_column': 'prediction',\n",
       "        'package': 'lightgbm',\n",
       "        'package_version': '2.2.3',\n",
       "        'parameters': {'eta': 0.1,\n",
       "         'objective': 'regression',\n",
       "         'num_estimators': 200},\n",
       "        'feature_importance': {'income': 997,\n",
       "         'bureau_score': 965,\n",
       "         'spend_desire': 1028,\n",
       "         'random_noise': 907,\n",
       "         'monthly_spend': 895,\n",
       "         'avg_last_2_months_spend': 1208},\n",
       "        'training_samples': 10095,\n",
       "        'running_time': '7.943 s'},\n",
       "       'object': <lightgbm.basic.Booster at 0x1a2263c828>}},\n",
       "     'prediction_ranger': {'fn': <function fklearn.training.transformation.prediction_ranger.<locals>.p(new_df:pandas.core.frame.DataFrame) -> pandas.core.frame.DataFrame>,\n",
       "      'log': {'prediction_ranger': {'prediction_min': 0.0,\n",
       "        'prediction_max': 100000.0,\n",
       "        'transformed_column': ['prediction']}}}}}},\n",
       "  {'label_categorizer': {'transformed_column': ['phone_type'],\n",
       "    'replace_unseen': nan,\n",
       "    'running_time': '0.091 s'},\n",
       "   'capper': {'caps': {'income': 20000.0},\n",
       "    'transformed_column': ['income'],\n",
       "    'precomputed_caps': {'income': 20000.0},\n",
       "    'running_time': '0.025 s'},\n",
       "   'imputer': {'impute_strategy': 'median',\n",
       "    'columns_to_impute': ['bureau_score'],\n",
       "    'training_proportion_of_nulls': {'bureau_score': 0.09938140148058006},\n",
       "    'statistics': array([326.0731499]),\n",
       "    'running_time': '0.040 s'},\n",
       "   'lgbm_regression_learner': {'features': ['income',\n",
       "     'bureau_score',\n",
       "     'spend_desire',\n",
       "     'random_noise',\n",
       "     'monthly_spend',\n",
       "     'avg_last_2_months_spend'],\n",
       "    'target': 'target',\n",
       "    'prediction_column': 'prediction',\n",
       "    'package': 'lightgbm',\n",
       "    'package_version': '2.2.3',\n",
       "    'parameters': {'eta': 0.1,\n",
       "     'objective': 'regression',\n",
       "     'num_estimators': 200},\n",
       "    'feature_importance': {'income': 1025,\n",
       "     'bureau_score': 957,\n",
       "     'spend_desire': 1028,\n",
       "     'random_noise': 912,\n",
       "     'monthly_spend': 917,\n",
       "     'avg_last_2_months_spend': 1161},\n",
       "    'training_samples': 19722,\n",
       "    'running_time': '8.104 s'},\n",
       "   'object': <lightgbm.basic.Booster at 0x1a22647048>,\n",
       "   'prediction_ranger': {'prediction_min': 0.0,\n",
       "    'prediction_max': 100000.0,\n",
       "    'transformed_column': ['prediction']},\n",
       "   '__fkml__': {'pipeline': ['label_categorizer',\n",
       "     'capper',\n",
       "     'imputer',\n",
       "     'lgbm_regression_learner',\n",
       "     'prediction_ranger'],\n",
       "    'output_columns': ['id',\n",
       "     'month',\n",
       "     'income',\n",
       "     'created_at',\n",
       "     'phone_type',\n",
       "     'bureau_score',\n",
       "     'spend_desire',\n",
       "     'random_noise',\n",
       "     'monthly_spend',\n",
       "     'month_date',\n",
       "     'avg_last_2_months_spend',\n",
       "     'target',\n",
       "     'prediction'],\n",
       "    'features': ['id',\n",
       "     'month',\n",
       "     'income',\n",
       "     'created_at',\n",
       "     'phone_type',\n",
       "     'bureau_score',\n",
       "     'spend_desire',\n",
       "     'random_noise',\n",
       "     'monthly_spend',\n",
       "     'month_date',\n",
       "     'avg_last_2_months_spend',\n",
       "     'target'],\n",
       "    'learners': {'label_categorizer': {'fn': <function fklearn.training.transformation.label_categorizer.<locals>.p(new_df:pandas.core.frame.DataFrame) -> pandas.core.frame.DataFrame>,\n",
       "      'log': {'label_categorizer': {'transformed_column': ['phone_type'],\n",
       "        'replace_unseen': nan,\n",
       "        'running_time': '0.091 s'}}},\n",
       "     'capper': {'fn': <function fklearn.training.transformation.capper.<locals>.p(new_data_set:pandas.core.frame.DataFrame) -> pandas.core.frame.DataFrame>,\n",
       "      'log': {'capper': {'caps': {'income': 20000.0},\n",
       "        'transformed_column': ['income'],\n",
       "        'precomputed_caps': {'income': 20000.0},\n",
       "        'running_time': '0.025 s'}}},\n",
       "     'imputer': {'fn': <function fklearn.training.imputation.imputer.<locals>.p(new_data_set:pandas.core.frame.DataFrame) -> pandas.core.frame.DataFrame>,\n",
       "      'log': {'imputer': {'impute_strategy': 'median',\n",
       "        'columns_to_impute': ['bureau_score'],\n",
       "        'training_proportion_of_nulls': {'bureau_score': 0.09938140148058006},\n",
       "        'statistics': array([326.0731499]),\n",
       "        'running_time': '0.040 s'}}},\n",
       "     'lgbm_regression_learner': {'fn': <function fklearn.training.regression.lgbm_regression_learner.<locals>.p(new_df:pandas.core.frame.DataFrame, apply_shap:bool=False) -> pandas.core.frame.DataFrame>,\n",
       "      'log': {'lgbm_regression_learner': {'features': ['income',\n",
       "         'bureau_score',\n",
       "         'spend_desire',\n",
       "         'random_noise',\n",
       "         'monthly_spend',\n",
       "         'avg_last_2_months_spend'],\n",
       "        'target': 'target',\n",
       "        'prediction_column': 'prediction',\n",
       "        'package': 'lightgbm',\n",
       "        'package_version': '2.2.3',\n",
       "        'parameters': {'eta': 0.1,\n",
       "         'objective': 'regression',\n",
       "         'num_estimators': 200},\n",
       "        'feature_importance': {'income': 1025,\n",
       "         'bureau_score': 957,\n",
       "         'spend_desire': 1028,\n",
       "         'random_noise': 912,\n",
       "         'monthly_spend': 917,\n",
       "         'avg_last_2_months_spend': 1161},\n",
       "        'training_samples': 19722,\n",
       "        'running_time': '8.104 s'},\n",
       "       'object': <lightgbm.basic.Booster at 0x1a22647048>}},\n",
       "     'prediction_ranger': {'fn': <function fklearn.training.transformation.prediction_ranger.<locals>.p(new_df:pandas.core.frame.DataFrame) -> pandas.core.frame.DataFrame>,\n",
       "      'log': {'prediction_ranger': {'prediction_min': 0.0,\n",
       "        'prediction_max': 100000.0,\n",
       "        'transformed_column': ['prediction']}}}}}},\n",
       "  {'label_categorizer': {'transformed_column': ['phone_type'],\n",
       "    'replace_unseen': nan,\n",
       "    'running_time': '0.077 s'},\n",
       "   'capper': {'caps': {'income': 20000.0},\n",
       "    'transformed_column': ['income'],\n",
       "    'precomputed_caps': {'income': 20000.0},\n",
       "    'running_time': '0.023 s'},\n",
       "   'imputer': {'impute_strategy': 'median',\n",
       "    'columns_to_impute': ['bureau_score'],\n",
       "    'training_proportion_of_nulls': {'bureau_score': 0.09925883896592078},\n",
       "    'statistics': array([324.7631039]),\n",
       "    'running_time': '0.060 s'},\n",
       "   'lgbm_regression_learner': {'features': ['income',\n",
       "     'bureau_score',\n",
       "     'spend_desire',\n",
       "     'random_noise',\n",
       "     'monthly_spend',\n",
       "     'avg_last_2_months_spend'],\n",
       "    'target': 'target',\n",
       "    'prediction_column': 'prediction',\n",
       "    'package': 'lightgbm',\n",
       "    'package_version': '2.2.3',\n",
       "    'parameters': {'eta': 0.1,\n",
       "     'objective': 'regression',\n",
       "     'num_estimators': 200},\n",
       "    'feature_importance': {'income': 1031,\n",
       "     'bureau_score': 999,\n",
       "     'spend_desire': 1074,\n",
       "     'random_noise': 844,\n",
       "     'monthly_spend': 903,\n",
       "     'avg_last_2_months_spend': 1149},\n",
       "    'training_samples': 28199,\n",
       "    'running_time': '8.213 s'},\n",
       "   'object': <lightgbm.basic.Booster at 0x1a226472b0>,\n",
       "   'prediction_ranger': {'prediction_min': 0.0,\n",
       "    'prediction_max': 100000.0,\n",
       "    'transformed_column': ['prediction']},\n",
       "   '__fkml__': {'pipeline': ['label_categorizer',\n",
       "     'capper',\n",
       "     'imputer',\n",
       "     'lgbm_regression_learner',\n",
       "     'prediction_ranger'],\n",
       "    'output_columns': ['id',\n",
       "     'month',\n",
       "     'income',\n",
       "     'created_at',\n",
       "     'phone_type',\n",
       "     'bureau_score',\n",
       "     'spend_desire',\n",
       "     'random_noise',\n",
       "     'monthly_spend',\n",
       "     'month_date',\n",
       "     'avg_last_2_months_spend',\n",
       "     'target',\n",
       "     'prediction'],\n",
       "    'features': ['id',\n",
       "     'month',\n",
       "     'income',\n",
       "     'created_at',\n",
       "     'phone_type',\n",
       "     'bureau_score',\n",
       "     'spend_desire',\n",
       "     'random_noise',\n",
       "     'monthly_spend',\n",
       "     'month_date',\n",
       "     'avg_last_2_months_spend',\n",
       "     'target'],\n",
       "    'learners': {'label_categorizer': {'fn': <function fklearn.training.transformation.label_categorizer.<locals>.p(new_df:pandas.core.frame.DataFrame) -> pandas.core.frame.DataFrame>,\n",
       "      'log': {'label_categorizer': {'transformed_column': ['phone_type'],\n",
       "        'replace_unseen': nan,\n",
       "        'running_time': '0.077 s'}}},\n",
       "     'capper': {'fn': <function fklearn.training.transformation.capper.<locals>.p(new_data_set:pandas.core.frame.DataFrame) -> pandas.core.frame.DataFrame>,\n",
       "      'log': {'capper': {'caps': {'income': 20000.0},\n",
       "        'transformed_column': ['income'],\n",
       "        'precomputed_caps': {'income': 20000.0},\n",
       "        'running_time': '0.023 s'}}},\n",
       "     'imputer': {'fn': <function fklearn.training.imputation.imputer.<locals>.p(new_data_set:pandas.core.frame.DataFrame) -> pandas.core.frame.DataFrame>,\n",
       "      'log': {'imputer': {'impute_strategy': 'median',\n",
       "        'columns_to_impute': ['bureau_score'],\n",
       "        'training_proportion_of_nulls': {'bureau_score': 0.09925883896592078},\n",
       "        'statistics': array([324.7631039]),\n",
       "        'running_time': '0.060 s'}}},\n",
       "     'lgbm_regression_learner': {'fn': <function fklearn.training.regression.lgbm_regression_learner.<locals>.p(new_df:pandas.core.frame.DataFrame, apply_shap:bool=False) -> pandas.core.frame.DataFrame>,\n",
       "      'log': {'lgbm_regression_learner': {'features': ['income',\n",
       "         'bureau_score',\n",
       "         'spend_desire',\n",
       "         'random_noise',\n",
       "         'monthly_spend',\n",
       "         'avg_last_2_months_spend'],\n",
       "        'target': 'target',\n",
       "        'prediction_column': 'prediction',\n",
       "        'package': 'lightgbm',\n",
       "        'package_version': '2.2.3',\n",
       "        'parameters': {'eta': 0.1,\n",
       "         'objective': 'regression',\n",
       "         'num_estimators': 200},\n",
       "        'feature_importance': {'income': 1031,\n",
       "         'bureau_score': 999,\n",
       "         'spend_desire': 1074,\n",
       "         'random_noise': 844,\n",
       "         'monthly_spend': 903,\n",
       "         'avg_last_2_months_spend': 1149},\n",
       "        'training_samples': 28199,\n",
       "        'running_time': '8.213 s'},\n",
       "       'object': <lightgbm.basic.Booster at 0x1a226472b0>}},\n",
       "     'prediction_ranger': {'fn': <function fklearn.training.transformation.prediction_ranger.<locals>.p(new_df:pandas.core.frame.DataFrame) -> pandas.core.frame.DataFrame>,\n",
       "      'log': {'prediction_ranger': {'prediction_min': 0.0,\n",
       "        'prediction_max': 100000.0,\n",
       "        'transformed_column': ['prediction']}}}}}},\n",
       "  {'label_categorizer': {'transformed_column': ['phone_type'],\n",
       "    'replace_unseen': nan,\n",
       "    'running_time': '0.102 s'},\n",
       "   'capper': {'caps': {'income': 20000.0},\n",
       "    'transformed_column': ['income'],\n",
       "    'precomputed_caps': {'income': 20000.0},\n",
       "    'running_time': '0.026 s'},\n",
       "   'imputer': {'impute_strategy': 'median',\n",
       "    'columns_to_impute': ['bureau_score'],\n",
       "    'training_proportion_of_nulls': {'bureau_score': 0.09956821366274914},\n",
       "    'statistics': array([323.60346949]),\n",
       "    'running_time': '0.052 s'},\n",
       "   'lgbm_regression_learner': {'features': ['income',\n",
       "     'bureau_score',\n",
       "     'spend_desire',\n",
       "     'random_noise',\n",
       "     'monthly_spend',\n",
       "     'avg_last_2_months_spend'],\n",
       "    'target': 'target',\n",
       "    'prediction_column': 'prediction',\n",
       "    'package': 'lightgbm',\n",
       "    'package_version': '2.2.3',\n",
       "    'parameters': {'eta': 0.1,\n",
       "     'objective': 'regression',\n",
       "     'num_estimators': 200},\n",
       "    'feature_importance': {'income': 1031,\n",
       "     'bureau_score': 984,\n",
       "     'spend_desire': 1092,\n",
       "     'random_noise': 831,\n",
       "     'monthly_spend': 910,\n",
       "     'avg_last_2_months_spend': 1152},\n",
       "    'training_samples': 34971,\n",
       "    'running_time': '8.448 s'},\n",
       "   'object': <lightgbm.basic.Booster at 0x1a226473c8>,\n",
       "   'prediction_ranger': {'prediction_min': 0.0,\n",
       "    'prediction_max': 100000.0,\n",
       "    'transformed_column': ['prediction']},\n",
       "   '__fkml__': {'pipeline': ['label_categorizer',\n",
       "     'capper',\n",
       "     'imputer',\n",
       "     'lgbm_regression_learner',\n",
       "     'prediction_ranger'],\n",
       "    'output_columns': ['id',\n",
       "     'month',\n",
       "     'income',\n",
       "     'created_at',\n",
       "     'phone_type',\n",
       "     'bureau_score',\n",
       "     'spend_desire',\n",
       "     'random_noise',\n",
       "     'monthly_spend',\n",
       "     'month_date',\n",
       "     'avg_last_2_months_spend',\n",
       "     'target',\n",
       "     'prediction'],\n",
       "    'features': ['id',\n",
       "     'month',\n",
       "     'income',\n",
       "     'created_at',\n",
       "     'phone_type',\n",
       "     'bureau_score',\n",
       "     'spend_desire',\n",
       "     'random_noise',\n",
       "     'monthly_spend',\n",
       "     'month_date',\n",
       "     'avg_last_2_months_spend',\n",
       "     'target'],\n",
       "    'learners': {'label_categorizer': {'fn': <function fklearn.training.transformation.label_categorizer.<locals>.p(new_df:pandas.core.frame.DataFrame) -> pandas.core.frame.DataFrame>,\n",
       "      'log': {'label_categorizer': {'transformed_column': ['phone_type'],\n",
       "        'replace_unseen': nan,\n",
       "        'running_time': '0.102 s'}}},\n",
       "     'capper': {'fn': <function fklearn.training.transformation.capper.<locals>.p(new_data_set:pandas.core.frame.DataFrame) -> pandas.core.frame.DataFrame>,\n",
       "      'log': {'capper': {'caps': {'income': 20000.0},\n",
       "        'transformed_column': ['income'],\n",
       "        'precomputed_caps': {'income': 20000.0},\n",
       "        'running_time': '0.026 s'}}},\n",
       "     'imputer': {'fn': <function fklearn.training.imputation.imputer.<locals>.p(new_data_set:pandas.core.frame.DataFrame) -> pandas.core.frame.DataFrame>,\n",
       "      'log': {'imputer': {'impute_strategy': 'median',\n",
       "        'columns_to_impute': ['bureau_score'],\n",
       "        'training_proportion_of_nulls': {'bureau_score': 0.09956821366274914},\n",
       "        'statistics': array([323.60346949]),\n",
       "        'running_time': '0.052 s'}}},\n",
       "     'lgbm_regression_learner': {'fn': <function fklearn.training.regression.lgbm_regression_learner.<locals>.p(new_df:pandas.core.frame.DataFrame, apply_shap:bool=False) -> pandas.core.frame.DataFrame>,\n",
       "      'log': {'lgbm_regression_learner': {'features': ['income',\n",
       "         'bureau_score',\n",
       "         'spend_desire',\n",
       "         'random_noise',\n",
       "         'monthly_spend',\n",
       "         'avg_last_2_months_spend'],\n",
       "        'target': 'target',\n",
       "        'prediction_column': 'prediction',\n",
       "        'package': 'lightgbm',\n",
       "        'package_version': '2.2.3',\n",
       "        'parameters': {'eta': 0.1,\n",
       "         'objective': 'regression',\n",
       "         'num_estimators': 200},\n",
       "        'feature_importance': {'income': 1031,\n",
       "         'bureau_score': 984,\n",
       "         'spend_desire': 1092,\n",
       "         'random_noise': 831,\n",
       "         'monthly_spend': 910,\n",
       "         'avg_last_2_months_spend': 1152},\n",
       "        'training_samples': 34971,\n",
       "        'running_time': '8.448 s'},\n",
       "       'object': <lightgbm.basic.Booster at 0x1a226473c8>}},\n",
       "     'prediction_ranger': {'fn': <function fklearn.training.transformation.prediction_ranger.<locals>.p(new_df:pandas.core.frame.DataFrame) -> pandas.core.frame.DataFrame>,\n",
       "      'log': {'prediction_ranger': {'prediction_min': 0.0,\n",
       "        'prediction_max': 100000.0,\n",
       "        'transformed_column': ['prediction']}}}}}},\n",
       "  {'label_categorizer': {'transformed_column': ['phone_type'],\n",
       "    'replace_unseen': nan,\n",
       "    'running_time': '0.074 s'},\n",
       "   'capper': {'caps': {'income': 20000.0},\n",
       "    'transformed_column': ['income'],\n",
       "    'precomputed_caps': {'income': 20000.0},\n",
       "    'running_time': '0.023 s'},\n",
       "   'imputer': {'impute_strategy': 'median',\n",
       "    'columns_to_impute': ['bureau_score'],\n",
       "    'training_proportion_of_nulls': {'bureau_score': 0.10037035049111695},\n",
       "    'statistics': array([322.60691645]),\n",
       "    'running_time': '0.063 s'},\n",
       "   'lgbm_regression_learner': {'features': ['income',\n",
       "     'bureau_score',\n",
       "     'spend_desire',\n",
       "     'random_noise',\n",
       "     'monthly_spend',\n",
       "     'avg_last_2_months_spend'],\n",
       "    'target': 'target',\n",
       "    'prediction_column': 'prediction',\n",
       "    'package': 'lightgbm',\n",
       "    'package_version': '2.2.3',\n",
       "    'parameters': {'eta': 0.1,\n",
       "     'objective': 'regression',\n",
       "     'num_estimators': 200},\n",
       "    'feature_importance': {'income': 1032,\n",
       "     'bureau_score': 973,\n",
       "     'spend_desire': 1118,\n",
       "     'random_noise': 814,\n",
       "     'monthly_spend': 947,\n",
       "     'avg_last_2_months_spend': 1116},\n",
       "    'training_samples': 37262,\n",
       "    'running_time': '8.429 s'},\n",
       "   'object': <lightgbm.basic.Booster at 0x1a2263cc18>,\n",
       "   'prediction_ranger': {'prediction_min': 0.0,\n",
       "    'prediction_max': 100000.0,\n",
       "    'transformed_column': ['prediction']},\n",
       "   '__fkml__': {'pipeline': ['label_categorizer',\n",
       "     'capper',\n",
       "     'imputer',\n",
       "     'lgbm_regression_learner',\n",
       "     'prediction_ranger'],\n",
       "    'output_columns': ['id',\n",
       "     'month',\n",
       "     'income',\n",
       "     'created_at',\n",
       "     'phone_type',\n",
       "     'bureau_score',\n",
       "     'spend_desire',\n",
       "     'random_noise',\n",
       "     'monthly_spend',\n",
       "     'month_date',\n",
       "     'avg_last_2_months_spend',\n",
       "     'target',\n",
       "     'prediction'],\n",
       "    'features': ['id',\n",
       "     'month',\n",
       "     'income',\n",
       "     'created_at',\n",
       "     'phone_type',\n",
       "     'bureau_score',\n",
       "     'spend_desire',\n",
       "     'random_noise',\n",
       "     'monthly_spend',\n",
       "     'month_date',\n",
       "     'avg_last_2_months_spend',\n",
       "     'target'],\n",
       "    'learners': {'label_categorizer': {'fn': <function fklearn.training.transformation.label_categorizer.<locals>.p(new_df:pandas.core.frame.DataFrame) -> pandas.core.frame.DataFrame>,\n",
       "      'log': {'label_categorizer': {'transformed_column': ['phone_type'],\n",
       "        'replace_unseen': nan,\n",
       "        'running_time': '0.074 s'}}},\n",
       "     'capper': {'fn': <function fklearn.training.transformation.capper.<locals>.p(new_data_set:pandas.core.frame.DataFrame) -> pandas.core.frame.DataFrame>,\n",
       "      'log': {'capper': {'caps': {'income': 20000.0},\n",
       "        'transformed_column': ['income'],\n",
       "        'precomputed_caps': {'income': 20000.0},\n",
       "        'running_time': '0.023 s'}}},\n",
       "     'imputer': {'fn': <function fklearn.training.imputation.imputer.<locals>.p(new_data_set:pandas.core.frame.DataFrame) -> pandas.core.frame.DataFrame>,\n",
       "      'log': {'imputer': {'impute_strategy': 'median',\n",
       "        'columns_to_impute': ['bureau_score'],\n",
       "        'training_proportion_of_nulls': {'bureau_score': 0.10037035049111695},\n",
       "        'statistics': array([322.60691645]),\n",
       "        'running_time': '0.063 s'}}},\n",
       "     'lgbm_regression_learner': {'fn': <function fklearn.training.regression.lgbm_regression_learner.<locals>.p(new_df:pandas.core.frame.DataFrame, apply_shap:bool=False) -> pandas.core.frame.DataFrame>,\n",
       "      'log': {'lgbm_regression_learner': {'features': ['income',\n",
       "         'bureau_score',\n",
       "         'spend_desire',\n",
       "         'random_noise',\n",
       "         'monthly_spend',\n",
       "         'avg_last_2_months_spend'],\n",
       "        'target': 'target',\n",
       "        'prediction_column': 'prediction',\n",
       "        'package': 'lightgbm',\n",
       "        'package_version': '2.2.3',\n",
       "        'parameters': {'eta': 0.1,\n",
       "         'objective': 'regression',\n",
       "         'num_estimators': 200},\n",
       "        'feature_importance': {'income': 1032,\n",
       "         'bureau_score': 973,\n",
       "         'spend_desire': 1118,\n",
       "         'random_noise': 814,\n",
       "         'monthly_spend': 947,\n",
       "         'avg_last_2_months_spend': 1116},\n",
       "        'training_samples': 37262,\n",
       "        'running_time': '8.429 s'},\n",
       "       'object': <lightgbm.basic.Booster at 0x1a2263cc18>}},\n",
       "     'prediction_ranger': {'fn': <function fklearn.training.transformation.prediction_ranger.<locals>.p(new_df:pandas.core.frame.DataFrame) -> pandas.core.frame.DataFrame>,\n",
       "      'log': {'prediction_ranger': {'prediction_min': 0.0,\n",
       "        'prediction_max': 100000.0,\n",
       "        'transformed_column': ['prediction']}}}}}}],\n",
       " 'validator_log': [{'fold_num': 0,\n",
       "   'eval_results': [{'r2_evaluator__target': 0.5086378476205488,\n",
       "     'spearman_evaluator__target': 0.7386593691328156}],\n",
       "   'split_log': {'train_start': Timestamp('2017-02-01 00:00:00'),\n",
       "    'train_end': Timestamp('2018-03-11 00:00:00'),\n",
       "    'train_size': 5169,\n",
       "    'test_start': Timestamp('2018-04-11 00:00:00'),\n",
       "    'test_end': Timestamp('2018-06-12 00:00:00'),\n",
       "    'test_size': 16944,\n",
       "    'percentage': 0.1}},\n",
       "  {'fold_num': 1,\n",
       "   'eval_results': [{'r2_evaluator__target': 0.528636837654197,\n",
       "     'spearman_evaluator__target': 0.7559395783320386}],\n",
       "   'split_log': {'train_start': Timestamp('2017-02-01 00:00:00'),\n",
       "    'train_end': Timestamp('2018-03-11 00:00:00'),\n",
       "    'train_size': 10095,\n",
       "    'test_start': Timestamp('2018-04-11 00:00:00'),\n",
       "    'test_end': Timestamp('2018-06-12 00:00:00'),\n",
       "    'test_size': 16944,\n",
       "    'percentage': 0.2}},\n",
       "  {'fold_num': 2,\n",
       "   'eval_results': [{'r2_evaluator__target': 0.5526850769787538,\n",
       "     'spearman_evaluator__target': 0.7708684906608395}],\n",
       "   'split_log': {'train_start': Timestamp('2017-02-01 00:00:00'),\n",
       "    'train_end': Timestamp('2018-03-11 00:00:00'),\n",
       "    'train_size': 19722,\n",
       "    'test_start': Timestamp('2018-04-11 00:00:00'),\n",
       "    'test_end': Timestamp('2018-06-12 00:00:00'),\n",
       "    'test_size': 16944,\n",
       "    'percentage': 0.4}},\n",
       "  {'fold_num': 3,\n",
       "   'eval_results': [{'r2_evaluator__target': 0.5590326161307089,\n",
       "     'spearman_evaluator__target': 0.7746842469162849}],\n",
       "   'split_log': {'train_start': Timestamp('2017-02-01 00:00:00'),\n",
       "    'train_end': Timestamp('2018-03-11 00:00:00'),\n",
       "    'train_size': 28199,\n",
       "    'test_start': Timestamp('2018-04-11 00:00:00'),\n",
       "    'test_end': Timestamp('2018-06-12 00:00:00'),\n",
       "    'test_size': 16944,\n",
       "    'percentage': 0.6}},\n",
       "  {'fold_num': 4,\n",
       "   'eval_results': [{'r2_evaluator__target': 0.5610652544945294,\n",
       "     'spearman_evaluator__target': 0.7753973663995514}],\n",
       "   'split_log': {'train_start': Timestamp('2017-02-01 00:00:00'),\n",
       "    'train_end': Timestamp('2018-03-11 00:00:00'),\n",
       "    'train_size': 34971,\n",
       "    'test_start': Timestamp('2018-04-11 00:00:00'),\n",
       "    'test_end': Timestamp('2018-06-12 00:00:00'),\n",
       "    'test_size': 16944,\n",
       "    'percentage': 0.8}},\n",
       "  {'fold_num': 5,\n",
       "   'eval_results': [{'r2_evaluator__target': 0.5623244757695537,\n",
       "     'spearman_evaluator__target': 0.7760550988045266}],\n",
       "   'split_log': {'train_start': Timestamp('2017-02-01 00:00:00'),\n",
       "    'train_end': Timestamp('2018-03-11 00:00:00'),\n",
       "    'train_size': 37262,\n",
       "    'test_start': Timestamp('2018-04-11 00:00:00'),\n",
       "    'test_end': Timestamp('2018-06-12 00:00:00'),\n",
       "    'test_size': 16944,\n",
       "    'percentage': 1.0}}]}"
      ]
     },
     "execution_count": 31,
     "metadata": {},
     "output_type": "execute_result"
    }
   ],
   "source": [
    "spatial_learning_curve_logs"
   ]
  },
  {
   "cell_type": "code",
   "execution_count": 32,
   "metadata": {
    "ExecuteTime": {
     "end_time": "2019-09-26T20:50:12.804699Z",
     "start_time": "2019-09-26T20:50:12.745600Z"
    },
    "slideshow": {
     "slide_type": "slide"
    }
   },
   "outputs": [],
   "source": [
    "data = extract(spatial_learning_curve_logs['validator_log'], full_extractor)"
   ]
  },
  {
   "cell_type": "code",
   "execution_count": 33,
   "metadata": {
    "ExecuteTime": {
     "end_time": "2019-09-26T20:50:12.820352Z",
     "start_time": "2019-09-26T20:50:12.807168Z"
    },
    "slideshow": {
     "slide_type": "fragment"
    }
   },
   "outputs": [
    {
     "data": {
      "text/html": [
       "<div>\n",
       "<style scoped>\n",
       "    .dataframe tbody tr th:only-of-type {\n",
       "        vertical-align: middle;\n",
       "    }\n",
       "\n",
       "    .dataframe tbody tr th {\n",
       "        vertical-align: top;\n",
       "    }\n",
       "\n",
       "    .dataframe thead th {\n",
       "        text-align: right;\n",
       "    }\n",
       "</style>\n",
       "<table border=\"1\" class=\"dataframe\">\n",
       "  <thead>\n",
       "    <tr style=\"text-align: right;\">\n",
       "      <th></th>\n",
       "      <th>r2_evaluator__target</th>\n",
       "      <th>spearman_evaluator__target</th>\n",
       "      <th>fold_num</th>\n",
       "      <th>train_start</th>\n",
       "      <th>train_end</th>\n",
       "      <th>train_size</th>\n",
       "      <th>test_start</th>\n",
       "      <th>test_end</th>\n",
       "      <th>test_size</th>\n",
       "      <th>percentage</th>\n",
       "    </tr>\n",
       "  </thead>\n",
       "  <tbody>\n",
       "    <tr>\n",
       "      <th>0</th>\n",
       "      <td>0.508638</td>\n",
       "      <td>0.738659</td>\n",
       "      <td>0</td>\n",
       "      <td>2017-02-01</td>\n",
       "      <td>2018-03-11</td>\n",
       "      <td>5169</td>\n",
       "      <td>2018-04-11</td>\n",
       "      <td>2018-06-12</td>\n",
       "      <td>16944</td>\n",
       "      <td>0.1</td>\n",
       "    </tr>\n",
       "    <tr>\n",
       "      <th>0</th>\n",
       "      <td>0.528637</td>\n",
       "      <td>0.755940</td>\n",
       "      <td>1</td>\n",
       "      <td>2017-02-01</td>\n",
       "      <td>2018-03-11</td>\n",
       "      <td>10095</td>\n",
       "      <td>2018-04-11</td>\n",
       "      <td>2018-06-12</td>\n",
       "      <td>16944</td>\n",
       "      <td>0.2</td>\n",
       "    </tr>\n",
       "    <tr>\n",
       "      <th>0</th>\n",
       "      <td>0.552685</td>\n",
       "      <td>0.770868</td>\n",
       "      <td>2</td>\n",
       "      <td>2017-02-01</td>\n",
       "      <td>2018-03-11</td>\n",
       "      <td>19722</td>\n",
       "      <td>2018-04-11</td>\n",
       "      <td>2018-06-12</td>\n",
       "      <td>16944</td>\n",
       "      <td>0.4</td>\n",
       "    </tr>\n",
       "    <tr>\n",
       "      <th>0</th>\n",
       "      <td>0.559033</td>\n",
       "      <td>0.774684</td>\n",
       "      <td>3</td>\n",
       "      <td>2017-02-01</td>\n",
       "      <td>2018-03-11</td>\n",
       "      <td>28199</td>\n",
       "      <td>2018-04-11</td>\n",
       "      <td>2018-06-12</td>\n",
       "      <td>16944</td>\n",
       "      <td>0.6</td>\n",
       "    </tr>\n",
       "    <tr>\n",
       "      <th>0</th>\n",
       "      <td>0.561065</td>\n",
       "      <td>0.775397</td>\n",
       "      <td>4</td>\n",
       "      <td>2017-02-01</td>\n",
       "      <td>2018-03-11</td>\n",
       "      <td>34971</td>\n",
       "      <td>2018-04-11</td>\n",
       "      <td>2018-06-12</td>\n",
       "      <td>16944</td>\n",
       "      <td>0.8</td>\n",
       "    </tr>\n",
       "    <tr>\n",
       "      <th>0</th>\n",
       "      <td>0.562324</td>\n",
       "      <td>0.776055</td>\n",
       "      <td>5</td>\n",
       "      <td>2017-02-01</td>\n",
       "      <td>2018-03-11</td>\n",
       "      <td>37262</td>\n",
       "      <td>2018-04-11</td>\n",
       "      <td>2018-06-12</td>\n",
       "      <td>16944</td>\n",
       "      <td>1.0</td>\n",
       "    </tr>\n",
       "  </tbody>\n",
       "</table>\n",
       "</div>"
      ],
      "text/plain": [
       "   r2_evaluator__target  spearman_evaluator__target  fold_num train_start  \\\n",
       "0              0.508638                    0.738659         0  2017-02-01   \n",
       "0              0.528637                    0.755940         1  2017-02-01   \n",
       "0              0.552685                    0.770868         2  2017-02-01   \n",
       "0              0.559033                    0.774684         3  2017-02-01   \n",
       "0              0.561065                    0.775397         4  2017-02-01   \n",
       "0              0.562324                    0.776055         5  2017-02-01   \n",
       "\n",
       "   train_end  train_size test_start   test_end  test_size  percentage  \n",
       "0 2018-03-11        5169 2018-04-11 2018-06-12      16944         0.1  \n",
       "0 2018-03-11       10095 2018-04-11 2018-06-12      16944         0.2  \n",
       "0 2018-03-11       19722 2018-04-11 2018-06-12      16944         0.4  \n",
       "0 2018-03-11       28199 2018-04-11 2018-06-12      16944         0.6  \n",
       "0 2018-03-11       34971 2018-04-11 2018-06-12      16944         0.8  \n",
       "0 2018-03-11       37262 2018-04-11 2018-06-12      16944         1.0  "
      ]
     },
     "execution_count": 33,
     "metadata": {},
     "output_type": "execute_result"
    }
   ],
   "source": [
    "data"
   ]
  },
  {
   "cell_type": "code",
   "execution_count": 34,
   "metadata": {
    "ExecuteTime": {
     "end_time": "2019-09-26T20:50:13.030562Z",
     "start_time": "2019-09-26T20:50:12.822246Z"
    },
    "slideshow": {
     "slide_type": "slide"
    }
   },
   "outputs": [
    {
     "data": {
      "image/png": "[encoded data removed]",
      "text/plain": [
       "<Figure size 720x576 with 1 Axes>"
      ]
     },
     "metadata": {
      "needs_background": "light"
     },
     "output_type": "display_data"
    }
   ],
   "source": [
    "fig, ax = plt.subplots(figsize=(10, 8))\n",
    "sns.pointplot(data=data, ax=ax, x=\"percentage\", y=\"r2_evaluator__target\")\n",
    "plt.title(\"Spatial learning curve (trained from %s to %s)\" % (data.train_start.dt.date.min(), data.train_end.dt.date.max()));"
   ]
  },
  {
   "cell_type": "markdown",
   "metadata": {
    "ExecuteTime": {
     "end_time": "2019-04-24T13:49:52.277446Z",
     "start_time": "2019-04-24T13:49:52.272394Z"
    },
    "slideshow": {
     "slide_type": "slide"
    }
   },
   "source": [
    "## Performance over time\n",
    "\n",
    "* <font size=\"4\"> That metric can be thought as split your dataset month by month and computing the desired metrics\n",
    "</font>\n",
    "\n",
    "\n",
    "* <font size=\"4\"> We can do that with ease using our split evaluators </font>"
   ]
  },
  {
   "cell_type": "code",
   "execution_count": 35,
   "metadata": {
    "ExecuteTime": {
     "end_time": "2019-09-26T20:50:16.123968Z",
     "start_time": "2019-09-26T20:50:16.114568Z"
    },
    "slideshow": {
     "slide_type": "slide"
    }
   },
   "outputs": [],
   "source": [
    "from fklearn.validation.evaluators import split_evaluator\n",
    "from fklearn.metrics.pd_extractors import split_evaluator_extractor\n",
    "out_of_space_holdout = pd.concat([scored_intime_outspace_hdout, scored_outime_outspace_hdout])\n",
    "\n",
    "monthly_eval_fn = split_evaluator(eval_fn=eval_fn,\n",
    "                                  split_col=\"month\",\n",
    "                                  split_values=list(range(0, 25)))\n",
    "\n",
    "monthly_extractor = split_evaluator_extractor(base_extractor=full_extractor, \n",
    "                                              split_col=\"month\", \n",
    "                                              split_values=list(range(0, 25)))"
   ]
  },
  {
   "cell_type": "code",
   "execution_count": 36,
   "metadata": {
    "ExecuteTime": {
     "end_time": "2019-06-26T14:36:51.244424Z",
     "start_time": "2019-06-26T14:36:51.156741Z"
    },
    "slideshow": {
     "slide_type": "fragment"
    }
   },
   "outputs": [],
   "source": [
    "out_of_space_logs = monthly_eval_fn(out_of_space_holdout)"
   ]
  },
  {
   "cell_type": "code",
   "execution_count": 37,
   "metadata": {
    "ExecuteTime": {
     "end_time": "2019-06-26T14:37:07.740922Z",
     "start_time": "2019-06-26T14:37:07.682994Z"
    },
    "slideshow": {
     "slide_type": "fragment"
    }
   },
   "outputs": [],
   "source": [
    "monthly_performance = monthly_extractor(out_of_space_logs)"
   ]
  },
  {
   "cell_type": "code",
   "execution_count": 38,
   "metadata": {
    "ExecuteTime": {
     "end_time": "2019-06-26T14:37:08.293833Z",
     "start_time": "2019-06-26T14:37:08.283570Z"
    },
    "slideshow": {
     "slide_type": "slide"
    }
   },
   "outputs": [
    {
     "data": {
      "text/html": [
       "<div>\n",
       "<style scoped>\n",
       "    .dataframe tbody tr th:only-of-type {\n",
       "        vertical-align: middle;\n",
       "    }\n",
       "\n",
       "    .dataframe tbody tr th {\n",
       "        vertical-align: top;\n",
       "    }\n",
       "\n",
       "    .dataframe thead th {\n",
       "        text-align: right;\n",
       "    }\n",
       "</style>\n",
       "<table border=\"1\" class=\"dataframe\">\n",
       "  <thead>\n",
       "    <tr style=\"text-align: right;\">\n",
       "      <th></th>\n",
       "      <th>r2_evaluator__target</th>\n",
       "      <th>spearman_evaluator__target</th>\n",
       "      <th>split_evaluator__month</th>\n",
       "    </tr>\n",
       "  </thead>\n",
       "  <tbody>\n",
       "    <tr>\n",
       "      <th>0</th>\n",
       "      <td>NaN</td>\n",
       "      <td>NaN</td>\n",
       "      <td>0</td>\n",
       "    </tr>\n",
       "    <tr>\n",
       "      <th>0</th>\n",
       "      <td>0.421870</td>\n",
       "      <td>0.744979</td>\n",
       "      <td>1</td>\n",
       "    </tr>\n",
       "    <tr>\n",
       "      <th>0</th>\n",
       "      <td>0.491403</td>\n",
       "      <td>0.701534</td>\n",
       "      <td>2</td>\n",
       "    </tr>\n",
       "    <tr>\n",
       "      <th>0</th>\n",
       "      <td>0.478469</td>\n",
       "      <td>0.729370</td>\n",
       "      <td>3</td>\n",
       "    </tr>\n",
       "    <tr>\n",
       "      <th>0</th>\n",
       "      <td>0.534005</td>\n",
       "      <td>0.736146</td>\n",
       "      <td>4</td>\n",
       "    </tr>\n",
       "    <tr>\n",
       "      <th>0</th>\n",
       "      <td>0.538004</td>\n",
       "      <td>0.752896</td>\n",
       "      <td>5</td>\n",
       "    </tr>\n",
       "    <tr>\n",
       "      <th>0</th>\n",
       "      <td>0.528558</td>\n",
       "      <td>0.749593</td>\n",
       "      <td>6</td>\n",
       "    </tr>\n",
       "    <tr>\n",
       "      <th>0</th>\n",
       "      <td>0.599890</td>\n",
       "      <td>0.799352</td>\n",
       "      <td>7</td>\n",
       "    </tr>\n",
       "    <tr>\n",
       "      <th>0</th>\n",
       "      <td>0.603244</td>\n",
       "      <td>0.796775</td>\n",
       "      <td>8</td>\n",
       "    </tr>\n",
       "    <tr>\n",
       "      <th>0</th>\n",
       "      <td>0.627977</td>\n",
       "      <td>0.808087</td>\n",
       "      <td>9</td>\n",
       "    </tr>\n",
       "    <tr>\n",
       "      <th>0</th>\n",
       "      <td>0.598558</td>\n",
       "      <td>0.779260</td>\n",
       "      <td>10</td>\n",
       "    </tr>\n",
       "    <tr>\n",
       "      <th>0</th>\n",
       "      <td>0.604571</td>\n",
       "      <td>0.788846</td>\n",
       "      <td>11</td>\n",
       "    </tr>\n",
       "    <tr>\n",
       "      <th>0</th>\n",
       "      <td>0.604477</td>\n",
       "      <td>0.793243</td>\n",
       "      <td>12</td>\n",
       "    </tr>\n",
       "    <tr>\n",
       "      <th>0</th>\n",
       "      <td>0.575609</td>\n",
       "      <td>0.775225</td>\n",
       "      <td>13</td>\n",
       "    </tr>\n",
       "    <tr>\n",
       "      <th>0</th>\n",
       "      <td>0.582989</td>\n",
       "      <td>0.789979</td>\n",
       "      <td>14</td>\n",
       "    </tr>\n",
       "    <tr>\n",
       "      <th>0</th>\n",
       "      <td>0.578106</td>\n",
       "      <td>0.779769</td>\n",
       "      <td>15</td>\n",
       "    </tr>\n",
       "    <tr>\n",
       "      <th>0</th>\n",
       "      <td>0.576511</td>\n",
       "      <td>0.784794</td>\n",
       "      <td>16</td>\n",
       "    </tr>\n",
       "    <tr>\n",
       "      <th>0</th>\n",
       "      <td>0.611587</td>\n",
       "      <td>0.806708</td>\n",
       "      <td>17</td>\n",
       "    </tr>\n",
       "    <tr>\n",
       "      <th>0</th>\n",
       "      <td>0.616746</td>\n",
       "      <td>0.800946</td>\n",
       "      <td>18</td>\n",
       "    </tr>\n",
       "    <tr>\n",
       "      <th>0</th>\n",
       "      <td>0.581834</td>\n",
       "      <td>0.780355</td>\n",
       "      <td>19</td>\n",
       "    </tr>\n",
       "    <tr>\n",
       "      <th>0</th>\n",
       "      <td>0.576350</td>\n",
       "      <td>0.783299</td>\n",
       "      <td>20</td>\n",
       "    </tr>\n",
       "    <tr>\n",
       "      <th>0</th>\n",
       "      <td>NaN</td>\n",
       "      <td>NaN</td>\n",
       "      <td>21</td>\n",
       "    </tr>\n",
       "    <tr>\n",
       "      <th>0</th>\n",
       "      <td>NaN</td>\n",
       "      <td>NaN</td>\n",
       "      <td>22</td>\n",
       "    </tr>\n",
       "    <tr>\n",
       "      <th>0</th>\n",
       "      <td>NaN</td>\n",
       "      <td>NaN</td>\n",
       "      <td>23</td>\n",
       "    </tr>\n",
       "    <tr>\n",
       "      <th>0</th>\n",
       "      <td>NaN</td>\n",
       "      <td>NaN</td>\n",
       "      <td>24</td>\n",
       "    </tr>\n",
       "  </tbody>\n",
       "</table>\n",
       "</div>"
      ],
      "text/plain": [
       "   r2_evaluator__target  spearman_evaluator__target  split_evaluator__month\n",
       "0                   NaN                         NaN                       0\n",
       "0              0.421870                    0.744979                       1\n",
       "0              0.491403                    0.701534                       2\n",
       "0              0.478469                    0.729370                       3\n",
       "0              0.534005                    0.736146                       4\n",
       "0              0.538004                    0.752896                       5\n",
       "0              0.528558                    0.749593                       6\n",
       "0              0.599890                    0.799352                       7\n",
       "0              0.603244                    0.796775                       8\n",
       "0              0.627977                    0.808087                       9\n",
       "0              0.598558                    0.779260                      10\n",
       "0              0.604571                    0.788846                      11\n",
       "0              0.604477                    0.793243                      12\n",
       "0              0.575609                    0.775225                      13\n",
       "0              0.582989                    0.789979                      14\n",
       "0              0.578106                    0.779769                      15\n",
       "0              0.576511                    0.784794                      16\n",
       "0              0.611587                    0.806708                      17\n",
       "0              0.616746                    0.800946                      18\n",
       "0              0.581834                    0.780355                      19\n",
       "0              0.576350                    0.783299                      20\n",
       "0                   NaN                         NaN                      21\n",
       "0                   NaN                         NaN                      22\n",
       "0                   NaN                         NaN                      23\n",
       "0                   NaN                         NaN                      24"
      ]
     },
     "execution_count": 38,
     "metadata": {},
     "output_type": "execute_result"
    }
   ],
   "source": [
    "monthly_performance"
   ]
  },
  {
   "cell_type": "code",
   "execution_count": 39,
   "metadata": {
    "ExecuteTime": {
     "end_time": "2019-06-26T14:37:13.593862Z",
     "start_time": "2019-06-26T14:37:13.298620Z"
    },
    "slideshow": {
     "slide_type": "slide"
    }
   },
   "outputs": [
    {
     "data": {
      "text/plain": [
       "<matplotlib.axes._subplots.AxesSubplot at 0x1c240b51d0>"
      ]
     },
     "execution_count": 39,
     "metadata": {},
     "output_type": "execute_result"
    },
    {
     "data": {
      "image/png": "[encoded data removed]",
      "text/plain": [
       "<Figure size 720x576 with 1 Axes>"
      ]
     },
     "metadata": {
      "needs_background": "light"
     },
     "output_type": "display_data"
    }
   ],
   "source": [
    "fig, ax = plt.subplots(figsize=(10, 8))\n",
    "sns.pointplot(data=monthly_performance, ax=ax, x=\"split_evaluator__month\", y=\"r2_evaluator__target\")"
   ]
  },
  {
   "cell_type": "markdown",
   "metadata": {
    "slideshow": {
     "slide_type": "slide"
    }
   },
   "source": [
    "##  Impact of More Data on Monthly Performance?\n",
    "\n",
    "* <font size=\"4\"> We want both our previous way of spliting our dataset and the evaluator we created </font>\n",
    "\n",
    "\n",
    "* <font size=\"4\"> We can use both to create a new spatial learning curve! </font>"
   ]
  },
  {
   "cell_type": "code",
   "execution_count": 40,
   "metadata": {
    "ExecuteTime": {
     "end_time": "2019-06-26T14:38:22.395792Z",
     "start_time": "2019-06-26T14:38:12.970873Z"
    },
    "slideshow": {
     "slide_type": "slide"
    }
   },
   "outputs": [],
   "source": [
    "monthly_spatial_learning_curve_logs = parallel_validator(train_set,\n",
    "                                                         split_fn,\n",
    "                                                         train_fn,\n",
    "                                                         monthly_eval_fn,\n",
    "                                                         n_jobs=8)"
   ]
  },
  {
   "cell_type": "code",
   "execution_count": 41,
   "metadata": {
    "ExecuteTime": {
     "end_time": "2019-06-26T14:38:22.760243Z",
     "start_time": "2019-06-26T14:38:22.397990Z"
    },
    "slideshow": {
     "slide_type": "slide"
    }
   },
   "outputs": [],
   "source": [
    "monthly_data = extract(monthly_spatial_learning_curve_logs['validator_log'], monthly_extractor).loc[lambda df: df.r2_evaluator__target.notna()]"
   ]
  },
  {
   "cell_type": "code",
   "execution_count": 42,
   "metadata": {
    "ExecuteTime": {
     "end_time": "2019-06-26T14:38:22.780083Z",
     "start_time": "2019-06-26T14:38:22.762571Z"
    },
    "slideshow": {
     "slide_type": "fragment"
    }
   },
   "outputs": [
    {
     "data": {
      "text/html": [
       "<div>\n",
       "<style scoped>\n",
       "    .dataframe tbody tr th:only-of-type {\n",
       "        vertical-align: middle;\n",
       "    }\n",
       "\n",
       "    .dataframe tbody tr th {\n",
       "        vertical-align: top;\n",
       "    }\n",
       "\n",
       "    .dataframe thead th {\n",
       "        text-align: right;\n",
       "    }\n",
       "</style>\n",
       "<table border=\"1\" class=\"dataframe\">\n",
       "  <thead>\n",
       "    <tr style=\"text-align: right;\">\n",
       "      <th></th>\n",
       "      <th>r2_evaluator__target</th>\n",
       "      <th>spearman_evaluator__target</th>\n",
       "      <th>split_evaluator__month</th>\n",
       "      <th>fold_num</th>\n",
       "      <th>train_start</th>\n",
       "      <th>train_end</th>\n",
       "      <th>train_size</th>\n",
       "      <th>test_start</th>\n",
       "      <th>test_end</th>\n",
       "      <th>test_size</th>\n",
       "      <th>percentage</th>\n",
       "    </tr>\n",
       "  </thead>\n",
       "  <tbody>\n",
       "    <tr>\n",
       "      <th>0</th>\n",
       "      <td>0.540541</td>\n",
       "      <td>0.758164</td>\n",
       "      <td>15</td>\n",
       "      <td>0</td>\n",
       "      <td>2017-02-01</td>\n",
       "      <td>2018-03-11</td>\n",
       "      <td>5094</td>\n",
       "      <td>2018-04-11</td>\n",
       "      <td>2018-06-12</td>\n",
       "      <td>16711</td>\n",
       "      <td>0.1</td>\n",
       "    </tr>\n",
       "    <tr>\n",
       "      <th>0</th>\n",
       "      <td>0.514314</td>\n",
       "      <td>0.743269</td>\n",
       "      <td>16</td>\n",
       "      <td>0</td>\n",
       "      <td>2017-02-01</td>\n",
       "      <td>2018-03-11</td>\n",
       "      <td>5094</td>\n",
       "      <td>2018-04-11</td>\n",
       "      <td>2018-06-12</td>\n",
       "      <td>16711</td>\n",
       "      <td>0.1</td>\n",
       "    </tr>\n",
       "    <tr>\n",
       "      <th>0</th>\n",
       "      <td>0.507848</td>\n",
       "      <td>0.743218</td>\n",
       "      <td>17</td>\n",
       "      <td>0</td>\n",
       "      <td>2017-02-01</td>\n",
       "      <td>2018-03-11</td>\n",
       "      <td>5094</td>\n",
       "      <td>2018-04-11</td>\n",
       "      <td>2018-06-12</td>\n",
       "      <td>16711</td>\n",
       "      <td>0.1</td>\n",
       "    </tr>\n",
       "    <tr>\n",
       "      <th>0</th>\n",
       "      <td>0.566848</td>\n",
       "      <td>0.774746</td>\n",
       "      <td>15</td>\n",
       "      <td>1</td>\n",
       "      <td>2017-02-01</td>\n",
       "      <td>2018-03-11</td>\n",
       "      <td>9987</td>\n",
       "      <td>2018-04-11</td>\n",
       "      <td>2018-06-12</td>\n",
       "      <td>16711</td>\n",
       "      <td>0.2</td>\n",
       "    </tr>\n",
       "    <tr>\n",
       "      <th>0</th>\n",
       "      <td>0.543697</td>\n",
       "      <td>0.761993</td>\n",
       "      <td>16</td>\n",
       "      <td>1</td>\n",
       "      <td>2017-02-01</td>\n",
       "      <td>2018-03-11</td>\n",
       "      <td>9987</td>\n",
       "      <td>2018-04-11</td>\n",
       "      <td>2018-06-12</td>\n",
       "      <td>16711</td>\n",
       "      <td>0.2</td>\n",
       "    </tr>\n",
       "    <tr>\n",
       "      <th>0</th>\n",
       "      <td>0.539739</td>\n",
       "      <td>0.762033</td>\n",
       "      <td>17</td>\n",
       "      <td>1</td>\n",
       "      <td>2017-02-01</td>\n",
       "      <td>2018-03-11</td>\n",
       "      <td>9987</td>\n",
       "      <td>2018-04-11</td>\n",
       "      <td>2018-06-12</td>\n",
       "      <td>16711</td>\n",
       "      <td>0.2</td>\n",
       "    </tr>\n",
       "    <tr>\n",
       "      <th>0</th>\n",
       "      <td>0.586378</td>\n",
       "      <td>0.786420</td>\n",
       "      <td>15</td>\n",
       "      <td>2</td>\n",
       "      <td>2017-02-01</td>\n",
       "      <td>2018-03-11</td>\n",
       "      <td>19440</td>\n",
       "      <td>2018-04-11</td>\n",
       "      <td>2018-06-12</td>\n",
       "      <td>16711</td>\n",
       "      <td>0.4</td>\n",
       "    </tr>\n",
       "    <tr>\n",
       "      <th>0</th>\n",
       "      <td>0.565958</td>\n",
       "      <td>0.775002</td>\n",
       "      <td>16</td>\n",
       "      <td>2</td>\n",
       "      <td>2017-02-01</td>\n",
       "      <td>2018-03-11</td>\n",
       "      <td>19440</td>\n",
       "      <td>2018-04-11</td>\n",
       "      <td>2018-06-12</td>\n",
       "      <td>16711</td>\n",
       "      <td>0.4</td>\n",
       "    </tr>\n",
       "    <tr>\n",
       "      <th>0</th>\n",
       "      <td>0.562612</td>\n",
       "      <td>0.773501</td>\n",
       "      <td>17</td>\n",
       "      <td>2</td>\n",
       "      <td>2017-02-01</td>\n",
       "      <td>2018-03-11</td>\n",
       "      <td>19440</td>\n",
       "      <td>2018-04-11</td>\n",
       "      <td>2018-06-12</td>\n",
       "      <td>16711</td>\n",
       "      <td>0.4</td>\n",
       "    </tr>\n",
       "    <tr>\n",
       "      <th>0</th>\n",
       "      <td>0.593950</td>\n",
       "      <td>0.789789</td>\n",
       "      <td>15</td>\n",
       "      <td>3</td>\n",
       "      <td>2017-02-01</td>\n",
       "      <td>2018-03-11</td>\n",
       "      <td>28068</td>\n",
       "      <td>2018-04-11</td>\n",
       "      <td>2018-06-12</td>\n",
       "      <td>16711</td>\n",
       "      <td>0.6</td>\n",
       "    </tr>\n",
       "    <tr>\n",
       "      <th>0</th>\n",
       "      <td>0.572617</td>\n",
       "      <td>0.777124</td>\n",
       "      <td>16</td>\n",
       "      <td>3</td>\n",
       "      <td>2017-02-01</td>\n",
       "      <td>2018-03-11</td>\n",
       "      <td>28068</td>\n",
       "      <td>2018-04-11</td>\n",
       "      <td>2018-06-12</td>\n",
       "      <td>16711</td>\n",
       "      <td>0.6</td>\n",
       "    </tr>\n",
       "    <tr>\n",
       "      <th>0</th>\n",
       "      <td>0.567864</td>\n",
       "      <td>0.775599</td>\n",
       "      <td>17</td>\n",
       "      <td>3</td>\n",
       "      <td>2017-02-01</td>\n",
       "      <td>2018-03-11</td>\n",
       "      <td>28068</td>\n",
       "      <td>2018-04-11</td>\n",
       "      <td>2018-06-12</td>\n",
       "      <td>16711</td>\n",
       "      <td>0.6</td>\n",
       "    </tr>\n",
       "    <tr>\n",
       "      <th>0</th>\n",
       "      <td>0.597177</td>\n",
       "      <td>0.790955</td>\n",
       "      <td>15</td>\n",
       "      <td>4</td>\n",
       "      <td>2017-02-01</td>\n",
       "      <td>2018-03-11</td>\n",
       "      <td>34682</td>\n",
       "      <td>2018-04-11</td>\n",
       "      <td>2018-06-12</td>\n",
       "      <td>16711</td>\n",
       "      <td>0.8</td>\n",
       "    </tr>\n",
       "    <tr>\n",
       "      <th>0</th>\n",
       "      <td>0.577139</td>\n",
       "      <td>0.780944</td>\n",
       "      <td>16</td>\n",
       "      <td>4</td>\n",
       "      <td>2017-02-01</td>\n",
       "      <td>2018-03-11</td>\n",
       "      <td>34682</td>\n",
       "      <td>2018-04-11</td>\n",
       "      <td>2018-06-12</td>\n",
       "      <td>16711</td>\n",
       "      <td>0.8</td>\n",
       "    </tr>\n",
       "    <tr>\n",
       "      <th>0</th>\n",
       "      <td>0.570256</td>\n",
       "      <td>0.776765</td>\n",
       "      <td>17</td>\n",
       "      <td>4</td>\n",
       "      <td>2017-02-01</td>\n",
       "      <td>2018-03-11</td>\n",
       "      <td>34682</td>\n",
       "      <td>2018-04-11</td>\n",
       "      <td>2018-06-12</td>\n",
       "      <td>16711</td>\n",
       "      <td>0.8</td>\n",
       "    </tr>\n",
       "    <tr>\n",
       "      <th>0</th>\n",
       "      <td>0.597451</td>\n",
       "      <td>0.791407</td>\n",
       "      <td>15</td>\n",
       "      <td>5</td>\n",
       "      <td>2017-02-01</td>\n",
       "      <td>2018-03-11</td>\n",
       "      <td>36681</td>\n",
       "      <td>2018-04-11</td>\n",
       "      <td>2018-06-12</td>\n",
       "      <td>16711</td>\n",
       "      <td>1.0</td>\n",
       "    </tr>\n",
       "    <tr>\n",
       "      <th>0</th>\n",
       "      <td>0.575909</td>\n",
       "      <td>0.779593</td>\n",
       "      <td>16</td>\n",
       "      <td>5</td>\n",
       "      <td>2017-02-01</td>\n",
       "      <td>2018-03-11</td>\n",
       "      <td>36681</td>\n",
       "      <td>2018-04-11</td>\n",
       "      <td>2018-06-12</td>\n",
       "      <td>16711</td>\n",
       "      <td>1.0</td>\n",
       "    </tr>\n",
       "    <tr>\n",
       "      <th>0</th>\n",
       "      <td>0.570274</td>\n",
       "      <td>0.777338</td>\n",
       "      <td>17</td>\n",
       "      <td>5</td>\n",
       "      <td>2017-02-01</td>\n",
       "      <td>2018-03-11</td>\n",
       "      <td>36681</td>\n",
       "      <td>2018-04-11</td>\n",
       "      <td>2018-06-12</td>\n",
       "      <td>16711</td>\n",
       "      <td>1.0</td>\n",
       "    </tr>\n",
       "  </tbody>\n",
       "</table>\n",
       "</div>"
      ],
      "text/plain": [
       "   r2_evaluator__target  spearman_evaluator__target  split_evaluator__month  \\\n",
       "0              0.540541                    0.758164                      15   \n",
       "0              0.514314                    0.743269                      16   \n",
       "0              0.507848                    0.743218                      17   \n",
       "0              0.566848                    0.774746                      15   \n",
       "0              0.543697                    0.761993                      16   \n",
       "0              0.539739                    0.762033                      17   \n",
       "0              0.586378                    0.786420                      15   \n",
       "0              0.565958                    0.775002                      16   \n",
       "0              0.562612                    0.773501                      17   \n",
       "0              0.593950                    0.789789                      15   \n",
       "0              0.572617                    0.777124                      16   \n",
       "0              0.567864                    0.775599                      17   \n",
       "0              0.597177                    0.790955                      15   \n",
       "0              0.577139                    0.780944                      16   \n",
       "0              0.570256                    0.776765                      17   \n",
       "0              0.597451                    0.791407                      15   \n",
       "0              0.575909                    0.779593                      16   \n",
       "0              0.570274                    0.777338                      17   \n",
       "\n",
       "   fold_num train_start  train_end  train_size test_start   test_end  \\\n",
       "0         0  2017-02-01 2018-03-11        5094 2018-04-11 2018-06-12   \n",
       "0         0  2017-02-01 2018-03-11        5094 2018-04-11 2018-06-12   \n",
       "0         0  2017-02-01 2018-03-11        5094 2018-04-11 2018-06-12   \n",
       "0         1  2017-02-01 2018-03-11        9987 2018-04-11 2018-06-12   \n",
       "0         1  2017-02-01 2018-03-11        9987 2018-04-11 2018-06-12   \n",
       "0         1  2017-02-01 2018-03-11        9987 2018-04-11 2018-06-12   \n",
       "0         2  2017-02-01 2018-03-11       19440 2018-04-11 2018-06-12   \n",
       "0         2  2017-02-01 2018-03-11       19440 2018-04-11 2018-06-12   \n",
       "0         2  2017-02-01 2018-03-11       19440 2018-04-11 2018-06-12   \n",
       "0         3  2017-02-01 2018-03-11       28068 2018-04-11 2018-06-12   \n",
       "0         3  2017-02-01 2018-03-11       28068 2018-04-11 2018-06-12   \n",
       "0         3  2017-02-01 2018-03-11       28068 2018-04-11 2018-06-12   \n",
       "0         4  2017-02-01 2018-03-11       34682 2018-04-11 2018-06-12   \n",
       "0         4  2017-02-01 2018-03-11       34682 2018-04-11 2018-06-12   \n",
       "0         4  2017-02-01 2018-03-11       34682 2018-04-11 2018-06-12   \n",
       "0         5  2017-02-01 2018-03-11       36681 2018-04-11 2018-06-12   \n",
       "0         5  2017-02-01 2018-03-11       36681 2018-04-11 2018-06-12   \n",
       "0         5  2017-02-01 2018-03-11       36681 2018-04-11 2018-06-12   \n",
       "\n",
       "   test_size  percentage  \n",
       "0      16711         0.1  \n",
       "0      16711         0.1  \n",
       "0      16711         0.1  \n",
       "0      16711         0.2  \n",
       "0      16711         0.2  \n",
       "0      16711         0.2  \n",
       "0      16711         0.4  \n",
       "0      16711         0.4  \n",
       "0      16711         0.4  \n",
       "0      16711         0.6  \n",
       "0      16711         0.6  \n",
       "0      16711         0.6  \n",
       "0      16711         0.8  \n",
       "0      16711         0.8  \n",
       "0      16711         0.8  \n",
       "0      16711         1.0  \n",
       "0      16711         1.0  \n",
       "0      16711         1.0  "
      ]
     },
     "execution_count": 42,
     "metadata": {},
     "output_type": "execute_result"
    }
   ],
   "source": [
    "monthly_data"
   ]
  },
  {
   "cell_type": "code",
   "execution_count": 43,
   "metadata": {
    "ExecuteTime": {
     "end_time": "2019-06-26T14:38:45.764006Z",
     "start_time": "2019-06-26T14:38:45.506718Z"
    },
    "slideshow": {
     "slide_type": "slide"
    }
   },
   "outputs": [
    {
     "data": {
      "image/png": "[encoded data removed]",
      "text/plain": [
       "<Figure size 720x576 with 1 Axes>"
      ]
     },
     "metadata": {
      "needs_background": "light"
     },
     "output_type": "display_data"
    }
   ],
   "source": [
    "fig, ax = plt.subplots(figsize=(10, 8))\n",
    "sns.pointplot(data=monthly_data, ax=ax, x=\"percentage\", y=\"r2_evaluator__target\", hue=\"split_evaluator__month\")\n",
    "plt.title(\"Spatial Learning Curve By Month\")\n",
    "plt.xticks(rotation=45);"
   ]
  },
  {
   "cell_type": "markdown",
   "metadata": {
    "slideshow": {
     "slide_type": "slide"
    }
   },
   "source": [
    "# What else does fklearn provide me?\n",
    "\n",
    "* <font size=\"4\"> Several other **learning curves** that can be used depending on what you want to evaluate </font>\n",
    "\n",
    "\n",
    "* <font size=\"4\"> Several other **algorithms** for models </font>\n",
    "\n",
    "\n",
    "* <font size=\"4\"> Other tools with similar interface for **feature selection, parameter tuning** </font>\n",
    "\n",
    "\n",
    "* <font size=\"4\"> All this methods are integrated with similar signatures in a way that is easy to reuse training, spliting and evaluation functions </font>\n",
    "\n"
   ]
  },
  {
   "cell_type": "markdown",
   "metadata": {},
   "source": [
    "# Learn more:\n",
    "\n",
    "<font size=\"4\"> \n",
    "1. Medium blog post: https://medium.com/building-nubank/   \n",
    "    \n",
    "2. Documentation: https://fklearn.readthedocs.io/ </font>\n"
   ]
  }
 ],
 "metadata": {
  "kernelspec": {
   "display_name": "Python 3",
   "language": "python",
   "name": "python3"
  },
  "language_info": {
   "codemirror_mode": {
    "name": "ipython",
    "version": 3
   },
   "file_extension": ".py",
   "mimetype": "text/x-python",
   "name": "python",
   "nbconvert_exporter": "python",
   "pygments_lexer": "ipython3",
   "version": "3.6.8"
  },
  "toc": {
   "base_numbering": 1,
   "nav_menu": {},
   "number_sections": true,
   "sideBar": true,
   "skip_h1_title": false,
   "title_cell": "Table of Contents",
   "title_sidebar": "Contents",
   "toc_cell": false,
   "toc_position": {},
   "toc_section_display": true,
   "toc_window_display": false
  }
 },
 "nbformat": 4,
 "nbformat_minor": 2
}
