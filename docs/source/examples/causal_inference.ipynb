{
 "cells": [
  {
   "cell_type": "markdown",
   "metadata": {},
   "source": [
    "# Causal Inference"
   ]
  },
  {
   "cell_type": "code",
   "execution_count": 1,
   "metadata": {},
   "outputs": [
    {
     "name": "stderr",
     "output_type": "stream",
     "text": [
      "/opt/anaconda/lib/python2.7/site-packages/sklearn/cross_validation.py:41: DeprecationWarning: This module was deprecated in version 0.18 in favor of the model_selection module into which all the refactored classes and functions are moved. Also note that the interface of the new CV iterators are different from that of this module. This module will be removed in 0.20.\n",
      "  \"This module will be removed in 0.20.\", DeprecationWarning)\n"
     ]
    }
   ],
   "source": [
    "import numpy as np\n",
    "import pandas as pd\n",
    "\n",
    "from fklearn.training.regression import xgb_regression_learner\n",
    "from fklearn.training.classification import xgb_classification_learner, logistic_classification_learner\n",
    "from fklearn.training.causal_inference import IPTW_learner\n",
    "from fklearn.validation.evaluators import r2_evaluator, auc_evaluator\n",
    "from fklearn.data.datasets import make_confounded_data\n",
    "\n",
    "from sklearn.model_selection import train_test_split\n",
    "import matplotlib.pyplot as plt\n",
    "import seaborn as sns\n",
    "\n",
    "N=50000\n",
    "features = [\"sex\", \"age\", \"severity\"]\n",
    "treatment = [\"medication\"]"
   ]
  },
  {
   "cell_type": "markdown",
   "metadata": {},
   "source": [
    "## Synthetic Data Model\n",
    "\n",
    "To better understand counterfactual inference, we will use a synthetic data, for which the generating process is known. More precisely, the data which is generated from the following model\n",
    "\n",
    "\n",
    "$Sex \\sim  \\mathcal{B}(0.5)$  \n",
    "  \n",
    "$Age \\sim \\operatorname{Gamma}(8, 4)$\n",
    "  \n",
    "$Severity \\sim \\mathbb{1}_{\\{age < 30\\}} \\operatorname{Beta}(1,3) + \\mathbb{1}_{\\{age \\geq 30\\}} \\operatorname{Beta}(3,1.5)$  \n",
    "  \n",
    "$Treat \\sim \\mathcal{B}(-0.8 + 0.33*sex + 1.5*severity)$  \n",
    "  \n",
    "$Recovery = \\operatorname{Poisson}(2+0.5 * sex+0.03 * age+ 1*severity-1 * medication)$  \n",
    "  \n",
    "We can see that the linear factor that multiply the medication is $-1$. Since this relation is inside a Poisson model, we can say that the expected causal effect of medication on recovery time is $exp(-1)\\approx 0.36$. We can also see that there are lots of confounding in the above model. For instance, Severity directly influences both the probability of treatment and the recovery time directly. The same if true for sex, with the additional complication that sext also influences on the severity of the daisies. Finally, age directly influences the recovery time and affect treatment only indirectly through influence in severity. Moreover, there are some non trivial data, like the severity, which is a mixture of two Beta distribution.\n",
    "\n",
    "The function bellow generates such data. It returns a Data Frame for which the treatment is randomly assigned, one DataFrame that simulates a observational dataset with the a above treatment probability. It also returns a third DataFrame, just like the simulated observational one, but with the treatment inverted. This will be the counterfactual dataframe."
   ]
  },
  {
   "cell_type": "code",
   "execution_count": 2,
   "metadata": {},
   "outputs": [
    {
     "name": "stderr",
     "output_type": "stream",
     "text": [
      "/opt/anaconda/lib/python2.7/site-packages/pandas/core/computation/check.py:17: UserWarning: The installed version of numexpr 2.4.3 is not supported in pandas and will be not be used\n",
      "The minimum supported version is 2.4.6\n",
      "\n",
      "  ver=ver, min_ver=_MIN_NUMEXPR_VERSION), UserWarning)\n"
     ]
    }
   ],
   "source": [
    "df_rnd, df_obs, df_cf = make_confounded_data(N)"
   ]
  },
  {
   "cell_type": "markdown",
   "metadata": {},
   "source": [
    "Lets now see the correlations present in this dataframe. As you can see, all variables are correlated with both recovery and treatment assignment, which is the typical confounding scenario."
   ]
  },
  {
   "cell_type": "code",
   "execution_count": 3,
   "metadata": {},
   "outputs": [
    {
     "data": {
      "text/html": [
       "<div>\n",
       "<style scoped>\n",
       "    .dataframe tbody tr th:only-of-type {\n",
       "        vertical-align: middle;\n",
       "    }\n",
       "\n",
       "    .dataframe tbody tr th {\n",
       "        vertical-align: top;\n",
       "    }\n",
       "\n",
       "    .dataframe thead th {\n",
       "        text-align: right;\n",
       "    }\n",
       "</style>\n",
       "<table border=\"1\" class=\"dataframe\">\n",
       "  <thead>\n",
       "    <tr style=\"text-align: right;\">\n",
       "      <th></th>\n",
       "      <th>sex</th>\n",
       "      <th>age</th>\n",
       "      <th>severity</th>\n",
       "      <th>medication</th>\n",
       "      <th>recovery</th>\n",
       "    </tr>\n",
       "  </thead>\n",
       "  <tbody>\n",
       "    <tr>\n",
       "      <th>sex</th>\n",
       "      <td>1.000000</td>\n",
       "      <td>-0.005599</td>\n",
       "      <td>-0.003693</td>\n",
       "      <td>0.208767</td>\n",
       "      <td>0.264228</td>\n",
       "    </tr>\n",
       "    <tr>\n",
       "      <th>age</th>\n",
       "      <td>-0.005599</td>\n",
       "      <td>1.000000</td>\n",
       "      <td>0.566635</td>\n",
       "      <td>0.463141</td>\n",
       "      <td>0.601405</td>\n",
       "    </tr>\n",
       "    <tr>\n",
       "      <th>severity</th>\n",
       "      <td>-0.003693</td>\n",
       "      <td>0.566635</td>\n",
       "      <td>1.000000</td>\n",
       "      <td>0.792594</td>\n",
       "      <td>0.177204</td>\n",
       "    </tr>\n",
       "    <tr>\n",
       "      <th>medication</th>\n",
       "      <td>0.208767</td>\n",
       "      <td>0.463141</td>\n",
       "      <td>0.792594</td>\n",
       "      <td>1.000000</td>\n",
       "      <td>-0.097037</td>\n",
       "    </tr>\n",
       "    <tr>\n",
       "      <th>recovery</th>\n",
       "      <td>0.264228</td>\n",
       "      <td>0.601405</td>\n",
       "      <td>0.177204</td>\n",
       "      <td>-0.097037</td>\n",
       "      <td>1.000000</td>\n",
       "    </tr>\n",
       "  </tbody>\n",
       "</table>\n",
       "</div>"
      ],
      "text/plain": [
       "                 sex       age  severity  medication  recovery\n",
       "sex         1.000000 -0.005599 -0.003693    0.208767  0.264228\n",
       "age        -0.005599  1.000000  0.566635    0.463141  0.601405\n",
       "severity   -0.003693  0.566635  1.000000    0.792594  0.177204\n",
       "medication  0.208767  0.463141  0.792594    1.000000 -0.097037\n",
       "recovery    0.264228  0.601405  0.177204   -0.097037  1.000000"
      ]
     },
     "execution_count": 3,
     "metadata": {},
     "output_type": "execute_result"
    }
   ],
   "source": [
    "df_obs.corr()"
   ]
  },
  {
   "cell_type": "markdown",
   "metadata": {},
   "source": [
    "## Naive Model\n",
    "\n",
    "Lets first try to fit a model directly to the responde variable (recovery) without much attention to confounding. "
   ]
  },
  {
   "cell_type": "code",
   "execution_count": 4,
   "metadata": {},
   "outputs": [],
   "source": [
    "regr_learner = xgb_regression_learner(features=features + treatment, target=\"recovery\")"
   ]
  },
  {
   "cell_type": "markdown",
   "metadata": {},
   "source": [
    "First, we fit it to the the data where the treatment is randomly assigned."
   ]
  },
  {
   "cell_type": "code",
   "execution_count": 5,
   "metadata": {},
   "outputs": [],
   "source": [
    "sem_fn, df_rnd, _ = regr_learner(df_rnd)"
   ]
  },
  {
   "cell_type": "markdown",
   "metadata": {},
   "source": [
    "To get the average causal effect, we create two dataframes, one for which everyone receives the treatment and one for which no one receives it. We then run the model for both datasets and divide their predictions"
   ]
  },
  {
   "cell_type": "code",
   "execution_count": 6,
   "metadata": {},
   "outputs": [
    {
     "data": {
      "text/plain": [
       "0.369575560092926"
      ]
     },
     "execution_count": 6,
     "metadata": {},
     "output_type": "execute_result"
    }
   ],
   "source": [
    "X_neg = df_rnd.copy()\n",
    "X_pos = df_rnd.copy()\n",
    "\n",
    "X_neg[\"medication\"] = 0\n",
    "X_pos[\"medication\"] = 1\n",
    "\n",
    "preds_rnd = sem_fn(X_pos)[\"prediction\"] / sem_fn(X_neg)[\"prediction\"]\n",
    "preds_rnd.mean()"
   ]
  },
  {
   "cell_type": "markdown",
   "metadata": {},
   "source": [
    "As we can see it is trivial to identify the causal effect if the treatment is randomly assigned. Bellow, we plot the predicted treatment effect distribution with the true average treatment effect and the predicted one"
   ]
  },
  {
   "cell_type": "code",
   "execution_count": 7,
   "metadata": {},
   "outputs": [
    {
     "data": {
      "image/png": "[encoded data removed]",
      "text/plain": [
       "<matplotlib.figure.Figure at 0x7f788cdd5990>"
      ]
     },
     "metadata": {},
     "output_type": "display_data"
    }
   ],
   "source": [
    "ax = sns.distplot(preds_rnd)\n",
    "ax.set_xlabel('treatment effect')\n",
    "ax.set_ylabel('density')\n",
    "plt.axvline(np.mean(preds_rnd), label='mean', lw=5)\n",
    "plt.axvline(np.exp(-1), color='r', label='truth')\n",
    "plt.legend();"
   ]
  },
  {
   "cell_type": "markdown",
   "metadata": {},
   "source": [
    "Now for the hard part. Lets try to use the same naive model for the data where there is confounding.  "
   ]
  },
  {
   "cell_type": "code",
   "execution_count": 8,
   "metadata": {},
   "outputs": [],
   "source": [
    "sem_fn, df_obs, _ = regr_learner(df_obs)"
   ]
  },
  {
   "cell_type": "code",
   "execution_count": 9,
   "metadata": {},
   "outputs": [
    {
     "data": {
      "text/plain": [
       "0.42235738039016724"
      ]
     },
     "execution_count": 9,
     "metadata": {},
     "output_type": "execute_result"
    }
   ],
   "source": [
    "X_neg = df_obs.copy()\n",
    "X_pos = df_obs.copy()\n",
    "\n",
    "X_neg[\"medication\"] = 0\n",
    "X_pos[\"medication\"] = 1\n",
    "\n",
    "preds_rnd = sem_fn(X_pos)[\"prediction\"] / sem_fn(X_neg)[\"prediction\"]\n",
    "preds_rnd.mean()"
   ]
  },
  {
   "cell_type": "markdown",
   "metadata": {},
   "source": [
    "We can see now that the treatment effect is now underestimated ($log(0.41) = -0.89$), so we predict that the treatment has less impact than it actually does. But why is that? Well just to give one reason, if we recall the data generating process, we will notice that severity is causes a longer recovery period and a greater probability of treatment. Thus, some of the negative effect of severity goes to the correlation of treatment with recovery time, which appears to be smaller than the actual causal effect."
   ]
  },
  {
   "cell_type": "code",
   "execution_count": 10,
   "metadata": {},
   "outputs": [
    {
     "data": {
      "image/png": "[encoded data removed]",
      "text/plain": [
       "<matplotlib.figure.Figure at 0x7f788cd42690>"
      ]
     },
     "metadata": {},
     "output_type": "display_data"
    }
   ],
   "source": [
    "ax = sns.distplot(preds_rnd)\n",
    "ax.set_xlabel('treatment effect')\n",
    "ax.set_ylabel('density')\n",
    "plt.axvline(np.mean(preds_rnd), label='mean', lw=5)\n",
    "plt.axvline(np.exp(-1), color='r', label='truth')\n",
    "plt.legend();"
   ]
  },
  {
   "cell_type": "markdown",
   "metadata": {},
   "source": [
    "Finally, lets see how does out model performs in both the factual and counter factual data."
   ]
  },
  {
   "cell_type": "code",
   "execution_count": 11,
   "metadata": {},
   "outputs": [
    {
     "name": "stdout",
     "output_type": "stream",
     "text": [
      "Factual Evaluation: {'r2_evaluator__recovery': 0.8669406871788605}\n",
      "Counter Factual Evaluation {'r2_evaluator__recovery': 0.8341172823328981}\n"
     ]
    }
   ],
   "source": [
    "eval_fn = r2_evaluator(prediction_column=\"prediction\",target_column=\"recovery\")\n",
    "\n",
    "print \"Factual Evaluation:\", eval_fn(sem_fn(df_obs))\n",
    "print \"Counter Factual Evaluation\", eval_fn(sem_fn(df_cf))"
   ]
  },
  {
   "cell_type": "markdown",
   "metadata": {},
   "source": [
    "## IPTW  Model\n",
    "\n",
    "Having played a little with the a naive benchmark, lets now use a framework that is meant to uncover causal relation, the Inverse Probability of Treatment Waiting framework. The idea is very simple. We first fit a model to predict the probability of treatment. Then, we overweight two kinds of samples: the treated with low form whom the predicted probability of treatment is low and the untreated for whom the predicted probability is high. The intuition is that this will make the model focus on the treated that looks like the untreated and on the untreated that looks like the treated.\n",
    "\n",
    "In order for this to work we have to watch out for two things:\n",
    "\n",
    "    1) Treatment assignment should not be deterministic on the covariates. In other words, everyone should have a probability of being treated. This is some times referred as the positivity assumption of causal inference.\n",
    "    2) All variables that influence the responde (recovery time) and treatment assignment should be observable. Another way to say this is that treatment is randomly assigned given once we account for the covariates. This is sometimes referred as the unconfoundedness assumption.\n",
    "    \n",
    "Trouble is, although we can check for assumption 1) wit the data, there is no way to check for assumption 2). Here, we know how the data was generated and we know that we have unconfoundedness, but, in general, we have to rely on experts intuition about the problem we try to model.\n",
    "\n",
    "OK. Back to the model. Lets split our data fist."
   ]
  },
  {
   "cell_type": "code",
   "execution_count": 12,
   "metadata": {},
   "outputs": [],
   "source": [
    "train, test, _, _ = train_test_split(df_obs, df_obs, test_size=0.33, random_state=42)"
   ]
  },
  {
   "cell_type": "markdown",
   "metadata": {},
   "source": [
    "Now, we will fit the IPTW learner. It takes tow extra learners as inputs: a classification model to predict the probability of treatment and a response model that, on this case, will be a regression one, since the our response variable is continuous."
   ]
  },
  {
   "cell_type": "code",
   "execution_count": 13,
   "metadata": {},
   "outputs": [],
   "source": [
    "causal_learner = IPTW_learner(features=features, target=\"recovery\", treatment = \"medication\",\n",
    "                              ps_learner = xgb_classification_learner(num_estimators=25, extra_params={\"max_depth\": 2}),\n",
    "                              response_learner = xgb_regression_learner)"
   ]
  },
  {
   "cell_type": "markdown",
   "metadata": {},
   "source": [
    "The IPTW predict function returns a DataFrame with the predicted response variable, the propensity scores and the weight of the each samples."
   ]
  },
  {
   "cell_type": "code",
   "execution_count": 14,
   "metadata": {},
   "outputs": [
    {
     "data": {
      "text/html": [
       "<div>\n",
       "<style scoped>\n",
       "    .dataframe tbody tr th:only-of-type {\n",
       "        vertical-align: middle;\n",
       "    }\n",
       "\n",
       "    .dataframe tbody tr th {\n",
       "        vertical-align: top;\n",
       "    }\n",
       "\n",
       "    .dataframe thead th {\n",
       "        text-align: right;\n",
       "    }\n",
       "</style>\n",
       "<table border=\"1\" class=\"dataframe\">\n",
       "  <thead>\n",
       "    <tr style=\"text-align: right;\">\n",
       "      <th></th>\n",
       "      <th>sex</th>\n",
       "      <th>age</th>\n",
       "      <th>severity</th>\n",
       "      <th>medication</th>\n",
       "      <th>recovery</th>\n",
       "      <th>prediction</th>\n",
       "      <th>propensity_score</th>\n",
       "      <th>weight</th>\n",
       "      <th>counterfactual</th>\n",
       "    </tr>\n",
       "  </thead>\n",
       "  <tbody>\n",
       "    <tr>\n",
       "      <th>23990</th>\n",
       "      <td>0</td>\n",
       "      <td>22.357267</td>\n",
       "      <td>0.797063</td>\n",
       "      <td>1.0</td>\n",
       "      <td>9</td>\n",
       "      <td>12.010621</td>\n",
       "      <td>0.903162</td>\n",
       "      <td>1.107221</td>\n",
       "      <td>12.305794</td>\n",
       "    </tr>\n",
       "    <tr>\n",
       "      <th>8729</th>\n",
       "      <td>0</td>\n",
       "      <td>10.764319</td>\n",
       "      <td>0.165695</td>\n",
       "      <td>0.0</td>\n",
       "      <td>12</td>\n",
       "      <td>11.791059</td>\n",
       "      <td>0.046857</td>\n",
       "      <td>1.049161</td>\n",
       "      <td>12.667633</td>\n",
       "    </tr>\n",
       "    <tr>\n",
       "      <th>3451</th>\n",
       "      <td>1</td>\n",
       "      <td>24.046842</td>\n",
       "      <td>0.494215</td>\n",
       "      <td>1.0</td>\n",
       "      <td>13</td>\n",
       "      <td>15.043891</td>\n",
       "      <td>0.791081</td>\n",
       "      <td>1.264093</td>\n",
       "      <td>15.231667</td>\n",
       "    </tr>\n",
       "    <tr>\n",
       "      <th>2628</th>\n",
       "      <td>1</td>\n",
       "      <td>30.389036</td>\n",
       "      <td>0.567990</td>\n",
       "      <td>1.0</td>\n",
       "      <td>24</td>\n",
       "      <td>20.715506</td>\n",
       "      <td>0.889086</td>\n",
       "      <td>1.124750</td>\n",
       "      <td>20.982327</td>\n",
       "    </tr>\n",
       "    <tr>\n",
       "      <th>38352</th>\n",
       "      <td>1</td>\n",
       "      <td>23.535528</td>\n",
       "      <td>0.050463</td>\n",
       "      <td>0.0</td>\n",
       "      <td>28</td>\n",
       "      <td>26.280563</td>\n",
       "      <td>0.137160</td>\n",
       "      <td>1.158963</td>\n",
       "      <td>25.861427</td>\n",
       "    </tr>\n",
       "  </tbody>\n",
       "</table>\n",
       "</div>"
      ],
      "text/plain": [
       "       sex        age  severity  medication  recovery  prediction  \\\n",
       "23990    0  22.357267  0.797063         1.0         9   12.010621   \n",
       "8729     0  10.764319  0.165695         0.0        12   11.791059   \n",
       "3451     1  24.046842  0.494215         1.0        13   15.043891   \n",
       "2628     1  30.389036  0.567990         1.0        24   20.715506   \n",
       "38352    1  23.535528  0.050463         0.0        28   26.280563   \n",
       "\n",
       "       propensity_score    weight  counterfactual  \n",
       "23990          0.903162  1.107221       12.305794  \n",
       "8729           0.046857  1.049161       12.667633  \n",
       "3451           0.791081  1.264093       15.231667  \n",
       "2628           0.889086  1.124750       20.982327  \n",
       "38352          0.137160  1.158963       25.861427  "
      ]
     },
     "execution_count": 14,
     "metadata": {},
     "output_type": "execute_result"
    }
   ],
   "source": [
    "sem_fn, train_pred, _ = causal_learner(train)\n",
    "test_pred = sem_fn(test)\n",
    "train_pred.head()"
   ]
  },
  {
   "cell_type": "markdown",
   "metadata": {},
   "source": [
    "Before we process, it a good idea to validate our propensity score classifier. It better not overffit! If iid does, it will be very confident, giving extremely low probability of treatment to the untreated and extremely hight probability of treatment for the treated. This will result in no overlap in in the propensity score for the treated and untreated, which will be a near violation of the positivity assumption. Also, if our model can precisely predict the treatment assignment, it means it is a deterministic function of the covariates, also violating the positivity assumption."
   ]
  },
  {
   "cell_type": "code",
   "execution_count": 15,
   "metadata": {},
   "outputs": [
    {
     "data": {
      "text/plain": [
       "({'auc_evaluator__medication': 0.9780837845595602},\n",
       " {'auc_evaluator__medication': 0.976750491771322})"
      ]
     },
     "execution_count": 15,
     "metadata": {},
     "output_type": "execute_result"
    }
   ],
   "source": [
    "ps_eval_fn = auc_evaluator(prediction_column=\"propensity_score\", target_column=\"medication\")\n",
    "ps_eval_fn(train_pred), ps_eval_fn(test_pred) "
   ]
  },
  {
   "cell_type": "code",
   "execution_count": 16,
   "metadata": {},
   "outputs": [
    {
     "name": "stderr",
     "output_type": "stream",
     "text": [
      "No handlers could be found for logger \"matplotlib.legend\"\n"
     ]
    },
    {
     "data": {
      "image/png": "[encoded data removed]",
      "text/plain": [
       "<matplotlib.figure.Figure at 0x7f788cd424d0>"
      ]
     },
     "metadata": {},
     "output_type": "display_data"
    }
   ],
   "source": [
    "# check for positivity\n",
    "ax = sns.distplot(train_pred[train_pred[\"medication\"] == 1][\"propensity_score\"])\n",
    "sns.distplot(train_pred[train_pred[\"medication\"] == 0][\"propensity_score\"])\n",
    "ax.set_xlabel('treatment effect')\n",
    "ax.set_ylabel('density')\n",
    "plt.legend();"
   ]
  },
  {
   "cell_type": "markdown",
   "metadata": {},
   "source": [
    "OK. We can see that our propensity score model is not overfilling, but it is also very good. When we plot the propensity score distribution for treated and untreated we can see that there is almost no overlap between them. This might give us some trouble, since is a near violation of the positivity assumption. \n",
    "\n",
    "Now, lets validate our responde prediction on both factual and counterfactual data. We can see that it is already better than the naive model."
   ]
  },
  {
   "cell_type": "code",
   "execution_count": 17,
   "metadata": {},
   "outputs": [
    {
     "data": {
      "text/plain": [
       "({'r2_evaluator__recovery': 0.8686622319366993},\n",
       " {'r2_evaluator__recovery': 0.8539786349462983})"
      ]
     },
     "execution_count": 17,
     "metadata": {},
     "output_type": "execute_result"
    }
   ],
   "source": [
    "sem_eval_fn = r2_evaluator(prediction_column=\"counterfactual\", target_column=\"recovery\")\n",
    "sem_eval_fn(train_pred), sem_eval_fn(test_pred) "
   ]
  },
  {
   "cell_type": "markdown",
   "metadata": {},
   "source": [
    "Finally, lets see the predicted average treatment effect. We can see that it is not perfect, but is much better already."
   ]
  },
  {
   "cell_type": "code",
   "execution_count": 18,
   "metadata": {},
   "outputs": [
    {
     "data": {
      "text/plain": [
       "0.38716813921928406"
      ]
     },
     "execution_count": 18,
     "metadata": {},
     "output_type": "execute_result"
    }
   ],
   "source": [
    "X_neg = train_pred.copy()\n",
    "X_pos = train_pred.copy()\n",
    "\n",
    "X_neg[\"medication\"] = 0\n",
    "X_pos[\"medication\"] = 1\n",
    "\n",
    "preds_rnd = sem_fn(X_pos)[\"counterfactual\"] / sem_fn(X_neg)[\"counterfactual\"]\n",
    "preds_rnd.mean()"
   ]
  },
  {
   "cell_type": "code",
   "execution_count": 19,
   "metadata": {},
   "outputs": [
    {
     "data": {
      "image/png": "[encoded data removed]",
      "text/plain": [
       "<matplotlib.figure.Figure at 0x7f788ca8c390>"
      ]
     },
     "metadata": {},
     "output_type": "display_data"
    }
   ],
   "source": [
    "ax = sns.distplot(preds_rnd)\n",
    "ax.set_xlabel('treatment effect')\n",
    "ax.set_ylabel('density')\n",
    "plt.axvline(np.mean(preds_rnd), label='mean', lw=5)\n",
    "plt.axvline(np.exp(-1), color='r', label='truth')\n",
    "plt.legend();"
   ]
  }
 ],
 "metadata": {
  "nbsphinx": {
   "orphan": true
  },
  "kernelspec": {
   "display_name": "Python 3",
   "language": "python",
   "name": "python3"
  },
  "language_info": {
   "codemirror_mode": {
    "name": "ipython",
    "version": 3
   },
   "file_extension": ".py",
   "mimetype": "text/x-python",
   "name": "python",
   "nbconvert_exporter": "python",
   "pygments_lexer": "ipython3",
   "version": "3.6.4"
  }
 },
 "nbformat": 4,
 "nbformat_minor": 2
}
