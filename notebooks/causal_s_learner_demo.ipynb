{
 "cells": [
  {
   "cell_type": "markdown",
   "id": "f84aeac6",
   "metadata": {
    "ExecuteTime": {
     "end_time": "2022-08-01T17:38:44.522833Z",
     "start_time": "2022-08-01T17:38:44.516580Z"
    }
   },
   "source": [
    "## Causal S-Learner Classifier\n",
    "\n",
    "### TL; DR\n",
    "---\n",
    "This notebooks exemplifies how one can use the causal S-learner through fklearn.\n",
    "\n",
    "### Long\n",
    "---\n",
    "A very interesting and useful type of causal models are uplift models, in which one is able to identify how each sample responds to a given treatment, and what is the effect of that treatment compared to a control group. The main goal of uplift models is, therefore, to learn the difference in probability of a sample converting (using a product), given that it was submitted to some action (nudge). Meta-learns are examples of causal models, in which the CATE represents how each unit will respond to a given treatment [1]. In fact, the uplift can be understood as the incremental gain in the conversion probability in the case a given sample was in the treatment group instead of the control one. In addition, these models have the advantage of using conventional machine learning models, such as LightGBM.\n",
    "\n",
    "More specifically, the S-learner is a meta-learner which learns the Conditional Average Treatment Effect (CATE) through the creation of an auxiliary binary feature $T$ that indicates if the samples is in the treatment ($T = 1$) or in the control ($T = 0$) group. Then, this feature can then be used to perform inference by artificially simulating the conversion of a new sample $i$ in both scenarios, i.e., with $T = 0$ and $T = 1$. The CATE $\\tau$ is defined as $\\tau(x_{i}) = M(X=x_{i}, T=1) - M(X=x_{i}, T=0)$, being $M$ a Machine Learning Model such as a LightGBM Classifier and $x_{i}$ the feature set of sample $i$.\n",
    "\n",
    "### Data\n",
    "---\n",
    "The data here adopted is provided in [1], [2].\n",
    "\n",
    "### References\n",
    "---\n",
    "\n",
    "[1] https://matheusfacure.github.io/python-causality-handbook/21-Meta-Learners.html\n",
    "\n",
    "[2] https://github.com/matheusfacure/python-causality-handbook/tree/master/causal-inference-for-the-brave-and-true/data\n",
    "\n",
    "[3] https://causalml.readthedocs.io/en/latest/methodology.html"
   ]
  },
  {
   "cell_type": "code",
   "execution_count": 2,
   "id": "244d690b",
   "metadata": {
    "ExecuteTime": {
     "end_time": "2022-08-09T17:42:16.631445Z",
     "start_time": "2022-08-09T17:42:16.628550Z"
    }
   },
   "outputs": [],
   "source": [
    "RANDOM_SEED = 42"
   ]
  },
  {
   "cell_type": "markdown",
   "id": "651c52e1",
   "metadata": {},
   "source": [
    "### 1. Imports"
   ]
  },
  {
   "cell_type": "code",
   "execution_count": 3,
   "id": "334c24ac",
   "metadata": {
    "ExecuteTime": {
     "end_time": "2022-08-09T17:42:19.299096Z",
     "start_time": "2022-08-09T17:42:17.304373Z"
    }
   },
   "outputs": [],
   "source": [
    "import pandas as pd\n",
    "import numpy as np\n",
    "\n",
    "import matplotlib.pyplot as plt\n",
    "import seaborn as sns\n",
    "\n",
    "from fklearn.causal.cate_learning.meta_learners import causal_s_classification_learner\n",
    "from fklearn.training.classification import lgbm_classification_learner\n",
    "from fklearn.training.calibration import isotonic_calibration_learner\n",
    "from fklearn.causal.validation.curves import cumulative_gain_curve\n",
    "from fklearn.training.pipeline import build_pipeline\n",
    "from fklearn.training.transformation import ecdfer\n",
    "\n",
    "sns.set_style(\"darkgrid\")"
   ]
  },
  {
   "cell_type": "markdown",
   "id": "7951044d",
   "metadata": {},
   "source": [
    "### 2. Functions"
   ]
  },
  {
   "cell_type": "code",
   "execution_count": 4,
   "id": "3b3820cf",
   "metadata": {
    "ExecuteTime": {
     "end_time": "2022-08-09T17:42:19.670134Z",
     "start_time": "2022-08-09T17:42:19.665659Z"
    }
   },
   "outputs": [],
   "source": [
    "def plot_cumulative_gain_curve(\n",
    "    train_gain: np.ndarray,\n",
    "    test_gain: np.ndarray,\n",
    "    random_gain: np.ndarray,\n",
    "    fontsize: int = 16,\n",
    "    figsize: tuple = (15,5)\n",
    ") -> None:\n",
    "    \"\"\"\n",
    "    Plots the cumulative gain curve.\n",
    "    \"\"\"\n",
    "\n",
    "    xaxis = np.arange(len(train_gain))/len(train_gain)\n",
    "    \n",
    "    plt.figure(figsize=figsize);\n",
    "    plt.plot(xaxis, train_gain, label=\"Training Data\");\n",
    "    plt.plot(xaxis, test_gain, label=\"Testing Data\");\n",
    "    plt.plot(xaxis, random_gain, \"--\", label=\"Random\");\n",
    "               \n",
    "    plt.ylabel(\"Cumulative Gain\", fontsize=fontsize);\n",
    "    plt.xlabel(\"Population Proportion\", fontsize=fontsize);\n",
    "    plt.title(\"Cumulative Gain Curve\", fontsize=fontsize);\n",
    "               \n",
    "    plt.legend(fontsize=fontsize);\n",
    "    plt.xticks(fontsize=fontsize);\n",
    "    plt.yticks(fontsize=fontsize);"
   ]
  },
  {
   "cell_type": "markdown",
   "id": "1bb4b598",
   "metadata": {},
   "source": [
    "### 3. Read Data"
   ]
  },
  {
   "cell_type": "markdown",
   "id": "99ced58c",
   "metadata": {},
   "source": [
    "Notice that the data here adopted is provided in [1] and [2]."
   ]
  },
  {
   "cell_type": "code",
   "execution_count": 5,
   "id": "164af8a7",
   "metadata": {
    "ExecuteTime": {
     "end_time": "2022-08-09T17:42:20.689999Z",
     "start_time": "2022-08-09T17:42:20.449073Z"
    }
   },
   "outputs": [],
   "source": [
    "test_data = pd.read_csv(\n",
    "    \"https://raw.githubusercontent.com/matheusfacure/python-causality-handbook/master/causal-inference-for-the-brave-and-true/data/invest_email_rnd.csv\"\n",
    ")\n",
    "train_data = pd.read_csv(\n",
    "    \"https://raw.githubusercontent.com/matheusfacure/python-causality-handbook/master/causal-inference-for-the-brave-and-true/data/invest_email_biased.csv\"\n",
    ")"
   ]
  },
  {
   "cell_type": "code",
   "execution_count": 6,
   "id": "c4100764",
   "metadata": {
    "ExecuteTime": {
     "end_time": "2022-08-09T17:42:20.805544Z",
     "start_time": "2022-08-09T17:42:20.796508Z"
    }
   },
   "outputs": [
    {
     "data": {
      "text/plain": [
       "(15000, 8)"
      ]
     },
     "execution_count": 6,
     "metadata": {},
     "output_type": "execute_result"
    }
   ],
   "source": [
    "test_data.shape"
   ]
  },
  {
   "cell_type": "code",
   "execution_count": 7,
   "id": "9dbc21fd",
   "metadata": {
    "ExecuteTime": {
     "end_time": "2022-08-09T17:42:21.255300Z",
     "start_time": "2022-08-09T17:42:21.251561Z"
    }
   },
   "outputs": [
    {
     "data": {
      "text/plain": [
       "(15000, 8)"
      ]
     },
     "execution_count": 7,
     "metadata": {},
     "output_type": "execute_result"
    }
   ],
   "source": [
    "train_data.shape"
   ]
  },
  {
   "cell_type": "markdown",
   "id": "bfba7573",
   "metadata": {},
   "source": [
    "#### 3.1 Include Treatment Column"
   ]
  },
  {
   "cell_type": "code",
   "execution_count": 8,
   "id": "bed6542e",
   "metadata": {
    "ExecuteTime": {
     "end_time": "2022-08-09T17:42:21.993974Z",
     "start_time": "2022-08-09T17:42:21.956668Z"
    }
   },
   "outputs": [],
   "source": [
    "train_data[\"control\"] = np.where((train_data[\"em1\"]+train_data[\"em2\"]+train_data[\"em3\"])==0,1,0)\n",
    "train_data[\"treatment_col\"] = train_data[[\"em1\",\"em2\",\"em3\",\"control\"]].idxmax(axis=1).values\n",
    "\n",
    "test_data[\"control\"] = np.where((test_data[\"em1\"]+test_data[\"em2\"]+test_data[\"em3\"])==0,1,0)\n",
    "test_data[\"treatment_col\"] = test_data[[\"em1\",\"em2\",\"em3\",\"control\"]].idxmax(axis=1).values"
   ]
  },
  {
   "cell_type": "code",
   "execution_count": 9,
   "id": "b951bc0c",
   "metadata": {
    "ExecuteTime": {
     "end_time": "2022-08-09T17:42:22.219694Z",
     "start_time": "2022-08-09T17:42:22.206500Z"
    }
   },
   "outputs": [
    {
     "data": {
      "text/html": [
       "<div>\n",
       "<style scoped>\n",
       "    .dataframe tbody tr th:only-of-type {\n",
       "        vertical-align: middle;\n",
       "    }\n",
       "\n",
       "    .dataframe tbody tr th {\n",
       "        vertical-align: top;\n",
       "    }\n",
       "\n",
       "    .dataframe thead th {\n",
       "        text-align: right;\n",
       "    }\n",
       "</style>\n",
       "<table border=\"1\" class=\"dataframe\">\n",
       "  <thead>\n",
       "    <tr style=\"text-align: right;\">\n",
       "      <th></th>\n",
       "      <th>age</th>\n",
       "      <th>income</th>\n",
       "      <th>insurance</th>\n",
       "      <th>invested</th>\n",
       "      <th>em1</th>\n",
       "      <th>em2</th>\n",
       "      <th>em3</th>\n",
       "      <th>converted</th>\n",
       "      <th>control</th>\n",
       "      <th>treatment_col</th>\n",
       "    </tr>\n",
       "  </thead>\n",
       "  <tbody>\n",
       "    <tr>\n",
       "      <th>0</th>\n",
       "      <td>44.1</td>\n",
       "      <td>5483.80</td>\n",
       "      <td>6155.29</td>\n",
       "      <td>14294.81</td>\n",
       "      <td>0</td>\n",
       "      <td>0</td>\n",
       "      <td>1</td>\n",
       "      <td>0</td>\n",
       "      <td>0</td>\n",
       "      <td>em3</td>\n",
       "    </tr>\n",
       "    <tr>\n",
       "      <th>1</th>\n",
       "      <td>39.8</td>\n",
       "      <td>2737.92</td>\n",
       "      <td>50069.40</td>\n",
       "      <td>7468.15</td>\n",
       "      <td>1</td>\n",
       "      <td>0</td>\n",
       "      <td>0</td>\n",
       "      <td>0</td>\n",
       "      <td>0</td>\n",
       "      <td>em1</td>\n",
       "    </tr>\n",
       "    <tr>\n",
       "      <th>2</th>\n",
       "      <td>49.0</td>\n",
       "      <td>2712.51</td>\n",
       "      <td>5707.08</td>\n",
       "      <td>5095.65</td>\n",
       "      <td>0</td>\n",
       "      <td>0</td>\n",
       "      <td>1</td>\n",
       "      <td>1</td>\n",
       "      <td>0</td>\n",
       "      <td>em3</td>\n",
       "    </tr>\n",
       "    <tr>\n",
       "      <th>3</th>\n",
       "      <td>39.7</td>\n",
       "      <td>2326.37</td>\n",
       "      <td>15657.97</td>\n",
       "      <td>6345.20</td>\n",
       "      <td>0</td>\n",
       "      <td>0</td>\n",
       "      <td>0</td>\n",
       "      <td>0</td>\n",
       "      <td>1</td>\n",
       "      <td>control</td>\n",
       "    </tr>\n",
       "    <tr>\n",
       "      <th>4</th>\n",
       "      <td>35.3</td>\n",
       "      <td>2787.26</td>\n",
       "      <td>27074.44</td>\n",
       "      <td>14114.86</td>\n",
       "      <td>1</td>\n",
       "      <td>1</td>\n",
       "      <td>0</td>\n",
       "      <td>0</td>\n",
       "      <td>0</td>\n",
       "      <td>em1</td>\n",
       "    </tr>\n",
       "  </tbody>\n",
       "</table>\n",
       "</div>"
      ],
      "text/plain": [
       "    age   income  insurance  invested  em1  em2  em3  converted  control  \\\n",
       "0  44.1  5483.80    6155.29  14294.81    0    0    1          0        0   \n",
       "1  39.8  2737.92   50069.40   7468.15    1    0    0          0        0   \n",
       "2  49.0  2712.51    5707.08   5095.65    0    0    1          1        0   \n",
       "3  39.7  2326.37   15657.97   6345.20    0    0    0          0        1   \n",
       "4  35.3  2787.26   27074.44  14114.86    1    1    0          0        0   \n",
       "\n",
       "  treatment_col  \n",
       "0           em3  \n",
       "1           em1  \n",
       "2           em3  \n",
       "3       control  \n",
       "4           em1  "
      ]
     },
     "execution_count": 9,
     "metadata": {},
     "output_type": "execute_result"
    }
   ],
   "source": [
    "train_data.head()"
   ]
  },
  {
   "cell_type": "code",
   "execution_count": 10,
   "id": "2dc0eb3e",
   "metadata": {
    "ExecuteTime": {
     "end_time": "2022-08-09T17:42:22.490135Z",
     "start_time": "2022-08-09T17:42:22.479383Z"
    }
   },
   "outputs": [
    {
     "data": {
      "text/html": [
       "<div>\n",
       "<style scoped>\n",
       "    .dataframe tbody tr th:only-of-type {\n",
       "        vertical-align: middle;\n",
       "    }\n",
       "\n",
       "    .dataframe tbody tr th {\n",
       "        vertical-align: top;\n",
       "    }\n",
       "\n",
       "    .dataframe thead th {\n",
       "        text-align: right;\n",
       "    }\n",
       "</style>\n",
       "<table border=\"1\" class=\"dataframe\">\n",
       "  <thead>\n",
       "    <tr style=\"text-align: right;\">\n",
       "      <th></th>\n",
       "      <th>age</th>\n",
       "      <th>income</th>\n",
       "      <th>insurance</th>\n",
       "      <th>invested</th>\n",
       "      <th>em1</th>\n",
       "      <th>em2</th>\n",
       "      <th>em3</th>\n",
       "      <th>converted</th>\n",
       "      <th>control</th>\n",
       "      <th>treatment_col</th>\n",
       "    </tr>\n",
       "  </thead>\n",
       "  <tbody>\n",
       "    <tr>\n",
       "      <th>0</th>\n",
       "      <td>44.1</td>\n",
       "      <td>5483.80</td>\n",
       "      <td>6155.29</td>\n",
       "      <td>14294.81</td>\n",
       "      <td>0</td>\n",
       "      <td>1</td>\n",
       "      <td>1</td>\n",
       "      <td>0</td>\n",
       "      <td>0</td>\n",
       "      <td>em2</td>\n",
       "    </tr>\n",
       "    <tr>\n",
       "      <th>1</th>\n",
       "      <td>39.8</td>\n",
       "      <td>2737.92</td>\n",
       "      <td>50069.40</td>\n",
       "      <td>7468.15</td>\n",
       "      <td>1</td>\n",
       "      <td>0</td>\n",
       "      <td>0</td>\n",
       "      <td>0</td>\n",
       "      <td>0</td>\n",
       "      <td>em1</td>\n",
       "    </tr>\n",
       "    <tr>\n",
       "      <th>2</th>\n",
       "      <td>49.0</td>\n",
       "      <td>2712.51</td>\n",
       "      <td>5707.08</td>\n",
       "      <td>5095.65</td>\n",
       "      <td>1</td>\n",
       "      <td>0</td>\n",
       "      <td>1</td>\n",
       "      <td>1</td>\n",
       "      <td>0</td>\n",
       "      <td>em1</td>\n",
       "    </tr>\n",
       "    <tr>\n",
       "      <th>3</th>\n",
       "      <td>39.7</td>\n",
       "      <td>2326.37</td>\n",
       "      <td>15657.97</td>\n",
       "      <td>6345.20</td>\n",
       "      <td>1</td>\n",
       "      <td>1</td>\n",
       "      <td>1</td>\n",
       "      <td>0</td>\n",
       "      <td>0</td>\n",
       "      <td>em1</td>\n",
       "    </tr>\n",
       "    <tr>\n",
       "      <th>4</th>\n",
       "      <td>35.3</td>\n",
       "      <td>2787.26</td>\n",
       "      <td>27074.44</td>\n",
       "      <td>14114.86</td>\n",
       "      <td>1</td>\n",
       "      <td>1</td>\n",
       "      <td>1</td>\n",
       "      <td>0</td>\n",
       "      <td>0</td>\n",
       "      <td>em1</td>\n",
       "    </tr>\n",
       "  </tbody>\n",
       "</table>\n",
       "</div>"
      ],
      "text/plain": [
       "    age   income  insurance  invested  em1  em2  em3  converted  control  \\\n",
       "0  44.1  5483.80    6155.29  14294.81    0    1    1          0        0   \n",
       "1  39.8  2737.92   50069.40   7468.15    1    0    0          0        0   \n",
       "2  49.0  2712.51    5707.08   5095.65    1    0    1          1        0   \n",
       "3  39.7  2326.37   15657.97   6345.20    1    1    1          0        0   \n",
       "4  35.3  2787.26   27074.44  14114.86    1    1    1          0        0   \n",
       "\n",
       "  treatment_col  \n",
       "0           em2  \n",
       "1           em1  \n",
       "2           em1  \n",
       "3           em1  \n",
       "4           em1  "
      ]
     },
     "execution_count": 10,
     "metadata": {},
     "output_type": "execute_result"
    }
   ],
   "source": [
    "test_data.head()"
   ]
  },
  {
   "cell_type": "markdown",
   "id": "b02dd80c",
   "metadata": {
    "ExecuteTime": {
     "end_time": "2022-08-01T17:34:49.478324Z",
     "start_time": "2022-08-01T17:34:49.472616Z"
    }
   },
   "source": [
    "### 4. Causal S-Learner"
   ]
  },
  {
   "cell_type": "code",
   "execution_count": 11,
   "id": "f2e41cb9",
   "metadata": {
    "ExecuteTime": {
     "end_time": "2022-08-09T17:42:23.211030Z",
     "start_time": "2022-08-09T17:42:23.207267Z"
    }
   },
   "outputs": [],
   "source": [
    "target_column = \"converted\"\n",
    "features = [\"age\", \"income\", \"insurance\", \"invested\"]\n",
    "treatment_column = \"treatment_col\"\n",
    "control_name = \"control\"\n",
    "prediction_column = \"prediction\""
   ]
  },
  {
   "cell_type": "markdown",
   "id": "f13a389d",
   "metadata": {},
   "source": [
    "#### 4.1 Using S-Learner with LightGBM"
   ]
  },
  {
   "cell_type": "code",
   "execution_count": 12,
   "id": "86154394",
   "metadata": {
    "ExecuteTime": {
     "end_time": "2022-08-09T17:42:23.712129Z",
     "start_time": "2022-08-09T17:42:23.708912Z"
    }
   },
   "outputs": [],
   "source": [
    "clf_learner = lgbm_classification_learner(\n",
    "    features = features,\n",
    "    target = target_column,\n",
    "    prediction_column = prediction_column,\n",
    "    extra_params={\"random_state\": RANDOM_SEED}\n",
    ")"
   ]
  },
  {
   "cell_type": "code",
   "execution_count": 13,
   "id": "885a539f",
   "metadata": {
    "ExecuteTime": {
     "end_time": "2022-08-09T17:42:24.458297Z",
     "start_time": "2022-08-09T17:42:24.455129Z"
    }
   },
   "outputs": [],
   "source": [
    "s_learner = causal_s_classification_learner(\n",
    "    treatment_col=treatment_column,\n",
    "    control_name=control_name,\n",
    "    prediction_column=prediction_column,\n",
    "    learner=clf_learner\n",
    ")"
   ]
  },
  {
   "cell_type": "markdown",
   "id": "e2d4cd23",
   "metadata": {},
   "source": [
    "**Training the model**"
   ]
  },
  {
   "cell_type": "code",
   "execution_count": 14,
   "id": "68c21ad5",
   "metadata": {
    "ExecuteTime": {
     "end_time": "2022-08-09T17:42:26.123315Z",
     "start_time": "2022-08-09T17:42:25.668365Z"
    }
   },
   "outputs": [
    {
     "name": "stdout",
     "output_type": "stream",
     "text": [
      "[LightGBM] [Info] Number of positive: 1896, number of negative: 8896\n",
      "[LightGBM] [Warning] Auto-choosing row-wise multi-threading, the overhead of testing was 0.000178 seconds.\n",
      "You can set `force_row_wise=true` to remove the overhead.\n",
      "And if memory is not enough, you can set `force_col_wise=true`.\n",
      "[LightGBM] [Info] Total Bins 995\n",
      "[LightGBM] [Info] Number of data points in the train set: 10792, number of used features: 5\n",
      "[LightGBM] [Info] [binary:BoostFromScore]: pavg=0.175686 -> initscore=-1.545855\n",
      "[LightGBM] [Info] Start training from score -1.545855\n",
      "[LightGBM] [Info] Number of positive: 1306, number of negative: 6376\n",
      "[LightGBM] [Warning] Auto-choosing col-wise multi-threading, the overhead of testing was 0.000132 seconds.\n",
      "You can set `force_col_wise=true` to remove the overhead.\n",
      "[LightGBM] [Info] Total Bins 986\n",
      "[LightGBM] [Info] Number of data points in the train set: 7682, number of used features: 5\n",
      "[LightGBM] [Info] [binary:BoostFromScore]: pavg=0.170008 -> initscore=-1.585572\n",
      "[LightGBM] [Info] Start training from score -1.585572\n",
      "[LightGBM] [Info] Number of positive: 813, number of negative: 4337\n",
      "[LightGBM] [Warning] Auto-choosing col-wise multi-threading, the overhead of testing was 0.000103 seconds.\n",
      "You can set `force_col_wise=true` to remove the overhead.\n",
      "[LightGBM] [Info] Total Bins 978\n",
      "[LightGBM] [Info] Number of data points in the train set: 5150, number of used features: 5\n",
      "[LightGBM] [Info] [binary:BoostFromScore]: pavg=0.157864 -> initscore=-1.674207\n",
      "[LightGBM] [Info] Start training from score -1.674207\n"
     ]
    }
   ],
   "source": [
    "s_learner_fcn, s_learner_train_df, s_learner_log = s_learner(train_data)"
   ]
  },
  {
   "cell_type": "code",
   "execution_count": 15,
   "id": "629ee628",
   "metadata": {
    "ExecuteTime": {
     "end_time": "2022-08-09T17:42:26.682013Z",
     "start_time": "2022-08-09T17:42:26.677810Z"
    }
   },
   "outputs": [
    {
     "data": {
      "text/plain": [
       "<function fklearn.causal.cate_learning.meta_learners.causal_s_classification_learner.<locals>.p(new_df: pandas.core.frame.DataFrame) -> pandas.core.frame.DataFrame>"
      ]
     },
     "execution_count": 15,
     "metadata": {},
     "output_type": "execute_result"
    }
   ],
   "source": [
    "s_learner_fcn"
   ]
  },
  {
   "cell_type": "code",
   "execution_count": 16,
   "id": "bb863168",
   "metadata": {
    "ExecuteTime": {
     "end_time": "2022-08-09T17:42:27.357307Z",
     "start_time": "2022-08-09T17:42:27.339598Z"
    }
   },
   "outputs": [
    {
     "data": {
      "text/html": [
       "<div>\n",
       "<style scoped>\n",
       "    .dataframe tbody tr th:only-of-type {\n",
       "        vertical-align: middle;\n",
       "    }\n",
       "\n",
       "    .dataframe tbody tr th {\n",
       "        vertical-align: top;\n",
       "    }\n",
       "\n",
       "    .dataframe thead th {\n",
       "        text-align: right;\n",
       "    }\n",
       "</style>\n",
       "<table border=\"1\" class=\"dataframe\">\n",
       "  <thead>\n",
       "    <tr style=\"text-align: right;\">\n",
       "      <th></th>\n",
       "      <th>age</th>\n",
       "      <th>income</th>\n",
       "      <th>insurance</th>\n",
       "      <th>invested</th>\n",
       "      <th>em1</th>\n",
       "      <th>em2</th>\n",
       "      <th>em3</th>\n",
       "      <th>converted</th>\n",
       "      <th>control</th>\n",
       "      <th>treatment_col</th>\n",
       "      <th>...</th>\n",
       "      <th>treatment_em3__prediction_on_control</th>\n",
       "      <th>treatment_em3__uplift</th>\n",
       "      <th>treatment_em1__prediction_on_treatment</th>\n",
       "      <th>treatment_em1__prediction_on_control</th>\n",
       "      <th>treatment_em1__uplift</th>\n",
       "      <th>treatment_em2__prediction_on_treatment</th>\n",
       "      <th>treatment_em2__prediction_on_control</th>\n",
       "      <th>treatment_em2__uplift</th>\n",
       "      <th>uplift</th>\n",
       "      <th>suggested_treatment</th>\n",
       "    </tr>\n",
       "  </thead>\n",
       "  <tbody>\n",
       "    <tr>\n",
       "      <th>0</th>\n",
       "      <td>44.1</td>\n",
       "      <td>5483.80</td>\n",
       "      <td>6155.29</td>\n",
       "      <td>14294.81</td>\n",
       "      <td>0</td>\n",
       "      <td>0</td>\n",
       "      <td>1</td>\n",
       "      <td>0</td>\n",
       "      <td>0</td>\n",
       "      <td>em3</td>\n",
       "      <td>...</td>\n",
       "      <td>0.145432</td>\n",
       "      <td>0.079508</td>\n",
       "      <td>0.389475</td>\n",
       "      <td>0.188302</td>\n",
       "      <td>0.201173</td>\n",
       "      <td>0.311698</td>\n",
       "      <td>0.214005</td>\n",
       "      <td>0.097694</td>\n",
       "      <td>0.201173</td>\n",
       "      <td>treatment_em1</td>\n",
       "    </tr>\n",
       "    <tr>\n",
       "      <th>1</th>\n",
       "      <td>39.8</td>\n",
       "      <td>2737.92</td>\n",
       "      <td>50069.40</td>\n",
       "      <td>7468.15</td>\n",
       "      <td>1</td>\n",
       "      <td>0</td>\n",
       "      <td>0</td>\n",
       "      <td>0</td>\n",
       "      <td>0</td>\n",
       "      <td>em1</td>\n",
       "      <td>...</td>\n",
       "      <td>0.096589</td>\n",
       "      <td>0.041574</td>\n",
       "      <td>0.110037</td>\n",
       "      <td>0.091109</td>\n",
       "      <td>0.018928</td>\n",
       "      <td>0.107720</td>\n",
       "      <td>0.117808</td>\n",
       "      <td>-0.010088</td>\n",
       "      <td>0.041574</td>\n",
       "      <td>treatment_em3</td>\n",
       "    </tr>\n",
       "    <tr>\n",
       "      <th>2</th>\n",
       "      <td>49.0</td>\n",
       "      <td>2712.51</td>\n",
       "      <td>5707.08</td>\n",
       "      <td>5095.65</td>\n",
       "      <td>0</td>\n",
       "      <td>0</td>\n",
       "      <td>1</td>\n",
       "      <td>1</td>\n",
       "      <td>0</td>\n",
       "      <td>em3</td>\n",
       "      <td>...</td>\n",
       "      <td>0.252133</td>\n",
       "      <td>0.098409</td>\n",
       "      <td>0.643443</td>\n",
       "      <td>0.206192</td>\n",
       "      <td>0.437251</td>\n",
       "      <td>0.127880</td>\n",
       "      <td>0.037893</td>\n",
       "      <td>0.089987</td>\n",
       "      <td>0.437251</td>\n",
       "      <td>treatment_em1</td>\n",
       "    </tr>\n",
       "    <tr>\n",
       "      <th>3</th>\n",
       "      <td>39.7</td>\n",
       "      <td>2326.37</td>\n",
       "      <td>15657.97</td>\n",
       "      <td>6345.20</td>\n",
       "      <td>0</td>\n",
       "      <td>0</td>\n",
       "      <td>0</td>\n",
       "      <td>0</td>\n",
       "      <td>1</td>\n",
       "      <td>control</td>\n",
       "      <td>...</td>\n",
       "      <td>0.102683</td>\n",
       "      <td>0.044818</td>\n",
       "      <td>0.163416</td>\n",
       "      <td>0.086991</td>\n",
       "      <td>0.076425</td>\n",
       "      <td>0.121535</td>\n",
       "      <td>0.074040</td>\n",
       "      <td>0.047495</td>\n",
       "      <td>0.076425</td>\n",
       "      <td>treatment_em1</td>\n",
       "    </tr>\n",
       "    <tr>\n",
       "      <th>4</th>\n",
       "      <td>35.3</td>\n",
       "      <td>2787.26</td>\n",
       "      <td>27074.44</td>\n",
       "      <td>14114.86</td>\n",
       "      <td>1</td>\n",
       "      <td>1</td>\n",
       "      <td>0</td>\n",
       "      <td>0</td>\n",
       "      <td>0</td>\n",
       "      <td>em1</td>\n",
       "      <td>...</td>\n",
       "      <td>0.014626</td>\n",
       "      <td>0.014597</td>\n",
       "      <td>0.138120</td>\n",
       "      <td>0.029866</td>\n",
       "      <td>0.108254</td>\n",
       "      <td>0.033475</td>\n",
       "      <td>0.010102</td>\n",
       "      <td>0.023372</td>\n",
       "      <td>0.108254</td>\n",
       "      <td>treatment_em1</td>\n",
       "    </tr>\n",
       "  </tbody>\n",
       "</table>\n",
       "<p>5 rows × 21 columns</p>\n",
       "</div>"
      ],
      "text/plain": [
       "    age   income  insurance  invested  em1  em2  em3  converted  control  \\\n",
       "0  44.1  5483.80    6155.29  14294.81    0    0    1          0        0   \n",
       "1  39.8  2737.92   50069.40   7468.15    1    0    0          0        0   \n",
       "2  49.0  2712.51    5707.08   5095.65    0    0    1          1        0   \n",
       "3  39.7  2326.37   15657.97   6345.20    0    0    0          0        1   \n",
       "4  35.3  2787.26   27074.44  14114.86    1    1    0          0        0   \n",
       "\n",
       "  treatment_col  ...  treatment_em3__prediction_on_control  \\\n",
       "0           em3  ...                              0.145432   \n",
       "1           em1  ...                              0.096589   \n",
       "2           em3  ...                              0.252133   \n",
       "3       control  ...                              0.102683   \n",
       "4           em1  ...                              0.014626   \n",
       "\n",
       "   treatment_em3__uplift  treatment_em1__prediction_on_treatment  \\\n",
       "0               0.079508                                0.389475   \n",
       "1               0.041574                                0.110037   \n",
       "2               0.098409                                0.643443   \n",
       "3               0.044818                                0.163416   \n",
       "4               0.014597                                0.138120   \n",
       "\n",
       "   treatment_em1__prediction_on_control  treatment_em1__uplift  \\\n",
       "0                              0.188302               0.201173   \n",
       "1                              0.091109               0.018928   \n",
       "2                              0.206192               0.437251   \n",
       "3                              0.086991               0.076425   \n",
       "4                              0.029866               0.108254   \n",
       "\n",
       "   treatment_em2__prediction_on_treatment  \\\n",
       "0                                0.311698   \n",
       "1                                0.107720   \n",
       "2                                0.127880   \n",
       "3                                0.121535   \n",
       "4                                0.033475   \n",
       "\n",
       "   treatment_em2__prediction_on_control  treatment_em2__uplift    uplift  \\\n",
       "0                              0.214005               0.097694  0.201173   \n",
       "1                              0.117808              -0.010088  0.041574   \n",
       "2                              0.037893               0.089987  0.437251   \n",
       "3                              0.074040               0.047495  0.076425   \n",
       "4                              0.010102               0.023372  0.108254   \n",
       "\n",
       "   suggested_treatment  \n",
       "0        treatment_em1  \n",
       "1        treatment_em3  \n",
       "2        treatment_em1  \n",
       "3        treatment_em1  \n",
       "4        treatment_em1  \n",
       "\n",
       "[5 rows x 21 columns]"
      ]
     },
     "execution_count": 16,
     "metadata": {},
     "output_type": "execute_result"
    }
   ],
   "source": [
    "s_learner_train_df.head()"
   ]
  },
  {
   "cell_type": "markdown",
   "id": "7c0e148d",
   "metadata": {},
   "source": [
    "Notice that a score for each treatment is provided considering both the machine learning models (m1 and m2) and the uplift causal model. Moreover, a suggested treatment is also provided, which is the one with the highest uplift. The uplift variable, in turn, provides the uplift of the best treatment. In the next sections, lets explore the predictions considering the em1 treatment only, following the example in [1]."
   ]
  },
  {
   "cell_type": "code",
   "execution_count": 17,
   "id": "fad86d79",
   "metadata": {
    "ExecuteTime": {
     "end_time": "2022-08-09T17:42:30.252409Z",
     "start_time": "2022-08-09T17:42:30.249626Z"
    }
   },
   "outputs": [],
   "source": [
    "score_of_interest = \"treatment_em1__uplift\""
   ]
  },
  {
   "cell_type": "markdown",
   "id": "dadfd813",
   "metadata": {},
   "source": [
    "**Making Predictions**"
   ]
  },
  {
   "cell_type": "code",
   "execution_count": 18,
   "id": "19c87675",
   "metadata": {
    "ExecuteTime": {
     "end_time": "2022-08-09T17:42:31.853156Z",
     "start_time": "2022-08-09T17:42:31.708796Z"
    }
   },
   "outputs": [],
   "source": [
    "s_learner_test_df = s_learner_fcn(test_data)"
   ]
  },
  {
   "cell_type": "code",
   "execution_count": 19,
   "id": "d992f3c8",
   "metadata": {
    "ExecuteTime": {
     "end_time": "2022-08-09T17:42:32.086699Z",
     "start_time": "2022-08-09T17:42:32.070756Z"
    },
    "scrolled": true
   },
   "outputs": [
    {
     "data": {
      "text/html": [
       "<div>\n",
       "<style scoped>\n",
       "    .dataframe tbody tr th:only-of-type {\n",
       "        vertical-align: middle;\n",
       "    }\n",
       "\n",
       "    .dataframe tbody tr th {\n",
       "        vertical-align: top;\n",
       "    }\n",
       "\n",
       "    .dataframe thead th {\n",
       "        text-align: right;\n",
       "    }\n",
       "</style>\n",
       "<table border=\"1\" class=\"dataframe\">\n",
       "  <thead>\n",
       "    <tr style=\"text-align: right;\">\n",
       "      <th></th>\n",
       "      <th>age</th>\n",
       "      <th>income</th>\n",
       "      <th>insurance</th>\n",
       "      <th>invested</th>\n",
       "      <th>em1</th>\n",
       "      <th>em2</th>\n",
       "      <th>em3</th>\n",
       "      <th>converted</th>\n",
       "      <th>control</th>\n",
       "      <th>treatment_col</th>\n",
       "      <th>...</th>\n",
       "      <th>treatment_em3__prediction_on_control</th>\n",
       "      <th>treatment_em3__uplift</th>\n",
       "      <th>treatment_em1__prediction_on_treatment</th>\n",
       "      <th>treatment_em1__prediction_on_control</th>\n",
       "      <th>treatment_em1__uplift</th>\n",
       "      <th>treatment_em2__prediction_on_treatment</th>\n",
       "      <th>treatment_em2__prediction_on_control</th>\n",
       "      <th>treatment_em2__uplift</th>\n",
       "      <th>uplift</th>\n",
       "      <th>suggested_treatment</th>\n",
       "    </tr>\n",
       "  </thead>\n",
       "  <tbody>\n",
       "    <tr>\n",
       "      <th>0</th>\n",
       "      <td>44.1</td>\n",
       "      <td>5483.80</td>\n",
       "      <td>6155.29</td>\n",
       "      <td>14294.81</td>\n",
       "      <td>0</td>\n",
       "      <td>1</td>\n",
       "      <td>1</td>\n",
       "      <td>0</td>\n",
       "      <td>0</td>\n",
       "      <td>em2</td>\n",
       "      <td>...</td>\n",
       "      <td>0.145432</td>\n",
       "      <td>0.079508</td>\n",
       "      <td>0.389475</td>\n",
       "      <td>0.188302</td>\n",
       "      <td>0.201173</td>\n",
       "      <td>0.311698</td>\n",
       "      <td>0.214005</td>\n",
       "      <td>0.097694</td>\n",
       "      <td>0.201173</td>\n",
       "      <td>treatment_em1</td>\n",
       "    </tr>\n",
       "    <tr>\n",
       "      <th>1</th>\n",
       "      <td>39.8</td>\n",
       "      <td>2737.92</td>\n",
       "      <td>50069.40</td>\n",
       "      <td>7468.15</td>\n",
       "      <td>1</td>\n",
       "      <td>0</td>\n",
       "      <td>0</td>\n",
       "      <td>0</td>\n",
       "      <td>0</td>\n",
       "      <td>em1</td>\n",
       "      <td>...</td>\n",
       "      <td>0.096589</td>\n",
       "      <td>0.041574</td>\n",
       "      <td>0.110037</td>\n",
       "      <td>0.091109</td>\n",
       "      <td>0.018928</td>\n",
       "      <td>0.107720</td>\n",
       "      <td>0.117808</td>\n",
       "      <td>-0.010088</td>\n",
       "      <td>0.041574</td>\n",
       "      <td>treatment_em3</td>\n",
       "    </tr>\n",
       "    <tr>\n",
       "      <th>2</th>\n",
       "      <td>49.0</td>\n",
       "      <td>2712.51</td>\n",
       "      <td>5707.08</td>\n",
       "      <td>5095.65</td>\n",
       "      <td>1</td>\n",
       "      <td>0</td>\n",
       "      <td>1</td>\n",
       "      <td>1</td>\n",
       "      <td>0</td>\n",
       "      <td>em1</td>\n",
       "      <td>...</td>\n",
       "      <td>0.252133</td>\n",
       "      <td>0.098409</td>\n",
       "      <td>0.643443</td>\n",
       "      <td>0.206192</td>\n",
       "      <td>0.437251</td>\n",
       "      <td>0.127880</td>\n",
       "      <td>0.037893</td>\n",
       "      <td>0.089987</td>\n",
       "      <td>0.437251</td>\n",
       "      <td>treatment_em1</td>\n",
       "    </tr>\n",
       "    <tr>\n",
       "      <th>3</th>\n",
       "      <td>39.7</td>\n",
       "      <td>2326.37</td>\n",
       "      <td>15657.97</td>\n",
       "      <td>6345.20</td>\n",
       "      <td>1</td>\n",
       "      <td>1</td>\n",
       "      <td>1</td>\n",
       "      <td>0</td>\n",
       "      <td>0</td>\n",
       "      <td>em1</td>\n",
       "      <td>...</td>\n",
       "      <td>0.102683</td>\n",
       "      <td>0.044818</td>\n",
       "      <td>0.163416</td>\n",
       "      <td>0.086991</td>\n",
       "      <td>0.076425</td>\n",
       "      <td>0.121535</td>\n",
       "      <td>0.074040</td>\n",
       "      <td>0.047495</td>\n",
       "      <td>0.076425</td>\n",
       "      <td>treatment_em1</td>\n",
       "    </tr>\n",
       "    <tr>\n",
       "      <th>4</th>\n",
       "      <td>35.3</td>\n",
       "      <td>2787.26</td>\n",
       "      <td>27074.44</td>\n",
       "      <td>14114.86</td>\n",
       "      <td>1</td>\n",
       "      <td>1</td>\n",
       "      <td>1</td>\n",
       "      <td>0</td>\n",
       "      <td>0</td>\n",
       "      <td>em1</td>\n",
       "      <td>...</td>\n",
       "      <td>0.014626</td>\n",
       "      <td>0.014597</td>\n",
       "      <td>0.138120</td>\n",
       "      <td>0.029866</td>\n",
       "      <td>0.108254</td>\n",
       "      <td>0.033475</td>\n",
       "      <td>0.010102</td>\n",
       "      <td>0.023372</td>\n",
       "      <td>0.108254</td>\n",
       "      <td>treatment_em1</td>\n",
       "    </tr>\n",
       "  </tbody>\n",
       "</table>\n",
       "<p>5 rows × 21 columns</p>\n",
       "</div>"
      ],
      "text/plain": [
       "    age   income  insurance  invested  em1  em2  em3  converted  control  \\\n",
       "0  44.1  5483.80    6155.29  14294.81    0    1    1          0        0   \n",
       "1  39.8  2737.92   50069.40   7468.15    1    0    0          0        0   \n",
       "2  49.0  2712.51    5707.08   5095.65    1    0    1          1        0   \n",
       "3  39.7  2326.37   15657.97   6345.20    1    1    1          0        0   \n",
       "4  35.3  2787.26   27074.44  14114.86    1    1    1          0        0   \n",
       "\n",
       "  treatment_col  ...  treatment_em3__prediction_on_control  \\\n",
       "0           em2  ...                              0.145432   \n",
       "1           em1  ...                              0.096589   \n",
       "2           em1  ...                              0.252133   \n",
       "3           em1  ...                              0.102683   \n",
       "4           em1  ...                              0.014626   \n",
       "\n",
       "   treatment_em3__uplift  treatment_em1__prediction_on_treatment  \\\n",
       "0               0.079508                                0.389475   \n",
       "1               0.041574                                0.110037   \n",
       "2               0.098409                                0.643443   \n",
       "3               0.044818                                0.163416   \n",
       "4               0.014597                                0.138120   \n",
       "\n",
       "   treatment_em1__prediction_on_control  treatment_em1__uplift  \\\n",
       "0                              0.188302               0.201173   \n",
       "1                              0.091109               0.018928   \n",
       "2                              0.206192               0.437251   \n",
       "3                              0.086991               0.076425   \n",
       "4                              0.029866               0.108254   \n",
       "\n",
       "   treatment_em2__prediction_on_treatment  \\\n",
       "0                                0.311698   \n",
       "1                                0.107720   \n",
       "2                                0.127880   \n",
       "3                                0.121535   \n",
       "4                                0.033475   \n",
       "\n",
       "   treatment_em2__prediction_on_control  treatment_em2__uplift    uplift  \\\n",
       "0                              0.214005               0.097694  0.201173   \n",
       "1                              0.117808              -0.010088  0.041574   \n",
       "2                              0.037893               0.089987  0.437251   \n",
       "3                              0.074040               0.047495  0.076425   \n",
       "4                              0.010102               0.023372  0.108254   \n",
       "\n",
       "   suggested_treatment  \n",
       "0        treatment_em1  \n",
       "1        treatment_em3  \n",
       "2        treatment_em1  \n",
       "3        treatment_em1  \n",
       "4        treatment_em1  \n",
       "\n",
       "[5 rows x 21 columns]"
      ]
     },
     "execution_count": 19,
     "metadata": {},
     "output_type": "execute_result"
    }
   ],
   "source": [
    "s_learner_test_df.head()"
   ]
  },
  {
   "cell_type": "markdown",
   "id": "60a1bfb9",
   "metadata": {},
   "source": [
    "**Create Random Score**"
   ]
  },
  {
   "cell_type": "markdown",
   "id": "196a3a23",
   "metadata": {},
   "source": [
    "Let's also create a random score that can be used to compute the Cumulative Gain curve."
   ]
  },
  {
   "cell_type": "code",
   "execution_count": 20,
   "id": "61728dd6",
   "metadata": {
    "ExecuteTime": {
     "end_time": "2022-08-09T17:42:33.389726Z",
     "start_time": "2022-08-09T17:42:33.385202Z"
    }
   },
   "outputs": [],
   "source": [
    "random_score_df = test_data[[\"em1\", target_column]].copy()\n",
    "random_score_df[score_of_interest] = np.random.uniform(0,1,random_score_df.shape[0])"
   ]
  },
  {
   "cell_type": "markdown",
   "id": "b5b65182",
   "metadata": {},
   "source": [
    "**Checking Cumulative Gain Curve**"
   ]
  },
  {
   "cell_type": "markdown",
   "id": "c18d8dc7",
   "metadata": {},
   "source": [
    "For more details about causal models evaluation, please look at the following reference:\n",
    "\n",
    "https://matheusfacure.github.io/python-causality-handbook/19-Evaluating-Causal-Models.html?highlight=gain%20curve    "
   ]
  },
  {
   "cell_type": "code",
   "execution_count": 21,
   "id": "dada0b5c",
   "metadata": {
    "ExecuteTime": {
     "end_time": "2022-08-09T17:42:35.899407Z",
     "start_time": "2022-08-09T17:42:35.896296Z"
    }
   },
   "outputs": [],
   "source": [
    "gain_curve = cumulative_gain_curve(\n",
    "    treatment = \"em1\",\n",
    "    outcome = target_column,\n",
    "    prediction = score_of_interest\n",
    ")"
   ]
  },
  {
   "cell_type": "code",
   "execution_count": 22,
   "id": "44ac0567",
   "metadata": {
    "ExecuteTime": {
     "end_time": "2022-08-09T17:42:36.564685Z",
     "start_time": "2022-08-09T17:42:36.298570Z"
    }
   },
   "outputs": [],
   "source": [
    "gain_curve_train = gain_curve(s_learner_train_df)\n",
    "gain_curve_test = gain_curve(s_learner_test_df)\n",
    "gain_curve_random = gain_curve(random_score_df)"
   ]
  },
  {
   "cell_type": "code",
   "execution_count": 23,
   "id": "e0f39cfc",
   "metadata": {
    "ExecuteTime": {
     "end_time": "2022-08-09T17:42:37.012939Z",
     "start_time": "2022-08-09T17:42:36.773863Z"
    }
   },
   "outputs": [
    {
     "data": {
      "image/png": "[encoded data removed]",
      "text/plain": [
       "<Figure size 1080x360 with 1 Axes>"
      ]
     },
     "metadata": {
      "needs_background": "light"
     },
     "output_type": "display_data"
    }
   ],
   "source": [
    "plot_cumulative_gain_curve(\n",
    "    train_gain = gain_curve_train,\n",
    "    test_gain = gain_curve_test,\n",
    "    random_gain = gain_curve_random\n",
    ")"
   ]
  },
  {
   "cell_type": "markdown",
   "id": "16b67daa",
   "metadata": {},
   "source": [
    "#### 4.2 Using S-Learner with Fklearn Pipeline"
   ]
  },
  {
   "cell_type": "markdown",
   "id": "87ad40b8",
   "metadata": {
    "ExecuteTime": {
     "end_time": "2022-08-09T17:38:55.346783Z",
     "start_time": "2022-08-09T17:38:55.342437Z"
    }
   },
   "source": [
    "As an example, lets build a CDF on top of the EM1 uplift score."
   ]
  },
  {
   "cell_type": "code",
   "execution_count": 24,
   "id": "5adc2f2f",
   "metadata": {
    "ExecuteTime": {
     "end_time": "2022-08-09T17:42:40.361126Z",
     "start_time": "2022-08-09T17:42:40.358292Z"
    }
   },
   "outputs": [],
   "source": [
    "cdf = ecdfer(\n",
    "    prediction_column=score_of_interest\n",
    ")"
   ]
  },
  {
   "cell_type": "code",
   "execution_count": 25,
   "id": "a995e275",
   "metadata": {
    "ExecuteTime": {
     "end_time": "2022-08-09T17:42:40.702237Z",
     "start_time": "2022-08-09T17:42:40.699190Z"
    }
   },
   "outputs": [],
   "source": [
    "pipeline = build_pipeline(\n",
    "    *[s_learner, cdf]\n",
    ")"
   ]
  },
  {
   "cell_type": "code",
   "execution_count": 26,
   "id": "21db9ef8",
   "metadata": {
    "ExecuteTime": {
     "end_time": "2022-08-09T17:42:41.418296Z",
     "start_time": "2022-08-09T17:42:40.990981Z"
    }
   },
   "outputs": [
    {
     "name": "stdout",
     "output_type": "stream",
     "text": [
      "[LightGBM] [Info] Number of positive: 1896, number of negative: 8896\n",
      "[LightGBM] [Warning] Auto-choosing col-wise multi-threading, the overhead of testing was 0.000652 seconds.\n",
      "You can set `force_col_wise=true` to remove the overhead.\n",
      "[LightGBM] [Info] Total Bins 995\n",
      "[LightGBM] [Info] Number of data points in the train set: 10792, number of used features: 5\n",
      "[LightGBM] [Info] [binary:BoostFromScore]: pavg=0.175686 -> initscore=-1.545855\n",
      "[LightGBM] [Info] Start training from score -1.545855\n",
      "[LightGBM] [Info] Number of positive: 1306, number of negative: 6376\n",
      "[LightGBM] [Warning] Auto-choosing col-wise multi-threading, the overhead of testing was 0.000195 seconds.\n",
      "You can set `force_col_wise=true` to remove the overhead.\n",
      "[LightGBM] [Info] Total Bins 986\n",
      "[LightGBM] [Info] Number of data points in the train set: 7682, number of used features: 5\n",
      "[LightGBM] [Info] [binary:BoostFromScore]: pavg=0.170008 -> initscore=-1.585572\n",
      "[LightGBM] [Info] Start training from score -1.585572\n",
      "[LightGBM] [Info] Number of positive: 813, number of negative: 4337\n",
      "[LightGBM] [Warning] Auto-choosing col-wise multi-threading, the overhead of testing was 0.000150 seconds.\n",
      "You can set `force_col_wise=true` to remove the overhead.\n",
      "[LightGBM] [Info] Total Bins 978\n",
      "[LightGBM] [Info] Number of data points in the train set: 5150, number of used features: 5\n",
      "[LightGBM] [Info] [binary:BoostFromScore]: pavg=0.157864 -> initscore=-1.674207\n",
      "[LightGBM] [Info] Start training from score -1.674207\n"
     ]
    }
   ],
   "source": [
    "pipe_fcn, pipe_train_df, pipe_log = pipeline(\n",
    "    train_data\n",
    ")"
   ]
  },
  {
   "cell_type": "code",
   "execution_count": 27,
   "id": "08b227a5",
   "metadata": {
    "ExecuteTime": {
     "end_time": "2022-08-09T17:42:41.735855Z",
     "start_time": "2022-08-09T17:42:41.719932Z"
    }
   },
   "outputs": [
    {
     "data": {
      "text/html": [
       "<div>\n",
       "<style scoped>\n",
       "    .dataframe tbody tr th:only-of-type {\n",
       "        vertical-align: middle;\n",
       "    }\n",
       "\n",
       "    .dataframe tbody tr th {\n",
       "        vertical-align: top;\n",
       "    }\n",
       "\n",
       "    .dataframe thead th {\n",
       "        text-align: right;\n",
       "    }\n",
       "</style>\n",
       "<table border=\"1\" class=\"dataframe\">\n",
       "  <thead>\n",
       "    <tr style=\"text-align: right;\">\n",
       "      <th></th>\n",
       "      <th>age</th>\n",
       "      <th>income</th>\n",
       "      <th>insurance</th>\n",
       "      <th>invested</th>\n",
       "      <th>em1</th>\n",
       "      <th>em2</th>\n",
       "      <th>em3</th>\n",
       "      <th>converted</th>\n",
       "      <th>control</th>\n",
       "      <th>treatment_col</th>\n",
       "      <th>...</th>\n",
       "      <th>treatment_em3__uplift</th>\n",
       "      <th>treatment_em1__prediction_on_treatment</th>\n",
       "      <th>treatment_em1__prediction_on_control</th>\n",
       "      <th>treatment_em1__uplift</th>\n",
       "      <th>treatment_em2__prediction_on_treatment</th>\n",
       "      <th>treatment_em2__prediction_on_control</th>\n",
       "      <th>treatment_em2__uplift</th>\n",
       "      <th>uplift</th>\n",
       "      <th>suggested_treatment</th>\n",
       "      <th>prediction_ecdf</th>\n",
       "    </tr>\n",
       "  </thead>\n",
       "  <tbody>\n",
       "    <tr>\n",
       "      <th>0</th>\n",
       "      <td>44.1</td>\n",
       "      <td>5483.80</td>\n",
       "      <td>6155.29</td>\n",
       "      <td>14294.81</td>\n",
       "      <td>0</td>\n",
       "      <td>0</td>\n",
       "      <td>1</td>\n",
       "      <td>0</td>\n",
       "      <td>0</td>\n",
       "      <td>em3</td>\n",
       "      <td>...</td>\n",
       "      <td>0.079508</td>\n",
       "      <td>0.389475</td>\n",
       "      <td>0.188302</td>\n",
       "      <td>0.201173</td>\n",
       "      <td>0.311698</td>\n",
       "      <td>0.214005</td>\n",
       "      <td>0.097694</td>\n",
       "      <td>0.201173</td>\n",
       "      <td>treatment_em1</td>\n",
       "      <td>774.866667</td>\n",
       "    </tr>\n",
       "    <tr>\n",
       "      <th>1</th>\n",
       "      <td>39.8</td>\n",
       "      <td>2737.92</td>\n",
       "      <td>50069.40</td>\n",
       "      <td>7468.15</td>\n",
       "      <td>1</td>\n",
       "      <td>0</td>\n",
       "      <td>0</td>\n",
       "      <td>0</td>\n",
       "      <td>0</td>\n",
       "      <td>em1</td>\n",
       "      <td>...</td>\n",
       "      <td>0.041574</td>\n",
       "      <td>0.110037</td>\n",
       "      <td>0.091109</td>\n",
       "      <td>0.018928</td>\n",
       "      <td>0.107720</td>\n",
       "      <td>0.117808</td>\n",
       "      <td>-0.010088</td>\n",
       "      <td>0.041574</td>\n",
       "      <td>treatment_em3</td>\n",
       "      <td>71.466667</td>\n",
       "    </tr>\n",
       "    <tr>\n",
       "      <th>2</th>\n",
       "      <td>49.0</td>\n",
       "      <td>2712.51</td>\n",
       "      <td>5707.08</td>\n",
       "      <td>5095.65</td>\n",
       "      <td>0</td>\n",
       "      <td>0</td>\n",
       "      <td>1</td>\n",
       "      <td>1</td>\n",
       "      <td>0</td>\n",
       "      <td>em3</td>\n",
       "      <td>...</td>\n",
       "      <td>0.098409</td>\n",
       "      <td>0.643443</td>\n",
       "      <td>0.206192</td>\n",
       "      <td>0.437251</td>\n",
       "      <td>0.127880</td>\n",
       "      <td>0.037893</td>\n",
       "      <td>0.089987</td>\n",
       "      <td>0.437251</td>\n",
       "      <td>treatment_em1</td>\n",
       "      <td>989.200000</td>\n",
       "    </tr>\n",
       "    <tr>\n",
       "      <th>3</th>\n",
       "      <td>39.7</td>\n",
       "      <td>2326.37</td>\n",
       "      <td>15657.97</td>\n",
       "      <td>6345.20</td>\n",
       "      <td>0</td>\n",
       "      <td>0</td>\n",
       "      <td>0</td>\n",
       "      <td>0</td>\n",
       "      <td>1</td>\n",
       "      <td>control</td>\n",
       "      <td>...</td>\n",
       "      <td>0.044818</td>\n",
       "      <td>0.163416</td>\n",
       "      <td>0.086991</td>\n",
       "      <td>0.076425</td>\n",
       "      <td>0.121535</td>\n",
       "      <td>0.074040</td>\n",
       "      <td>0.047495</td>\n",
       "      <td>0.076425</td>\n",
       "      <td>treatment_em1</td>\n",
       "      <td>273.866667</td>\n",
       "    </tr>\n",
       "    <tr>\n",
       "      <th>4</th>\n",
       "      <td>35.3</td>\n",
       "      <td>2787.26</td>\n",
       "      <td>27074.44</td>\n",
       "      <td>14114.86</td>\n",
       "      <td>1</td>\n",
       "      <td>1</td>\n",
       "      <td>0</td>\n",
       "      <td>0</td>\n",
       "      <td>0</td>\n",
       "      <td>em1</td>\n",
       "      <td>...</td>\n",
       "      <td>0.014597</td>\n",
       "      <td>0.138120</td>\n",
       "      <td>0.029866</td>\n",
       "      <td>0.108254</td>\n",
       "      <td>0.033475</td>\n",
       "      <td>0.010102</td>\n",
       "      <td>0.023372</td>\n",
       "      <td>0.108254</td>\n",
       "      <td>treatment_em1</td>\n",
       "      <td>413.133333</td>\n",
       "    </tr>\n",
       "  </tbody>\n",
       "</table>\n",
       "<p>5 rows × 22 columns</p>\n",
       "</div>"
      ],
      "text/plain": [
       "    age   income  insurance  invested  em1  em2  em3  converted  control  \\\n",
       "0  44.1  5483.80    6155.29  14294.81    0    0    1          0        0   \n",
       "1  39.8  2737.92   50069.40   7468.15    1    0    0          0        0   \n",
       "2  49.0  2712.51    5707.08   5095.65    0    0    1          1        0   \n",
       "3  39.7  2326.37   15657.97   6345.20    0    0    0          0        1   \n",
       "4  35.3  2787.26   27074.44  14114.86    1    1    0          0        0   \n",
       "\n",
       "  treatment_col  ...  treatment_em3__uplift  \\\n",
       "0           em3  ...               0.079508   \n",
       "1           em1  ...               0.041574   \n",
       "2           em3  ...               0.098409   \n",
       "3       control  ...               0.044818   \n",
       "4           em1  ...               0.014597   \n",
       "\n",
       "   treatment_em1__prediction_on_treatment  \\\n",
       "0                                0.389475   \n",
       "1                                0.110037   \n",
       "2                                0.643443   \n",
       "3                                0.163416   \n",
       "4                                0.138120   \n",
       "\n",
       "   treatment_em1__prediction_on_control  treatment_em1__uplift  \\\n",
       "0                              0.188302               0.201173   \n",
       "1                              0.091109               0.018928   \n",
       "2                              0.206192               0.437251   \n",
       "3                              0.086991               0.076425   \n",
       "4                              0.029866               0.108254   \n",
       "\n",
       "   treatment_em2__prediction_on_treatment  \\\n",
       "0                                0.311698   \n",
       "1                                0.107720   \n",
       "2                                0.127880   \n",
       "3                                0.121535   \n",
       "4                                0.033475   \n",
       "\n",
       "   treatment_em2__prediction_on_control  treatment_em2__uplift    uplift  \\\n",
       "0                              0.214005               0.097694  0.201173   \n",
       "1                              0.117808              -0.010088  0.041574   \n",
       "2                              0.037893               0.089987  0.437251   \n",
       "3                              0.074040               0.047495  0.076425   \n",
       "4                              0.010102               0.023372  0.108254   \n",
       "\n",
       "   suggested_treatment  prediction_ecdf  \n",
       "0        treatment_em1       774.866667  \n",
       "1        treatment_em3        71.466667  \n",
       "2        treatment_em1       989.200000  \n",
       "3        treatment_em1       273.866667  \n",
       "4        treatment_em1       413.133333  \n",
       "\n",
       "[5 rows x 22 columns]"
      ]
     },
     "execution_count": 27,
     "metadata": {},
     "output_type": "execute_result"
    }
   ],
   "source": [
    "pipe_train_df.head()"
   ]
  },
  {
   "cell_type": "code",
   "execution_count": 28,
   "id": "3f0ae64f",
   "metadata": {
    "ExecuteTime": {
     "end_time": "2022-08-09T17:42:42.235287Z",
     "start_time": "2022-08-09T17:42:42.044602Z"
    }
   },
   "outputs": [
    {
     "data": {
      "image/png": "[encoded data removed]",
      "text/plain": [
       "<Figure size 432x288 with 1 Axes>"
      ]
     },
     "metadata": {
      "needs_background": "light"
     },
     "output_type": "display_data"
    }
   ],
   "source": [
    "pipe_train_df[\"uplift\"].hist(bins=50);\n",
    "plt.title(\"Uplift Score Distribution\", fontsize=16);\n",
    "plt.xticks(fontsize=16);\n",
    "plt.yticks(fontsize=16);"
   ]
  },
  {
   "cell_type": "code",
   "execution_count": 29,
   "id": "8253be6f",
   "metadata": {
    "ExecuteTime": {
     "end_time": "2022-08-09T17:42:42.728600Z",
     "start_time": "2022-08-09T17:42:42.519373Z"
    }
   },
   "outputs": [
    {
     "data": {
      "image/png": "[encoded data removed]",
      "text/plain": [
       "<Figure size 432x288 with 1 Axes>"
      ]
     },
     "metadata": {
      "needs_background": "light"
     },
     "output_type": "display_data"
    }
   ],
   "source": [
    "pipe_train_df[\"treatment_em1__prediction_on_control\"].hist(bins=50);\n",
    "plt.title(\"LightGBM Prediction Distribution\", fontsize=16);\n",
    "plt.xticks(fontsize=16);\n",
    "plt.yticks(fontsize=16);"
   ]
  },
  {
   "cell_type": "markdown",
   "id": "80873d8e",
   "metadata": {},
   "source": [
    "**Checking Gain Curve with ECDF**"
   ]
  },
  {
   "cell_type": "code",
   "execution_count": 30,
   "id": "304ce7c2",
   "metadata": {
    "ExecuteTime": {
     "end_time": "2022-08-09T17:42:44.356634Z",
     "start_time": "2022-08-09T17:42:44.353500Z"
    }
   },
   "outputs": [],
   "source": [
    "gain_curve = cumulative_gain_curve(\n",
    "    treatment = \"em1\",\n",
    "    outcome = target_column,\n",
    "    prediction = \"prediction_ecdf\"\n",
    ")"
   ]
  },
  {
   "cell_type": "code",
   "execution_count": 31,
   "id": "875df4da",
   "metadata": {
    "ExecuteTime": {
     "end_time": "2022-08-09T17:42:45.268638Z",
     "start_time": "2022-08-09T17:42:45.017796Z"
    }
   },
   "outputs": [],
   "source": [
    "pipeline_train_df = pipe_fcn(train_data)\n",
    "pipeline_test_df = pipe_fcn(test_data)"
   ]
  },
  {
   "cell_type": "code",
   "execution_count": 32,
   "id": "ed3ee7e7",
   "metadata": {
    "ExecuteTime": {
     "end_time": "2022-08-09T17:42:45.884183Z",
     "start_time": "2022-08-09T17:42:45.708065Z"
    }
   },
   "outputs": [],
   "source": [
    "gain_curve_train = gain_curve(pipeline_train_df)\n",
    "gain_curve_test = gain_curve(pipeline_test_df)"
   ]
  },
  {
   "cell_type": "code",
   "execution_count": 33,
   "id": "af2707ed",
   "metadata": {
    "ExecuteTime": {
     "end_time": "2022-08-09T17:42:46.438929Z",
     "start_time": "2022-08-09T17:42:46.246570Z"
    }
   },
   "outputs": [
    {
     "data": {
      "image/png": "[encoded data removed]",
      "text/plain": [
       "<Figure size 1080x360 with 1 Axes>"
      ]
     },
     "metadata": {
      "needs_background": "light"
     },
     "output_type": "display_data"
    }
   ],
   "source": [
    "plot_cumulative_gain_curve(\n",
    "    train_gain = gain_curve_train,\n",
    "    test_gain = gain_curve_test,\n",
    "    random_gain = gain_curve_random\n",
    ")"
   ]
  },
  {
   "cell_type": "markdown",
   "id": "7ee410fb",
   "metadata": {},
   "source": [
    "#### 4.3 Build S-learner Using Lightgbm with Isotonic Calibration"
   ]
  },
  {
   "cell_type": "code",
   "execution_count": 34,
   "id": "ea34b176",
   "metadata": {
    "ExecuteTime": {
     "end_time": "2022-08-09T17:42:48.199832Z",
     "start_time": "2022-08-09T17:42:48.196927Z"
    }
   },
   "outputs": [],
   "source": [
    "clf_learner = lgbm_classification_learner(\n",
    "    features = features,\n",
    "    target = target_column,\n",
    "    prediction_column = prediction_column\n",
    ")"
   ]
  },
  {
   "cell_type": "code",
   "execution_count": 35,
   "id": "f328d84c",
   "metadata": {
    "ExecuteTime": {
     "end_time": "2022-08-09T17:42:48.656806Z",
     "start_time": "2022-08-09T17:42:48.653612Z"
    }
   },
   "outputs": [],
   "source": [
    "calibrator = isotonic_calibration_learner(\n",
    "    target_column=target_column,\n",
    "    prediction_column=prediction_column,\n",
    "    output_column=\"calibration_prediction\"\n",
    ")"
   ]
  },
  {
   "cell_type": "code",
   "execution_count": 36,
   "id": "9abd3945",
   "metadata": {
    "ExecuteTime": {
     "end_time": "2022-08-09T17:42:49.144696Z",
     "start_time": "2022-08-09T17:42:49.141354Z"
    }
   },
   "outputs": [],
   "source": [
    "s_learner = causal_s_classification_learner(\n",
    "    treatment_col=treatment_column,\n",
    "    control_name=control_name,\n",
    "    prediction_column=\"calibration_prediction\",\n",
    "    learner=clf_learner,\n",
    "    learner_transformers=[calibrator]\n",
    ")"
   ]
  },
  {
   "cell_type": "code",
   "execution_count": 37,
   "id": "47630533",
   "metadata": {
    "ExecuteTime": {
     "end_time": "2022-08-09T17:42:49.564068Z",
     "start_time": "2022-08-09T17:42:49.561617Z"
    }
   },
   "outputs": [],
   "source": [
    "cdf = ecdfer(\n",
    "    prediction_column=score_of_interest\n",
    ")"
   ]
  },
  {
   "cell_type": "code",
   "execution_count": 38,
   "id": "9dfb55d3",
   "metadata": {
    "ExecuteTime": {
     "end_time": "2022-08-09T17:42:49.960212Z",
     "start_time": "2022-08-09T17:42:49.957548Z"
    }
   },
   "outputs": [],
   "source": [
    "pipeline = build_pipeline(\n",
    "    *[s_learner, cdf]\n",
    ")"
   ]
  },
  {
   "cell_type": "code",
   "execution_count": 39,
   "id": "bb117302",
   "metadata": {
    "ExecuteTime": {
     "end_time": "2022-08-09T17:42:50.808209Z",
     "start_time": "2022-08-09T17:42:50.355121Z"
    }
   },
   "outputs": [
    {
     "name": "stdout",
     "output_type": "stream",
     "text": [
      "[LightGBM] [Info] Number of positive: 1896, number of negative: 8896\n",
      "[LightGBM] [Warning] Auto-choosing row-wise multi-threading, the overhead of testing was 0.000110 seconds.\n",
      "You can set `force_row_wise=true` to remove the overhead.\n",
      "And if memory is not enough, you can set `force_col_wise=true`.\n",
      "[LightGBM] [Info] Total Bins 995\n",
      "[LightGBM] [Info] Number of data points in the train set: 10792, number of used features: 5\n",
      "[LightGBM] [Info] [binary:BoostFromScore]: pavg=0.175686 -> initscore=-1.545855\n",
      "[LightGBM] [Info] Start training from score -1.545855\n",
      "[LightGBM] [Info] Number of positive: 1306, number of negative: 6376\n",
      "[LightGBM] [Warning] Auto-choosing col-wise multi-threading, the overhead of testing was 0.000310 seconds.\n",
      "You can set `force_col_wise=true` to remove the overhead.\n",
      "[LightGBM] [Info] Total Bins 986\n",
      "[LightGBM] [Info] Number of data points in the train set: 7682, number of used features: 5\n",
      "[LightGBM] [Info] [binary:BoostFromScore]: pavg=0.170008 -> initscore=-1.585572\n",
      "[LightGBM] [Info] Start training from score -1.585572\n",
      "[LightGBM] [Info] Number of positive: 813, number of negative: 4337\n",
      "[LightGBM] [Warning] Auto-choosing col-wise multi-threading, the overhead of testing was 0.000191 seconds.\n",
      "You can set `force_col_wise=true` to remove the overhead.\n",
      "[LightGBM] [Info] Total Bins 978\n",
      "[LightGBM] [Info] Number of data points in the train set: 5150, number of used features: 5\n",
      "[LightGBM] [Info] [binary:BoostFromScore]: pavg=0.157864 -> initscore=-1.674207\n",
      "[LightGBM] [Info] Start training from score -1.674207\n"
     ]
    }
   ],
   "source": [
    "pipe_fcn, pipe_train_df, pipe_log = pipeline(\n",
    "    train_data\n",
    ")"
   ]
  },
  {
   "cell_type": "code",
   "execution_count": 40,
   "id": "0a80c08c",
   "metadata": {
    "ExecuteTime": {
     "end_time": "2022-08-09T17:42:51.230346Z",
     "start_time": "2022-08-09T17:42:51.214846Z"
    }
   },
   "outputs": [
    {
     "data": {
      "text/html": [
       "<div>\n",
       "<style scoped>\n",
       "    .dataframe tbody tr th:only-of-type {\n",
       "        vertical-align: middle;\n",
       "    }\n",
       "\n",
       "    .dataframe tbody tr th {\n",
       "        vertical-align: top;\n",
       "    }\n",
       "\n",
       "    .dataframe thead th {\n",
       "        text-align: right;\n",
       "    }\n",
       "</style>\n",
       "<table border=\"1\" class=\"dataframe\">\n",
       "  <thead>\n",
       "    <tr style=\"text-align: right;\">\n",
       "      <th></th>\n",
       "      <th>age</th>\n",
       "      <th>income</th>\n",
       "      <th>insurance</th>\n",
       "      <th>invested</th>\n",
       "      <th>em1</th>\n",
       "      <th>em2</th>\n",
       "      <th>em3</th>\n",
       "      <th>converted</th>\n",
       "      <th>control</th>\n",
       "      <th>treatment_col</th>\n",
       "      <th>...</th>\n",
       "      <th>treatment_em3__uplift</th>\n",
       "      <th>treatment_em1__calibration_prediction_on_treatment</th>\n",
       "      <th>treatment_em1__calibration_prediction_on_control</th>\n",
       "      <th>treatment_em1__uplift</th>\n",
       "      <th>treatment_em2__calibration_prediction_on_treatment</th>\n",
       "      <th>treatment_em2__calibration_prediction_on_control</th>\n",
       "      <th>treatment_em2__uplift</th>\n",
       "      <th>uplift</th>\n",
       "      <th>suggested_treatment</th>\n",
       "      <th>prediction_ecdf</th>\n",
       "    </tr>\n",
       "  </thead>\n",
       "  <tbody>\n",
       "    <tr>\n",
       "      <th>0</th>\n",
       "      <td>44.1</td>\n",
       "      <td>5483.80</td>\n",
       "      <td>6155.29</td>\n",
       "      <td>14294.81</td>\n",
       "      <td>0</td>\n",
       "      <td>0</td>\n",
       "      <td>1</td>\n",
       "      <td>0</td>\n",
       "      <td>0</td>\n",
       "      <td>em3</td>\n",
       "      <td>...</td>\n",
       "      <td>0.183083</td>\n",
       "      <td>0.793478</td>\n",
       "      <td>0.110734</td>\n",
       "      <td>0.682744</td>\n",
       "      <td>0.422222</td>\n",
       "      <td>0.293173</td>\n",
       "      <td>0.129050</td>\n",
       "      <td>0.682744</td>\n",
       "      <td>treatment_em1</td>\n",
       "      <td>882.400000</td>\n",
       "    </tr>\n",
       "    <tr>\n",
       "      <th>1</th>\n",
       "      <td>39.8</td>\n",
       "      <td>2737.92</td>\n",
       "      <td>50069.40</td>\n",
       "      <td>7468.15</td>\n",
       "      <td>1</td>\n",
       "      <td>0</td>\n",
       "      <td>0</td>\n",
       "      <td>0</td>\n",
       "      <td>0</td>\n",
       "      <td>em1</td>\n",
       "      <td>...</td>\n",
       "      <td>0.042952</td>\n",
       "      <td>0.028286</td>\n",
       "      <td>0.007605</td>\n",
       "      <td>0.020682</td>\n",
       "      <td>0.027972</td>\n",
       "      <td>0.027972</td>\n",
       "      <td>0.000000</td>\n",
       "      <td>0.042952</td>\n",
       "      <td>treatment_em3</td>\n",
       "      <td>116.000000</td>\n",
       "    </tr>\n",
       "    <tr>\n",
       "      <th>2</th>\n",
       "      <td>49.0</td>\n",
       "      <td>2712.51</td>\n",
       "      <td>5707.08</td>\n",
       "      <td>5095.65</td>\n",
       "      <td>0</td>\n",
       "      <td>0</td>\n",
       "      <td>1</td>\n",
       "      <td>1</td>\n",
       "      <td>0</td>\n",
       "      <td>em3</td>\n",
       "      <td>...</td>\n",
       "      <td>0.391279</td>\n",
       "      <td>0.969697</td>\n",
       "      <td>0.155235</td>\n",
       "      <td>0.814462</td>\n",
       "      <td>0.055556</td>\n",
       "      <td>0.000000</td>\n",
       "      <td>0.055556</td>\n",
       "      <td>0.814462</td>\n",
       "      <td>treatment_em1</td>\n",
       "      <td>963.866667</td>\n",
       "    </tr>\n",
       "    <tr>\n",
       "      <th>3</th>\n",
       "      <td>39.7</td>\n",
       "      <td>2326.37</td>\n",
       "      <td>15657.97</td>\n",
       "      <td>6345.20</td>\n",
       "      <td>0</td>\n",
       "      <td>0</td>\n",
       "      <td>0</td>\n",
       "      <td>0</td>\n",
       "      <td>1</td>\n",
       "      <td>control</td>\n",
       "      <td>...</td>\n",
       "      <td>0.055617</td>\n",
       "      <td>0.110734</td>\n",
       "      <td>0.006173</td>\n",
       "      <td>0.104562</td>\n",
       "      <td>0.055556</td>\n",
       "      <td>0.000000</td>\n",
       "      <td>0.055556</td>\n",
       "      <td>0.104562</td>\n",
       "      <td>treatment_em1</td>\n",
       "      <td>313.066667</td>\n",
       "    </tr>\n",
       "    <tr>\n",
       "      <th>4</th>\n",
       "      <td>35.3</td>\n",
       "      <td>2787.26</td>\n",
       "      <td>27074.44</td>\n",
       "      <td>14114.86</td>\n",
       "      <td>1</td>\n",
       "      <td>1</td>\n",
       "      <td>0</td>\n",
       "      <td>0</td>\n",
       "      <td>0</td>\n",
       "      <td>em1</td>\n",
       "      <td>...</td>\n",
       "      <td>0.000000</td>\n",
       "      <td>0.062081</td>\n",
       "      <td>0.000000</td>\n",
       "      <td>0.062081</td>\n",
       "      <td>0.000000</td>\n",
       "      <td>0.000000</td>\n",
       "      <td>0.000000</td>\n",
       "      <td>0.062081</td>\n",
       "      <td>treatment_em1</td>\n",
       "      <td>223.000000</td>\n",
       "    </tr>\n",
       "  </tbody>\n",
       "</table>\n",
       "<p>5 rows × 22 columns</p>\n",
       "</div>"
      ],
      "text/plain": [
       "    age   income  insurance  invested  em1  em2  em3  converted  control  \\\n",
       "0  44.1  5483.80    6155.29  14294.81    0    0    1          0        0   \n",
       "1  39.8  2737.92   50069.40   7468.15    1    0    0          0        0   \n",
       "2  49.0  2712.51    5707.08   5095.65    0    0    1          1        0   \n",
       "3  39.7  2326.37   15657.97   6345.20    0    0    0          0        1   \n",
       "4  35.3  2787.26   27074.44  14114.86    1    1    0          0        0   \n",
       "\n",
       "  treatment_col  ...  treatment_em3__uplift  \\\n",
       "0           em3  ...               0.183083   \n",
       "1           em1  ...               0.042952   \n",
       "2           em3  ...               0.391279   \n",
       "3       control  ...               0.055617   \n",
       "4           em1  ...               0.000000   \n",
       "\n",
       "   treatment_em1__calibration_prediction_on_treatment  \\\n",
       "0                                           0.793478    \n",
       "1                                           0.028286    \n",
       "2                                           0.969697    \n",
       "3                                           0.110734    \n",
       "4                                           0.062081    \n",
       "\n",
       "   treatment_em1__calibration_prediction_on_control  treatment_em1__uplift  \\\n",
       "0                                          0.110734               0.682744   \n",
       "1                                          0.007605               0.020682   \n",
       "2                                          0.155235               0.814462   \n",
       "3                                          0.006173               0.104562   \n",
       "4                                          0.000000               0.062081   \n",
       "\n",
       "   treatment_em2__calibration_prediction_on_treatment  \\\n",
       "0                                           0.422222    \n",
       "1                                           0.027972    \n",
       "2                                           0.055556    \n",
       "3                                           0.055556    \n",
       "4                                           0.000000    \n",
       "\n",
       "   treatment_em2__calibration_prediction_on_control  treatment_em2__uplift  \\\n",
       "0                                          0.293173               0.129050   \n",
       "1                                          0.027972               0.000000   \n",
       "2                                          0.000000               0.055556   \n",
       "3                                          0.000000               0.055556   \n",
       "4                                          0.000000               0.000000   \n",
       "\n",
       "     uplift  suggested_treatment  prediction_ecdf  \n",
       "0  0.682744        treatment_em1       882.400000  \n",
       "1  0.042952        treatment_em3       116.000000  \n",
       "2  0.814462        treatment_em1       963.866667  \n",
       "3  0.104562        treatment_em1       313.066667  \n",
       "4  0.062081        treatment_em1       223.000000  \n",
       "\n",
       "[5 rows x 22 columns]"
      ]
     },
     "execution_count": 40,
     "metadata": {},
     "output_type": "execute_result"
    }
   ],
   "source": [
    "pipe_train_df.head()"
   ]
  },
  {
   "cell_type": "code",
   "execution_count": 41,
   "id": "65693eaa",
   "metadata": {
    "ExecuteTime": {
     "end_time": "2022-08-09T17:42:52.133934Z",
     "start_time": "2022-08-09T17:42:51.995873Z"
    }
   },
   "outputs": [
    {
     "data": {
      "image/png": "[encoded data removed]",
      "text/plain": [
       "<Figure size 432x288 with 1 Axes>"
      ]
     },
     "metadata": {
      "needs_background": "light"
     },
     "output_type": "display_data"
    }
   ],
   "source": [
    "pipe_train_df[\"treatment_em1__calibration_prediction_on_treatment\"].hist(bins=10);\n",
    "plt.title(\"Uplift with Calibrated LightGBM Distribution\", fontsize=16);\n",
    "plt.xticks(fontsize=16);\n",
    "plt.yticks(fontsize=16);"
   ]
  },
  {
   "cell_type": "code",
   "execution_count": 42,
   "id": "8de7a4a6",
   "metadata": {
    "ExecuteTime": {
     "end_time": "2022-08-09T17:42:52.672201Z",
     "start_time": "2022-08-09T17:42:52.532570Z"
    }
   },
   "outputs": [
    {
     "data": {
      "image/png": "[encoded data removed]",
      "text/plain": [
       "<Figure size 432x288 with 1 Axes>"
      ]
     },
     "metadata": {
      "needs_background": "light"
     },
     "output_type": "display_data"
    }
   ],
   "source": [
    "pipe_train_df[\"treatment_em1__calibration_prediction_on_control\"].hist(bins=10);\n",
    "plt.title(\"Calibrated LightGBM Prediction Distribution\", fontsize=16);\n",
    "plt.xticks(fontsize=16);\n",
    "plt.yticks(fontsize=16);"
   ]
  },
  {
   "cell_type": "markdown",
   "id": "bcf7861e",
   "metadata": {},
   "source": [
    "**Checking Gain Curve with ECDF**"
   ]
  },
  {
   "cell_type": "code",
   "execution_count": 44,
   "id": "08cfa1e4",
   "metadata": {
    "ExecuteTime": {
     "end_time": "2022-08-09T17:43:42.750465Z",
     "start_time": "2022-08-09T17:43:42.747745Z"
    }
   },
   "outputs": [],
   "source": [
    "gain_curve = cumulative_gain_curve(\n",
    "    treatment = \"em1\",\n",
    "    outcome = target_column,\n",
    "    prediction = \"prediction_ecdf\"\n",
    ")"
   ]
  },
  {
   "cell_type": "code",
   "execution_count": 45,
   "id": "e996c832",
   "metadata": {
    "ExecuteTime": {
     "end_time": "2022-08-09T17:43:43.452752Z",
     "start_time": "2022-08-09T17:43:43.193377Z"
    }
   },
   "outputs": [],
   "source": [
    "pipeline_train_df = pipe_fcn(train_data)\n",
    "pipeline_test_df = pipe_fcn(test_data)"
   ]
  },
  {
   "cell_type": "code",
   "execution_count": 46,
   "id": "159c3e84",
   "metadata": {
    "ExecuteTime": {
     "end_time": "2022-08-09T17:43:44.188901Z",
     "start_time": "2022-08-09T17:43:44.010353Z"
    }
   },
   "outputs": [],
   "source": [
    "gain_curve_train = gain_curve(pipeline_train_df)\n",
    "gain_curve_test = gain_curve(pipeline_test_df)"
   ]
  },
  {
   "cell_type": "code",
   "execution_count": 47,
   "id": "d4dc9022",
   "metadata": {
    "ExecuteTime": {
     "end_time": "2022-08-09T17:43:45.566385Z",
     "start_time": "2022-08-09T17:43:45.379848Z"
    }
   },
   "outputs": [
    {
     "data": {
      "image/png": "[encoded data removed]",
      "text/plain": [
       "<Figure size 1080x360 with 1 Axes>"
      ]
     },
     "metadata": {
      "needs_background": "light"
     },
     "output_type": "display_data"
    }
   ],
   "source": [
    "plot_cumulative_gain_curve(\n",
    "    train_gain = gain_curve_train,\n",
    "    test_gain = gain_curve_test,\n",
    "    random_gain = gain_curve_random\n",
    ")"
   ]
  }
 ],
 "metadata": {
  "kernelspec": {
   "display_name": "Python [conda env:mkt-ai]",
   "language": "python",
   "name": "conda-env-mkt-ai-py"
  },
  "language_info": {
   "codemirror_mode": {
    "name": "ipython",
    "version": 3
   },
   "file_extension": ".py",
   "mimetype": "text/x-python",
   "name": "python",
   "nbconvert_exporter": "python",
   "pygments_lexer": "ipython3",
   "version": "3.10.4"
  },
  "toc": {
   "base_numbering": 1,
   "nav_menu": {},
   "number_sections": false,
   "sideBar": true,
   "skip_h1_title": false,
   "title_cell": "Table of Contents",
   "title_sidebar": "Contents",
   "toc_cell": false,
   "toc_position": {},
   "toc_section_display": true,
   "toc_window_display": false
  },
  "varInspector": {
   "cols": {
    "lenName": 16,
    "lenType": 16,
    "lenVar": 40
   },
   "kernels_config": {
    "python": {
     "delete_cmd_postfix": "",
     "delete_cmd_prefix": "del ",
     "library": "var_list.py",
     "varRefreshCmd": "print(var_dic_list())"
    },
    "r": {
     "delete_cmd_postfix": ") ",
     "delete_cmd_prefix": "rm(",
     "library": "var_list.r",
     "varRefreshCmd": "cat(var_dic_list()) "
    }
   },
   "types_to_exclude": [
    "module",
    "function",
    "builtin_function_or_method",
    "instance",
    "_Feature"
   ],
   "window_display": false
  }
 },
 "nbformat": 4,
 "nbformat_minor": 5
}