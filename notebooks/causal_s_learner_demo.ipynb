{
 "cells": [
  {
   "cell_type": "markdown",
   "id": "63017b37",
   "metadata": {
    "ExecuteTime": {
     "end_time": "2022-08-01T17:38:44.522833Z",
     "start_time": "2022-08-01T17:38:44.516580Z"
    }
   },
   "source": [
    "## Causal S-Learner Classifier\n",
    "\n",
    "### TL; DR\n",
    "---\n",
    "This notebooks exemplifies how one can use the causal S-learner through fklearn.\n",
    "\n",
    "### Data\n",
    "---\n",
    "The data here adopted is provided in [1], [2].\n",
    "\n",
    "### REFERENCES\n",
    "\n",
    "[1] https://matheusfacure.github.io/python-causality-handbook/21-Meta-Learners.html\n",
    "\n",
    "[2] https://github.com/matheusfacure/python-causality-handbook/tree/master/causal-inference-for-the-brave-and-true/data"
   ]
  },
  {
   "cell_type": "markdown",
   "id": "d57d2ca0",
   "metadata": {},
   "source": [
    "### 1. Imports"
   ]
  },
  {
   "cell_type": "code",
   "execution_count": 2,
   "id": "e9dfceea",
   "metadata": {
    "ExecuteTime": {
     "end_time": "2022-08-01T21:08:54.942876Z",
     "start_time": "2022-08-01T21:08:52.183053Z"
    }
   },
   "outputs": [],
   "source": [
    "import pandas as pd\n",
    "import numpy as np\n",
    "\n",
    "import matplotlib.pyplot as plt\n",
    "import seaborn as sns\n",
    "\n",
    "from fklearn.causal.cate_learning.meta_learners import causal_s_classification_learner\n",
    "from fklearn.training.classification import lgbm_classification_learner\n",
    "from fklearn.training.calibration import isotonic_calibration_learner\n",
    "from fklearn.causal.validation.curves import cumulative_gain_curve\n",
    "from fklearn.training.pipeline import build_pipeline\n",
    "from fklearn.training.transformation import ecdfer\n",
    "\n",
    "sns.set_style(\"darkgrid\")"
   ]
  },
  {
   "cell_type": "markdown",
   "id": "4aeb2da5",
   "metadata": {},
   "source": [
    "### 2. Functions"
   ]
  },
  {
   "cell_type": "code",
   "execution_count": 3,
   "id": "de49b901",
   "metadata": {
    "ExecuteTime": {
     "end_time": "2022-08-01T21:08:54.949172Z",
     "start_time": "2022-08-01T21:08:54.944256Z"
    }
   },
   "outputs": [],
   "source": [
    "def plot_cumulative_gain_curve(\n",
    "    train_gain: np.ndarray,\n",
    "    test_gain: np.ndarray,\n",
    "    random_gain: np.ndarray,\n",
    "    fontsize: int = 16,\n",
    "    figsize: tuple = (15,5)\n",
    ") -> None:\n",
    "    \"\"\"\n",
    "    Plots the cumulative gain curve.\n",
    "    \"\"\"\n",
    "\n",
    "    xaxis = np.arange(len(train_gain))/len(train_gain)\n",
    "    \n",
    "    plt.figure(figsize=figsize);\n",
    "    plt.plot(xaxis, train_gain, label=\"Training Data\");\n",
    "    plt.plot(xaxis, test_gain, label=\"Testing Data\");\n",
    "    plt.plot(xaxis, random_gain, \"--\", label=\"Random\");\n",
    "               \n",
    "    plt.ylabel(\"Cumulative Gain\", fontsize=fontsize);\n",
    "    plt.xlabel(\"Population Proportion\", fontsize=fontsize);\n",
    "    plt.title(\"Cumulative Gain Curve\", fontsize=fontsize);\n",
    "               \n",
    "    plt.legend(fontsize=fontsize);\n",
    "    plt.xticks(fontsize=fontsize);\n",
    "    plt.yticks(fontsize=fontsize);"
   ]
  },
  {
   "cell_type": "markdown",
   "id": "413191c2",
   "metadata": {},
   "source": [
    "### 3. Read Data"
   ]
  },
  {
   "cell_type": "markdown",
   "id": "60111b5d",
   "metadata": {},
   "source": [
    "Notice that the data here adopted is provided in [1] and [2]."
   ]
  },
  {
   "cell_type": "code",
   "execution_count": 4,
   "id": "395accdf",
   "metadata": {
    "ExecuteTime": {
     "end_time": "2022-08-01T21:08:55.654415Z",
     "start_time": "2022-08-01T21:08:54.952419Z"
    }
   },
   "outputs": [],
   "source": [
    "test_data = pd.read_csv(\n",
    "    \"https://raw.githubusercontent.com/matheusfacure/python-causality-handbook/master/causal-inference-for-the-brave-and-true/data/invest_email_rnd.csv\"\n",
    ")\n",
    "train_data = pd.read_csv(\n",
    "    \"https://raw.githubusercontent.com/matheusfacure/python-causality-handbook/master/causal-inference-for-the-brave-and-true/data/invest_email_biased.csv\"\n",
    ")"
   ]
  },
  {
   "cell_type": "code",
   "execution_count": 5,
   "id": "2d473f87",
   "metadata": {
    "ExecuteTime": {
     "end_time": "2022-08-01T21:08:55.665495Z",
     "start_time": "2022-08-01T21:08:55.656451Z"
    }
   },
   "outputs": [
    {
     "data": {
      "text/plain": [
       "(15000, 8)"
      ]
     },
     "execution_count": 5,
     "metadata": {},
     "output_type": "execute_result"
    }
   ],
   "source": [
    "test_data.shape"
   ]
  },
  {
   "cell_type": "code",
   "execution_count": 6,
   "id": "f561a870",
   "metadata": {
    "ExecuteTime": {
     "end_time": "2022-08-01T21:08:55.671480Z",
     "start_time": "2022-08-01T21:08:55.667548Z"
    }
   },
   "outputs": [
    {
     "data": {
      "text/plain": [
       "(15000, 8)"
      ]
     },
     "execution_count": 6,
     "metadata": {},
     "output_type": "execute_result"
    }
   ],
   "source": [
    "train_data.shape"
   ]
  },
  {
   "cell_type": "markdown",
   "id": "5bf8acb8",
   "metadata": {},
   "source": [
    "#### 3.1 Include Treatment Column"
   ]
  },
  {
   "cell_type": "code",
   "execution_count": 7,
   "id": "ed2e5d17",
   "metadata": {
    "ExecuteTime": {
     "end_time": "2022-08-01T21:08:55.684291Z",
     "start_time": "2022-08-01T21:08:55.673873Z"
    }
   },
   "outputs": [],
   "source": [
    "train_data[\"treatment_col\"] = np.where(\n",
    "    train_data[\"em1\"] == 1, \"em1\", \"control\"\n",
    ")\n",
    "\n",
    "test_data[\"treatment_col\"] = np.where(\n",
    "    test_data[\"em1\"] == 1, \"em1\", \"control\"\n",
    ")"
   ]
  },
  {
   "cell_type": "code",
   "execution_count": 8,
   "id": "ca2c0376",
   "metadata": {
    "ExecuteTime": {
     "end_time": "2022-08-01T21:08:55.701127Z",
     "start_time": "2022-08-01T21:08:55.686721Z"
    }
   },
   "outputs": [
    {
     "data": {
      "text/html": [
       "<div>\n",
       "<style scoped>\n",
       "    .dataframe tbody tr th:only-of-type {\n",
       "        vertical-align: middle;\n",
       "    }\n",
       "\n",
       "    .dataframe tbody tr th {\n",
       "        vertical-align: top;\n",
       "    }\n",
       "\n",
       "    .dataframe thead th {\n",
       "        text-align: right;\n",
       "    }\n",
       "</style>\n",
       "<table border=\"1\" class=\"dataframe\">\n",
       "  <thead>\n",
       "    <tr style=\"text-align: right;\">\n",
       "      <th></th>\n",
       "      <th>age</th>\n",
       "      <th>income</th>\n",
       "      <th>insurance</th>\n",
       "      <th>invested</th>\n",
       "      <th>em1</th>\n",
       "      <th>em2</th>\n",
       "      <th>em3</th>\n",
       "      <th>converted</th>\n",
       "      <th>treatment_col</th>\n",
       "    </tr>\n",
       "  </thead>\n",
       "  <tbody>\n",
       "    <tr>\n",
       "      <th>0</th>\n",
       "      <td>44.1</td>\n",
       "      <td>5483.80</td>\n",
       "      <td>6155.29</td>\n",
       "      <td>14294.81</td>\n",
       "      <td>0</td>\n",
       "      <td>0</td>\n",
       "      <td>1</td>\n",
       "      <td>0</td>\n",
       "      <td>control</td>\n",
       "    </tr>\n",
       "    <tr>\n",
       "      <th>1</th>\n",
       "      <td>39.8</td>\n",
       "      <td>2737.92</td>\n",
       "      <td>50069.40</td>\n",
       "      <td>7468.15</td>\n",
       "      <td>1</td>\n",
       "      <td>0</td>\n",
       "      <td>0</td>\n",
       "      <td>0</td>\n",
       "      <td>em1</td>\n",
       "    </tr>\n",
       "    <tr>\n",
       "      <th>2</th>\n",
       "      <td>49.0</td>\n",
       "      <td>2712.51</td>\n",
       "      <td>5707.08</td>\n",
       "      <td>5095.65</td>\n",
       "      <td>0</td>\n",
       "      <td>0</td>\n",
       "      <td>1</td>\n",
       "      <td>1</td>\n",
       "      <td>control</td>\n",
       "    </tr>\n",
       "    <tr>\n",
       "      <th>3</th>\n",
       "      <td>39.7</td>\n",
       "      <td>2326.37</td>\n",
       "      <td>15657.97</td>\n",
       "      <td>6345.20</td>\n",
       "      <td>0</td>\n",
       "      <td>0</td>\n",
       "      <td>0</td>\n",
       "      <td>0</td>\n",
       "      <td>control</td>\n",
       "    </tr>\n",
       "    <tr>\n",
       "      <th>4</th>\n",
       "      <td>35.3</td>\n",
       "      <td>2787.26</td>\n",
       "      <td>27074.44</td>\n",
       "      <td>14114.86</td>\n",
       "      <td>1</td>\n",
       "      <td>1</td>\n",
       "      <td>0</td>\n",
       "      <td>0</td>\n",
       "      <td>em1</td>\n",
       "    </tr>\n",
       "  </tbody>\n",
       "</table>\n",
       "</div>"
      ],
      "text/plain": [
       "    age   income  insurance  invested  em1  em2  em3  converted treatment_col\n",
       "0  44.1  5483.80    6155.29  14294.81    0    0    1          0       control\n",
       "1  39.8  2737.92   50069.40   7468.15    1    0    0          0           em1\n",
       "2  49.0  2712.51    5707.08   5095.65    0    0    1          1       control\n",
       "3  39.7  2326.37   15657.97   6345.20    0    0    0          0       control\n",
       "4  35.3  2787.26   27074.44  14114.86    1    1    0          0           em1"
      ]
     },
     "execution_count": 8,
     "metadata": {},
     "output_type": "execute_result"
    }
   ],
   "source": [
    "train_data.head()"
   ]
  },
  {
   "cell_type": "code",
   "execution_count": 9,
   "id": "eca426e5",
   "metadata": {
    "ExecuteTime": {
     "end_time": "2022-08-01T21:08:55.717300Z",
     "start_time": "2022-08-01T21:08:55.703374Z"
    }
   },
   "outputs": [
    {
     "data": {
      "text/html": [
       "<div>\n",
       "<style scoped>\n",
       "    .dataframe tbody tr th:only-of-type {\n",
       "        vertical-align: middle;\n",
       "    }\n",
       "\n",
       "    .dataframe tbody tr th {\n",
       "        vertical-align: top;\n",
       "    }\n",
       "\n",
       "    .dataframe thead th {\n",
       "        text-align: right;\n",
       "    }\n",
       "</style>\n",
       "<table border=\"1\" class=\"dataframe\">\n",
       "  <thead>\n",
       "    <tr style=\"text-align: right;\">\n",
       "      <th></th>\n",
       "      <th>age</th>\n",
       "      <th>income</th>\n",
       "      <th>insurance</th>\n",
       "      <th>invested</th>\n",
       "      <th>em1</th>\n",
       "      <th>em2</th>\n",
       "      <th>em3</th>\n",
       "      <th>converted</th>\n",
       "      <th>treatment_col</th>\n",
       "    </tr>\n",
       "  </thead>\n",
       "  <tbody>\n",
       "    <tr>\n",
       "      <th>0</th>\n",
       "      <td>44.1</td>\n",
       "      <td>5483.80</td>\n",
       "      <td>6155.29</td>\n",
       "      <td>14294.81</td>\n",
       "      <td>0</td>\n",
       "      <td>1</td>\n",
       "      <td>1</td>\n",
       "      <td>0</td>\n",
       "      <td>control</td>\n",
       "    </tr>\n",
       "    <tr>\n",
       "      <th>1</th>\n",
       "      <td>39.8</td>\n",
       "      <td>2737.92</td>\n",
       "      <td>50069.40</td>\n",
       "      <td>7468.15</td>\n",
       "      <td>1</td>\n",
       "      <td>0</td>\n",
       "      <td>0</td>\n",
       "      <td>0</td>\n",
       "      <td>em1</td>\n",
       "    </tr>\n",
       "    <tr>\n",
       "      <th>2</th>\n",
       "      <td>49.0</td>\n",
       "      <td>2712.51</td>\n",
       "      <td>5707.08</td>\n",
       "      <td>5095.65</td>\n",
       "      <td>1</td>\n",
       "      <td>0</td>\n",
       "      <td>1</td>\n",
       "      <td>1</td>\n",
       "      <td>em1</td>\n",
       "    </tr>\n",
       "    <tr>\n",
       "      <th>3</th>\n",
       "      <td>39.7</td>\n",
       "      <td>2326.37</td>\n",
       "      <td>15657.97</td>\n",
       "      <td>6345.20</td>\n",
       "      <td>1</td>\n",
       "      <td>1</td>\n",
       "      <td>1</td>\n",
       "      <td>0</td>\n",
       "      <td>em1</td>\n",
       "    </tr>\n",
       "    <tr>\n",
       "      <th>4</th>\n",
       "      <td>35.3</td>\n",
       "      <td>2787.26</td>\n",
       "      <td>27074.44</td>\n",
       "      <td>14114.86</td>\n",
       "      <td>1</td>\n",
       "      <td>1</td>\n",
       "      <td>1</td>\n",
       "      <td>0</td>\n",
       "      <td>em1</td>\n",
       "    </tr>\n",
       "  </tbody>\n",
       "</table>\n",
       "</div>"
      ],
      "text/plain": [
       "    age   income  insurance  invested  em1  em2  em3  converted treatment_col\n",
       "0  44.1  5483.80    6155.29  14294.81    0    1    1          0       control\n",
       "1  39.8  2737.92   50069.40   7468.15    1    0    0          0           em1\n",
       "2  49.0  2712.51    5707.08   5095.65    1    0    1          1           em1\n",
       "3  39.7  2326.37   15657.97   6345.20    1    1    1          0           em1\n",
       "4  35.3  2787.26   27074.44  14114.86    1    1    1          0           em1"
      ]
     },
     "execution_count": 9,
     "metadata": {},
     "output_type": "execute_result"
    }
   ],
   "source": [
    "test_data.head()"
   ]
  },
  {
   "cell_type": "markdown",
   "id": "18367bc8",
   "metadata": {
    "ExecuteTime": {
     "end_time": "2022-08-01T17:34:49.478324Z",
     "start_time": "2022-08-01T17:34:49.472616Z"
    }
   },
   "source": [
    "### 4. Causal S-Learner"
   ]
  },
  {
   "cell_type": "code",
   "execution_count": 10,
   "id": "bfb29f66",
   "metadata": {
    "ExecuteTime": {
     "end_time": "2022-08-01T21:08:55.727534Z",
     "start_time": "2022-08-01T21:08:55.724439Z"
    }
   },
   "outputs": [],
   "source": [
    "target_column = \"converted\"\n",
    "features = [\"age\", \"income\", \"insurance\", \"invested\"]\n",
    "treatment_column = \"treatment_col\"\n",
    "control_name = \"control\"\n",
    "prediction_column = \"prediction\""
   ]
  },
  {
   "cell_type": "markdown",
   "id": "55efc506",
   "metadata": {},
   "source": [
    "#### 4.1 Using S-Learner with LightGBM"
   ]
  },
  {
   "cell_type": "code",
   "execution_count": 11,
   "id": "330b12d4",
   "metadata": {
    "ExecuteTime": {
     "end_time": "2022-08-01T21:08:55.732761Z",
     "start_time": "2022-08-01T21:08:55.729735Z"
    }
   },
   "outputs": [],
   "source": [
    "clf_learner = lgbm_classification_learner(\n",
    "    features = features,\n",
    "    target = target_column,\n",
    "    prediction_column = prediction_column\n",
    ")"
   ]
  },
  {
   "cell_type": "code",
   "execution_count": 12,
   "id": "a4560200",
   "metadata": {
    "ExecuteTime": {
     "end_time": "2022-08-01T21:08:55.738793Z",
     "start_time": "2022-08-01T21:08:55.735586Z"
    }
   },
   "outputs": [],
   "source": [
    "s_learner = causal_s_classification_learner(\n",
    "    treatment_col=treatment_column,\n",
    "    control_name=control_name,\n",
    "    prediction_column=prediction_column,\n",
    "    learner=clf_learner\n",
    ")"
   ]
  },
  {
   "cell_type": "markdown",
   "id": "4192bba4",
   "metadata": {},
   "source": [
    "**Training the model**"
   ]
  },
  {
   "cell_type": "code",
   "execution_count": 13,
   "id": "2135e220",
   "metadata": {
    "ExecuteTime": {
     "end_time": "2022-08-01T21:08:56.027747Z",
     "start_time": "2022-08-01T21:08:55.740932Z"
    }
   },
   "outputs": [
    {
     "name": "stdout",
     "output_type": "stream",
     "text": [
      "[LightGBM] [Info] Number of positive: 3007, number of negative: 11993\n",
      "[LightGBM] [Warning] Auto-choosing col-wise multi-threading, the overhead of testing was 0.000568 seconds.\n",
      "You can set `force_col_wise=true` to remove the overhead.\n",
      "[LightGBM] [Info] Total Bins 996\n",
      "[LightGBM] [Info] Number of data points in the train set: 15000, number of used features: 5\n",
      "[LightGBM] [Info] [binary:BoostFromScore]: pavg=0.200467 -> initscore=-1.383380\n",
      "[LightGBM] [Info] Start training from score -1.383380\n"
     ]
    }
   ],
   "source": [
    "s_learner_fcn, s_learner_train_df, s_learner_log = s_learner(train_data)"
   ]
  },
  {
   "cell_type": "code",
   "execution_count": 14,
   "id": "8fbebf9b",
   "metadata": {
    "ExecuteTime": {
     "end_time": "2022-08-01T21:08:56.034377Z",
     "start_time": "2022-08-01T21:08:56.030279Z"
    }
   },
   "outputs": [
    {
     "data": {
      "text/plain": [
       "<function fklearn.causal.cate_learning.meta_learners.causal_s_classification_learner.<locals>.p(new_df: pandas.core.frame.DataFrame) -> pandas.core.frame.DataFrame>"
      ]
     },
     "execution_count": 14,
     "metadata": {},
     "output_type": "execute_result"
    }
   ],
   "source": [
    "s_learner_fcn"
   ]
  },
  {
   "cell_type": "code",
   "execution_count": 15,
   "id": "e458c96d",
   "metadata": {
    "ExecuteTime": {
     "end_time": "2022-08-01T21:08:56.051585Z",
     "start_time": "2022-08-01T21:08:56.036919Z"
    }
   },
   "outputs": [
    {
     "data": {
      "text/html": [
       "<div>\n",
       "<style scoped>\n",
       "    .dataframe tbody tr th:only-of-type {\n",
       "        vertical-align: middle;\n",
       "    }\n",
       "\n",
       "    .dataframe tbody tr th {\n",
       "        vertical-align: top;\n",
       "    }\n",
       "\n",
       "    .dataframe thead th {\n",
       "        text-align: right;\n",
       "    }\n",
       "</style>\n",
       "<table border=\"1\" class=\"dataframe\">\n",
       "  <thead>\n",
       "    <tr style=\"text-align: right;\">\n",
       "      <th></th>\n",
       "      <th>age</th>\n",
       "      <th>income</th>\n",
       "      <th>insurance</th>\n",
       "      <th>invested</th>\n",
       "      <th>em1</th>\n",
       "      <th>em2</th>\n",
       "      <th>em3</th>\n",
       "      <th>converted</th>\n",
       "      <th>treatment_col</th>\n",
       "      <th>treatment_em1__prediction_on_treatment</th>\n",
       "      <th>treatment_em1__prediction_on_control</th>\n",
       "      <th>treatment_em1__uplift</th>\n",
       "      <th>uplift</th>\n",
       "      <th>suggested_treatment</th>\n",
       "    </tr>\n",
       "  </thead>\n",
       "  <tbody>\n",
       "    <tr>\n",
       "      <th>0</th>\n",
       "      <td>44.1</td>\n",
       "      <td>5483.80</td>\n",
       "      <td>6155.29</td>\n",
       "      <td>14294.81</td>\n",
       "      <td>0</td>\n",
       "      <td>0</td>\n",
       "      <td>1</td>\n",
       "      <td>0</td>\n",
       "      <td>control</td>\n",
       "      <td>0.317353</td>\n",
       "      <td>0.213610</td>\n",
       "      <td>0.103743</td>\n",
       "      <td>0.103743</td>\n",
       "      <td>treatment_em1</td>\n",
       "    </tr>\n",
       "    <tr>\n",
       "      <th>1</th>\n",
       "      <td>39.8</td>\n",
       "      <td>2737.92</td>\n",
       "      <td>50069.40</td>\n",
       "      <td>7468.15</td>\n",
       "      <td>1</td>\n",
       "      <td>0</td>\n",
       "      <td>0</td>\n",
       "      <td>0</td>\n",
       "      <td>em1</td>\n",
       "      <td>0.085400</td>\n",
       "      <td>0.103496</td>\n",
       "      <td>-0.018096</td>\n",
       "      <td>-0.018096</td>\n",
       "      <td>control</td>\n",
       "    </tr>\n",
       "    <tr>\n",
       "      <th>2</th>\n",
       "      <td>49.0</td>\n",
       "      <td>2712.51</td>\n",
       "      <td>5707.08</td>\n",
       "      <td>5095.65</td>\n",
       "      <td>0</td>\n",
       "      <td>0</td>\n",
       "      <td>1</td>\n",
       "      <td>1</td>\n",
       "      <td>control</td>\n",
       "      <td>0.535527</td>\n",
       "      <td>0.323287</td>\n",
       "      <td>0.212240</td>\n",
       "      <td>0.212240</td>\n",
       "      <td>treatment_em1</td>\n",
       "    </tr>\n",
       "    <tr>\n",
       "      <th>3</th>\n",
       "      <td>39.7</td>\n",
       "      <td>2326.37</td>\n",
       "      <td>15657.97</td>\n",
       "      <td>6345.20</td>\n",
       "      <td>0</td>\n",
       "      <td>0</td>\n",
       "      <td>0</td>\n",
       "      <td>0</td>\n",
       "      <td>control</td>\n",
       "      <td>0.101604</td>\n",
       "      <td>0.083644</td>\n",
       "      <td>0.017960</td>\n",
       "      <td>0.017960</td>\n",
       "      <td>treatment_em1</td>\n",
       "    </tr>\n",
       "    <tr>\n",
       "      <th>4</th>\n",
       "      <td>35.3</td>\n",
       "      <td>2787.26</td>\n",
       "      <td>27074.44</td>\n",
       "      <td>14114.86</td>\n",
       "      <td>1</td>\n",
       "      <td>1</td>\n",
       "      <td>0</td>\n",
       "      <td>0</td>\n",
       "      <td>em1</td>\n",
       "      <td>0.082496</td>\n",
       "      <td>0.032904</td>\n",
       "      <td>0.049591</td>\n",
       "      <td>0.049591</td>\n",
       "      <td>treatment_em1</td>\n",
       "    </tr>\n",
       "  </tbody>\n",
       "</table>\n",
       "</div>"
      ],
      "text/plain": [
       "    age   income  insurance  invested  em1  em2  em3  converted treatment_col  \\\n",
       "0  44.1  5483.80    6155.29  14294.81    0    0    1          0       control   \n",
       "1  39.8  2737.92   50069.40   7468.15    1    0    0          0           em1   \n",
       "2  49.0  2712.51    5707.08   5095.65    0    0    1          1       control   \n",
       "3  39.7  2326.37   15657.97   6345.20    0    0    0          0       control   \n",
       "4  35.3  2787.26   27074.44  14114.86    1    1    0          0           em1   \n",
       "\n",
       "   treatment_em1__prediction_on_treatment  \\\n",
       "0                                0.317353   \n",
       "1                                0.085400   \n",
       "2                                0.535527   \n",
       "3                                0.101604   \n",
       "4                                0.082496   \n",
       "\n",
       "   treatment_em1__prediction_on_control  treatment_em1__uplift    uplift  \\\n",
       "0                              0.213610               0.103743  0.103743   \n",
       "1                              0.103496              -0.018096 -0.018096   \n",
       "2                              0.323287               0.212240  0.212240   \n",
       "3                              0.083644               0.017960  0.017960   \n",
       "4                              0.032904               0.049591  0.049591   \n",
       "\n",
       "  suggested_treatment  \n",
       "0       treatment_em1  \n",
       "1             control  \n",
       "2       treatment_em1  \n",
       "3       treatment_em1  \n",
       "4       treatment_em1  "
      ]
     },
     "execution_count": 15,
     "metadata": {},
     "output_type": "execute_result"
    }
   ],
   "source": [
    "s_learner_train_df.head()"
   ]
  },
  {
   "cell_type": "code",
   "execution_count": 16,
   "id": "41fd25e3",
   "metadata": {
    "ExecuteTime": {
     "end_time": "2022-08-01T21:08:56.059283Z",
     "start_time": "2022-08-01T21:08:56.054044Z"
    }
   },
   "outputs": [
    {
     "data": {
      "text/plain": [
       "{'causal_s_classification_learner': {'causal_features': ['age',\n",
       "   'income',\n",
       "   'insurance',\n",
       "   'invested',\n",
       "   'is_treatment'],\n",
       "  'em1': {'lgbm_classification_learner': {'features': ['age',\n",
       "     'income',\n",
       "     'insurance',\n",
       "     'invested',\n",
       "     'is_treatment'],\n",
       "    'target': 'converted',\n",
       "    'prediction_column': 'prediction',\n",
       "    'package': 'lightgbm',\n",
       "    'package_version': '3.3.2',\n",
       "    'parameters': {'eta': 0.1, 'objective': 'binary', 'num_estimators': 100},\n",
       "    'feature_importance': {'age': 713,\n",
       "     'income': 741,\n",
       "     'insurance': 757,\n",
       "     'invested': 722,\n",
       "     'is_treatment': 67},\n",
       "    'training_samples': 15000,\n",
       "    'running_time': '0.214 s'},\n",
       "   'object': <lightgbm.basic.Booster at 0x12fb80280>}}}"
      ]
     },
     "execution_count": 16,
     "metadata": {},
     "output_type": "execute_result"
    }
   ],
   "source": [
    "s_learner_log"
   ]
  },
  {
   "cell_type": "markdown",
   "id": "da97eef7",
   "metadata": {},
   "source": [
    "**Making Predictions**"
   ]
  },
  {
   "cell_type": "code",
   "execution_count": 17,
   "id": "82697b79",
   "metadata": {
    "ExecuteTime": {
     "end_time": "2022-08-01T21:08:56.138488Z",
     "start_time": "2022-08-01T21:08:56.061810Z"
    }
   },
   "outputs": [],
   "source": [
    "s_learner_test_df = s_learner_fcn(test_data)"
   ]
  },
  {
   "cell_type": "code",
   "execution_count": 18,
   "id": "3f9e5a5d",
   "metadata": {
    "ExecuteTime": {
     "end_time": "2022-08-01T21:08:56.155056Z",
     "start_time": "2022-08-01T21:08:56.141081Z"
    },
    "scrolled": true
   },
   "outputs": [
    {
     "data": {
      "text/html": [
       "<div>\n",
       "<style scoped>\n",
       "    .dataframe tbody tr th:only-of-type {\n",
       "        vertical-align: middle;\n",
       "    }\n",
       "\n",
       "    .dataframe tbody tr th {\n",
       "        vertical-align: top;\n",
       "    }\n",
       "\n",
       "    .dataframe thead th {\n",
       "        text-align: right;\n",
       "    }\n",
       "</style>\n",
       "<table border=\"1\" class=\"dataframe\">\n",
       "  <thead>\n",
       "    <tr style=\"text-align: right;\">\n",
       "      <th></th>\n",
       "      <th>age</th>\n",
       "      <th>income</th>\n",
       "      <th>insurance</th>\n",
       "      <th>invested</th>\n",
       "      <th>em1</th>\n",
       "      <th>em2</th>\n",
       "      <th>em3</th>\n",
       "      <th>converted</th>\n",
       "      <th>treatment_col</th>\n",
       "      <th>treatment_em1__prediction_on_treatment</th>\n",
       "      <th>treatment_em1__prediction_on_control</th>\n",
       "      <th>treatment_em1__uplift</th>\n",
       "      <th>uplift</th>\n",
       "      <th>suggested_treatment</th>\n",
       "    </tr>\n",
       "  </thead>\n",
       "  <tbody>\n",
       "    <tr>\n",
       "      <th>0</th>\n",
       "      <td>44.1</td>\n",
       "      <td>5483.80</td>\n",
       "      <td>6155.29</td>\n",
       "      <td>14294.81</td>\n",
       "      <td>0</td>\n",
       "      <td>1</td>\n",
       "      <td>1</td>\n",
       "      <td>0</td>\n",
       "      <td>control</td>\n",
       "      <td>0.317353</td>\n",
       "      <td>0.213610</td>\n",
       "      <td>0.103743</td>\n",
       "      <td>0.103743</td>\n",
       "      <td>treatment_em1</td>\n",
       "    </tr>\n",
       "    <tr>\n",
       "      <th>1</th>\n",
       "      <td>39.8</td>\n",
       "      <td>2737.92</td>\n",
       "      <td>50069.40</td>\n",
       "      <td>7468.15</td>\n",
       "      <td>1</td>\n",
       "      <td>0</td>\n",
       "      <td>0</td>\n",
       "      <td>0</td>\n",
       "      <td>em1</td>\n",
       "      <td>0.085400</td>\n",
       "      <td>0.103496</td>\n",
       "      <td>-0.018096</td>\n",
       "      <td>-0.018096</td>\n",
       "      <td>control</td>\n",
       "    </tr>\n",
       "    <tr>\n",
       "      <th>2</th>\n",
       "      <td>49.0</td>\n",
       "      <td>2712.51</td>\n",
       "      <td>5707.08</td>\n",
       "      <td>5095.65</td>\n",
       "      <td>1</td>\n",
       "      <td>0</td>\n",
       "      <td>1</td>\n",
       "      <td>1</td>\n",
       "      <td>em1</td>\n",
       "      <td>0.535527</td>\n",
       "      <td>0.323287</td>\n",
       "      <td>0.212240</td>\n",
       "      <td>0.212240</td>\n",
       "      <td>treatment_em1</td>\n",
       "    </tr>\n",
       "    <tr>\n",
       "      <th>3</th>\n",
       "      <td>39.7</td>\n",
       "      <td>2326.37</td>\n",
       "      <td>15657.97</td>\n",
       "      <td>6345.20</td>\n",
       "      <td>1</td>\n",
       "      <td>1</td>\n",
       "      <td>1</td>\n",
       "      <td>0</td>\n",
       "      <td>em1</td>\n",
       "      <td>0.101604</td>\n",
       "      <td>0.083644</td>\n",
       "      <td>0.017960</td>\n",
       "      <td>0.017960</td>\n",
       "      <td>treatment_em1</td>\n",
       "    </tr>\n",
       "    <tr>\n",
       "      <th>4</th>\n",
       "      <td>35.3</td>\n",
       "      <td>2787.26</td>\n",
       "      <td>27074.44</td>\n",
       "      <td>14114.86</td>\n",
       "      <td>1</td>\n",
       "      <td>1</td>\n",
       "      <td>1</td>\n",
       "      <td>0</td>\n",
       "      <td>em1</td>\n",
       "      <td>0.082496</td>\n",
       "      <td>0.032904</td>\n",
       "      <td>0.049591</td>\n",
       "      <td>0.049591</td>\n",
       "      <td>treatment_em1</td>\n",
       "    </tr>\n",
       "  </tbody>\n",
       "</table>\n",
       "</div>"
      ],
      "text/plain": [
       "    age   income  insurance  invested  em1  em2  em3  converted treatment_col  \\\n",
       "0  44.1  5483.80    6155.29  14294.81    0    1    1          0       control   \n",
       "1  39.8  2737.92   50069.40   7468.15    1    0    0          0           em1   \n",
       "2  49.0  2712.51    5707.08   5095.65    1    0    1          1           em1   \n",
       "3  39.7  2326.37   15657.97   6345.20    1    1    1          0           em1   \n",
       "4  35.3  2787.26   27074.44  14114.86    1    1    1          0           em1   \n",
       "\n",
       "   treatment_em1__prediction_on_treatment  \\\n",
       "0                                0.317353   \n",
       "1                                0.085400   \n",
       "2                                0.535527   \n",
       "3                                0.101604   \n",
       "4                                0.082496   \n",
       "\n",
       "   treatment_em1__prediction_on_control  treatment_em1__uplift    uplift  \\\n",
       "0                              0.213610               0.103743  0.103743   \n",
       "1                              0.103496              -0.018096 -0.018096   \n",
       "2                              0.323287               0.212240  0.212240   \n",
       "3                              0.083644               0.017960  0.017960   \n",
       "4                              0.032904               0.049591  0.049591   \n",
       "\n",
       "  suggested_treatment  \n",
       "0       treatment_em1  \n",
       "1             control  \n",
       "2       treatment_em1  \n",
       "3       treatment_em1  \n",
       "4       treatment_em1  "
      ]
     },
     "execution_count": 18,
     "metadata": {},
     "output_type": "execute_result"
    }
   ],
   "source": [
    "s_learner_test_df.head()"
   ]
  },
  {
   "cell_type": "markdown",
   "id": "e91932df",
   "metadata": {},
   "source": [
    "**Create Random Score**"
   ]
  },
  {
   "cell_type": "markdown",
   "id": "65c4abb2",
   "metadata": {},
   "source": [
    "Let's also create a random score that can be used to compute the Cumulative Gain curve."
   ]
  },
  {
   "cell_type": "code",
   "execution_count": 19,
   "id": "59464b2a",
   "metadata": {
    "ExecuteTime": {
     "end_time": "2022-08-01T21:08:56.162206Z",
     "start_time": "2022-08-01T21:08:56.157333Z"
    }
   },
   "outputs": [],
   "source": [
    "random_score_df = test_data[[\"em1\", target_column]].copy()\n",
    "random_score_df[\"uplift\"] = np.random.uniform(0,1,random_score_df.shape[0])"
   ]
  },
  {
   "cell_type": "markdown",
   "id": "14b9711b",
   "metadata": {},
   "source": [
    "**Checking Cumulative Gain Curve**"
   ]
  },
  {
   "cell_type": "markdown",
   "id": "01cf3a2f",
   "metadata": {},
   "source": [
    "For more details, please look at the following reference:\n",
    "\n",
    "https://matheusfacure.github.io/python-causality-handbook/19-Evaluating-Causal-Models.html?highlight=gain%20curve    "
   ]
  },
  {
   "cell_type": "code",
   "execution_count": 20,
   "id": "882160bb",
   "metadata": {
    "ExecuteTime": {
     "end_time": "2022-08-01T21:08:56.167642Z",
     "start_time": "2022-08-01T21:08:56.164515Z"
    }
   },
   "outputs": [],
   "source": [
    "gain_curve = cumulative_gain_curve(\n",
    "    treatment = \"em1\",\n",
    "    outcome = target_column,\n",
    "    prediction = \"uplift\"\n",
    ")"
   ]
  },
  {
   "cell_type": "code",
   "execution_count": 21,
   "id": "23a885b7",
   "metadata": {
    "ExecuteTime": {
     "end_time": "2022-08-01T21:08:56.479996Z",
     "start_time": "2022-08-01T21:08:56.170218Z"
    }
   },
   "outputs": [],
   "source": [
    "gain_curve_train = gain_curve(s_learner_train_df)\n",
    "gain_curve_test = gain_curve(s_learner_test_df)\n",
    "gain_curve_random = gain_curve(random_score_df)"
   ]
  },
  {
   "cell_type": "code",
   "execution_count": 22,
   "id": "180540bb",
   "metadata": {
    "ExecuteTime": {
     "end_time": "2022-08-01T21:08:56.695829Z",
     "start_time": "2022-08-01T21:08:56.481931Z"
    }
   },
   "outputs": [
    {
     "data": {
      "image/png": "[encoded data removed]",
      "text/plain": [
       "<Figure size 1080x360 with 1 Axes>"
      ]
     },
     "metadata": {
      "needs_background": "light"
     },
     "output_type": "display_data"
    }
   ],
   "source": [
    "plot_cumulative_gain_curve(\n",
    "    train_gain = gain_curve_train,\n",
    "    test_gain = gain_curve_test,\n",
    "    random_gain = gain_curve_random\n",
    ")"
   ]
  },
  {
   "cell_type": "markdown",
   "id": "e134cffc",
   "metadata": {},
   "source": [
    "#### 4.2 Using S-Learner with Fklearn Pipeline"
   ]
  },
  {
   "cell_type": "code",
   "execution_count": 23,
   "id": "20282b7c",
   "metadata": {
    "ExecuteTime": {
     "end_time": "2022-08-01T21:08:56.701600Z",
     "start_time": "2022-08-01T21:08:56.698546Z"
    }
   },
   "outputs": [],
   "source": [
    "cdf = ecdfer(\n",
    "    prediction_column=\"uplift\"\n",
    ")"
   ]
  },
  {
   "cell_type": "code",
   "execution_count": 24,
   "id": "39179c9a",
   "metadata": {
    "ExecuteTime": {
     "end_time": "2022-08-01T21:08:56.705705Z",
     "start_time": "2022-08-01T21:08:56.703511Z"
    }
   },
   "outputs": [],
   "source": [
    "pipeline = build_pipeline(\n",
    "    *[s_learner, cdf]\n",
    ")"
   ]
  },
  {
   "cell_type": "code",
   "execution_count": 25,
   "id": "63fbafe3",
   "metadata": {
    "ExecuteTime": {
     "end_time": "2022-08-01T21:08:56.885605Z",
     "start_time": "2022-08-01T21:08:56.707835Z"
    }
   },
   "outputs": [
    {
     "name": "stdout",
     "output_type": "stream",
     "text": [
      "[LightGBM] [Info] Number of positive: 3007, number of negative: 11993\n",
      "[LightGBM] [Warning] Auto-choosing col-wise multi-threading, the overhead of testing was 0.000533 seconds.\n",
      "You can set `force_col_wise=true` to remove the overhead.\n",
      "[LightGBM] [Info] Total Bins 996\n",
      "[LightGBM] [Info] Number of data points in the train set: 15000, number of used features: 5\n",
      "[LightGBM] [Info] [binary:BoostFromScore]: pavg=0.200467 -> initscore=-1.383380\n",
      "[LightGBM] [Info] Start training from score -1.383380\n"
     ]
    }
   ],
   "source": [
    "pipe_fcn, pipe_train_df, pipe_log = pipeline(\n",
    "    train_data\n",
    ")"
   ]
  },
  {
   "cell_type": "code",
   "execution_count": 26,
   "id": "85320ce1",
   "metadata": {
    "ExecuteTime": {
     "end_time": "2022-08-01T21:08:56.901902Z",
     "start_time": "2022-08-01T21:08:56.887944Z"
    }
   },
   "outputs": [
    {
     "data": {
      "text/html": [
       "<div>\n",
       "<style scoped>\n",
       "    .dataframe tbody tr th:only-of-type {\n",
       "        vertical-align: middle;\n",
       "    }\n",
       "\n",
       "    .dataframe tbody tr th {\n",
       "        vertical-align: top;\n",
       "    }\n",
       "\n",
       "    .dataframe thead th {\n",
       "        text-align: right;\n",
       "    }\n",
       "</style>\n",
       "<table border=\"1\" class=\"dataframe\">\n",
       "  <thead>\n",
       "    <tr style=\"text-align: right;\">\n",
       "      <th></th>\n",
       "      <th>age</th>\n",
       "      <th>income</th>\n",
       "      <th>insurance</th>\n",
       "      <th>invested</th>\n",
       "      <th>em1</th>\n",
       "      <th>em2</th>\n",
       "      <th>em3</th>\n",
       "      <th>converted</th>\n",
       "      <th>treatment_col</th>\n",
       "      <th>treatment_em1__prediction_on_treatment</th>\n",
       "      <th>treatment_em1__prediction_on_control</th>\n",
       "      <th>treatment_em1__uplift</th>\n",
       "      <th>uplift</th>\n",
       "      <th>suggested_treatment</th>\n",
       "      <th>prediction_ecdf</th>\n",
       "    </tr>\n",
       "  </thead>\n",
       "  <tbody>\n",
       "    <tr>\n",
       "      <th>0</th>\n",
       "      <td>44.1</td>\n",
       "      <td>5483.80</td>\n",
       "      <td>6155.29</td>\n",
       "      <td>14294.81</td>\n",
       "      <td>0</td>\n",
       "      <td>0</td>\n",
       "      <td>1</td>\n",
       "      <td>0</td>\n",
       "      <td>control</td>\n",
       "      <td>0.317353</td>\n",
       "      <td>0.213610</td>\n",
       "      <td>0.103743</td>\n",
       "      <td>0.103743</td>\n",
       "      <td>treatment_em1</td>\n",
       "      <td>705.533333</td>\n",
       "    </tr>\n",
       "    <tr>\n",
       "      <th>1</th>\n",
       "      <td>39.8</td>\n",
       "      <td>2737.92</td>\n",
       "      <td>50069.40</td>\n",
       "      <td>7468.15</td>\n",
       "      <td>1</td>\n",
       "      <td>0</td>\n",
       "      <td>0</td>\n",
       "      <td>0</td>\n",
       "      <td>em1</td>\n",
       "      <td>0.085400</td>\n",
       "      <td>0.103496</td>\n",
       "      <td>-0.018096</td>\n",
       "      <td>-0.018096</td>\n",
       "      <td>control</td>\n",
       "      <td>29.866667</td>\n",
       "    </tr>\n",
       "    <tr>\n",
       "      <th>2</th>\n",
       "      <td>49.0</td>\n",
       "      <td>2712.51</td>\n",
       "      <td>5707.08</td>\n",
       "      <td>5095.65</td>\n",
       "      <td>0</td>\n",
       "      <td>0</td>\n",
       "      <td>1</td>\n",
       "      <td>1</td>\n",
       "      <td>control</td>\n",
       "      <td>0.535527</td>\n",
       "      <td>0.323287</td>\n",
       "      <td>0.212240</td>\n",
       "      <td>0.212240</td>\n",
       "      <td>treatment_em1</td>\n",
       "      <td>924.933333</td>\n",
       "    </tr>\n",
       "    <tr>\n",
       "      <th>3</th>\n",
       "      <td>39.7</td>\n",
       "      <td>2326.37</td>\n",
       "      <td>15657.97</td>\n",
       "      <td>6345.20</td>\n",
       "      <td>0</td>\n",
       "      <td>0</td>\n",
       "      <td>0</td>\n",
       "      <td>0</td>\n",
       "      <td>control</td>\n",
       "      <td>0.101604</td>\n",
       "      <td>0.083644</td>\n",
       "      <td>0.017960</td>\n",
       "      <td>0.017960</td>\n",
       "      <td>treatment_em1</td>\n",
       "      <td>131.333333</td>\n",
       "    </tr>\n",
       "    <tr>\n",
       "      <th>4</th>\n",
       "      <td>35.3</td>\n",
       "      <td>2787.26</td>\n",
       "      <td>27074.44</td>\n",
       "      <td>14114.86</td>\n",
       "      <td>1</td>\n",
       "      <td>1</td>\n",
       "      <td>0</td>\n",
       "      <td>0</td>\n",
       "      <td>em1</td>\n",
       "      <td>0.082496</td>\n",
       "      <td>0.032904</td>\n",
       "      <td>0.049591</td>\n",
       "      <td>0.049591</td>\n",
       "      <td>treatment_em1</td>\n",
       "      <td>378.600000</td>\n",
       "    </tr>\n",
       "  </tbody>\n",
       "</table>\n",
       "</div>"
      ],
      "text/plain": [
       "    age   income  insurance  invested  em1  em2  em3  converted treatment_col  \\\n",
       "0  44.1  5483.80    6155.29  14294.81    0    0    1          0       control   \n",
       "1  39.8  2737.92   50069.40   7468.15    1    0    0          0           em1   \n",
       "2  49.0  2712.51    5707.08   5095.65    0    0    1          1       control   \n",
       "3  39.7  2326.37   15657.97   6345.20    0    0    0          0       control   \n",
       "4  35.3  2787.26   27074.44  14114.86    1    1    0          0           em1   \n",
       "\n",
       "   treatment_em1__prediction_on_treatment  \\\n",
       "0                                0.317353   \n",
       "1                                0.085400   \n",
       "2                                0.535527   \n",
       "3                                0.101604   \n",
       "4                                0.082496   \n",
       "\n",
       "   treatment_em1__prediction_on_control  treatment_em1__uplift    uplift  \\\n",
       "0                              0.213610               0.103743  0.103743   \n",
       "1                              0.103496              -0.018096 -0.018096   \n",
       "2                              0.323287               0.212240  0.212240   \n",
       "3                              0.083644               0.017960  0.017960   \n",
       "4                              0.032904               0.049591  0.049591   \n",
       "\n",
       "  suggested_treatment  prediction_ecdf  \n",
       "0       treatment_em1       705.533333  \n",
       "1             control        29.866667  \n",
       "2       treatment_em1       924.933333  \n",
       "3       treatment_em1       131.333333  \n",
       "4       treatment_em1       378.600000  "
      ]
     },
     "execution_count": 26,
     "metadata": {},
     "output_type": "execute_result"
    }
   ],
   "source": [
    "pipe_train_df.head()"
   ]
  },
  {
   "cell_type": "code",
   "execution_count": 27,
   "id": "23e5b9a5",
   "metadata": {
    "ExecuteTime": {
     "end_time": "2022-08-01T21:08:57.152815Z",
     "start_time": "2022-08-01T21:08:56.904019Z"
    }
   },
   "outputs": [
    {
     "data": {
      "image/png": "[encoded data removed]",
      "text/plain": [
       "<Figure size 432x288 with 1 Axes>"
      ]
     },
     "metadata": {
      "needs_background": "light"
     },
     "output_type": "display_data"
    }
   ],
   "source": [
    "pipe_train_df[\"uplift\"].hist(bins=50);\n",
    "plt.title(\"Uplift Score Distribution\", fontsize=16);\n",
    "plt.xticks(fontsize=16);\n",
    "plt.yticks(fontsize=16);"
   ]
  },
  {
   "cell_type": "code",
   "execution_count": 28,
   "id": "9aa19411",
   "metadata": {
    "ExecuteTime": {
     "end_time": "2022-08-01T21:08:57.400824Z",
     "start_time": "2022-08-01T21:08:57.162068Z"
    }
   },
   "outputs": [
    {
     "data": {
      "image/png": "[encoded data removed]",
      "text/plain": [
       "<Figure size 432x288 with 1 Axes>"
      ]
     },
     "metadata": {
      "needs_background": "light"
     },
     "output_type": "display_data"
    }
   ],
   "source": [
    "pipe_train_df[\"treatment_em1__prediction_on_control\"].hist(bins=50);\n",
    "plt.title(\"LightGBM Prediction Distribution\", fontsize=16);\n",
    "plt.xticks(fontsize=16);\n",
    "plt.yticks(fontsize=16);"
   ]
  },
  {
   "cell_type": "markdown",
   "id": "fddd9775",
   "metadata": {},
   "source": [
    "**Checking Gain Curve with ECDF**"
   ]
  },
  {
   "cell_type": "code",
   "execution_count": 29,
   "id": "1e647a3f",
   "metadata": {
    "ExecuteTime": {
     "end_time": "2022-08-01T21:08:57.405122Z",
     "start_time": "2022-08-01T21:08:57.402884Z"
    }
   },
   "outputs": [],
   "source": [
    "gain_curve = cumulative_gain_curve(\n",
    "    treatment = \"em1\",\n",
    "    outcome = target_column,\n",
    "    prediction = \"prediction_ecdf\"\n",
    ")"
   ]
  },
  {
   "cell_type": "code",
   "execution_count": 30,
   "id": "d7d0fef6",
   "metadata": {
    "ExecuteTime": {
     "end_time": "2022-08-01T21:08:57.536943Z",
     "start_time": "2022-08-01T21:08:57.406693Z"
    }
   },
   "outputs": [],
   "source": [
    "pipeline_train_df = pipe_fcn(train_data)\n",
    "pipeline_test_df = pipe_fcn(test_data)"
   ]
  },
  {
   "cell_type": "code",
   "execution_count": 31,
   "id": "e4ea5e86",
   "metadata": {
    "ExecuteTime": {
     "end_time": "2022-08-01T21:08:57.747225Z",
     "start_time": "2022-08-01T21:08:57.539511Z"
    }
   },
   "outputs": [],
   "source": [
    "gain_curve_train = gain_curve(pipeline_train_df)\n",
    "gain_curve_test = gain_curve(pipeline_test_df)"
   ]
  },
  {
   "cell_type": "code",
   "execution_count": 32,
   "id": "f4520bd9",
   "metadata": {
    "ExecuteTime": {
     "end_time": "2022-08-01T21:08:57.939012Z",
     "start_time": "2022-08-01T21:08:57.749300Z"
    }
   },
   "outputs": [
    {
     "data": {
      "image/png": "[encoded data removed]",
      "text/plain": [
       "<Figure size 1080x360 with 1 Axes>"
      ]
     },
     "metadata": {
      "needs_background": "light"
     },
     "output_type": "display_data"
    }
   ],
   "source": [
    "plot_cumulative_gain_curve(\n",
    "    train_gain = gain_curve_train,\n",
    "    test_gain = gain_curve_test,\n",
    "    random_gain = gain_curve_random\n",
    ")"
   ]
  },
  {
   "cell_type": "markdown",
   "id": "b0681172",
   "metadata": {},
   "source": [
    "#### 4.3 Build S-learner Using Lightgbm with Isotonic Calibration"
   ]
  },
  {
   "cell_type": "code",
   "execution_count": 33,
   "id": "31fe0afa",
   "metadata": {
    "ExecuteTime": {
     "end_time": "2022-08-01T21:08:57.944825Z",
     "start_time": "2022-08-01T21:08:57.941394Z"
    }
   },
   "outputs": [],
   "source": [
    "clf_learner = lgbm_classification_learner(\n",
    "    features = features,\n",
    "    target = target_column,\n",
    "    prediction_column = prediction_column\n",
    ")"
   ]
  },
  {
   "cell_type": "code",
   "execution_count": 34,
   "id": "85c26b9c",
   "metadata": {
    "ExecuteTime": {
     "end_time": "2022-08-01T21:08:57.950805Z",
     "start_time": "2022-08-01T21:08:57.947489Z"
    }
   },
   "outputs": [],
   "source": [
    "calibrator = isotonic_calibration_learner(\n",
    "    target_column=target_column,\n",
    "    prediction_column=prediction_column,\n",
    "    output_column=\"calibration_prediction\"\n",
    ")"
   ]
  },
  {
   "cell_type": "code",
   "execution_count": 35,
   "id": "98d901c9",
   "metadata": {
    "ExecuteTime": {
     "end_time": "2022-08-01T21:08:57.955102Z",
     "start_time": "2022-08-01T21:08:57.952772Z"
    }
   },
   "outputs": [],
   "source": [
    "s_learner = causal_s_classification_learner(\n",
    "    treatment_col=treatment_column,\n",
    "    control_name=control_name,\n",
    "    prediction_column=\"calibration_prediction\",\n",
    "    learner=clf_learner,\n",
    "    learner_transformers=[calibrator]\n",
    ")"
   ]
  },
  {
   "cell_type": "code",
   "execution_count": 36,
   "id": "082c39a7",
   "metadata": {
    "ExecuteTime": {
     "end_time": "2022-08-01T21:08:57.959571Z",
     "start_time": "2022-08-01T21:08:57.957001Z"
    }
   },
   "outputs": [],
   "source": [
    "cdf = ecdfer(\n",
    "    prediction_column=\"uplift\"\n",
    ")"
   ]
  },
  {
   "cell_type": "code",
   "execution_count": 37,
   "id": "f643642a",
   "metadata": {
    "ExecuteTime": {
     "end_time": "2022-08-01T21:08:57.964743Z",
     "start_time": "2022-08-01T21:08:57.961573Z"
    }
   },
   "outputs": [],
   "source": [
    "pipeline = build_pipeline(\n",
    "    *[s_learner, cdf]\n",
    ")"
   ]
  },
  {
   "cell_type": "code",
   "execution_count": 38,
   "id": "a1e9f9e5",
   "metadata": {
    "ExecuteTime": {
     "end_time": "2022-08-01T21:08:58.188382Z",
     "start_time": "2022-08-01T21:08:57.968255Z"
    }
   },
   "outputs": [
    {
     "name": "stdout",
     "output_type": "stream",
     "text": [
      "[LightGBM] [Info] Number of positive: 3007, number of negative: 11993\n",
      "[LightGBM] [Warning] Auto-choosing col-wise multi-threading, the overhead of testing was 0.000602 seconds.\n",
      "You can set `force_col_wise=true` to remove the overhead.\n",
      "[LightGBM] [Info] Total Bins 996\n",
      "[LightGBM] [Info] Number of data points in the train set: 15000, number of used features: 5\n",
      "[LightGBM] [Info] [binary:BoostFromScore]: pavg=0.200467 -> initscore=-1.383380\n",
      "[LightGBM] [Info] Start training from score -1.383380\n"
     ]
    }
   ],
   "source": [
    "pipe_fcn, pipe_train_df, pipe_log = pipeline(\n",
    "    train_data\n",
    ")"
   ]
  },
  {
   "cell_type": "code",
   "execution_count": 39,
   "id": "916bdb1e",
   "metadata": {
    "ExecuteTime": {
     "end_time": "2022-08-01T21:08:58.205741Z",
     "start_time": "2022-08-01T21:08:58.190857Z"
    }
   },
   "outputs": [
    {
     "data": {
      "text/html": [
       "<div>\n",
       "<style scoped>\n",
       "    .dataframe tbody tr th:only-of-type {\n",
       "        vertical-align: middle;\n",
       "    }\n",
       "\n",
       "    .dataframe tbody tr th {\n",
       "        vertical-align: top;\n",
       "    }\n",
       "\n",
       "    .dataframe thead th {\n",
       "        text-align: right;\n",
       "    }\n",
       "</style>\n",
       "<table border=\"1\" class=\"dataframe\">\n",
       "  <thead>\n",
       "    <tr style=\"text-align: right;\">\n",
       "      <th></th>\n",
       "      <th>age</th>\n",
       "      <th>income</th>\n",
       "      <th>insurance</th>\n",
       "      <th>invested</th>\n",
       "      <th>em1</th>\n",
       "      <th>em2</th>\n",
       "      <th>em3</th>\n",
       "      <th>converted</th>\n",
       "      <th>treatment_col</th>\n",
       "      <th>treatment_em1__calibration_prediction_on_treatment</th>\n",
       "      <th>treatment_em1__calibration_prediction_on_control</th>\n",
       "      <th>treatment_em1__uplift</th>\n",
       "      <th>uplift</th>\n",
       "      <th>suggested_treatment</th>\n",
       "      <th>prediction_ecdf</th>\n",
       "    </tr>\n",
       "  </thead>\n",
       "  <tbody>\n",
       "    <tr>\n",
       "      <th>0</th>\n",
       "      <td>44.1</td>\n",
       "      <td>5483.80</td>\n",
       "      <td>6155.29</td>\n",
       "      <td>14294.81</td>\n",
       "      <td>0</td>\n",
       "      <td>0</td>\n",
       "      <td>1</td>\n",
       "      <td>0</td>\n",
       "      <td>control</td>\n",
       "      <td>0.495652</td>\n",
       "      <td>0.179487</td>\n",
       "      <td>0.316165</td>\n",
       "      <td>0.316165</td>\n",
       "      <td>treatment_em1</td>\n",
       "      <td>765.933333</td>\n",
       "    </tr>\n",
       "    <tr>\n",
       "      <th>1</th>\n",
       "      <td>39.8</td>\n",
       "      <td>2737.92</td>\n",
       "      <td>50069.40</td>\n",
       "      <td>7468.15</td>\n",
       "      <td>1</td>\n",
       "      <td>0</td>\n",
       "      <td>0</td>\n",
       "      <td>0</td>\n",
       "      <td>em1</td>\n",
       "      <td>0.002841</td>\n",
       "      <td>0.015385</td>\n",
       "      <td>-0.012544</td>\n",
       "      <td>-0.012544</td>\n",
       "      <td>control</td>\n",
       "      <td>39.666667</td>\n",
       "    </tr>\n",
       "    <tr>\n",
       "      <th>2</th>\n",
       "      <td>49.0</td>\n",
       "      <td>2712.51</td>\n",
       "      <td>5707.08</td>\n",
       "      <td>5095.65</td>\n",
       "      <td>0</td>\n",
       "      <td>0</td>\n",
       "      <td>1</td>\n",
       "      <td>1</td>\n",
       "      <td>control</td>\n",
       "      <td>0.911894</td>\n",
       "      <td>0.517483</td>\n",
       "      <td>0.394412</td>\n",
       "      <td>0.394412</td>\n",
       "      <td>treatment_em1</td>\n",
       "      <td>853.400000</td>\n",
       "    </tr>\n",
       "    <tr>\n",
       "      <th>3</th>\n",
       "      <td>39.7</td>\n",
       "      <td>2326.37</td>\n",
       "      <td>15657.97</td>\n",
       "      <td>6345.20</td>\n",
       "      <td>0</td>\n",
       "      <td>0</td>\n",
       "      <td>0</td>\n",
       "      <td>0</td>\n",
       "      <td>control</td>\n",
       "      <td>0.015385</td>\n",
       "      <td>0.002841</td>\n",
       "      <td>0.012544</td>\n",
       "      <td>0.012544</td>\n",
       "      <td>treatment_em1</td>\n",
       "      <td>143.266667</td>\n",
       "    </tr>\n",
       "    <tr>\n",
       "      <th>4</th>\n",
       "      <td>35.3</td>\n",
       "      <td>2787.26</td>\n",
       "      <td>27074.44</td>\n",
       "      <td>14114.86</td>\n",
       "      <td>1</td>\n",
       "      <td>1</td>\n",
       "      <td>0</td>\n",
       "      <td>0</td>\n",
       "      <td>em1</td>\n",
       "      <td>0.002146</td>\n",
       "      <td>0.000000</td>\n",
       "      <td>0.002146</td>\n",
       "      <td>0.002146</td>\n",
       "      <td>treatment_em1</td>\n",
       "      <td>107.333333</td>\n",
       "    </tr>\n",
       "  </tbody>\n",
       "</table>\n",
       "</div>"
      ],
      "text/plain": [
       "    age   income  insurance  invested  em1  em2  em3  converted treatment_col  \\\n",
       "0  44.1  5483.80    6155.29  14294.81    0    0    1          0       control   \n",
       "1  39.8  2737.92   50069.40   7468.15    1    0    0          0           em1   \n",
       "2  49.0  2712.51    5707.08   5095.65    0    0    1          1       control   \n",
       "3  39.7  2326.37   15657.97   6345.20    0    0    0          0       control   \n",
       "4  35.3  2787.26   27074.44  14114.86    1    1    0          0           em1   \n",
       "\n",
       "   treatment_em1__calibration_prediction_on_treatment  \\\n",
       "0                                           0.495652    \n",
       "1                                           0.002841    \n",
       "2                                           0.911894    \n",
       "3                                           0.015385    \n",
       "4                                           0.002146    \n",
       "\n",
       "   treatment_em1__calibration_prediction_on_control  treatment_em1__uplift  \\\n",
       "0                                          0.179487               0.316165   \n",
       "1                                          0.015385              -0.012544   \n",
       "2                                          0.517483               0.394412   \n",
       "3                                          0.002841               0.012544   \n",
       "4                                          0.000000               0.002146   \n",
       "\n",
       "     uplift suggested_treatment  prediction_ecdf  \n",
       "0  0.316165       treatment_em1       765.933333  \n",
       "1 -0.012544             control        39.666667  \n",
       "2  0.394412       treatment_em1       853.400000  \n",
       "3  0.012544       treatment_em1       143.266667  \n",
       "4  0.002146       treatment_em1       107.333333  "
      ]
     },
     "execution_count": 39,
     "metadata": {},
     "output_type": "execute_result"
    }
   ],
   "source": [
    "pipe_train_df.head()"
   ]
  },
  {
   "cell_type": "code",
   "execution_count": 40,
   "id": "184affaf",
   "metadata": {
    "ExecuteTime": {
     "end_time": "2022-08-01T21:08:58.442712Z",
     "start_time": "2022-08-01T21:08:58.208095Z"
    }
   },
   "outputs": [
    {
     "data": {
      "image/png": "[encoded data removed]",
      "text/plain": [
       "<Figure size 432x288 with 1 Axes>"
      ]
     },
     "metadata": {
      "needs_background": "light"
     },
     "output_type": "display_data"
    }
   ],
   "source": [
    "pipe_train_df[\"uplift\"].hist(bins=50);\n",
    "plt.title(\"Uplift with Calibrated LightGBM Distribution\", fontsize=16);\n",
    "plt.xticks(fontsize=16);\n",
    "plt.yticks(fontsize=16);"
   ]
  },
  {
   "cell_type": "code",
   "execution_count": 41,
   "id": "7b000797",
   "metadata": {
    "ExecuteTime": {
     "end_time": "2022-08-01T21:08:58.608206Z",
     "start_time": "2022-08-01T21:08:58.445068Z"
    }
   },
   "outputs": [
    {
     "data": {
      "image/png": "[encoded data removed]",
      "text/plain": [
       "<Figure size 432x288 with 1 Axes>"
      ]
     },
     "metadata": {
      "needs_background": "light"
     },
     "output_type": "display_data"
    }
   ],
   "source": [
    "pipe_train_df[\"treatment_em1__calibration_prediction_on_control\"].hist(bins=10);\n",
    "plt.title(\"Calibrated LightGBM Prediction Distribution\", fontsize=16);\n",
    "plt.xticks(fontsize=16);\n",
    "plt.yticks(fontsize=16);"
   ]
  },
  {
   "cell_type": "markdown",
   "id": "53447ae7",
   "metadata": {},
   "source": [
    "**Checking Gain Curve with ECDF**"
   ]
  },
  {
   "cell_type": "code",
   "execution_count": 42,
   "id": "c8a7f742",
   "metadata": {
    "ExecuteTime": {
     "end_time": "2022-08-01T21:08:58.613042Z",
     "start_time": "2022-08-01T21:08:58.610279Z"
    }
   },
   "outputs": [],
   "source": [
    "gain_curve = cumulative_gain_curve(\n",
    "    treatment = \"em1\",\n",
    "    outcome = target_column,\n",
    "    prediction = \"prediction_ecdf\"\n",
    ")"
   ]
  },
  {
   "cell_type": "code",
   "execution_count": 43,
   "id": "1e325087",
   "metadata": {
    "ExecuteTime": {
     "end_time": "2022-08-01T21:08:58.755011Z",
     "start_time": "2022-08-01T21:08:58.614934Z"
    }
   },
   "outputs": [],
   "source": [
    "pipeline_train_df = pipe_fcn(train_data)\n",
    "pipeline_test_df = pipe_fcn(test_data)"
   ]
  },
  {
   "cell_type": "code",
   "execution_count": 44,
   "id": "3a037aab",
   "metadata": {
    "ExecuteTime": {
     "end_time": "2022-08-01T21:08:58.968608Z",
     "start_time": "2022-08-01T21:08:58.757109Z"
    }
   },
   "outputs": [],
   "source": [
    "gain_curve_train = gain_curve(pipeline_train_df)\n",
    "gain_curve_test = gain_curve(pipeline_test_df)"
   ]
  },
  {
   "cell_type": "code",
   "execution_count": 45,
   "id": "e7c33e83",
   "metadata": {
    "ExecuteTime": {
     "end_time": "2022-08-01T21:08:59.164538Z",
     "start_time": "2022-08-01T21:08:58.970696Z"
    }
   },
   "outputs": [
    {
     "data": {
      "image/png": "[encoded data removed]",
      "text/plain": [
       "<Figure size 1080x360 with 1 Axes>"
      ]
     },
     "metadata": {
      "needs_background": "light"
     },
     "output_type": "display_data"
    }
   ],
   "source": [
    "plot_cumulative_gain_curve(\n",
    "    train_gain = gain_curve_train,\n",
    "    test_gain = gain_curve_test,\n",
    "    random_gain = gain_curve_random\n",
    ")"
   ]
  }
 ],
 "metadata": {
  "kernelspec": {
   "display_name": "Python [conda env:mkt-ai]",
   "language": "python",
   "name": "conda-env-mkt-ai-py"
  },
  "language_info": {
   "codemirror_mode": {
    "name": "ipython",
    "version": 3
   },
   "file_extension": ".py",
   "mimetype": "text/x-python",
   "name": "python",
   "nbconvert_exporter": "python",
   "pygments_lexer": "ipython3",
   "version": "3.10.4"
  },
  "toc": {
   "base_numbering": 1,
   "nav_menu": {},
   "number_sections": false,
   "sideBar": true,
   "skip_h1_title": false,
   "title_cell": "Table of Contents",
   "title_sidebar": "Contents",
   "toc_cell": false,
   "toc_position": {},
   "toc_section_display": true,
   "toc_window_display": false
  },
  "varInspector": {
   "cols": {
    "lenName": 16,
    "lenType": 16,
    "lenVar": 40
   },
   "kernels_config": {
    "python": {
     "delete_cmd_postfix": "",
     "delete_cmd_prefix": "del ",
     "library": "var_list.py",
     "varRefreshCmd": "print(var_dic_list())"
    },
    "r": {
     "delete_cmd_postfix": ") ",
     "delete_cmd_prefix": "rm(",
     "library": "var_list.r",
     "varRefreshCmd": "cat(var_dic_list()) "
    }
   },
   "types_to_exclude": [
    "module",
    "function",
    "builtin_function_or_method",
    "instance",
    "_Feature"
   ],
   "window_display": false
  }
 },
 "nbformat": 4,
 "nbformat_minor": 5
}
