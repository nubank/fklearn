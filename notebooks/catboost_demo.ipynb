{
 "cells": [
  {
   "cell_type": "code",
   "execution_count": 1,
   "metadata": {},
   "outputs": [],
   "source": [
    "import toolz as fp\n",
    "import pandas as pd\n",
    "import numpy as np\n",
    "from matplotlib import pyplot as plt\n",
    "import numpy.random as random\n",
    "import sys\n",
    "from importlib import reload\n",
    "import shap\n",
    "\n",
    "def reload_all(target):\n",
    "    list(fp.map(lambda y: reload(sys.modules[y]) if sys.modules[y] else None, list(fp.remove(lambda x: target not in x, sys.modules.keys()))))"
   ]
  },
  {
   "cell_type": "code",
   "execution_count": 2,
   "metadata": {},
   "outputs": [],
   "source": [
    "reload_all('fklearn')"
   ]
  },
  {
   "cell_type": "code",
   "execution_count": 3,
   "metadata": {},
   "outputs": [
    {
     "name": "stderr",
     "output_type": "stream",
     "text": [
      "/home/victor/anaconda3/lib/python3.7/site-packages/tqdm/autonotebook/__init__.py:14: TqdmExperimentalWarning: Using `tqdm.autonotebook.tqdm` in notebook mode. Use `tqdm.tqdm` instead to force console mode (e.g. in jupyter console)\n",
      "  \" (e.g. in jupyter console)\", TqdmExperimentalWarning)\n"
     ]
    }
   ],
   "source": [
    "from fklearn.training.transformation import capper, floorer, prediction_ranger\n",
    "from fklearn.training.pipeline import build_pipeline"
   ]
  },
  {
   "cell_type": "code",
   "execution_count": 4,
   "metadata": {},
   "outputs": [],
   "source": [
    "from fklearn.validation.evaluators import mean_prediction_evaluator, r2_evaluator, mse_evaluator, combined_evaluators\n",
    "from fklearn.validation.validator import validator\n",
    "from fklearn.validation.splitters import k_fold_splitter, out_of_time_and_space_splitter\n",
    "from fklearn.metrics.pd_extractors import evaluator_extractor as pd_evaluator_extractor, extract as pd_extract, \\\n",
    "                                        reverse_learning_curve_evaluator_extractor, evaluator_extractor, extract ## different from pd_extractor"
   ]
  },
  {
   "cell_type": "markdown",
   "metadata": {},
   "source": [
    "# Training and Evaluating Simple Model"
   ]
  },
  {
   "cell_type": "markdown",
   "metadata": {},
   "source": [
    "### Generate data"
   ]
  },
  {
   "cell_type": "code",
   "execution_count": 5,
   "metadata": {},
   "outputs": [],
   "source": [
    "random.seed(131)\n",
    "dates = pd.DataFrame( {\"score_date\": pd.date_range(\"2016-01-01\", \"2016-12-31\")} )\n",
    "ids = pd.DataFrame( {\"id\": np.arange(0, 100)} )\n",
    "\n",
    "# make keys for cross join\n",
    "dates[\"key\"] = 1\n",
    "ids[\"key\"] = 1\n",
    "\n",
    "data = pd.merge(ids, dates).drop(\"key\", axis=1)\n",
    "\n",
    "data[\"x1\"] = 23*random.randn(data.shape[0]) + 500\n",
    "data[\"x2\"] = 59*random.randn(data.shape[0]) + 235\n",
    "# Noise Feature\n",
    "data[\"x3\"] = 73*random.randn(data.shape[0]) + 793\n",
    "data[\"y\"] = 0.37 * data[\"x1\"] +\\\n",
    "            0.97*data[\"x2\"] + 0.32*data[\"x2\"]**2 -\\\n",
    "            5 * data[\"id\"] * 0.2 +\\\n",
    "            np.cos(pd.to_datetime(data[\"score_date\"]).astype(int) * 200) * 20\n",
    "            \n",
    "# inject NaNs\n",
    "nan_idx = np.random.randint(0, data.shape[0], size=100)\n",
    "data.loc[nan_idx, \"x1\"] = np.nan\n",
    "\n",
    "nan_idx = np.random.randint(0, data.shape[0], size=100)\n",
    "data.loc[nan_idx, \"x2\"] = np.nan"
   ]
  },
  {
   "cell_type": "code",
   "execution_count": 6,
   "metadata": {},
   "outputs": [
    {
     "data": {
      "text/html": [
       "<div>\n",
       "<style scoped>\n",
       "    .dataframe tbody tr th:only-of-type {\n",
       "        vertical-align: middle;\n",
       "    }\n",
       "\n",
       "    .dataframe tbody tr th {\n",
       "        vertical-align: top;\n",
       "    }\n",
       "\n",
       "    .dataframe thead th {\n",
       "        text-align: right;\n",
       "    }\n",
       "</style>\n",
       "<table border=\"1\" class=\"dataframe\">\n",
       "  <thead>\n",
       "    <tr style=\"text-align: right;\">\n",
       "      <th></th>\n",
       "      <th>id</th>\n",
       "      <th>score_date</th>\n",
       "      <th>x1</th>\n",
       "      <th>x2</th>\n",
       "      <th>x3</th>\n",
       "      <th>y</th>\n",
       "    </tr>\n",
       "  </thead>\n",
       "  <tbody>\n",
       "    <tr>\n",
       "      <th>0</th>\n",
       "      <td>0</td>\n",
       "      <td>2016-01-01</td>\n",
       "      <td>510.355134</td>\n",
       "      <td>283.921165</td>\n",
       "      <td>790.444246</td>\n",
       "      <td>26239.886697</td>\n",
       "    </tr>\n",
       "    <tr>\n",
       "      <th>1</th>\n",
       "      <td>0</td>\n",
       "      <td>2016-01-02</td>\n",
       "      <td>503.469826</td>\n",
       "      <td>363.195827</td>\n",
       "      <td>653.370214</td>\n",
       "      <td>42767.340728</td>\n",
       "    </tr>\n",
       "    <tr>\n",
       "      <th>2</th>\n",
       "      <td>0</td>\n",
       "      <td>2016-01-03</td>\n",
       "      <td>536.412361</td>\n",
       "      <td>284.165730</td>\n",
       "      <td>746.477652</td>\n",
       "      <td>26306.062249</td>\n",
       "    </tr>\n",
       "    <tr>\n",
       "      <th>3</th>\n",
       "      <td>0</td>\n",
       "      <td>2016-01-04</td>\n",
       "      <td>471.144774</td>\n",
       "      <td>213.844006</td>\n",
       "      <td>830.487358</td>\n",
       "      <td>15011.179520</td>\n",
       "    </tr>\n",
       "    <tr>\n",
       "      <th>4</th>\n",
       "      <td>0</td>\n",
       "      <td>2016-01-05</td>\n",
       "      <td>482.795605</td>\n",
       "      <td>236.722618</td>\n",
       "      <td>841.487464</td>\n",
       "      <td>18354.817603</td>\n",
       "    </tr>\n",
       "  </tbody>\n",
       "</table>\n",
       "</div>"
      ],
      "text/plain": [
       "   id score_date          x1          x2          x3             y\n",
       "0   0 2016-01-01  510.355134  283.921165  790.444246  26239.886697\n",
       "1   0 2016-01-02  503.469826  363.195827  653.370214  42767.340728\n",
       "2   0 2016-01-03  536.412361  284.165730  746.477652  26306.062249\n",
       "3   0 2016-01-04  471.144774  213.844006  830.487358  15011.179520\n",
       "4   0 2016-01-05  482.795605  236.722618  841.487464  18354.817603"
      ]
     },
     "execution_count": 6,
     "metadata": {},
     "output_type": "execute_result"
    }
   ],
   "source": [
    "data.head()"
   ]
  },
  {
   "cell_type": "code",
   "execution_count": 7,
   "metadata": {},
   "outputs": [
    {
     "data": {
      "image/png": "[encoded data removed]",
      "text/plain": [
       "<Figure size 432x288 with 1 Axes>"
      ]
     },
     "metadata": {
      "needs_background": "light"
     },
     "output_type": "display_data"
    }
   ],
   "source": [
    "data[\"y\"][data[\"id\"] == 0].plot()\n",
    "plt.show()"
   ]
  },
  {
   "cell_type": "markdown",
   "metadata": {},
   "source": [
    "### Train Test Split "
   ]
  },
  {
   "cell_type": "code",
   "execution_count": 8,
   "metadata": {},
   "outputs": [],
   "source": [
    "from fklearn.preprocessing.splitting import space_time_split_dataset\n",
    "train_start = \"2016-01-01\"\n",
    "train_end = \"2016-06-30\"\n",
    "holdout_end = \"2016-12-31\"\n",
    "\n",
    "split_fn = space_time_split_dataset(train_start_date=train_start,\n",
    "                                     train_end_date=train_end,\n",
    "                                     holdout_end_date=holdout_end,\n",
    "                                     split_seed=42, space_holdout_percentage=.05,\n",
    "                                     space_column=\"id\", time_column=\"score_date\")"
   ]
  },
  {
   "cell_type": "code",
   "execution_count": 9,
   "metadata": {},
   "outputs": [
    {
     "data": {
      "text/plain": [
       "((17195, 6), (905, 6), (18400, 6), (920, 6))"
      ]
     },
     "execution_count": 9,
     "metadata": {},
     "output_type": "execute_result"
    }
   ],
   "source": [
    "train_set, intime_outspace_hdout, outime_inspace_hdout, outime_outspace_hdout = split_fn(data)\n",
    "\n",
    "train_set.shape, intime_outspace_hdout.shape, outime_inspace_hdout.shape, outime_outspace_hdout.shape"
   ]
  },
  {
   "cell_type": "markdown",
   "metadata": {},
   "source": [
    "### Define learner function"
   ]
  },
  {
   "cell_type": "code",
   "execution_count": 10,
   "metadata": {},
   "outputs": [],
   "source": [
    "FEATURES = [\"x1\", \"x2\", \"x3\"]\n",
    "TARGET = [\"y\"]"
   ]
  },
  {
   "cell_type": "code",
   "execution_count": 11,
   "metadata": {},
   "outputs": [],
   "source": [
    "from fklearn.training.imputation import imputer\n",
    "my_imputer = imputer(columns_to_impute=FEATURES, impute_strategy=\"median\")"
   ]
  },
  {
   "cell_type": "code",
   "execution_count": 12,
   "metadata": {},
   "outputs": [],
   "source": [
    "from fklearn.training.transformation import standard_scaler\n",
    "my_scaler = standard_scaler(columns_to_scale=FEATURES)"
   ]
  },
  {
   "cell_type": "code",
   "execution_count": 13,
   "metadata": {},
   "outputs": [],
   "source": [
    "from fklearn.training.regression import catboost_regressor_learner\n",
    "my_model = catboost_regressor_learner(features=['x1', 'x2', 'x3'], target='y', prediction_column='prediction', extra_params={'random_seed': 139, 'thread_count': 8})"
   ]
  },
  {
   "cell_type": "code",
   "execution_count": 14,
   "metadata": {},
   "outputs": [],
   "source": [
    "reload_all('fklearn')\n",
    "from fklearn.training.transformation import ecdfer\n",
    "my_ecdefer = ecdfer(prediction_column=\"prediction\", ecdf_column=\"prediction_ecdf\")"
   ]
  },
  {
   "cell_type": "code",
   "execution_count": 15,
   "metadata": {},
   "outputs": [],
   "source": [
    "my_learner = build_pipeline(my_imputer, my_scaler, my_model, my_ecdefer)"
   ]
  },
  {
   "cell_type": "markdown",
   "metadata": {},
   "source": [
    "### Train"
   ]
  },
  {
   "cell_type": "code",
   "execution_count": 16,
   "metadata": {},
   "outputs": [],
   "source": [
    "(prediction_function, _, logs) = my_learner(train_set)"
   ]
  },
  {
   "cell_type": "markdown",
   "metadata": {},
   "source": [
    "### Evaluate"
   ]
  },
  {
   "cell_type": "code",
   "execution_count": 17,
   "metadata": {},
   "outputs": [],
   "source": [
    "my_evaluator = combined_evaluators(evaluators=[\n",
    "    mean_prediction_evaluator(prediction_column='prediction'),\n",
    "    r2_evaluator(prediction_column='prediction', target_column='y'),\n",
    "    mse_evaluator(prediction_column='prediction', target_column='y'),\n",
    "])"
   ]
  },
  {
   "cell_type": "code",
   "execution_count": 18,
   "metadata": {},
   "outputs": [],
   "source": [
    "test_predictions = prediction_function(outime_outspace_hdout)"
   ]
  },
  {
   "cell_type": "code",
   "execution_count": 19,
   "metadata": {},
   "outputs": [
    {
     "data": {
      "text/plain": [
       "{'mean_evaluator__prediction': 19555.932935317716,\n",
       " 'r2_evaluator__y': 0.9985154268396046,\n",
       " 'mse_evaluator__y': 114489.46983097984}"
      ]
     },
     "execution_count": 19,
     "metadata": {},
     "output_type": "execute_result"
    }
   ],
   "source": [
    "# first argument (training_data) is optional. Only some kinds of evaluators need it. (e.g. learning curve)\n",
    "# I should probably get rid of it and come up with a better way to pass training information for evaluation\n",
    "my_evaluator(test_predictions)"
   ]
  }
 ],
 "metadata": {
  "kernelspec": {
   "display_name": "Python 3",
   "language": "python",
   "name": "python3"
  },
  "language_info": {
   "codemirror_mode": {
    "name": "ipython",
    "version": 3
   },
   "file_extension": ".py",
   "mimetype": "text/x-python",
   "name": "python",
   "nbconvert_exporter": "python",
   "pygments_lexer": "ipython3",
   "version": "3.7.3"
  }
 },
 "nbformat": 4,
 "nbformat_minor": 2
}
