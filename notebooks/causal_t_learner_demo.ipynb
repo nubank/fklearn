{
 "cells": [
  {
   "cell_type": "markdown",
   "id": "f84aeac6",
   "metadata": {
    "ExecuteTime": {
     "end_time": "2022-08-01T17:38:44.522833Z",
     "start_time": "2022-08-01T17:38:44.516580Z"
    }
   },
   "source": [
    "## Causal T-Learner Classifier\n",
    "\n",
    "### TL; DR\n",
    "---\n",
    "This notebooks exemplifies how one can use the causal T-learner through fklearn.\n",
    "\n",
    "### Long\n",
    "---\n",
    "A very interesting and useful type of causal models are uplift models, in which one is able to identify how each sample responds to a given treatment, and what is the effect of that treatment compared to a control group. The main goal of uplift models is, therefore, to learn the difference in probability of a sample converting (using a product), given that it was submitted to some action (nudge). Meta-learns are examples of causal models, in which the CATE represents how each unit will respond to a given treatment [1]. In fact, the uplift can be understood as the incremental gain in the conversion probability in the case a given sample was in the treatment group instead of the control one. In addition, these models have the advantage of using conventional machine learning models, such as LightGBM.\n",
    "\n",
    "More specifically, the T-Learner is a meta-learner which learns the Conditional Average Treatment Effect (CATE) through the use of multiple models, one for each treatment. Each model is fitted in a subset of the data, according to the treatment. The CATE $\\tau$ is defined as $\\tau(x_{i}) = M_{1}(X=x_{i}, T=1) - M_{0}(X=x_{i}, T=0)$, being $M_{1}$ a model fitted with treatment data and $M_{0}$ a model fitted with control data, and they can be a Machine Learning Model such as a LightGBM Classifier and $x_{i}$ the feature set of sample $i$.\n",
    "\n",
    "### Data\n",
    "---\n",
    "The data here adopted is provided in [1], [2].\n",
    "\n",
    "### References\n",
    "---\n",
    "\n",
    "[1] https://matheusfacure.github.io/python-causality-handbook/21-Meta-Learners.html\n",
    "\n",
    "[2] https://github.com/matheusfacure/python-causality-handbook/tree/master/causal-inference-for-the-brave-and-true/data\n",
    "\n",
    "[3] https://causalml.readthedocs.io/en/latest/methodology.html"
   ]
  },
  {
   "cell_type": "markdown",
   "id": "651c52e1",
   "metadata": {},
   "source": [
    "### 1. Imports"
   ]
  },
  {
   "cell_type": "code",
   "execution_count": 1,
   "id": "209dd195",
   "metadata": {},
   "outputs": [],
   "source": [
    "%reload_ext autoreload\n",
    "%autoreload 2"
   ]
  },
  {
   "cell_type": "code",
   "execution_count": 2,
   "id": "b9ae70be",
   "metadata": {},
   "outputs": [],
   "source": [
    "import os"
   ]
  },
  {
   "cell_type": "code",
   "execution_count": 3,
   "id": "909075ef",
   "metadata": {},
   "outputs": [
    {
     "data": {
      "text/plain": [
       "'/Users/eduardo.souza/dev/nu/fklearn/src'"
      ]
     },
     "execution_count": 3,
     "metadata": {},
     "output_type": "execute_result"
    }
   ],
   "source": [
    "os.chdir(\"../src\")\n",
    "os.getcwd()"
   ]
  },
  {
   "cell_type": "code",
   "execution_count": 4,
   "id": "334c24ac",
   "metadata": {
    "ExecuteTime": {
     "end_time": "2022-08-01T21:08:54.942876Z",
     "start_time": "2022-08-01T21:08:52.183053Z"
    }
   },
   "outputs": [],
   "source": [
    "import pandas as pd\n",
    "import numpy as np\n",
    "\n",
    "import matplotlib.pyplot as plt\n",
    "import seaborn as sns\n",
    "\n",
    "from fklearn.causal.cate_learning.meta_learners import causal_t_classification_learner\n",
    "from fklearn.training.classification import lgbm_classification_learner\n",
    "from fklearn.training.calibration import isotonic_calibration_learner\n",
    "from fklearn.causal.validation.curves import cumulative_gain_curve\n",
    "from fklearn.training.pipeline import build_pipeline\n",
    "from fklearn.training.transformation import ecdfer\n",
    "\n",
    "sns.set_style(\"darkgrid\")"
   ]
  },
  {
   "cell_type": "markdown",
   "id": "7951044d",
   "metadata": {},
   "source": [
    "### 2. Functions"
   ]
  },
  {
   "cell_type": "code",
   "execution_count": 5,
   "id": "3b3820cf",
   "metadata": {
    "ExecuteTime": {
     "end_time": "2022-08-01T21:08:54.949172Z",
     "start_time": "2022-08-01T21:08:54.944256Z"
    }
   },
   "outputs": [],
   "source": [
    "def plot_cumulative_gain_curve(\n",
    "    train_gain: np.ndarray,\n",
    "    test_gain: np.ndarray,\n",
    "    random_gain: np.ndarray,\n",
    "    fontsize: int = 16,\n",
    "    figsize: tuple = (15,5)\n",
    ") -> None:\n",
    "    \"\"\"\n",
    "    Plots the cumulative gain curve.\n",
    "    \"\"\"\n",
    "\n",
    "    xaxis = np.arange(len(train_gain))/len(train_gain)\n",
    "    \n",
    "    plt.figure(figsize=figsize);\n",
    "    plt.plot(xaxis, train_gain, label=\"Training Data\");\n",
    "    plt.plot(xaxis, test_gain, label=\"Testing Data\");\n",
    "    plt.plot(xaxis, random_gain, \"--\", label=\"Random\");\n",
    "               \n",
    "    plt.ylabel(\"Cumulative Gain\", fontsize=fontsize);\n",
    "    plt.xlabel(\"Population Proportion\", fontsize=fontsize);\n",
    "    plt.title(\"Cumulative Gain Curve\", fontsize=fontsize);\n",
    "               \n",
    "    plt.legend(fontsize=fontsize);\n",
    "    plt.xticks(fontsize=fontsize);\n",
    "    plt.yticks(fontsize=fontsize);"
   ]
  },
  {
   "cell_type": "markdown",
   "id": "1bb4b598",
   "metadata": {},
   "source": [
    "### 3. Read Data"
   ]
  },
  {
   "cell_type": "markdown",
   "id": "99ced58c",
   "metadata": {},
   "source": [
    "Notice that the data here adopted is provided in [1] and [2]."
   ]
  },
  {
   "cell_type": "code",
   "execution_count": 6,
   "id": "164af8a7",
   "metadata": {
    "ExecuteTime": {
     "end_time": "2022-08-01T21:08:55.654415Z",
     "start_time": "2022-08-01T21:08:54.952419Z"
    }
   },
   "outputs": [],
   "source": [
    "test_data = pd.read_csv(\n",
    "    \"https://raw.githubusercontent.com/matheusfacure/python-causality-handbook/master/causal-inference-for-the-brave-and-true/data/invest_email_rnd.csv\"\n",
    ")\n",
    "train_data = pd.read_csv(\n",
    "    \"https://raw.githubusercontent.com/matheusfacure/python-causality-handbook/master/causal-inference-for-the-brave-and-true/data/invest_email_biased.csv\"\n",
    ")"
   ]
  },
  {
   "cell_type": "code",
   "execution_count": 7,
   "id": "c4100764",
   "metadata": {
    "ExecuteTime": {
     "end_time": "2022-08-01T21:08:55.665495Z",
     "start_time": "2022-08-01T21:08:55.656451Z"
    }
   },
   "outputs": [
    {
     "data": {
      "text/plain": [
       "(15000, 8)"
      ]
     },
     "execution_count": 7,
     "metadata": {},
     "output_type": "execute_result"
    }
   ],
   "source": [
    "test_data.shape"
   ]
  },
  {
   "cell_type": "code",
   "execution_count": 8,
   "id": "9dbc21fd",
   "metadata": {
    "ExecuteTime": {
     "end_time": "2022-08-01T21:08:55.671480Z",
     "start_time": "2022-08-01T21:08:55.667548Z"
    }
   },
   "outputs": [
    {
     "data": {
      "text/plain": [
       "(15000, 8)"
      ]
     },
     "execution_count": 8,
     "metadata": {},
     "output_type": "execute_result"
    }
   ],
   "source": [
    "train_data.shape"
   ]
  },
  {
   "cell_type": "markdown",
   "id": "bfba7573",
   "metadata": {},
   "source": [
    "#### 3.1 Include Treatment Column"
   ]
  },
  {
   "cell_type": "code",
   "execution_count": 9,
   "id": "bed6542e",
   "metadata": {
    "ExecuteTime": {
     "end_time": "2022-08-01T21:08:55.684291Z",
     "start_time": "2022-08-01T21:08:55.673873Z"
    }
   },
   "outputs": [],
   "source": [
    "train_data[\"treatment_col\"] = np.where(\n",
    "    train_data[\"em1\"] == 1, \"em1\", \"control\"\n",
    ")\n",
    "\n",
    "test_data[\"treatment_col\"] = np.where(\n",
    "    test_data[\"em1\"] == 1, \"em1\", \"control\"\n",
    ")"
   ]
  },
  {
   "cell_type": "code",
   "execution_count": 10,
   "id": "b951bc0c",
   "metadata": {
    "ExecuteTime": {
     "end_time": "2022-08-01T21:08:55.701127Z",
     "start_time": "2022-08-01T21:08:55.686721Z"
    }
   },
   "outputs": [
    {
     "data": {
      "text/html": [
       "<div>\n",
       "<style scoped>\n",
       "    .dataframe tbody tr th:only-of-type {\n",
       "        vertical-align: middle;\n",
       "    }\n",
       "\n",
       "    .dataframe tbody tr th {\n",
       "        vertical-align: top;\n",
       "    }\n",
       "\n",
       "    .dataframe thead th {\n",
       "        text-align: right;\n",
       "    }\n",
       "</style>\n",
       "<table border=\"1\" class=\"dataframe\">\n",
       "  <thead>\n",
       "    <tr style=\"text-align: right;\">\n",
       "      <th></th>\n",
       "      <th>age</th>\n",
       "      <th>income</th>\n",
       "      <th>insurance</th>\n",
       "      <th>invested</th>\n",
       "      <th>em1</th>\n",
       "      <th>em2</th>\n",
       "      <th>em3</th>\n",
       "      <th>converted</th>\n",
       "      <th>treatment_col</th>\n",
       "    </tr>\n",
       "  </thead>\n",
       "  <tbody>\n",
       "    <tr>\n",
       "      <th>0</th>\n",
       "      <td>44.1</td>\n",
       "      <td>5483.80</td>\n",
       "      <td>6155.29</td>\n",
       "      <td>14294.81</td>\n",
       "      <td>0</td>\n",
       "      <td>0</td>\n",
       "      <td>1</td>\n",
       "      <td>0</td>\n",
       "      <td>control</td>\n",
       "    </tr>\n",
       "    <tr>\n",
       "      <th>1</th>\n",
       "      <td>39.8</td>\n",
       "      <td>2737.92</td>\n",
       "      <td>50069.40</td>\n",
       "      <td>7468.15</td>\n",
       "      <td>1</td>\n",
       "      <td>0</td>\n",
       "      <td>0</td>\n",
       "      <td>0</td>\n",
       "      <td>em1</td>\n",
       "    </tr>\n",
       "    <tr>\n",
       "      <th>2</th>\n",
       "      <td>49.0</td>\n",
       "      <td>2712.51</td>\n",
       "      <td>5707.08</td>\n",
       "      <td>5095.65</td>\n",
       "      <td>0</td>\n",
       "      <td>0</td>\n",
       "      <td>1</td>\n",
       "      <td>1</td>\n",
       "      <td>control</td>\n",
       "    </tr>\n",
       "    <tr>\n",
       "      <th>3</th>\n",
       "      <td>39.7</td>\n",
       "      <td>2326.37</td>\n",
       "      <td>15657.97</td>\n",
       "      <td>6345.20</td>\n",
       "      <td>0</td>\n",
       "      <td>0</td>\n",
       "      <td>0</td>\n",
       "      <td>0</td>\n",
       "      <td>control</td>\n",
       "    </tr>\n",
       "    <tr>\n",
       "      <th>4</th>\n",
       "      <td>35.3</td>\n",
       "      <td>2787.26</td>\n",
       "      <td>27074.44</td>\n",
       "      <td>14114.86</td>\n",
       "      <td>1</td>\n",
       "      <td>1</td>\n",
       "      <td>0</td>\n",
       "      <td>0</td>\n",
       "      <td>em1</td>\n",
       "    </tr>\n",
       "  </tbody>\n",
       "</table>\n",
       "</div>"
      ],
      "text/plain": [
       "    age   income  insurance  invested  em1  em2  em3  converted treatment_col\n",
       "0  44.1  5483.80    6155.29  14294.81    0    0    1          0       control\n",
       "1  39.8  2737.92   50069.40   7468.15    1    0    0          0           em1\n",
       "2  49.0  2712.51    5707.08   5095.65    0    0    1          1       control\n",
       "3  39.7  2326.37   15657.97   6345.20    0    0    0          0       control\n",
       "4  35.3  2787.26   27074.44  14114.86    1    1    0          0           em1"
      ]
     },
     "execution_count": 10,
     "metadata": {},
     "output_type": "execute_result"
    }
   ],
   "source": [
    "train_data.head()"
   ]
  },
  {
   "cell_type": "code",
   "execution_count": 11,
   "id": "2dc0eb3e",
   "metadata": {
    "ExecuteTime": {
     "end_time": "2022-08-01T21:08:55.717300Z",
     "start_time": "2022-08-01T21:08:55.703374Z"
    }
   },
   "outputs": [
    {
     "data": {
      "text/html": [
       "<div>\n",
       "<style scoped>\n",
       "    .dataframe tbody tr th:only-of-type {\n",
       "        vertical-align: middle;\n",
       "    }\n",
       "\n",
       "    .dataframe tbody tr th {\n",
       "        vertical-align: top;\n",
       "    }\n",
       "\n",
       "    .dataframe thead th {\n",
       "        text-align: right;\n",
       "    }\n",
       "</style>\n",
       "<table border=\"1\" class=\"dataframe\">\n",
       "  <thead>\n",
       "    <tr style=\"text-align: right;\">\n",
       "      <th></th>\n",
       "      <th>age</th>\n",
       "      <th>income</th>\n",
       "      <th>insurance</th>\n",
       "      <th>invested</th>\n",
       "      <th>em1</th>\n",
       "      <th>em2</th>\n",
       "      <th>em3</th>\n",
       "      <th>converted</th>\n",
       "      <th>treatment_col</th>\n",
       "    </tr>\n",
       "  </thead>\n",
       "  <tbody>\n",
       "    <tr>\n",
       "      <th>0</th>\n",
       "      <td>44.1</td>\n",
       "      <td>5483.80</td>\n",
       "      <td>6155.29</td>\n",
       "      <td>14294.81</td>\n",
       "      <td>0</td>\n",
       "      <td>1</td>\n",
       "      <td>1</td>\n",
       "      <td>0</td>\n",
       "      <td>control</td>\n",
       "    </tr>\n",
       "    <tr>\n",
       "      <th>1</th>\n",
       "      <td>39.8</td>\n",
       "      <td>2737.92</td>\n",
       "      <td>50069.40</td>\n",
       "      <td>7468.15</td>\n",
       "      <td>1</td>\n",
       "      <td>0</td>\n",
       "      <td>0</td>\n",
       "      <td>0</td>\n",
       "      <td>em1</td>\n",
       "    </tr>\n",
       "    <tr>\n",
       "      <th>2</th>\n",
       "      <td>49.0</td>\n",
       "      <td>2712.51</td>\n",
       "      <td>5707.08</td>\n",
       "      <td>5095.65</td>\n",
       "      <td>1</td>\n",
       "      <td>0</td>\n",
       "      <td>1</td>\n",
       "      <td>1</td>\n",
       "      <td>em1</td>\n",
       "    </tr>\n",
       "    <tr>\n",
       "      <th>3</th>\n",
       "      <td>39.7</td>\n",
       "      <td>2326.37</td>\n",
       "      <td>15657.97</td>\n",
       "      <td>6345.20</td>\n",
       "      <td>1</td>\n",
       "      <td>1</td>\n",
       "      <td>1</td>\n",
       "      <td>0</td>\n",
       "      <td>em1</td>\n",
       "    </tr>\n",
       "    <tr>\n",
       "      <th>4</th>\n",
       "      <td>35.3</td>\n",
       "      <td>2787.26</td>\n",
       "      <td>27074.44</td>\n",
       "      <td>14114.86</td>\n",
       "      <td>1</td>\n",
       "      <td>1</td>\n",
       "      <td>1</td>\n",
       "      <td>0</td>\n",
       "      <td>em1</td>\n",
       "    </tr>\n",
       "  </tbody>\n",
       "</table>\n",
       "</div>"
      ],
      "text/plain": [
       "    age   income  insurance  invested  em1  em2  em3  converted treatment_col\n",
       "0  44.1  5483.80    6155.29  14294.81    0    1    1          0       control\n",
       "1  39.8  2737.92   50069.40   7468.15    1    0    0          0           em1\n",
       "2  49.0  2712.51    5707.08   5095.65    1    0    1          1           em1\n",
       "3  39.7  2326.37   15657.97   6345.20    1    1    1          0           em1\n",
       "4  35.3  2787.26   27074.44  14114.86    1    1    1          0           em1"
      ]
     },
     "execution_count": 11,
     "metadata": {},
     "output_type": "execute_result"
    }
   ],
   "source": [
    "test_data.head()"
   ]
  },
  {
   "cell_type": "markdown",
   "id": "b02dd80c",
   "metadata": {
    "ExecuteTime": {
     "end_time": "2022-08-01T17:34:49.478324Z",
     "start_time": "2022-08-01T17:34:49.472616Z"
    }
   },
   "source": [
    "### 4. Causal T-Learner"
   ]
  },
  {
   "cell_type": "code",
   "execution_count": 12,
   "id": "f2e41cb9",
   "metadata": {
    "ExecuteTime": {
     "end_time": "2022-08-01T21:08:55.727534Z",
     "start_time": "2022-08-01T21:08:55.724439Z"
    }
   },
   "outputs": [],
   "source": [
    "target_column = \"converted\"\n",
    "features = [\"age\", \"income\", \"insurance\", \"invested\"]\n",
    "treatment_column = \"treatment_col\"\n",
    "control_name = \"control\"\n",
    "prediction_column = \"prediction\""
   ]
  },
  {
   "cell_type": "markdown",
   "id": "f13a389d",
   "metadata": {},
   "source": [
    "#### 4.1 Using T-Learner with LightGBM"
   ]
  },
  {
   "cell_type": "code",
   "execution_count": 13,
   "id": "86154394",
   "metadata": {
    "ExecuteTime": {
     "end_time": "2022-08-01T21:08:55.732761Z",
     "start_time": "2022-08-01T21:08:55.729735Z"
    }
   },
   "outputs": [],
   "source": [
    "clf_learner = lgbm_classification_learner(\n",
    "    features = features,\n",
    "    target = target_column,\n",
    "    prediction_column = prediction_column\n",
    ")"
   ]
  },
  {
   "cell_type": "code",
   "execution_count": 14,
   "id": "885a539f",
   "metadata": {
    "ExecuteTime": {
     "end_time": "2022-08-01T21:08:55.738793Z",
     "start_time": "2022-08-01T21:08:55.735586Z"
    }
   },
   "outputs": [],
   "source": [
    "t_learner = causal_t_classification_learner(\n",
    "    treatment_col=treatment_column,\n",
    "    control_name=control_name,\n",
    "    prediction_column=prediction_column,\n",
    "    learner=clf_learner,\n",
    "    treatment_learner=clf_learner,\n",
    ")"
   ]
  },
  {
   "cell_type": "markdown",
   "id": "e2d4cd23",
   "metadata": {},
   "source": [
    "**Training the model**"
   ]
  },
  {
   "cell_type": "code",
   "execution_count": 15,
   "id": "68c21ad5",
   "metadata": {
    "ExecuteTime": {
     "end_time": "2022-08-01T21:08:56.027747Z",
     "start_time": "2022-08-01T21:08:55.740932Z"
    }
   },
   "outputs": [
    {
     "name": "stderr",
     "output_type": "stream",
     "text": [
      "/Users/eduardo.souza/dev/nu/fklearn/venv/lib/python3.9/site-packages/lightgbm/basic.py:1491: UserWarning: 'silent' argument is deprecated and will be removed in a future release of LightGBM. Pass 'verbose' parameter via 'params' instead.\n",
      "  _log_warning(\"'silent' argument is deprecated and will be removed in a future release of LightGBM. \"\n",
      "/Users/eduardo.souza/dev/nu/fklearn/venv/lib/python3.9/site-packages/lightgbm/basic.py:1491: UserWarning: 'silent' argument is deprecated and will be removed in a future release of LightGBM. Pass 'verbose' parameter via 'params' instead.\n",
      "  _log_warning(\"'silent' argument is deprecated and will be removed in a future release of LightGBM. \"\n"
     ]
    },
    {
     "name": "stdout",
     "output_type": "stream",
     "text": [
      "[LightGBM] [Info] Number of positive: 2205, number of negative: 9425\n",
      "[LightGBM] [Warning] Auto-choosing col-wise multi-threading, the overhead of testing was 0.000356 seconds.\n",
      "You can set `force_col_wise=true` to remove the overhead.\n",
      "[LightGBM] [Info] Total Bins 988\n",
      "[LightGBM] [Info] Number of data points in the train set: 11630, number of used features: 4\n",
      "[LightGBM] [Info] [binary:BoostFromScore]: pavg=0.189596 -> initscore=-1.452638\n",
      "[LightGBM] [Info] Start training from score -1.452638\n",
      "[LightGBM] [Info] Number of positive: 802, number of negative: 2568\n",
      "[LightGBM] [Warning] Auto-choosing col-wise multi-threading, the overhead of testing was 0.000313 seconds.\n",
      "You can set `force_col_wise=true` to remove the overhead.\n",
      "[LightGBM] [Info] Total Bins 958\n",
      "[LightGBM] [Info] Number of data points in the train set: 3370, number of used features: 4\n",
      "[LightGBM] [Info] [binary:BoostFromScore]: pavg=0.237982 -> initscore=-1.163774\n",
      "[LightGBM] [Info] Start training from score -1.163774\n"
     ]
    }
   ],
   "source": [
    "t_learner_fcn, t_learner_train_df, t_learner_log = t_learner(train_data)"
   ]
  },
  {
   "cell_type": "code",
   "execution_count": 16,
   "id": "629ee628",
   "metadata": {
    "ExecuteTime": {
     "end_time": "2022-08-01T21:08:56.034377Z",
     "start_time": "2022-08-01T21:08:56.030279Z"
    }
   },
   "outputs": [
    {
     "data": {
      "text/plain": [
       "<function fklearn.causal.cate_learning.meta_learners.causal_t_classification_learner.<locals>.p(new_df: pandas.core.frame.DataFrame) -> pandas.core.frame.DataFrame>"
      ]
     },
     "execution_count": 16,
     "metadata": {},
     "output_type": "execute_result"
    }
   ],
   "source": [
    "t_learner_fcn"
   ]
  },
  {
   "cell_type": "code",
   "execution_count": 17,
   "id": "bb863168",
   "metadata": {
    "ExecuteTime": {
     "end_time": "2022-08-01T21:08:56.051585Z",
     "start_time": "2022-08-01T21:08:56.036919Z"
    }
   },
   "outputs": [
    {
     "data": {
      "text/html": [
       "<div>\n",
       "<style scoped>\n",
       "    .dataframe tbody tr th:only-of-type {\n",
       "        vertical-align: middle;\n",
       "    }\n",
       "\n",
       "    .dataframe tbody tr th {\n",
       "        vertical-align: top;\n",
       "    }\n",
       "\n",
       "    .dataframe thead th {\n",
       "        text-align: right;\n",
       "    }\n",
       "</style>\n",
       "<table border=\"1\" class=\"dataframe\">\n",
       "  <thead>\n",
       "    <tr style=\"text-align: right;\">\n",
       "      <th></th>\n",
       "      <th>age</th>\n",
       "      <th>income</th>\n",
       "      <th>insurance</th>\n",
       "      <th>invested</th>\n",
       "      <th>em1</th>\n",
       "      <th>em2</th>\n",
       "      <th>em3</th>\n",
       "      <th>converted</th>\n",
       "      <th>treatment_col</th>\n",
       "      <th>treatment_em1__uplift</th>\n",
       "      <th>uplift</th>\n",
       "      <th>suggested_treatment</th>\n",
       "    </tr>\n",
       "  </thead>\n",
       "  <tbody>\n",
       "    <tr>\n",
       "      <th>0</th>\n",
       "      <td>44.1</td>\n",
       "      <td>5483.80</td>\n",
       "      <td>6155.29</td>\n",
       "      <td>14294.81</td>\n",
       "      <td>0</td>\n",
       "      <td>0</td>\n",
       "      <td>1</td>\n",
       "      <td>0</td>\n",
       "      <td>control</td>\n",
       "      <td>0.240415</td>\n",
       "      <td>0.240415</td>\n",
       "      <td>treatment_em1</td>\n",
       "    </tr>\n",
       "    <tr>\n",
       "      <th>1</th>\n",
       "      <td>39.8</td>\n",
       "      <td>2737.92</td>\n",
       "      <td>50069.40</td>\n",
       "      <td>7468.15</td>\n",
       "      <td>1</td>\n",
       "      <td>0</td>\n",
       "      <td>0</td>\n",
       "      <td>0</td>\n",
       "      <td>em1</td>\n",
       "      <td>-0.025827</td>\n",
       "      <td>-0.025827</td>\n",
       "      <td>control</td>\n",
       "    </tr>\n",
       "    <tr>\n",
       "      <th>2</th>\n",
       "      <td>49.0</td>\n",
       "      <td>2712.51</td>\n",
       "      <td>5707.08</td>\n",
       "      <td>5095.65</td>\n",
       "      <td>0</td>\n",
       "      <td>0</td>\n",
       "      <td>1</td>\n",
       "      <td>1</td>\n",
       "      <td>control</td>\n",
       "      <td>0.261614</td>\n",
       "      <td>0.261614</td>\n",
       "      <td>treatment_em1</td>\n",
       "    </tr>\n",
       "    <tr>\n",
       "      <th>3</th>\n",
       "      <td>39.7</td>\n",
       "      <td>2326.37</td>\n",
       "      <td>15657.97</td>\n",
       "      <td>6345.20</td>\n",
       "      <td>0</td>\n",
       "      <td>0</td>\n",
       "      <td>0</td>\n",
       "      <td>0</td>\n",
       "      <td>control</td>\n",
       "      <td>0.172320</td>\n",
       "      <td>0.172320</td>\n",
       "      <td>treatment_em1</td>\n",
       "    </tr>\n",
       "    <tr>\n",
       "      <th>4</th>\n",
       "      <td>35.3</td>\n",
       "      <td>2787.26</td>\n",
       "      <td>27074.44</td>\n",
       "      <td>14114.86</td>\n",
       "      <td>1</td>\n",
       "      <td>1</td>\n",
       "      <td>0</td>\n",
       "      <td>0</td>\n",
       "      <td>em1</td>\n",
       "      <td>0.174431</td>\n",
       "      <td>0.174431</td>\n",
       "      <td>treatment_em1</td>\n",
       "    </tr>\n",
       "  </tbody>\n",
       "</table>\n",
       "</div>"
      ],
      "text/plain": [
       "    age   income  insurance  invested  em1  em2  em3  converted treatment_col  \\\n",
       "0  44.1  5483.80    6155.29  14294.81    0    0    1          0       control   \n",
       "1  39.8  2737.92   50069.40   7468.15    1    0    0          0           em1   \n",
       "2  49.0  2712.51    5707.08   5095.65    0    0    1          1       control   \n",
       "3  39.7  2326.37   15657.97   6345.20    0    0    0          0       control   \n",
       "4  35.3  2787.26   27074.44  14114.86    1    1    0          0           em1   \n",
       "\n",
       "   treatment_em1__uplift    uplift suggested_treatment  \n",
       "0               0.240415  0.240415       treatment_em1  \n",
       "1              -0.025827 -0.025827             control  \n",
       "2               0.261614  0.261614       treatment_em1  \n",
       "3               0.172320  0.172320       treatment_em1  \n",
       "4               0.174431  0.174431       treatment_em1  "
      ]
     },
     "execution_count": 17,
     "metadata": {},
     "output_type": "execute_result"
    }
   ],
   "source": [
    "t_learner_train_df.head()"
   ]
  },
  {
   "cell_type": "code",
   "execution_count": 18,
   "id": "ae0405f3",
   "metadata": {
    "ExecuteTime": {
     "end_time": "2022-08-01T21:08:56.059283Z",
     "start_time": "2022-08-01T21:08:56.054044Z"
    }
   },
   "outputs": [
    {
     "data": {
      "text/plain": [
       "{'causal_t_classification_learner': {'control': {'lgbm_classification_learner': {'features': ['age',\n",
       "     'income',\n",
       "     'insurance',\n",
       "     'invested'],\n",
       "    'target': 'converted',\n",
       "    'prediction_column': 'prediction',\n",
       "    'package': 'lightgbm',\n",
       "    'package_version': '3.3.2',\n",
       "    'parameters': {'eta': 0.1, 'objective': 'binary', 'num_estimators': 100},\n",
       "    'feature_importance': {'age': 784,\n",
       "     'income': 739,\n",
       "     'insurance': 747,\n",
       "     'invested': 730},\n",
       "    'training_samples': 11630,\n",
       "    'running_time': '0.214 s'},\n",
       "   'object': <lightgbm.basic.Booster at 0x13bbed1c0>},\n",
       "  'em1': {'lgbm_classification_learner': {'features': ['age',\n",
       "     'income',\n",
       "     'insurance',\n",
       "     'invested'],\n",
       "    'target': 'converted',\n",
       "    'prediction_column': 'prediction',\n",
       "    'package': 'lightgbm',\n",
       "    'package_version': '3.3.2',\n",
       "    'parameters': {'eta': 0.1, 'objective': 'binary', 'num_estimators': 100},\n",
       "    'feature_importance': {'age': 769,\n",
       "     'income': 747,\n",
       "     'insurance': 748,\n",
       "     'invested': 736},\n",
       "    'training_samples': 3370,\n",
       "    'running_time': '0.095 s'},\n",
       "   'object': <lightgbm.basic.Booster at 0x13bc60bb0>}}}"
      ]
     },
     "execution_count": 18,
     "metadata": {},
     "output_type": "execute_result"
    }
   ],
   "source": [
    "t_learner_log"
   ]
  },
  {
   "cell_type": "markdown",
   "id": "dadfd813",
   "metadata": {},
   "source": [
    "**Making Predictions**"
   ]
  },
  {
   "cell_type": "code",
   "execution_count": 19,
   "id": "19c87675",
   "metadata": {
    "ExecuteTime": {
     "end_time": "2022-08-01T21:08:56.138488Z",
     "start_time": "2022-08-01T21:08:56.061810Z"
    }
   },
   "outputs": [],
   "source": [
    "t_learner_test_df = t_learner_fcn(test_data)"
   ]
  },
  {
   "cell_type": "code",
   "execution_count": 20,
   "id": "d992f3c8",
   "metadata": {
    "ExecuteTime": {
     "end_time": "2022-08-01T21:08:56.155056Z",
     "start_time": "2022-08-01T21:08:56.141081Z"
    },
    "scrolled": true
   },
   "outputs": [
    {
     "data": {
      "text/html": [
       "<div>\n",
       "<style scoped>\n",
       "    .dataframe tbody tr th:only-of-type {\n",
       "        vertical-align: middle;\n",
       "    }\n",
       "\n",
       "    .dataframe tbody tr th {\n",
       "        vertical-align: top;\n",
       "    }\n",
       "\n",
       "    .dataframe thead th {\n",
       "        text-align: right;\n",
       "    }\n",
       "</style>\n",
       "<table border=\"1\" class=\"dataframe\">\n",
       "  <thead>\n",
       "    <tr style=\"text-align: right;\">\n",
       "      <th></th>\n",
       "      <th>age</th>\n",
       "      <th>income</th>\n",
       "      <th>insurance</th>\n",
       "      <th>invested</th>\n",
       "      <th>em1</th>\n",
       "      <th>em2</th>\n",
       "      <th>em3</th>\n",
       "      <th>converted</th>\n",
       "      <th>treatment_col</th>\n",
       "      <th>treatment_em1__uplift</th>\n",
       "      <th>uplift</th>\n",
       "      <th>suggested_treatment</th>\n",
       "    </tr>\n",
       "  </thead>\n",
       "  <tbody>\n",
       "    <tr>\n",
       "      <th>0</th>\n",
       "      <td>44.1</td>\n",
       "      <td>5483.80</td>\n",
       "      <td>6155.29</td>\n",
       "      <td>14294.81</td>\n",
       "      <td>0</td>\n",
       "      <td>1</td>\n",
       "      <td>1</td>\n",
       "      <td>0</td>\n",
       "      <td>control</td>\n",
       "      <td>0.240415</td>\n",
       "      <td>0.240415</td>\n",
       "      <td>treatment_em1</td>\n",
       "    </tr>\n",
       "    <tr>\n",
       "      <th>1</th>\n",
       "      <td>39.8</td>\n",
       "      <td>2737.92</td>\n",
       "      <td>50069.40</td>\n",
       "      <td>7468.15</td>\n",
       "      <td>1</td>\n",
       "      <td>0</td>\n",
       "      <td>0</td>\n",
       "      <td>0</td>\n",
       "      <td>em1</td>\n",
       "      <td>-0.025827</td>\n",
       "      <td>-0.025827</td>\n",
       "      <td>control</td>\n",
       "    </tr>\n",
       "    <tr>\n",
       "      <th>2</th>\n",
       "      <td>49.0</td>\n",
       "      <td>2712.51</td>\n",
       "      <td>5707.08</td>\n",
       "      <td>5095.65</td>\n",
       "      <td>1</td>\n",
       "      <td>0</td>\n",
       "      <td>1</td>\n",
       "      <td>1</td>\n",
       "      <td>em1</td>\n",
       "      <td>0.261614</td>\n",
       "      <td>0.261614</td>\n",
       "      <td>treatment_em1</td>\n",
       "    </tr>\n",
       "    <tr>\n",
       "      <th>3</th>\n",
       "      <td>39.7</td>\n",
       "      <td>2326.37</td>\n",
       "      <td>15657.97</td>\n",
       "      <td>6345.20</td>\n",
       "      <td>1</td>\n",
       "      <td>1</td>\n",
       "      <td>1</td>\n",
       "      <td>0</td>\n",
       "      <td>em1</td>\n",
       "      <td>0.172320</td>\n",
       "      <td>0.172320</td>\n",
       "      <td>treatment_em1</td>\n",
       "    </tr>\n",
       "    <tr>\n",
       "      <th>4</th>\n",
       "      <td>35.3</td>\n",
       "      <td>2787.26</td>\n",
       "      <td>27074.44</td>\n",
       "      <td>14114.86</td>\n",
       "      <td>1</td>\n",
       "      <td>1</td>\n",
       "      <td>1</td>\n",
       "      <td>0</td>\n",
       "      <td>em1</td>\n",
       "      <td>0.174431</td>\n",
       "      <td>0.174431</td>\n",
       "      <td>treatment_em1</td>\n",
       "    </tr>\n",
       "  </tbody>\n",
       "</table>\n",
       "</div>"
      ],
      "text/plain": [
       "    age   income  insurance  invested  em1  em2  em3  converted treatment_col  \\\n",
       "0  44.1  5483.80    6155.29  14294.81    0    1    1          0       control   \n",
       "1  39.8  2737.92   50069.40   7468.15    1    0    0          0           em1   \n",
       "2  49.0  2712.51    5707.08   5095.65    1    0    1          1           em1   \n",
       "3  39.7  2326.37   15657.97   6345.20    1    1    1          0           em1   \n",
       "4  35.3  2787.26   27074.44  14114.86    1    1    1          0           em1   \n",
       "\n",
       "   treatment_em1__uplift    uplift suggested_treatment  \n",
       "0               0.240415  0.240415       treatment_em1  \n",
       "1              -0.025827 -0.025827             control  \n",
       "2               0.261614  0.261614       treatment_em1  \n",
       "3               0.172320  0.172320       treatment_em1  \n",
       "4               0.174431  0.174431       treatment_em1  "
      ]
     },
     "execution_count": 20,
     "metadata": {},
     "output_type": "execute_result"
    }
   ],
   "source": [
    "t_learner_test_df.head()"
   ]
  },
  {
   "cell_type": "markdown",
   "id": "60a1bfb9",
   "metadata": {},
   "source": [
    "**Create Random Score**"
   ]
  },
  {
   "cell_type": "markdown",
   "id": "196a3a23",
   "metadata": {},
   "source": [
    "Let's also create a random score that can be used to compute the Cumulative Gain curve."
   ]
  },
  {
   "cell_type": "code",
   "execution_count": 21,
   "id": "61728dd6",
   "metadata": {
    "ExecuteTime": {
     "end_time": "2022-08-01T21:08:56.162206Z",
     "start_time": "2022-08-01T21:08:56.157333Z"
    }
   },
   "outputs": [],
   "source": [
    "random_score_df = test_data[[\"em1\", target_column]].copy()\n",
    "random_score_df[\"uplift\"] = np.random.uniform(0,1,random_score_df.shape[0])"
   ]
  },
  {
   "cell_type": "markdown",
   "id": "b5b65182",
   "metadata": {},
   "source": [
    "**Checking Cumulative Gain Curve**"
   ]
  },
  {
   "cell_type": "markdown",
   "id": "c18d8dc7",
   "metadata": {},
   "source": [
    "For more details about causal models evaluation, please look at the following reference:\n",
    "\n",
    "https://matheusfacure.github.io/python-causality-handbook/19-Evaluating-Causal-Models.html?highlight=gain%20curve    "
   ]
  },
  {
   "cell_type": "code",
   "execution_count": 22,
   "id": "dada0b5c",
   "metadata": {
    "ExecuteTime": {
     "end_time": "2022-08-01T21:08:56.167642Z",
     "start_time": "2022-08-01T21:08:56.164515Z"
    }
   },
   "outputs": [],
   "source": [
    "gain_curve = cumulative_gain_curve(\n",
    "    treatment = \"em1\",\n",
    "    outcome = target_column,\n",
    "    prediction = \"uplift\"\n",
    ")"
   ]
  },
  {
   "cell_type": "code",
   "execution_count": 23,
   "id": "44ac0567",
   "metadata": {
    "ExecuteTime": {
     "end_time": "2022-08-01T21:08:56.479996Z",
     "start_time": "2022-08-01T21:08:56.170218Z"
    }
   },
   "outputs": [],
   "source": [
    "gain_curve_train = gain_curve(t_learner_train_df)\n",
    "gain_curve_test = gain_curve(t_learner_test_df)\n",
    "gain_curve_random = gain_curve(random_score_df)"
   ]
  },
  {
   "cell_type": "code",
   "execution_count": 24,
   "id": "e0f39cfc",
   "metadata": {
    "ExecuteTime": {
     "end_time": "2022-08-01T21:08:56.695829Z",
     "start_time": "2022-08-01T21:08:56.481931Z"
    }
   },
   "outputs": [
    {
     "data": {
      "image/png": "[encoded data removed]",
      "text/plain": [
       "<Figure size 1080x360 with 1 Axes>"
      ]
     },
     "metadata": {
      "needs_background": "light"
     },
     "output_type": "display_data"
    }
   ],
   "source": [
    "plot_cumulative_gain_curve(\n",
    "    train_gain = gain_curve_train,\n",
    "    test_gain = gain_curve_test,\n",
    "    random_gain = gain_curve_random\n",
    ")"
   ]
  },
  {
   "cell_type": "markdown",
   "id": "16b67daa",
   "metadata": {},
   "source": [
    "#### 4.2 Using T-Learner with Fklearn Pipeline"
   ]
  },
  {
   "cell_type": "code",
   "execution_count": 25,
   "id": "5adc2f2f",
   "metadata": {
    "ExecuteTime": {
     "end_time": "2022-08-01T21:08:56.701600Z",
     "start_time": "2022-08-01T21:08:56.698546Z"
    }
   },
   "outputs": [],
   "source": [
    "cdf = ecdfer(\n",
    "    prediction_column=\"uplift\"\n",
    ")"
   ]
  },
  {
   "cell_type": "code",
   "execution_count": 26,
   "id": "a995e275",
   "metadata": {
    "ExecuteTime": {
     "end_time": "2022-08-01T21:08:56.705705Z",
     "start_time": "2022-08-01T21:08:56.703511Z"
    }
   },
   "outputs": [],
   "source": [
    "pipeline = build_pipeline(\n",
    "    *[t_learner, cdf]\n",
    ")"
   ]
  },
  {
   "cell_type": "code",
   "execution_count": 27,
   "id": "21db9ef8",
   "metadata": {
    "ExecuteTime": {
     "end_time": "2022-08-01T21:08:56.885605Z",
     "start_time": "2022-08-01T21:08:56.707835Z"
    }
   },
   "outputs": [
    {
     "name": "stderr",
     "output_type": "stream",
     "text": [
      "/Users/eduardo.souza/dev/nu/fklearn/venv/lib/python3.9/site-packages/lightgbm/basic.py:1491: UserWarning: 'silent' argument is deprecated and will be removed in a future release of LightGBM. Pass 'verbose' parameter via 'params' instead.\n",
      "  _log_warning(\"'silent' argument is deprecated and will be removed in a future release of LightGBM. \"\n",
      "/Users/eduardo.souza/dev/nu/fklearn/venv/lib/python3.9/site-packages/lightgbm/basic.py:1491: UserWarning: 'silent' argument is deprecated and will be removed in a future release of LightGBM. Pass 'verbose' parameter via 'params' instead.\n",
      "  _log_warning(\"'silent' argument is deprecated and will be removed in a future release of LightGBM. \"\n"
     ]
    },
    {
     "name": "stdout",
     "output_type": "stream",
     "text": [
      "[LightGBM] [Info] Number of positive: 2205, number of negative: 9425\n",
      "[LightGBM] [Warning] Auto-choosing col-wise multi-threading, the overhead of testing was 0.000563 seconds.\n",
      "You can set `force_col_wise=true` to remove the overhead.\n",
      "[LightGBM] [Info] Total Bins 988\n",
      "[LightGBM] [Info] Number of data points in the train set: 11630, number of used features: 4\n",
      "[LightGBM] [Info] [binary:BoostFromScore]: pavg=0.189596 -> initscore=-1.452638\n",
      "[LightGBM] [Info] Start training from score -1.452638\n",
      "[LightGBM] [Info] Number of positive: 802, number of negative: 2568\n",
      "[LightGBM] [Warning] Auto-choosing col-wise multi-threading, the overhead of testing was 0.000083 seconds.\n",
      "You can set `force_col_wise=true` to remove the overhead.\n",
      "[LightGBM] [Info] Total Bins 958\n",
      "[LightGBM] [Info] Number of data points in the train set: 3370, number of used features: 4\n",
      "[LightGBM] [Info] [binary:BoostFromScore]: pavg=0.237982 -> initscore=-1.163774\n",
      "[LightGBM] [Info] Start training from score -1.163774\n"
     ]
    }
   ],
   "source": [
    "pipe_fcn, pipe_train_df, pipe_log = pipeline(\n",
    "    train_data\n",
    ")"
   ]
  },
  {
   "cell_type": "code",
   "execution_count": 28,
   "id": "08b227a5",
   "metadata": {
    "ExecuteTime": {
     "end_time": "2022-08-01T21:08:56.901902Z",
     "start_time": "2022-08-01T21:08:56.887944Z"
    }
   },
   "outputs": [
    {
     "data": {
      "text/html": [
       "<div>\n",
       "<style scoped>\n",
       "    .dataframe tbody tr th:only-of-type {\n",
       "        vertical-align: middle;\n",
       "    }\n",
       "\n",
       "    .dataframe tbody tr th {\n",
       "        vertical-align: top;\n",
       "    }\n",
       "\n",
       "    .dataframe thead th {\n",
       "        text-align: right;\n",
       "    }\n",
       "</style>\n",
       "<table border=\"1\" class=\"dataframe\">\n",
       "  <thead>\n",
       "    <tr style=\"text-align: right;\">\n",
       "      <th></th>\n",
       "      <th>age</th>\n",
       "      <th>income</th>\n",
       "      <th>insurance</th>\n",
       "      <th>invested</th>\n",
       "      <th>em1</th>\n",
       "      <th>em2</th>\n",
       "      <th>em3</th>\n",
       "      <th>converted</th>\n",
       "      <th>treatment_col</th>\n",
       "      <th>treatment_em1__uplift</th>\n",
       "      <th>uplift</th>\n",
       "      <th>suggested_treatment</th>\n",
       "      <th>prediction_ecdf</th>\n",
       "    </tr>\n",
       "  </thead>\n",
       "  <tbody>\n",
       "    <tr>\n",
       "      <th>0</th>\n",
       "      <td>44.1</td>\n",
       "      <td>5483.80</td>\n",
       "      <td>6155.29</td>\n",
       "      <td>14294.81</td>\n",
       "      <td>0</td>\n",
       "      <td>0</td>\n",
       "      <td>1</td>\n",
       "      <td>0</td>\n",
       "      <td>control</td>\n",
       "      <td>0.240415</td>\n",
       "      <td>0.240415</td>\n",
       "      <td>treatment_em1</td>\n",
       "      <td>826.133333</td>\n",
       "    </tr>\n",
       "    <tr>\n",
       "      <th>1</th>\n",
       "      <td>39.8</td>\n",
       "      <td>2737.92</td>\n",
       "      <td>50069.40</td>\n",
       "      <td>7468.15</td>\n",
       "      <td>1</td>\n",
       "      <td>0</td>\n",
       "      <td>0</td>\n",
       "      <td>0</td>\n",
       "      <td>em1</td>\n",
       "      <td>-0.025827</td>\n",
       "      <td>-0.025827</td>\n",
       "      <td>control</td>\n",
       "      <td>226.800000</td>\n",
       "    </tr>\n",
       "    <tr>\n",
       "      <th>2</th>\n",
       "      <td>49.0</td>\n",
       "      <td>2712.51</td>\n",
       "      <td>5707.08</td>\n",
       "      <td>5095.65</td>\n",
       "      <td>0</td>\n",
       "      <td>0</td>\n",
       "      <td>1</td>\n",
       "      <td>1</td>\n",
       "      <td>control</td>\n",
       "      <td>0.261614</td>\n",
       "      <td>0.261614</td>\n",
       "      <td>treatment_em1</td>\n",
       "      <td>849.466667</td>\n",
       "    </tr>\n",
       "    <tr>\n",
       "      <th>3</th>\n",
       "      <td>39.7</td>\n",
       "      <td>2326.37</td>\n",
       "      <td>15657.97</td>\n",
       "      <td>6345.20</td>\n",
       "      <td>0</td>\n",
       "      <td>0</td>\n",
       "      <td>0</td>\n",
       "      <td>0</td>\n",
       "      <td>control</td>\n",
       "      <td>0.172320</td>\n",
       "      <td>0.172320</td>\n",
       "      <td>treatment_em1</td>\n",
       "      <td>736.400000</td>\n",
       "    </tr>\n",
       "    <tr>\n",
       "      <th>4</th>\n",
       "      <td>35.3</td>\n",
       "      <td>2787.26</td>\n",
       "      <td>27074.44</td>\n",
       "      <td>14114.86</td>\n",
       "      <td>1</td>\n",
       "      <td>1</td>\n",
       "      <td>0</td>\n",
       "      <td>0</td>\n",
       "      <td>em1</td>\n",
       "      <td>0.174431</td>\n",
       "      <td>0.174431</td>\n",
       "      <td>treatment_em1</td>\n",
       "      <td>739.333333</td>\n",
       "    </tr>\n",
       "  </tbody>\n",
       "</table>\n",
       "</div>"
      ],
      "text/plain": [
       "    age   income  insurance  invested  em1  em2  em3  converted treatment_col  \\\n",
       "0  44.1  5483.80    6155.29  14294.81    0    0    1          0       control   \n",
       "1  39.8  2737.92   50069.40   7468.15    1    0    0          0           em1   \n",
       "2  49.0  2712.51    5707.08   5095.65    0    0    1          1       control   \n",
       "3  39.7  2326.37   15657.97   6345.20    0    0    0          0       control   \n",
       "4  35.3  2787.26   27074.44  14114.86    1    1    0          0           em1   \n",
       "\n",
       "   treatment_em1__uplift    uplift suggested_treatment  prediction_ecdf  \n",
       "0               0.240415  0.240415       treatment_em1       826.133333  \n",
       "1              -0.025827 -0.025827             control       226.800000  \n",
       "2               0.261614  0.261614       treatment_em1       849.466667  \n",
       "3               0.172320  0.172320       treatment_em1       736.400000  \n",
       "4               0.174431  0.174431       treatment_em1       739.333333  "
      ]
     },
     "execution_count": 28,
     "metadata": {},
     "output_type": "execute_result"
    }
   ],
   "source": [
    "pipe_train_df.head()"
   ]
  },
  {
   "cell_type": "code",
   "execution_count": 29,
   "id": "3f0ae64f",
   "metadata": {
    "ExecuteTime": {
     "end_time": "2022-08-01T21:08:57.152815Z",
     "start_time": "2022-08-01T21:08:56.904019Z"
    }
   },
   "outputs": [
    {
     "data": {
      "image/png": "[encoded data removed]",
      "text/plain": [
       "<Figure size 432x288 with 1 Axes>"
      ]
     },
     "metadata": {
      "needs_background": "light"
     },
     "output_type": "display_data"
    }
   ],
   "source": [
    "pipe_train_df[\"uplift\"].hist(bins=50);\n",
    "plt.title(\"Uplift Score Distribution\", fontsize=16);\n",
    "plt.xticks(fontsize=16);\n",
    "plt.yticks(fontsize=16);"
   ]
  },
  {
   "cell_type": "markdown",
   "id": "80873d8e",
   "metadata": {},
   "source": [
    "**Checking Gain Curve with ECDF**"
   ]
  },
  {
   "cell_type": "code",
   "execution_count": 30,
   "id": "304ce7c2",
   "metadata": {
    "ExecuteTime": {
     "end_time": "2022-08-01T21:08:57.405122Z",
     "start_time": "2022-08-01T21:08:57.402884Z"
    }
   },
   "outputs": [],
   "source": [
    "gain_curve = cumulative_gain_curve(\n",
    "    treatment = \"em1\",\n",
    "    outcome = target_column,\n",
    "    prediction = \"prediction_ecdf\"\n",
    ")"
   ]
  },
  {
   "cell_type": "code",
   "execution_count": 31,
   "id": "875df4da",
   "metadata": {
    "ExecuteTime": {
     "end_time": "2022-08-01T21:08:57.536943Z",
     "start_time": "2022-08-01T21:08:57.406693Z"
    }
   },
   "outputs": [],
   "source": [
    "pipeline_train_df = pipe_fcn(train_data)\n",
    "pipeline_test_df = pipe_fcn(test_data)"
   ]
  },
  {
   "cell_type": "code",
   "execution_count": 32,
   "id": "ed3ee7e7",
   "metadata": {
    "ExecuteTime": {
     "end_time": "2022-08-01T21:08:57.747225Z",
     "start_time": "2022-08-01T21:08:57.539511Z"
    }
   },
   "outputs": [],
   "source": [
    "gain_curve_train = gain_curve(pipeline_train_df)\n",
    "gain_curve_test = gain_curve(pipeline_test_df)"
   ]
  },
  {
   "cell_type": "code",
   "execution_count": 33,
   "id": "af2707ed",
   "metadata": {
    "ExecuteTime": {
     "end_time": "2022-08-01T21:08:57.939012Z",
     "start_time": "2022-08-01T21:08:57.749300Z"
    }
   },
   "outputs": [
    {
     "data": {
      "image/png": "[encoded data removed]",
      "text/plain": [
       "<Figure size 1080x360 with 1 Axes>"
      ]
     },
     "metadata": {
      "needs_background": "light"
     },
     "output_type": "display_data"
    }
   ],
   "source": [
    "plot_cumulative_gain_curve(\n",
    "    train_gain = gain_curve_train,\n",
    "    test_gain = gain_curve_test,\n",
    "    random_gain = gain_curve_random\n",
    ")"
   ]
  },
  {
   "cell_type": "markdown",
   "id": "7ee410fb",
   "metadata": {},
   "source": [
    "#### 4.3 Build T-learner Using Lightgbm with Isotonic Calibration"
   ]
  },
  {
   "cell_type": "code",
   "execution_count": 34,
   "id": "ea34b176",
   "metadata": {
    "ExecuteTime": {
     "end_time": "2022-08-01T21:08:57.944825Z",
     "start_time": "2022-08-01T21:08:57.941394Z"
    }
   },
   "outputs": [],
   "source": [
    "clf_learner = lgbm_classification_learner(\n",
    "    features = features,\n",
    "    target = target_column,\n",
    "    prediction_column = prediction_column\n",
    ")"
   ]
  },
  {
   "cell_type": "code",
   "execution_count": 35,
   "id": "f328d84c",
   "metadata": {
    "ExecuteTime": {
     "end_time": "2022-08-01T21:08:57.950805Z",
     "start_time": "2022-08-01T21:08:57.947489Z"
    }
   },
   "outputs": [],
   "source": [
    "calibrator = isotonic_calibration_learner(\n",
    "    target_column=target_column,\n",
    "    prediction_column=prediction_column,\n",
    "    output_column=\"calibration_prediction\"\n",
    ")"
   ]
  },
  {
   "cell_type": "code",
   "execution_count": 36,
   "id": "9abd3945",
   "metadata": {
    "ExecuteTime": {
     "end_time": "2022-08-01T21:08:57.955102Z",
     "start_time": "2022-08-01T21:08:57.952772Z"
    }
   },
   "outputs": [],
   "source": [
    "t_learner = causal_t_classification_learner(\n",
    "    treatment_col=treatment_column,\n",
    "    control_name=control_name,\n",
    "    prediction_column=\"calibration_prediction\",\n",
    "    learner=clf_learner,\n",
    "    learner_transformers=[calibrator]\n",
    ")"
   ]
  },
  {
   "cell_type": "code",
   "execution_count": 37,
   "id": "47630533",
   "metadata": {
    "ExecuteTime": {
     "end_time": "2022-08-01T21:08:57.959571Z",
     "start_time": "2022-08-01T21:08:57.957001Z"
    }
   },
   "outputs": [],
   "source": [
    "cdf = ecdfer(\n",
    "    prediction_column=\"uplift\"\n",
    ")"
   ]
  },
  {
   "cell_type": "code",
   "execution_count": 38,
   "id": "9dfb55d3",
   "metadata": {
    "ExecuteTime": {
     "end_time": "2022-08-01T21:08:57.964743Z",
     "start_time": "2022-08-01T21:08:57.961573Z"
    }
   },
   "outputs": [],
   "source": [
    "pipeline = build_pipeline(\n",
    "    *[t_learner, cdf]\n",
    ")"
   ]
  },
  {
   "cell_type": "code",
   "execution_count": 39,
   "id": "bb117302",
   "metadata": {
    "ExecuteTime": {
     "end_time": "2022-08-01T21:08:58.188382Z",
     "start_time": "2022-08-01T21:08:57.968255Z"
    }
   },
   "outputs": [
    {
     "name": "stderr",
     "output_type": "stream",
     "text": [
      "/Users/eduardo.souza/dev/nu/fklearn/venv/lib/python3.9/site-packages/lightgbm/basic.py:1491: UserWarning: 'silent' argument is deprecated and will be removed in a future release of LightGBM. Pass 'verbose' parameter via 'params' instead.\n",
      "  _log_warning(\"'silent' argument is deprecated and will be removed in a future release of LightGBM. \"\n",
      "/Users/eduardo.souza/dev/nu/fklearn/venv/lib/python3.9/site-packages/lightgbm/basic.py:1491: UserWarning: 'silent' argument is deprecated and will be removed in a future release of LightGBM. Pass 'verbose' parameter via 'params' instead.\n",
      "  _log_warning(\"'silent' argument is deprecated and will be removed in a future release of LightGBM. \"\n"
     ]
    },
    {
     "name": "stdout",
     "output_type": "stream",
     "text": [
      "[LightGBM] [Info] Number of positive: 2205, number of negative: 9425\n",
      "[LightGBM] [Warning] Auto-choosing col-wise multi-threading, the overhead of testing was 0.000592 seconds.\n",
      "You can set `force_col_wise=true` to remove the overhead.\n",
      "[LightGBM] [Info] Total Bins 988\n",
      "[LightGBM] [Info] Number of data points in the train set: 11630, number of used features: 4\n",
      "[LightGBM] [Info] [binary:BoostFromScore]: pavg=0.189596 -> initscore=-1.452638\n",
      "[LightGBM] [Info] Start training from score -1.452638\n",
      "[LightGBM] [Info] Number of positive: 802, number of negative: 2568\n",
      "[LightGBM] [Warning] Auto-choosing col-wise multi-threading, the overhead of testing was 0.000229 seconds.\n",
      "You can set `force_col_wise=true` to remove the overhead.\n",
      "[LightGBM] [Info] Total Bins 958\n",
      "[LightGBM] [Info] Number of data points in the train set: 3370, number of used features: 4\n",
      "[LightGBM] [Info] [binary:BoostFromScore]: pavg=0.237982 -> initscore=-1.163774\n",
      "[LightGBM] [Info] Start training from score -1.163774\n"
     ]
    }
   ],
   "source": [
    "pipe_fcn, pipe_train_df, pipe_log = pipeline(\n",
    "    train_data\n",
    ")"
   ]
  },
  {
   "cell_type": "code",
   "execution_count": 40,
   "id": "0a80c08c",
   "metadata": {
    "ExecuteTime": {
     "end_time": "2022-08-01T21:08:58.205741Z",
     "start_time": "2022-08-01T21:08:58.190857Z"
    }
   },
   "outputs": [
    {
     "data": {
      "text/html": [
       "<div>\n",
       "<style scoped>\n",
       "    .dataframe tbody tr th:only-of-type {\n",
       "        vertical-align: middle;\n",
       "    }\n",
       "\n",
       "    .dataframe tbody tr th {\n",
       "        vertical-align: top;\n",
       "    }\n",
       "\n",
       "    .dataframe thead th {\n",
       "        text-align: right;\n",
       "    }\n",
       "</style>\n",
       "<table border=\"1\" class=\"dataframe\">\n",
       "  <thead>\n",
       "    <tr style=\"text-align: right;\">\n",
       "      <th></th>\n",
       "      <th>age</th>\n",
       "      <th>income</th>\n",
       "      <th>insurance</th>\n",
       "      <th>invested</th>\n",
       "      <th>em1</th>\n",
       "      <th>em2</th>\n",
       "      <th>em3</th>\n",
       "      <th>converted</th>\n",
       "      <th>treatment_col</th>\n",
       "      <th>treatment_em1__uplift</th>\n",
       "      <th>uplift</th>\n",
       "      <th>suggested_treatment</th>\n",
       "      <th>prediction_ecdf</th>\n",
       "    </tr>\n",
       "  </thead>\n",
       "  <tbody>\n",
       "    <tr>\n",
       "      <th>0</th>\n",
       "      <td>44.1</td>\n",
       "      <td>5483.80</td>\n",
       "      <td>6155.29</td>\n",
       "      <td>14294.81</td>\n",
       "      <td>0</td>\n",
       "      <td>0</td>\n",
       "      <td>1</td>\n",
       "      <td>0</td>\n",
       "      <td>control</td>\n",
       "      <td>0.656714</td>\n",
       "      <td>0.656714</td>\n",
       "      <td>treatment_em1</td>\n",
       "      <td>872.200000</td>\n",
       "    </tr>\n",
       "    <tr>\n",
       "      <th>1</th>\n",
       "      <td>39.8</td>\n",
       "      <td>2737.92</td>\n",
       "      <td>50069.40</td>\n",
       "      <td>7468.15</td>\n",
       "      <td>1</td>\n",
       "      <td>0</td>\n",
       "      <td>0</td>\n",
       "      <td>0</td>\n",
       "      <td>em1</td>\n",
       "      <td>-0.005988</td>\n",
       "      <td>-0.005988</td>\n",
       "      <td>control</td>\n",
       "      <td>406.933333</td>\n",
       "    </tr>\n",
       "    <tr>\n",
       "      <th>2</th>\n",
       "      <td>49.0</td>\n",
       "      <td>2712.51</td>\n",
       "      <td>5707.08</td>\n",
       "      <td>5095.65</td>\n",
       "      <td>0</td>\n",
       "      <td>0</td>\n",
       "      <td>1</td>\n",
       "      <td>1</td>\n",
       "      <td>control</td>\n",
       "      <td>0.182558</td>\n",
       "      <td>0.182558</td>\n",
       "      <td>treatment_em1</td>\n",
       "      <td>668.266667</td>\n",
       "    </tr>\n",
       "    <tr>\n",
       "      <th>3</th>\n",
       "      <td>39.7</td>\n",
       "      <td>2326.37</td>\n",
       "      <td>15657.97</td>\n",
       "      <td>6345.20</td>\n",
       "      <td>0</td>\n",
       "      <td>0</td>\n",
       "      <td>0</td>\n",
       "      <td>0</td>\n",
       "      <td>control</td>\n",
       "      <td>0.140625</td>\n",
       "      <td>0.140625</td>\n",
       "      <td>treatment_em1</td>\n",
       "      <td>647.133333</td>\n",
       "    </tr>\n",
       "    <tr>\n",
       "      <th>4</th>\n",
       "      <td>35.3</td>\n",
       "      <td>2787.26</td>\n",
       "      <td>27074.44</td>\n",
       "      <td>14114.86</td>\n",
       "      <td>1</td>\n",
       "      <td>1</td>\n",
       "      <td>0</td>\n",
       "      <td>0</td>\n",
       "      <td>em1</td>\n",
       "      <td>0.033951</td>\n",
       "      <td>0.033951</td>\n",
       "      <td>treatment_em1</td>\n",
       "      <td>564.000000</td>\n",
       "    </tr>\n",
       "  </tbody>\n",
       "</table>\n",
       "</div>"
      ],
      "text/plain": [
       "    age   income  insurance  invested  em1  em2  em3  converted treatment_col  \\\n",
       "0  44.1  5483.80    6155.29  14294.81    0    0    1          0       control   \n",
       "1  39.8  2737.92   50069.40   7468.15    1    0    0          0           em1   \n",
       "2  49.0  2712.51    5707.08   5095.65    0    0    1          1       control   \n",
       "3  39.7  2326.37   15657.97   6345.20    0    0    0          0       control   \n",
       "4  35.3  2787.26   27074.44  14114.86    1    1    0          0           em1   \n",
       "\n",
       "   treatment_em1__uplift    uplift suggested_treatment  prediction_ecdf  \n",
       "0               0.656714  0.656714       treatment_em1       872.200000  \n",
       "1              -0.005988 -0.005988             control       406.933333  \n",
       "2               0.182558  0.182558       treatment_em1       668.266667  \n",
       "3               0.140625  0.140625       treatment_em1       647.133333  \n",
       "4               0.033951  0.033951       treatment_em1       564.000000  "
      ]
     },
     "execution_count": 40,
     "metadata": {},
     "output_type": "execute_result"
    }
   ],
   "source": [
    "pipe_train_df.head()"
   ]
  },
  {
   "cell_type": "code",
   "execution_count": 41,
   "id": "65693eaa",
   "metadata": {
    "ExecuteTime": {
     "end_time": "2022-08-01T21:08:58.442712Z",
     "start_time": "2022-08-01T21:08:58.208095Z"
    }
   },
   "outputs": [
    {
     "data": {
      "image/png": "[encoded data removed]",
      "text/plain": [
       "<Figure size 432x288 with 1 Axes>"
      ]
     },
     "metadata": {
      "needs_background": "light"
     },
     "output_type": "display_data"
    }
   ],
   "source": [
    "pipe_train_df[\"uplift\"].hist(bins=50);\n",
    "plt.title(\"Uplift with Calibrated LightGBM Distribution\", fontsize=16);\n",
    "plt.xticks(fontsize=16);\n",
    "plt.yticks(fontsize=16);"
   ]
  },
  {
   "cell_type": "markdown",
   "id": "bcf7861e",
   "metadata": {},
   "source": [
    "**Checking Gain Curve with ECDF**"
   ]
  },
  {
   "cell_type": "code",
   "execution_count": 42,
   "id": "08cfa1e4",
   "metadata": {
    "ExecuteTime": {
     "end_time": "2022-08-01T21:08:58.613042Z",
     "start_time": "2022-08-01T21:08:58.610279Z"
    }
   },
   "outputs": [],
   "source": [
    "gain_curve = cumulative_gain_curve(\n",
    "    treatment = \"em1\",\n",
    "    outcome = target_column,\n",
    "    prediction = \"prediction_ecdf\"\n",
    ")"
   ]
  },
  {
   "cell_type": "code",
   "execution_count": 43,
   "id": "e996c832",
   "metadata": {
    "ExecuteTime": {
     "end_time": "2022-08-01T21:08:58.755011Z",
     "start_time": "2022-08-01T21:08:58.614934Z"
    }
   },
   "outputs": [],
   "source": [
    "pipeline_train_df = pipe_fcn(train_data)\n",
    "pipeline_test_df = pipe_fcn(test_data)"
   ]
  },
  {
   "cell_type": "code",
   "execution_count": 44,
   "id": "159c3e84",
   "metadata": {
    "ExecuteTime": {
     "end_time": "2022-08-01T21:08:58.968608Z",
     "start_time": "2022-08-01T21:08:58.757109Z"
    }
   },
   "outputs": [],
   "source": [
    "gain_curve_train = gain_curve(pipeline_train_df)\n",
    "gain_curve_test = gain_curve(pipeline_test_df)"
   ]
  },
  {
   "cell_type": "code",
   "execution_count": 45,
   "id": "d4dc9022",
   "metadata": {
    "ExecuteTime": {
     "end_time": "2022-08-01T21:08:59.164538Z",
     "start_time": "2022-08-01T21:08:58.970696Z"
    }
   },
   "outputs": [
    {
     "data": {
      "image/png": "[encoded data removed]",
      "text/plain": [
       "<Figure size 1080x360 with 1 Axes>"
      ]
     },
     "metadata": {
      "needs_background": "light"
     },
     "output_type": "display_data"
    }
   ],
   "source": [
    "plot_cumulative_gain_curve(\n",
    "    train_gain = gain_curve_train,\n",
    "    test_gain = gain_curve_test,\n",
    "    random_gain = gain_curve_random\n",
    ")"
   ]
  }
 ],
 "metadata": {
  "kernelspec": {
   "display_name": "Python 3.9.12 ('venv': venv)",
   "language": "python",
   "name": "python3"
  },
  "language_info": {
   "codemirror_mode": {
    "name": "ipython",
    "version": 3
   },
   "file_extension": ".py",
   "mimetype": "text/x-python",
   "name": "python",
   "nbconvert_exporter": "python",
   "pygments_lexer": "ipython3",
   "version": "3.9.12"
  },
  "toc": {
   "base_numbering": 1,
   "nav_menu": {},
   "number_sections": false,
   "sideBar": true,
   "skip_h1_title": false,
   "title_cell": "Table of Contents",
   "title_sidebar": "Contents",
   "toc_cell": false,
   "toc_position": {},
   "toc_section_display": true,
   "toc_window_display": false
  },
  "varInspector": {
   "cols": {
    "lenName": 16,
    "lenType": 16,
    "lenVar": 40
   },
   "kernels_config": {
    "python": {
     "delete_cmd_postfix": "",
     "delete_cmd_prefix": "del ",
     "library": "var_list.py",
     "varRefreshCmd": "print(var_dic_list())"
    },
    "r": {
     "delete_cmd_postfix": ") ",
     "delete_cmd_prefix": "rm(",
     "library": "var_list.r",
     "varRefreshCmd": "cat(var_dic_list()) "
    }
   },
   "types_to_exclude": [
    "module",
    "function",
    "builtin_function_or_method",
    "instance",
    "_Feature"
   ],
   "window_display": false
  },
  "vscode": {
   "interpreter": {
    "hash": "7992107b5676fcc2947e8c872ad2cde6c7066279bc6e7ee23218548d8b4682e3"
   }
  }
 },
 "nbformat": 4,
 "nbformat_minor": 5
}
